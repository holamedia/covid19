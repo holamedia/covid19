{
  "nbformat": 4,
  "nbformat_minor": 0,
  "metadata": {
    "colab": {
      "name": "2020-05-03-Cases-in-Malaysia",
      "provenance": [],
      "collapsed_sections": [],
      "authorship_tag": "ABX9TyPs8oZuZUPoWHvGl2SHtSy+"
    },
    "kernelspec": {
      "name": "python3",
      "display_name": "Python 3"
    }
  },
  "cells": [
    {
      "cell_type": "markdown",
      "metadata": {
        "id": "BvDtppminv5B",
        "colab_type": "text"
      },
      "source": [
        "# Cases in Malaysia\n",
        "> Updates on the respiratory illness that has infected more than one million people and killed tens of thousands.\n",
        "\n",
        "- toc:false\n",
        "- branch: master\n",
        "- badges: false\n",
        "- hide: false\n",
        "- comments: false\n",
        "- permalink:/covid-my-overview/"
      ]
    },
    {
      "cell_type": "code",
      "metadata": {
        "id": "4kt_vU1gQlCi",
        "colab_type": "code",
        "cellView": "form",
        "colab": {}
      },
      "source": [
        "#hide\n",
        "#@title Import modules\n",
        "import pandas as pd\n",
        "import numpy as np\n",
        "import altair as alt\n",
        "from IPython.display import HTML\n",
        "# import ipywidgets as widgets\n",
        "# from jinja2 import Template"
      ],
      "execution_count": 0,
      "outputs": []
    },
    {
      "cell_type": "code",
      "metadata": {
        "id": "0bZlIUloREaC",
        "colab_type": "code",
        "cellView": "form",
        "colab": {}
      },
      "source": [
        "#hide\n",
        "#@title Load datasets from source and define functions\n",
        "#@markdown source: [Novel Coronavirus (COVID-19) Cases, provided by JHU CSSE](https://github.com/CSSEGISandData/COVID-19)\n",
        "#@markdown * `cases_global` Global dataset by type\n",
        "#@markdown * `country_cases_df` Filter cases by country and dataset type\n",
        "\n",
        "# source data\n",
        "# [Novel Coronavirus (COVID-19) Cases, provided by JHU CSSE](https://github.com/CSSEGISandData/COVID-19/tree/master/csse_covid_19_data/csse_covid_19_time_series)\n",
        "base_url = 'https://raw.githubusercontent.com/CSSEGISandData/COVID-19/master/csse_covid_19_data'\n",
        "time_series_url = f'{base_url}/csse_covid_19_time_series'\n",
        "covid_time_series_df = lambda type: pd.read_csv(f'{time_series_url}/time_series_covid19_{type}_global.csv')\n",
        "\n",
        "# confirmed, deaths, recovered\n",
        "def cases_global(type):\n",
        "  _dff = covid_time_series_df(type)\n",
        "  _cols = _dff.columns[~_dff.columns.isin(['Province/State', 'Country/Region', 'Lat', 'Long'])]\n",
        "  _dff = (_dff.groupby('Country/Region')[_cols].sum().stack().reset_index(name = 'Cases')\n",
        "        .rename(columns = {'level_1': 'Date', 'Country/Region': 'Country'}))\n",
        "  _dff['Date'] = pd.to_datetime(_dff['Date'], format='%m/%d/%y')\n",
        "  return _dff\n",
        "\n",
        "country_cases_df = lambda _df, country: _df[_df['Country'] == country][['Date', 'Cases']]"
      ],
      "execution_count": 0,
      "outputs": []
    },
    {
      "cell_type": "code",
      "metadata": {
        "id": "hDaTRnqWtWm9",
        "colab_type": "code",
        "cellView": "form",
        "colab": {}
      },
      "source": [
        "#hide\n",
        "#@title Prepare datasets\n",
        "# Country filter\n",
        "global_cases = {\n",
        "    'confirmed': cases_global('confirmed'),\n",
        "    'deaths': cases_global('deaths'),\n",
        "    'recovered': cases_global('recovered')\n",
        "}\n",
        "\n",
        "def country_cases(country): \n",
        "  confirmed_df = country_cases_df(global_cases['confirmed'], country)\n",
        "  deaths_df = country_cases_df(global_cases['deaths'], country)\n",
        "  recovered_df = country_cases_df(global_cases['recovered'], country)\n",
        "\n",
        "  active_df = pd.concat([confirmed_df['Date'], confirmed_df['Cases'] - deaths_df['Cases'] - recovered_df['Cases']], axis=1)\n",
        "  \n",
        "  return {\n",
        "    'country': country,\n",
        "    'active': active_df,\n",
        "    'confirmed': confirmed_df,\n",
        "    'deaths': deaths_df,\n",
        "    'recovered': recovered_df\n",
        "  }\n",
        "\n",
        "cases_summary = lambda c: { # c country_cases(country)\n",
        "    'country': c['country'],\n",
        "    'date_latest': c['confirmed']['Date'].max(),\n",
        "    's_date_latest': c['confirmed']['Date'].max().strftime(\"%B %d, %Y\"), #.strftime('%m/%d/%Y')\n",
        "    'total_active': c['active'].iloc[-1]['Cases'],\n",
        "    'total_confirmed': c['confirmed'].iloc[-1]['Cases'],\n",
        "    'total_deaths': c['deaths'].iloc[-1]['Cases'],\n",
        "    'total_recovered': c['recovered'].iloc[-1]['Cases'],\n",
        "    'new_active': c['active'].diff().iloc[-1]['Cases'],\n",
        "    'new_confirmed': c['confirmed'].diff().iloc[-1]['Cases'],\n",
        "    'new_deaths': c['deaths'].diff().iloc[-1]['Cases'],\n",
        "    'new_recovered': c['recovered'].diff().iloc[-1]['Cases'],\n",
        "}"
      ],
      "execution_count": 0,
      "outputs": []
    },
    {
      "cell_type": "code",
      "metadata": {
        "id": "oLRLcW5_dVGP",
        "colab_type": "code",
        "cellView": "form",
        "colab": {}
      },
      "source": [
        "#hide\n",
        "#@title Define plot functions { form-width: \"100px\" }\n",
        "def show_summary(country_cases):\n",
        "  summary = cases_summary(country_cases)\n",
        "  return HTML(\n",
        "    f'<div style=\"height: 30px; width: 600px; margin: 0 auto;\"><span style=\"font-size:0.8em;\">Summary of {summary[\"country\"]} COVID19 cases as of {summary[\"s_date_latest\"]} 12PM</span></div>'\n",
        "    f'<div style=\"width: 600px; margin: 0 auto;\">'\n",
        "    f'<div style=\"float: left; width: 150px\">Confirmed Cases<br/><h1>{summary[\"total_confirmed\"]:,}</h1>(+{summary[\"new_confirmed\"]:,.0f})</div>'\n",
        "    f'<div style=\"float: right; width: 150px\">Deaths<br/><h1>{summary[\"total_deaths\"]:,}</h1>{summary[\"total_deaths\"]/summary[\"total_confirmed\"]:.2%} (+{summary[\"new_deaths\"]:,.0f})</div>'\n",
        "    f'<div style=\"float: right; width: 150px\">Recovered<br/><h1>{summary[\"total_recovered\"]:,}</h1>{summary[\"total_recovered\"]/summary[\"total_confirmed\"]:.2%} (+{summary[\"new_recovered\"]:,.0f})</div>'\n",
        "    f'<div style=\"float: right; width: 150px\">Active<br/><h1>{summary[\"total_active\"]:,}</h1>{summary[\"total_active\"]/summary[\"total_confirmed\"]:.2%} ({summary[\"new_active\"]:,.0f})</div>'\n",
        "    f'</div>'\n",
        "  )\n",
        "\n",
        "def plot_cases(cases_df):\n",
        "  _plot = alt.Chart(cases_df).mark_bar().encode(\n",
        "    x='Date:T',\n",
        "    y='Cases:Q',\n",
        "    tooltip=list(cases_df)\n",
        "  )\n",
        "  return _plot\n"
      ],
      "execution_count": 0,
      "outputs": []
    },
    {
      "cell_type": "markdown",
      "metadata": {
        "id": "pkIXYPmxo67-",
        "colab_type": "text"
      },
      "source": [
        "## COVID-19: Malaysia at a Glance"
      ]
    },
    {
      "cell_type": "markdown",
      "metadata": {
        "id": "rdszr9qdZbGl",
        "colab_type": "text"
      },
      "source": [
        "### Malaysia Movement Control Order\n",
        "> The 2020 Malaysia movement control order, commonly referred to as the MCO, is a cordon sanitaire implemented as a preventive measure by the federal government of Malaysia in response to the COVID-19 pandemic in the country on 18 March 2020."
      ]
    },
    {
      "cell_type": "code",
      "metadata": {
        "id": "ptNhJVtDbQPh",
        "colab_type": "code",
        "cellView": "form",
        "colab": {}
      },
      "source": [
        "#hide\n",
        "#@title Define functions for MCO { form-width: \"100px\" }\n",
        "#@markdown * my_cases\n",
        "#@markdown * my_summary\n",
        "\n",
        "#country = 'Malaysia'\n",
        "my_cases = country_cases('Malaysia')\n",
        "my_summary = cases_summary(my_cases)\n",
        "\n",
        "def plot_mco_date(date, label, max):\n",
        "  _df = pd.DataFrame({'Date': [date, date], 'Cases': [0, max]})\n",
        "  _base_ref = alt.Chart(_df).encode(x='Date:T', y='Cases:Q')\n",
        "  return (_base_ref.mark_line(color='black', opacity=.5, strokeDash=[3,3])  + \n",
        "          _base_ref.transform_filter(alt.datum['Cases'] > 0).mark_text(text=label, dx=-20, dy=-10, angle=270))\n",
        "\n",
        "def plot_mco_cases(case, label, max):\n",
        "  _df = pd.DataFrame({'Cummulative Cases': [case, case], 'Cases': [0.1, max]})\n",
        "  _base_ref = alt.Chart(_df).encode(x='Cummulative Cases:Q', y='Cases:Q')\n",
        "  return (_base_ref.mark_line(color='black', opacity=.5, strokeDash=[3,3])  + \n",
        "          _base_ref.transform_filter(alt.datum['Cases'] > 1).mark_text(text=label, dx=-20, dy=-10, angle=270))\n",
        "\n",
        "_plot_mco_date = lambda n: plot_mco_date('2020-03-18', 'MCO1', n) + plot_mco_date('2020-04-01', 'MCO2', n) \\\n",
        "                                        + plot_mco_date('2020-04-15', 'MCO3', n) + plot_mco_date('2020-04-29', 'MCO4', n)\n",
        "\n",
        "\n",
        "_plot_mco_case = plot_mco_cases(790, 'MCO1', 1000) + plot_mco_cases(2908, 'MCO2', 1000) + plot_mco_cases(5072, 'MCO3', 1000) + plot_mco_cases(5945, 'MCO4', 1000)\n",
        "\n",
        "# Add latest data which not exist in source\n",
        "_latest_case = {\n",
        "    'date': np.datetime64('2020-05-04'),\n",
        "    'confirmed': 6353,\n",
        "    'deaths': 105,\n",
        "    'recovered': 4484\n",
        "}\n",
        "if len(my_cases['confirmed'][my_cases['confirmed']['Date'] == _latest_case['date']]) == 0:\n",
        "  my_cases['active'] = my_cases['active'].append(pd.DataFrame([[_latest_case['date'], _latest_case['confirmed'] - _latest_case['deaths'] - _latest_case['recovered']]], columns = ['Date', 'Cases']), ignore_index=True)\n",
        "  my_cases['confirmed'] = my_cases['confirmed'].append(pd.DataFrame([[_latest_case['date'], _latest_case['confirmed']]], columns = ['Date', 'Cases']), ignore_index=True)\n",
        "  my_cases['deaths'] = my_cases['deaths'].append(pd.DataFrame([[_latest_case['date'], _latest_case['deaths']]], columns = ['Date', 'Cases']), ignore_index=True)\n",
        "  my_cases['recovered'] = my_cases['recovered'].append(pd.DataFrame([[_latest_case['date'], _latest_case['recovered']]], columns = ['Date', 'Cases']), ignore_index=True)"
      ],
      "execution_count": 0,
      "outputs": []
    },
    {
      "cell_type": "code",
      "metadata": {
        "id": "aFSg-vInWUUb",
        "colab_type": "code",
        "outputId": "1c2c33e7-e702-4fe6-c570-3877dce8d51c",
        "colab": {
          "base_uri": "https://localhost:8080/",
          "height": 138
        }
      },
      "source": [
        "#hide_input\n",
        "show_summary(my_cases)"
      ],
      "execution_count": 52,
      "outputs": [
        {
          "output_type": "execute_result",
          "data": {
            "text/html": [
              "<div style=\"height: 30px; width: 600px; margin: 0 auto;\"><span style=\"font-size:0.8em;\">Summary of Malaysia COVID19 cases as of May 04, 2020 12PM</span></div><div style=\"width: 600px; margin: 0 auto;\"><div style=\"float: left; width: 150px\">Confirmed Cases<br/><h1>6,353</h1>(+55)</div><div style=\"float: right; width: 150px\">Deaths<br/><h1>105</h1>1.65% (+0)</div><div style=\"float: right; width: 150px\">Recovered<br/><h1>4,484</h1>70.58% (+71)</div><div style=\"float: right; width: 150px\">Active<br/><h1>1,764</h1>27.77% (-16)</div></div>"
            ],
            "text/plain": [
              "<IPython.core.display.HTML object>"
            ]
          },
          "metadata": {
            "tags": []
          },
          "execution_count": 52
        }
      ]
    },
    {
      "cell_type": "code",
      "metadata": {
        "id": "fLt1q3dypTP_",
        "colab_type": "code",
        "outputId": "e70835d6-4166-4950-af8f-ddcaae908ae8",
        "colab": {
          "base_uri": "https://localhost:8080/",
          "height": 382
        }
      },
      "source": [
        "#hide_input\n",
        "_plot = plot_cases(my_cases['confirmed'])\n",
        "_plot_recovered = plot_cases(my_cases['recovered']).mark_line(color='green')\n",
        "_plot_deaths = plot_cases(my_cases['deaths']).mark_line(color='red')\n",
        "\n",
        "alt.layer(_plot + _plot_mco_date(6500), _plot_recovered, _plot_deaths).properties(\n",
        "    width=600,\n",
        "    title=f'Cummulative COVID-19 cases in Malaysia (n = {my_summary[\"total_confirmed\"]})'\n",
        ")"
      ],
      "execution_count": 53,
      "outputs": [
        {
          "output_type": "execute_result",
          "data": {
            "text/plain": [
              "alt.LayerChart(...)"
            ],
            "text/html": [
              "\n",
              "<div id=\"altair-viz-a18dd67d73ee4f09aace69d362c5d604\"></div>\n",
              "<script type=\"text/javascript\">\n",
              "  (function(spec, embedOpt){\n",
              "    let outputDiv = document.currentScript.previousElementSibling;\n",
              "    if (outputDiv.id !== \"altair-viz-a18dd67d73ee4f09aace69d362c5d604\") {\n",
              "      outputDiv = document.getElementById(\"altair-viz-a18dd67d73ee4f09aace69d362c5d604\");\n",
              "    }\n",
              "    const paths = {\n",
              "      \"vega\": \"https://cdn.jsdelivr.net/npm//vega@5?noext\",\n",
              "      \"vega-lib\": \"https://cdn.jsdelivr.net/npm//vega-lib?noext\",\n",
              "      \"vega-lite\": \"https://cdn.jsdelivr.net/npm//vega-lite@4.8.1?noext\",\n",
              "      \"vega-embed\": \"https://cdn.jsdelivr.net/npm//vega-embed@6?noext\",\n",
              "    };\n",
              "\n",
              "    function loadScript(lib) {\n",
              "      return new Promise(function(resolve, reject) {\n",
              "        var s = document.createElement('script');\n",
              "        s.src = paths[lib];\n",
              "        s.async = true;\n",
              "        s.onload = () => resolve(paths[lib]);\n",
              "        s.onerror = () => reject(`Error loading script: ${paths[lib]}`);\n",
              "        document.getElementsByTagName(\"head\")[0].appendChild(s);\n",
              "      });\n",
              "    }\n",
              "\n",
              "    function showError(err) {\n",
              "      outputDiv.innerHTML = `<div class=\"error\" style=\"color:red;\">${err}</div>`;\n",
              "      throw err;\n",
              "    }\n",
              "\n",
              "    function displayChart(vegaEmbed) {\n",
              "      vegaEmbed(outputDiv, spec, embedOpt)\n",
              "        .catch(err => showError(`Javascript Error: ${err.message}<br>This usually means there's a typo in your chart specification. See the javascript console for the full traceback.`));\n",
              "    }\n",
              "\n",
              "    if(typeof define === \"function\" && define.amd) {\n",
              "      requirejs.config({paths});\n",
              "      require([\"vega-embed\"], displayChart, err => showError(`Error loading script: ${err.message}`));\n",
              "    } else if (typeof vegaEmbed === \"function\") {\n",
              "      displayChart(vegaEmbed);\n",
              "    } else {\n",
              "      loadScript(\"vega\")\n",
              "        .then(() => loadScript(\"vega-lite\"))\n",
              "        .then(() => loadScript(\"vega-embed\"))\n",
              "        .catch(showError)\n",
              "        .then(() => displayChart(vegaEmbed));\n",
              "    }\n",
              "  })({\"config\": {\"view\": {\"continuousWidth\": 400, \"continuousHeight\": 300}}, \"layer\": [{\"layer\": [{\"data\": {\"name\": \"data-36f2269f5c7a4988b61f0cb279dacc90\"}, \"mark\": \"bar\", \"encoding\": {\"tooltip\": [{\"type\": \"temporal\", \"field\": \"Date\"}, {\"type\": \"quantitative\", \"field\": \"Cases\"}], \"x\": {\"type\": \"temporal\", \"field\": \"Date\"}, \"y\": {\"type\": \"quantitative\", \"field\": \"Cases\"}}}, {\"layer\": [{\"mark\": {\"type\": \"line\", \"color\": \"black\", \"opacity\": 0.5, \"strokeDash\": [3, 3]}, \"encoding\": {\"x\": {\"type\": \"temporal\", \"field\": \"Date\"}, \"y\": {\"type\": \"quantitative\", \"field\": \"Cases\"}}}, {\"mark\": {\"type\": \"text\", \"angle\": 270, \"dx\": -20, \"dy\": -10, \"text\": \"MCO1\"}, \"encoding\": {\"x\": {\"type\": \"temporal\", \"field\": \"Date\"}, \"y\": {\"type\": \"quantitative\", \"field\": \"Cases\"}}, \"transform\": [{\"filter\": \"(datum['Cases'] > 0)\"}]}, {\"layer\": [{\"mark\": {\"type\": \"line\", \"color\": \"black\", \"opacity\": 0.5, \"strokeDash\": [3, 3]}, \"encoding\": {\"x\": {\"type\": \"temporal\", \"field\": \"Date\"}, \"y\": {\"type\": \"quantitative\", \"field\": \"Cases\"}}}, {\"mark\": {\"type\": \"text\", \"angle\": 270, \"dx\": -20, \"dy\": -10, \"text\": \"MCO2\"}, \"encoding\": {\"x\": {\"type\": \"temporal\", \"field\": \"Date\"}, \"y\": {\"type\": \"quantitative\", \"field\": \"Cases\"}}, \"transform\": [{\"filter\": \"(datum['Cases'] > 0)\"}]}], \"data\": {\"name\": \"data-b3c672aee6960db7ad6ec76c70da1302\"}}, {\"layer\": [{\"mark\": {\"type\": \"line\", \"color\": \"black\", \"opacity\": 0.5, \"strokeDash\": [3, 3]}, \"encoding\": {\"x\": {\"type\": \"temporal\", \"field\": \"Date\"}, \"y\": {\"type\": \"quantitative\", \"field\": \"Cases\"}}}, {\"mark\": {\"type\": \"text\", \"angle\": 270, \"dx\": -20, \"dy\": -10, \"text\": \"MCO3\"}, \"encoding\": {\"x\": {\"type\": \"temporal\", \"field\": \"Date\"}, \"y\": {\"type\": \"quantitative\", \"field\": \"Cases\"}}, \"transform\": [{\"filter\": \"(datum['Cases'] > 0)\"}]}], \"data\": {\"name\": \"data-9861433d6a6d996d239abef5f56dd7f0\"}}, {\"layer\": [{\"mark\": {\"type\": \"line\", \"color\": \"black\", \"opacity\": 0.5, \"strokeDash\": [3, 3]}, \"encoding\": {\"x\": {\"type\": \"temporal\", \"field\": \"Date\"}, \"y\": {\"type\": \"quantitative\", \"field\": \"Cases\"}}}, {\"mark\": {\"type\": \"text\", \"angle\": 270, \"dx\": -20, \"dy\": -10, \"text\": \"MCO4\"}, \"encoding\": {\"x\": {\"type\": \"temporal\", \"field\": \"Date\"}, \"y\": {\"type\": \"quantitative\", \"field\": \"Cases\"}}, \"transform\": [{\"filter\": \"(datum['Cases'] > 0)\"}]}], \"data\": {\"name\": \"data-aae91de04173539cc592e284bf02daf8\"}}], \"data\": {\"name\": \"data-d284133a614831c6074b7c86d95d7ea4\"}}]}, {\"data\": {\"name\": \"data-23e127f92c3200bca56511425757f984\"}, \"mark\": {\"type\": \"line\", \"color\": \"green\"}, \"encoding\": {\"tooltip\": [{\"type\": \"temporal\", \"field\": \"Date\"}, {\"type\": \"quantitative\", \"field\": \"Cases\"}], \"x\": {\"type\": \"temporal\", \"field\": \"Date\"}, \"y\": {\"type\": \"quantitative\", \"field\": \"Cases\"}}}, {\"data\": {\"name\": \"data-9e017b10d920a15bac0bf3f11f946aef\"}, \"mark\": {\"type\": \"line\", \"color\": \"red\"}, \"encoding\": {\"tooltip\": [{\"type\": \"temporal\", \"field\": \"Date\"}, {\"type\": \"quantitative\", \"field\": \"Cases\"}], \"x\": {\"type\": \"temporal\", \"field\": \"Date\"}, \"y\": {\"type\": \"quantitative\", \"field\": \"Cases\"}}}], \"title\": \"Cummulative COVID-19 cases in Malaysia (n = 6298)\", \"width\": 600, \"$schema\": \"https://vega.github.io/schema/vega-lite/v4.8.1.json\", \"datasets\": {\"data-36f2269f5c7a4988b61f0cb279dacc90\": [{\"Date\": \"2020-01-22T00:00:00\", \"Cases\": 0}, {\"Date\": \"2020-01-23T00:00:00\", \"Cases\": 0}, {\"Date\": \"2020-01-24T00:00:00\", \"Cases\": 0}, {\"Date\": \"2020-01-25T00:00:00\", \"Cases\": 3}, {\"Date\": \"2020-01-26T00:00:00\", \"Cases\": 4}, {\"Date\": \"2020-01-27T00:00:00\", \"Cases\": 4}, {\"Date\": \"2020-01-28T00:00:00\", \"Cases\": 4}, {\"Date\": \"2020-01-29T00:00:00\", \"Cases\": 7}, {\"Date\": \"2020-01-30T00:00:00\", \"Cases\": 8}, {\"Date\": \"2020-01-31T00:00:00\", \"Cases\": 8}, {\"Date\": \"2020-02-01T00:00:00\", \"Cases\": 8}, {\"Date\": \"2020-02-02T00:00:00\", \"Cases\": 8}, {\"Date\": \"2020-02-03T00:00:00\", \"Cases\": 8}, {\"Date\": \"2020-02-04T00:00:00\", \"Cases\": 10}, {\"Date\": \"2020-02-05T00:00:00\", \"Cases\": 12}, {\"Date\": \"2020-02-06T00:00:00\", \"Cases\": 12}, {\"Date\": \"2020-02-07T00:00:00\", \"Cases\": 12}, {\"Date\": \"2020-02-08T00:00:00\", \"Cases\": 16}, {\"Date\": \"2020-02-09T00:00:00\", \"Cases\": 16}, {\"Date\": \"2020-02-10T00:00:00\", \"Cases\": 18}, {\"Date\": \"2020-02-11T00:00:00\", \"Cases\": 18}, {\"Date\": \"2020-02-12T00:00:00\", \"Cases\": 18}, {\"Date\": \"2020-02-13T00:00:00\", \"Cases\": 19}, {\"Date\": \"2020-02-14T00:00:00\", \"Cases\": 19}, {\"Date\": \"2020-02-15T00:00:00\", \"Cases\": 22}, {\"Date\": \"2020-02-16T00:00:00\", \"Cases\": 22}, {\"Date\": \"2020-02-17T00:00:00\", \"Cases\": 22}, {\"Date\": \"2020-02-18T00:00:00\", \"Cases\": 22}, {\"Date\": \"2020-02-19T00:00:00\", \"Cases\": 22}, {\"Date\": \"2020-02-20T00:00:00\", \"Cases\": 22}, {\"Date\": \"2020-02-21T00:00:00\", \"Cases\": 22}, {\"Date\": \"2020-02-22T00:00:00\", \"Cases\": 22}, {\"Date\": \"2020-02-23T00:00:00\", \"Cases\": 22}, {\"Date\": \"2020-02-24T00:00:00\", \"Cases\": 22}, {\"Date\": \"2020-02-25T00:00:00\", \"Cases\": 22}, {\"Date\": \"2020-02-26T00:00:00\", \"Cases\": 22}, {\"Date\": \"2020-02-27T00:00:00\", \"Cases\": 23}, {\"Date\": \"2020-02-28T00:00:00\", \"Cases\": 23}, {\"Date\": \"2020-02-29T00:00:00\", \"Cases\": 25}, {\"Date\": \"2020-03-01T00:00:00\", \"Cases\": 29}, {\"Date\": \"2020-03-02T00:00:00\", \"Cases\": 29}, {\"Date\": \"2020-03-03T00:00:00\", \"Cases\": 36}, {\"Date\": \"2020-03-04T00:00:00\", \"Cases\": 50}, {\"Date\": \"2020-03-05T00:00:00\", \"Cases\": 50}, {\"Date\": \"2020-03-06T00:00:00\", \"Cases\": 83}, {\"Date\": \"2020-03-07T00:00:00\", \"Cases\": 93}, {\"Date\": \"2020-03-08T00:00:00\", \"Cases\": 99}, {\"Date\": \"2020-03-09T00:00:00\", \"Cases\": 117}, {\"Date\": \"2020-03-10T00:00:00\", \"Cases\": 129}, {\"Date\": \"2020-03-11T00:00:00\", \"Cases\": 149}, {\"Date\": \"2020-03-12T00:00:00\", \"Cases\": 149}, {\"Date\": \"2020-03-13T00:00:00\", \"Cases\": 197}, {\"Date\": \"2020-03-14T00:00:00\", \"Cases\": 238}, {\"Date\": \"2020-03-15T00:00:00\", \"Cases\": 428}, {\"Date\": \"2020-03-16T00:00:00\", \"Cases\": 566}, {\"Date\": \"2020-03-17T00:00:00\", \"Cases\": 673}, {\"Date\": \"2020-03-18T00:00:00\", \"Cases\": 790}, {\"Date\": \"2020-03-19T00:00:00\", \"Cases\": 900}, {\"Date\": \"2020-03-20T00:00:00\", \"Cases\": 1030}, {\"Date\": \"2020-03-21T00:00:00\", \"Cases\": 1183}, {\"Date\": \"2020-03-22T00:00:00\", \"Cases\": 1306}, {\"Date\": \"2020-03-23T00:00:00\", \"Cases\": 1518}, {\"Date\": \"2020-03-24T00:00:00\", \"Cases\": 1624}, {\"Date\": \"2020-03-25T00:00:00\", \"Cases\": 1796}, {\"Date\": \"2020-03-26T00:00:00\", \"Cases\": 2031}, {\"Date\": \"2020-03-27T00:00:00\", \"Cases\": 2161}, {\"Date\": \"2020-03-28T00:00:00\", \"Cases\": 2320}, {\"Date\": \"2020-03-29T00:00:00\", \"Cases\": 2470}, {\"Date\": \"2020-03-30T00:00:00\", \"Cases\": 2626}, {\"Date\": \"2020-03-31T00:00:00\", \"Cases\": 2766}, {\"Date\": \"2020-04-01T00:00:00\", \"Cases\": 2908}, {\"Date\": \"2020-04-02T00:00:00\", \"Cases\": 3116}, {\"Date\": \"2020-04-03T00:00:00\", \"Cases\": 3333}, {\"Date\": \"2020-04-04T00:00:00\", \"Cases\": 3483}, {\"Date\": \"2020-04-05T00:00:00\", \"Cases\": 3662}, {\"Date\": \"2020-04-06T00:00:00\", \"Cases\": 3793}, {\"Date\": \"2020-04-07T00:00:00\", \"Cases\": 3963}, {\"Date\": \"2020-04-08T00:00:00\", \"Cases\": 4119}, {\"Date\": \"2020-04-09T00:00:00\", \"Cases\": 4228}, {\"Date\": \"2020-04-10T00:00:00\", \"Cases\": 4346}, {\"Date\": \"2020-04-11T00:00:00\", \"Cases\": 4530}, {\"Date\": \"2020-04-12T00:00:00\", \"Cases\": 4683}, {\"Date\": \"2020-04-13T00:00:00\", \"Cases\": 4817}, {\"Date\": \"2020-04-14T00:00:00\", \"Cases\": 4987}, {\"Date\": \"2020-04-15T00:00:00\", \"Cases\": 5072}, {\"Date\": \"2020-04-16T00:00:00\", \"Cases\": 5182}, {\"Date\": \"2020-04-17T00:00:00\", \"Cases\": 5251}, {\"Date\": \"2020-04-18T00:00:00\", \"Cases\": 5305}, {\"Date\": \"2020-04-19T00:00:00\", \"Cases\": 5389}, {\"Date\": \"2020-04-20T00:00:00\", \"Cases\": 5425}, {\"Date\": \"2020-04-21T00:00:00\", \"Cases\": 5482}, {\"Date\": \"2020-04-22T00:00:00\", \"Cases\": 5532}, {\"Date\": \"2020-04-23T00:00:00\", \"Cases\": 5603}, {\"Date\": \"2020-04-24T00:00:00\", \"Cases\": 5691}, {\"Date\": \"2020-04-25T00:00:00\", \"Cases\": 5742}, {\"Date\": \"2020-04-26T00:00:00\", \"Cases\": 5780}, {\"Date\": \"2020-04-27T00:00:00\", \"Cases\": 5820}, {\"Date\": \"2020-04-28T00:00:00\", \"Cases\": 5851}, {\"Date\": \"2020-04-29T00:00:00\", \"Cases\": 5945}, {\"Date\": \"2020-04-30T00:00:00\", \"Cases\": 6002}, {\"Date\": \"2020-05-01T00:00:00\", \"Cases\": 6071}, {\"Date\": \"2020-05-02T00:00:00\", \"Cases\": 6176}, {\"Date\": \"2020-05-03T00:00:00\", \"Cases\": 6298}, {\"Date\": \"2020-05-04T00:00:00\", \"Cases\": 6353}], \"data-d284133a614831c6074b7c86d95d7ea4\": [{\"Date\": \"2020-03-18\", \"Cases\": 0}, {\"Date\": \"2020-03-18\", \"Cases\": 6500}], \"data-b3c672aee6960db7ad6ec76c70da1302\": [{\"Date\": \"2020-04-01\", \"Cases\": 0}, {\"Date\": \"2020-04-01\", \"Cases\": 6500}], \"data-9861433d6a6d996d239abef5f56dd7f0\": [{\"Date\": \"2020-04-15\", \"Cases\": 0}, {\"Date\": \"2020-04-15\", \"Cases\": 6500}], \"data-aae91de04173539cc592e284bf02daf8\": [{\"Date\": \"2020-04-29\", \"Cases\": 0}, {\"Date\": \"2020-04-29\", \"Cases\": 6500}], \"data-23e127f92c3200bca56511425757f984\": [{\"Date\": \"2020-01-22T00:00:00\", \"Cases\": 0}, {\"Date\": \"2020-01-23T00:00:00\", \"Cases\": 0}, {\"Date\": \"2020-01-24T00:00:00\", \"Cases\": 0}, {\"Date\": \"2020-01-25T00:00:00\", \"Cases\": 0}, {\"Date\": \"2020-01-26T00:00:00\", \"Cases\": 0}, {\"Date\": \"2020-01-27T00:00:00\", \"Cases\": 0}, {\"Date\": \"2020-01-28T00:00:00\", \"Cases\": 0}, {\"Date\": \"2020-01-29T00:00:00\", \"Cases\": 0}, {\"Date\": \"2020-01-30T00:00:00\", \"Cases\": 0}, {\"Date\": \"2020-01-31T00:00:00\", \"Cases\": 0}, {\"Date\": \"2020-02-01T00:00:00\", \"Cases\": 0}, {\"Date\": \"2020-02-02T00:00:00\", \"Cases\": 0}, {\"Date\": \"2020-02-03T00:00:00\", \"Cases\": 0}, {\"Date\": \"2020-02-04T00:00:00\", \"Cases\": 0}, {\"Date\": \"2020-02-05T00:00:00\", \"Cases\": 0}, {\"Date\": \"2020-02-06T00:00:00\", \"Cases\": 0}, {\"Date\": \"2020-02-07T00:00:00\", \"Cases\": 1}, {\"Date\": \"2020-02-08T00:00:00\", \"Cases\": 1}, {\"Date\": \"2020-02-09T00:00:00\", \"Cases\": 1}, {\"Date\": \"2020-02-10T00:00:00\", \"Cases\": 1}, {\"Date\": \"2020-02-11T00:00:00\", \"Cases\": 3}, {\"Date\": \"2020-02-12T00:00:00\", \"Cases\": 3}, {\"Date\": \"2020-02-13T00:00:00\", \"Cases\": 3}, {\"Date\": \"2020-02-14T00:00:00\", \"Cases\": 3}, {\"Date\": \"2020-02-15T00:00:00\", \"Cases\": 7}, {\"Date\": \"2020-02-16T00:00:00\", \"Cases\": 7}, {\"Date\": \"2020-02-17T00:00:00\", \"Cases\": 7}, {\"Date\": \"2020-02-18T00:00:00\", \"Cases\": 13}, {\"Date\": \"2020-02-19T00:00:00\", \"Cases\": 15}, {\"Date\": \"2020-02-20T00:00:00\", \"Cases\": 15}, {\"Date\": \"2020-02-21T00:00:00\", \"Cases\": 15}, {\"Date\": \"2020-02-22T00:00:00\", \"Cases\": 15}, {\"Date\": \"2020-02-23T00:00:00\", \"Cases\": 15}, {\"Date\": \"2020-02-24T00:00:00\", \"Cases\": 18}, {\"Date\": \"2020-02-25T00:00:00\", \"Cases\": 18}, {\"Date\": \"2020-02-26T00:00:00\", \"Cases\": 18}, {\"Date\": \"2020-02-27T00:00:00\", \"Cases\": 18}, {\"Date\": \"2020-02-28T00:00:00\", \"Cases\": 18}, {\"Date\": \"2020-02-29T00:00:00\", \"Cases\": 18}, {\"Date\": \"2020-03-01T00:00:00\", \"Cases\": 18}, {\"Date\": \"2020-03-02T00:00:00\", \"Cases\": 18}, {\"Date\": \"2020-03-03T00:00:00\", \"Cases\": 22}, {\"Date\": \"2020-03-04T00:00:00\", \"Cases\": 22}, {\"Date\": \"2020-03-05T00:00:00\", \"Cases\": 22}, {\"Date\": \"2020-03-06T00:00:00\", \"Cases\": 22}, {\"Date\": \"2020-03-07T00:00:00\", \"Cases\": 23}, {\"Date\": \"2020-03-08T00:00:00\", \"Cases\": 24}, {\"Date\": \"2020-03-09T00:00:00\", \"Cases\": 24}, {\"Date\": \"2020-03-10T00:00:00\", \"Cases\": 24}, {\"Date\": \"2020-03-11T00:00:00\", \"Cases\": 26}, {\"Date\": \"2020-03-12T00:00:00\", \"Cases\": 26}, {\"Date\": \"2020-03-13T00:00:00\", \"Cases\": 26}, {\"Date\": \"2020-03-14T00:00:00\", \"Cases\": 35}, {\"Date\": \"2020-03-15T00:00:00\", \"Cases\": 42}, {\"Date\": \"2020-03-16T00:00:00\", \"Cases\": 42}, {\"Date\": \"2020-03-17T00:00:00\", \"Cases\": 49}, {\"Date\": \"2020-03-18T00:00:00\", \"Cases\": 60}, {\"Date\": \"2020-03-19T00:00:00\", \"Cases\": 75}, {\"Date\": \"2020-03-20T00:00:00\", \"Cases\": 87}, {\"Date\": \"2020-03-21T00:00:00\", \"Cases\": 114}, {\"Date\": \"2020-03-22T00:00:00\", \"Cases\": 139}, {\"Date\": \"2020-03-23T00:00:00\", \"Cases\": 139}, {\"Date\": \"2020-03-24T00:00:00\", \"Cases\": 183}, {\"Date\": \"2020-03-25T00:00:00\", \"Cases\": 199}, {\"Date\": \"2020-03-26T00:00:00\", \"Cases\": 215}, {\"Date\": \"2020-03-27T00:00:00\", \"Cases\": 259}, {\"Date\": \"2020-03-28T00:00:00\", \"Cases\": 320}, {\"Date\": \"2020-03-29T00:00:00\", \"Cases\": 388}, {\"Date\": \"2020-03-30T00:00:00\", \"Cases\": 479}, {\"Date\": \"2020-03-31T00:00:00\", \"Cases\": 537}, {\"Date\": \"2020-04-01T00:00:00\", \"Cases\": 645}, {\"Date\": \"2020-04-02T00:00:00\", \"Cases\": 767}, {\"Date\": \"2020-04-03T00:00:00\", \"Cases\": 827}, {\"Date\": \"2020-04-04T00:00:00\", \"Cases\": 915}, {\"Date\": \"2020-04-05T00:00:00\", \"Cases\": 1005}, {\"Date\": \"2020-04-06T00:00:00\", \"Cases\": 1241}, {\"Date\": \"2020-04-07T00:00:00\", \"Cases\": 1321}, {\"Date\": \"2020-04-08T00:00:00\", \"Cases\": 1487}, {\"Date\": \"2020-04-09T00:00:00\", \"Cases\": 1608}, {\"Date\": \"2020-04-10T00:00:00\", \"Cases\": 1830}, {\"Date\": \"2020-04-11T00:00:00\", \"Cases\": 1995}, {\"Date\": \"2020-04-12T00:00:00\", \"Cases\": 2108}, {\"Date\": \"2020-04-13T00:00:00\", \"Cases\": 2276}, {\"Date\": \"2020-04-14T00:00:00\", \"Cases\": 2478}, {\"Date\": \"2020-04-15T00:00:00\", \"Cases\": 2647}, {\"Date\": \"2020-04-16T00:00:00\", \"Cases\": 2766}, {\"Date\": \"2020-04-17T00:00:00\", \"Cases\": 2967}, {\"Date\": \"2020-04-18T00:00:00\", \"Cases\": 3102}, {\"Date\": \"2020-04-19T00:00:00\", \"Cases\": 3197}, {\"Date\": \"2020-04-20T00:00:00\", \"Cases\": 3295}, {\"Date\": \"2020-04-21T00:00:00\", \"Cases\": 3349}, {\"Date\": \"2020-04-22T00:00:00\", \"Cases\": 3452}, {\"Date\": \"2020-04-23T00:00:00\", \"Cases\": 3542}, {\"Date\": \"2020-04-24T00:00:00\", \"Cases\": 3663}, {\"Date\": \"2020-04-25T00:00:00\", \"Cases\": 3762}, {\"Date\": \"2020-04-26T00:00:00\", \"Cases\": 3862}, {\"Date\": \"2020-04-27T00:00:00\", \"Cases\": 3957}, {\"Date\": \"2020-04-28T00:00:00\", \"Cases\": 4032}, {\"Date\": \"2020-04-29T00:00:00\", \"Cases\": 4087}, {\"Date\": \"2020-04-30T00:00:00\", \"Cases\": 4171}, {\"Date\": \"2020-05-01T00:00:00\", \"Cases\": 4210}, {\"Date\": \"2020-05-02T00:00:00\", \"Cases\": 4326}, {\"Date\": \"2020-05-03T00:00:00\", \"Cases\": 4413}, {\"Date\": \"2020-05-04T00:00:00\", \"Cases\": 4484}], \"data-9e017b10d920a15bac0bf3f11f946aef\": [{\"Date\": \"2020-01-22T00:00:00\", \"Cases\": 0}, {\"Date\": \"2020-01-23T00:00:00\", \"Cases\": 0}, {\"Date\": \"2020-01-24T00:00:00\", \"Cases\": 0}, {\"Date\": \"2020-01-25T00:00:00\", \"Cases\": 0}, {\"Date\": \"2020-01-26T00:00:00\", \"Cases\": 0}, {\"Date\": \"2020-01-27T00:00:00\", \"Cases\": 0}, {\"Date\": \"2020-01-28T00:00:00\", \"Cases\": 0}, {\"Date\": \"2020-01-29T00:00:00\", \"Cases\": 0}, {\"Date\": \"2020-01-30T00:00:00\", \"Cases\": 0}, {\"Date\": \"2020-01-31T00:00:00\", \"Cases\": 0}, {\"Date\": \"2020-02-01T00:00:00\", \"Cases\": 0}, {\"Date\": \"2020-02-02T00:00:00\", \"Cases\": 0}, {\"Date\": \"2020-02-03T00:00:00\", \"Cases\": 0}, {\"Date\": \"2020-02-04T00:00:00\", \"Cases\": 0}, {\"Date\": \"2020-02-05T00:00:00\", \"Cases\": 0}, {\"Date\": \"2020-02-06T00:00:00\", \"Cases\": 0}, {\"Date\": \"2020-02-07T00:00:00\", \"Cases\": 0}, {\"Date\": \"2020-02-08T00:00:00\", \"Cases\": 0}, {\"Date\": \"2020-02-09T00:00:00\", \"Cases\": 0}, {\"Date\": \"2020-02-10T00:00:00\", \"Cases\": 0}, {\"Date\": \"2020-02-11T00:00:00\", \"Cases\": 0}, {\"Date\": \"2020-02-12T00:00:00\", \"Cases\": 0}, {\"Date\": \"2020-02-13T00:00:00\", \"Cases\": 0}, {\"Date\": \"2020-02-14T00:00:00\", \"Cases\": 0}, {\"Date\": \"2020-02-15T00:00:00\", \"Cases\": 0}, {\"Date\": \"2020-02-16T00:00:00\", \"Cases\": 0}, {\"Date\": \"2020-02-17T00:00:00\", \"Cases\": 0}, {\"Date\": \"2020-02-18T00:00:00\", \"Cases\": 0}, {\"Date\": \"2020-02-19T00:00:00\", \"Cases\": 0}, {\"Date\": \"2020-02-20T00:00:00\", \"Cases\": 0}, {\"Date\": \"2020-02-21T00:00:00\", \"Cases\": 0}, {\"Date\": \"2020-02-22T00:00:00\", \"Cases\": 0}, {\"Date\": \"2020-02-23T00:00:00\", \"Cases\": 0}, {\"Date\": \"2020-02-24T00:00:00\", \"Cases\": 0}, {\"Date\": \"2020-02-25T00:00:00\", \"Cases\": 0}, {\"Date\": \"2020-02-26T00:00:00\", \"Cases\": 0}, {\"Date\": \"2020-02-27T00:00:00\", \"Cases\": 0}, {\"Date\": \"2020-02-28T00:00:00\", \"Cases\": 0}, {\"Date\": \"2020-02-29T00:00:00\", \"Cases\": 0}, {\"Date\": \"2020-03-01T00:00:00\", \"Cases\": 0}, {\"Date\": \"2020-03-02T00:00:00\", \"Cases\": 0}, {\"Date\": \"2020-03-03T00:00:00\", \"Cases\": 0}, {\"Date\": \"2020-03-04T00:00:00\", \"Cases\": 0}, {\"Date\": \"2020-03-05T00:00:00\", \"Cases\": 0}, {\"Date\": \"2020-03-06T00:00:00\", \"Cases\": 0}, {\"Date\": \"2020-03-07T00:00:00\", \"Cases\": 0}, {\"Date\": \"2020-03-08T00:00:00\", \"Cases\": 0}, {\"Date\": \"2020-03-09T00:00:00\", \"Cases\": 0}, {\"Date\": \"2020-03-10T00:00:00\", \"Cases\": 0}, {\"Date\": \"2020-03-11T00:00:00\", \"Cases\": 0}, {\"Date\": \"2020-03-12T00:00:00\", \"Cases\": 0}, {\"Date\": \"2020-03-13T00:00:00\", \"Cases\": 0}, {\"Date\": \"2020-03-14T00:00:00\", \"Cases\": 0}, {\"Date\": \"2020-03-15T00:00:00\", \"Cases\": 0}, {\"Date\": \"2020-03-16T00:00:00\", \"Cases\": 0}, {\"Date\": \"2020-03-17T00:00:00\", \"Cases\": 2}, {\"Date\": \"2020-03-18T00:00:00\", \"Cases\": 2}, {\"Date\": \"2020-03-19T00:00:00\", \"Cases\": 2}, {\"Date\": \"2020-03-20T00:00:00\", \"Cases\": 3}, {\"Date\": \"2020-03-21T00:00:00\", \"Cases\": 4}, {\"Date\": \"2020-03-22T00:00:00\", \"Cases\": 10}, {\"Date\": \"2020-03-23T00:00:00\", \"Cases\": 14}, {\"Date\": \"2020-03-24T00:00:00\", \"Cases\": 16}, {\"Date\": \"2020-03-25T00:00:00\", \"Cases\": 20}, {\"Date\": \"2020-03-26T00:00:00\", \"Cases\": 23}, {\"Date\": \"2020-03-27T00:00:00\", \"Cases\": 26}, {\"Date\": \"2020-03-28T00:00:00\", \"Cases\": 27}, {\"Date\": \"2020-03-29T00:00:00\", \"Cases\": 35}, {\"Date\": \"2020-03-30T00:00:00\", \"Cases\": 37}, {\"Date\": \"2020-03-31T00:00:00\", \"Cases\": 43}, {\"Date\": \"2020-04-01T00:00:00\", \"Cases\": 45}, {\"Date\": \"2020-04-02T00:00:00\", \"Cases\": 50}, {\"Date\": \"2020-04-03T00:00:00\", \"Cases\": 53}, {\"Date\": \"2020-04-04T00:00:00\", \"Cases\": 57}, {\"Date\": \"2020-04-05T00:00:00\", \"Cases\": 61}, {\"Date\": \"2020-04-06T00:00:00\", \"Cases\": 62}, {\"Date\": \"2020-04-07T00:00:00\", \"Cases\": 63}, {\"Date\": \"2020-04-08T00:00:00\", \"Cases\": 65}, {\"Date\": \"2020-04-09T00:00:00\", \"Cases\": 67}, {\"Date\": \"2020-04-10T00:00:00\", \"Cases\": 70}, {\"Date\": \"2020-04-11T00:00:00\", \"Cases\": 73}, {\"Date\": \"2020-04-12T00:00:00\", \"Cases\": 76}, {\"Date\": \"2020-04-13T00:00:00\", \"Cases\": 77}, {\"Date\": \"2020-04-14T00:00:00\", \"Cases\": 82}, {\"Date\": \"2020-04-15T00:00:00\", \"Cases\": 83}, {\"Date\": \"2020-04-16T00:00:00\", \"Cases\": 84}, {\"Date\": \"2020-04-17T00:00:00\", \"Cases\": 86}, {\"Date\": \"2020-04-18T00:00:00\", \"Cases\": 88}, {\"Date\": \"2020-04-19T00:00:00\", \"Cases\": 89}, {\"Date\": \"2020-04-20T00:00:00\", \"Cases\": 89}, {\"Date\": \"2020-04-21T00:00:00\", \"Cases\": 92}, {\"Date\": \"2020-04-22T00:00:00\", \"Cases\": 93}, {\"Date\": \"2020-04-23T00:00:00\", \"Cases\": 95}, {\"Date\": \"2020-04-24T00:00:00\", \"Cases\": 96}, {\"Date\": \"2020-04-25T00:00:00\", \"Cases\": 98}, {\"Date\": \"2020-04-26T00:00:00\", \"Cases\": 98}, {\"Date\": \"2020-04-27T00:00:00\", \"Cases\": 99}, {\"Date\": \"2020-04-28T00:00:00\", \"Cases\": 100}, {\"Date\": \"2020-04-29T00:00:00\", \"Cases\": 100}, {\"Date\": \"2020-04-30T00:00:00\", \"Cases\": 102}, {\"Date\": \"2020-05-01T00:00:00\", \"Cases\": 103}, {\"Date\": \"2020-05-02T00:00:00\", \"Cases\": 103}, {\"Date\": \"2020-05-03T00:00:00\", \"Cases\": 105}, {\"Date\": \"2020-05-04T00:00:00\", \"Cases\": 105}]}}, {\"mode\": \"vega-lite\"});\n",
              "</script>"
            ]
          },
          "metadata": {
            "tags": []
          },
          "execution_count": 53
        }
      ]
    },
    {
      "cell_type": "markdown",
      "metadata": {
        "id": "F7VsP7xL3C5x",
        "colab_type": "text"
      },
      "source": [
        "### Is the curve is flatterning in Malaysia?\n",
        "> Inflection-sensitive chart for detecting successful interventions, from the article \"How To Tell If We're Beating COVID-19\". Please refer _minutephysics_ for [How To Tell If We're Beating COVID-19](https://youtu.be/54XLXg4fYsc)"
      ]
    },
    {
      "cell_type": "code",
      "metadata": {
        "id": "lT2UXex5j0X3",
        "colab_type": "code",
        "colab": {},
        "cellView": "form"
      },
      "source": [
        "#hide\n",
        "#@title Define faltterning plot\n",
        "def plot_flattern(cases):\n",
        "  _data = cases['confirmed'].copy()\n",
        "  _data['New Cases'] = _data['Cases'].diff()\n",
        "  _data['Average New Cases'] = round(_data['New Cases'].rolling(window=7).mean(),0)\n",
        "  _data = _data[(_data['Cases'] > 100) & (_data['Average New Cases'] > 0)]\n",
        "  _plot = alt.Chart(_data).mark_line().encode(\n",
        "      alt.X('Cases:Q', scale=alt.Scale(type='log'), title = 'Cummulative Confirmed Cases (Log Scale)'), \n",
        "      alt.Y('Average New Cases:Q', scale=alt.Scale(type='log', domain=[0.1, 1000]), title = '7 Days Mean New Cases (Log Scale)')\n",
        "  )\n",
        "  return _plot.properties(\n",
        "    title = f'Trajectory of COVID-19 Confirmed Cases in {cases[\"country\"]}',\n",
        "    width = 600\n",
        "  )"
      ],
      "execution_count": 0,
      "outputs": []
    },
    {
      "cell_type": "code",
      "metadata": {
        "id": "8xI_bQKhjSyA",
        "colab_type": "code",
        "outputId": "ce3250f2-5edd-4048-943e-a69d88a9ccba",
        "colab": {
          "base_uri": "https://localhost:8080/",
          "height": 385
        }
      },
      "source": [
        "#hide_input\n",
        "_plot = plot_flattern(my_cases)\n",
        "(_plot + _plot_mco_case + plot_flattern(country_cases('Korea, South')).mark_line(color='mediumvioletred')).properties(\n",
        "    title = f'Trajectory of COVID-19 Confirmed Cases in Malaysia (blue) vs South, Korea (violet)'\n",
        ")"
      ],
      "execution_count": 55,
      "outputs": [
        {
          "output_type": "execute_result",
          "data": {
            "text/plain": [
              "alt.LayerChart(...)"
            ],
            "text/html": [
              "\n",
              "<div id=\"altair-viz-85e6183f08ab4e2f930c657f61f71a5f\"></div>\n",
              "<script type=\"text/javascript\">\n",
              "  (function(spec, embedOpt){\n",
              "    let outputDiv = document.currentScript.previousElementSibling;\n",
              "    if (outputDiv.id !== \"altair-viz-85e6183f08ab4e2f930c657f61f71a5f\") {\n",
              "      outputDiv = document.getElementById(\"altair-viz-85e6183f08ab4e2f930c657f61f71a5f\");\n",
              "    }\n",
              "    const paths = {\n",
              "      \"vega\": \"https://cdn.jsdelivr.net/npm//vega@5?noext\",\n",
              "      \"vega-lib\": \"https://cdn.jsdelivr.net/npm//vega-lib?noext\",\n",
              "      \"vega-lite\": \"https://cdn.jsdelivr.net/npm//vega-lite@4.8.1?noext\",\n",
              "      \"vega-embed\": \"https://cdn.jsdelivr.net/npm//vega-embed@6?noext\",\n",
              "    };\n",
              "\n",
              "    function loadScript(lib) {\n",
              "      return new Promise(function(resolve, reject) {\n",
              "        var s = document.createElement('script');\n",
              "        s.src = paths[lib];\n",
              "        s.async = true;\n",
              "        s.onload = () => resolve(paths[lib]);\n",
              "        s.onerror = () => reject(`Error loading script: ${paths[lib]}`);\n",
              "        document.getElementsByTagName(\"head\")[0].appendChild(s);\n",
              "      });\n",
              "    }\n",
              "\n",
              "    function showError(err) {\n",
              "      outputDiv.innerHTML = `<div class=\"error\" style=\"color:red;\">${err}</div>`;\n",
              "      throw err;\n",
              "    }\n",
              "\n",
              "    function displayChart(vegaEmbed) {\n",
              "      vegaEmbed(outputDiv, spec, embedOpt)\n",
              "        .catch(err => showError(`Javascript Error: ${err.message}<br>This usually means there's a typo in your chart specification. See the javascript console for the full traceback.`));\n",
              "    }\n",
              "\n",
              "    if(typeof define === \"function\" && define.amd) {\n",
              "      requirejs.config({paths});\n",
              "      require([\"vega-embed\"], displayChart, err => showError(`Error loading script: ${err.message}`));\n",
              "    } else if (typeof vegaEmbed === \"function\") {\n",
              "      displayChart(vegaEmbed);\n",
              "    } else {\n",
              "      loadScript(\"vega\")\n",
              "        .then(() => loadScript(\"vega-lite\"))\n",
              "        .then(() => loadScript(\"vega-embed\"))\n",
              "        .catch(showError)\n",
              "        .then(() => displayChart(vegaEmbed));\n",
              "    }\n",
              "  })({\"config\": {\"view\": {\"continuousWidth\": 400, \"continuousHeight\": 300}}, \"layer\": [{\"data\": {\"name\": \"data-10166f016e879bf0e2e28a51925710c4\"}, \"mark\": \"line\", \"encoding\": {\"x\": {\"type\": \"quantitative\", \"field\": \"Cases\", \"scale\": {\"type\": \"log\"}, \"title\": \"Cummulative Confirmed Cases (Log Scale)\"}, \"y\": {\"type\": \"quantitative\", \"field\": \"Average New Cases\", \"scale\": {\"domain\": [0.1, 1000], \"type\": \"log\"}, \"title\": \"7 Days Mean New Cases (Log Scale)\"}}, \"title\": \"Trajectory of COVID-19 Confirmed Cases in Malaysia\", \"width\": 600}, {\"layer\": [{\"mark\": {\"type\": \"line\", \"color\": \"black\", \"opacity\": 0.5, \"strokeDash\": [3, 3]}, \"encoding\": {\"x\": {\"type\": \"quantitative\", \"field\": \"Cummulative Cases\"}, \"y\": {\"type\": \"quantitative\", \"field\": \"Cases\"}}}, {\"mark\": {\"type\": \"text\", \"angle\": 270, \"dx\": -20, \"dy\": -10, \"text\": \"MCO1\"}, \"encoding\": {\"x\": {\"type\": \"quantitative\", \"field\": \"Cummulative Cases\"}, \"y\": {\"type\": \"quantitative\", \"field\": \"Cases\"}}, \"transform\": [{\"filter\": \"(datum['Cases'] > 1)\"}]}, {\"layer\": [{\"mark\": {\"type\": \"line\", \"color\": \"black\", \"opacity\": 0.5, \"strokeDash\": [3, 3]}, \"encoding\": {\"x\": {\"type\": \"quantitative\", \"field\": \"Cummulative Cases\"}, \"y\": {\"type\": \"quantitative\", \"field\": \"Cases\"}}}, {\"mark\": {\"type\": \"text\", \"angle\": 270, \"dx\": -20, \"dy\": -10, \"text\": \"MCO2\"}, \"encoding\": {\"x\": {\"type\": \"quantitative\", \"field\": \"Cummulative Cases\"}, \"y\": {\"type\": \"quantitative\", \"field\": \"Cases\"}}, \"transform\": [{\"filter\": \"(datum['Cases'] > 1)\"}]}], \"data\": {\"name\": \"data-6f98de7312d58ea8941c46ed16f568b6\"}}, {\"layer\": [{\"mark\": {\"type\": \"line\", \"color\": \"black\", \"opacity\": 0.5, \"strokeDash\": [3, 3]}, \"encoding\": {\"x\": {\"type\": \"quantitative\", \"field\": \"Cummulative Cases\"}, \"y\": {\"type\": \"quantitative\", \"field\": \"Cases\"}}}, {\"mark\": {\"type\": \"text\", \"angle\": 270, \"dx\": -20, \"dy\": -10, \"text\": \"MCO3\"}, \"encoding\": {\"x\": {\"type\": \"quantitative\", \"field\": \"Cummulative Cases\"}, \"y\": {\"type\": \"quantitative\", \"field\": \"Cases\"}}, \"transform\": [{\"filter\": \"(datum['Cases'] > 1)\"}]}], \"data\": {\"name\": \"data-215cfc5c9b074ea24b3a16235c892aa6\"}}, {\"layer\": [{\"mark\": {\"type\": \"line\", \"color\": \"black\", \"opacity\": 0.5, \"strokeDash\": [3, 3]}, \"encoding\": {\"x\": {\"type\": \"quantitative\", \"field\": \"Cummulative Cases\"}, \"y\": {\"type\": \"quantitative\", \"field\": \"Cases\"}}}, {\"mark\": {\"type\": \"text\", \"angle\": 270, \"dx\": -20, \"dy\": -10, \"text\": \"MCO4\"}, \"encoding\": {\"x\": {\"type\": \"quantitative\", \"field\": \"Cummulative Cases\"}, \"y\": {\"type\": \"quantitative\", \"field\": \"Cases\"}}, \"transform\": [{\"filter\": \"(datum['Cases'] > 1)\"}]}], \"data\": {\"name\": \"data-f6b54c6235f7ce3a56cbb1e70d1d4f39\"}}], \"data\": {\"name\": \"data-974e89afb6dd82924d6656bbec6acaac\"}}, {\"data\": {\"name\": \"data-e63da61d6c18353ea62a5cc5b9a0df0f\"}, \"mark\": {\"type\": \"line\", \"color\": \"mediumvioletred\"}, \"encoding\": {\"x\": {\"type\": \"quantitative\", \"field\": \"Cases\", \"scale\": {\"type\": \"log\"}, \"title\": \"Cummulative Confirmed Cases (Log Scale)\"}, \"y\": {\"type\": \"quantitative\", \"field\": \"Average New Cases\", \"scale\": {\"domain\": [0.1, 1000], \"type\": \"log\"}, \"title\": \"7 Days Mean New Cases (Log Scale)\"}}, \"title\": \"Trajectory of COVID-19 Confirmed Cases in Korea, South\", \"width\": 600}], \"title\": \"Trajectory of COVID-19 Confirmed Cases in Malaysia (blue) vs South, Korea (violet)\", \"$schema\": \"https://vega.github.io/schema/vega-lite/v4.8.1.json\", \"datasets\": {\"data-10166f016e879bf0e2e28a51925710c4\": [{\"Date\": \"2020-03-09T00:00:00\", \"Cases\": 117, \"New Cases\": 18.0, \"Average New Cases\": 13.0}, {\"Date\": \"2020-03-10T00:00:00\", \"Cases\": 129, \"New Cases\": 12.0, \"Average New Cases\": 13.0}, {\"Date\": \"2020-03-11T00:00:00\", \"Cases\": 149, \"New Cases\": 20.0, \"Average New Cases\": 14.0}, {\"Date\": \"2020-03-12T00:00:00\", \"Cases\": 149, \"New Cases\": 0.0, \"Average New Cases\": 14.0}, {\"Date\": \"2020-03-13T00:00:00\", \"Cases\": 197, \"New Cases\": 48.0, \"Average New Cases\": 16.0}, {\"Date\": \"2020-03-14T00:00:00\", \"Cases\": 238, \"New Cases\": 41.0, \"Average New Cases\": 21.0}, {\"Date\": \"2020-03-15T00:00:00\", \"Cases\": 428, \"New Cases\": 190.0, \"Average New Cases\": 47.0}, {\"Date\": \"2020-03-16T00:00:00\", \"Cases\": 566, \"New Cases\": 138.0, \"Average New Cases\": 64.0}, {\"Date\": \"2020-03-17T00:00:00\", \"Cases\": 673, \"New Cases\": 107.0, \"Average New Cases\": 78.0}, {\"Date\": \"2020-03-18T00:00:00\", \"Cases\": 790, \"New Cases\": 117.0, \"Average New Cases\": 92.0}, {\"Date\": \"2020-03-19T00:00:00\", \"Cases\": 900, \"New Cases\": 110.0, \"Average New Cases\": 107.0}, {\"Date\": \"2020-03-20T00:00:00\", \"Cases\": 1030, \"New Cases\": 130.0, \"Average New Cases\": 119.0}, {\"Date\": \"2020-03-21T00:00:00\", \"Cases\": 1183, \"New Cases\": 153.0, \"Average New Cases\": 135.0}, {\"Date\": \"2020-03-22T00:00:00\", \"Cases\": 1306, \"New Cases\": 123.0, \"Average New Cases\": 125.0}, {\"Date\": \"2020-03-23T00:00:00\", \"Cases\": 1518, \"New Cases\": 212.0, \"Average New Cases\": 136.0}, {\"Date\": \"2020-03-24T00:00:00\", \"Cases\": 1624, \"New Cases\": 106.0, \"Average New Cases\": 136.0}, {\"Date\": \"2020-03-25T00:00:00\", \"Cases\": 1796, \"New Cases\": 172.0, \"Average New Cases\": 144.0}, {\"Date\": \"2020-03-26T00:00:00\", \"Cases\": 2031, \"New Cases\": 235.0, \"Average New Cases\": 162.0}, {\"Date\": \"2020-03-27T00:00:00\", \"Cases\": 2161, \"New Cases\": 130.0, \"Average New Cases\": 162.0}, {\"Date\": \"2020-03-28T00:00:00\", \"Cases\": 2320, \"New Cases\": 159.0, \"Average New Cases\": 162.0}, {\"Date\": \"2020-03-29T00:00:00\", \"Cases\": 2470, \"New Cases\": 150.0, \"Average New Cases\": 166.0}, {\"Date\": \"2020-03-30T00:00:00\", \"Cases\": 2626, \"New Cases\": 156.0, \"Average New Cases\": 158.0}, {\"Date\": \"2020-03-31T00:00:00\", \"Cases\": 2766, \"New Cases\": 140.0, \"Average New Cases\": 163.0}, {\"Date\": \"2020-04-01T00:00:00\", \"Cases\": 2908, \"New Cases\": 142.0, \"Average New Cases\": 159.0}, {\"Date\": \"2020-04-02T00:00:00\", \"Cases\": 3116, \"New Cases\": 208.0, \"Average New Cases\": 155.0}, {\"Date\": \"2020-04-03T00:00:00\", \"Cases\": 3333, \"New Cases\": 217.0, \"Average New Cases\": 167.0}, {\"Date\": \"2020-04-04T00:00:00\", \"Cases\": 3483, \"New Cases\": 150.0, \"Average New Cases\": 166.0}, {\"Date\": \"2020-04-05T00:00:00\", \"Cases\": 3662, \"New Cases\": 179.0, \"Average New Cases\": 170.0}, {\"Date\": \"2020-04-06T00:00:00\", \"Cases\": 3793, \"New Cases\": 131.0, \"Average New Cases\": 167.0}, {\"Date\": \"2020-04-07T00:00:00\", \"Cases\": 3963, \"New Cases\": 170.0, \"Average New Cases\": 171.0}, {\"Date\": \"2020-04-08T00:00:00\", \"Cases\": 4119, \"New Cases\": 156.0, \"Average New Cases\": 173.0}, {\"Date\": \"2020-04-09T00:00:00\", \"Cases\": 4228, \"New Cases\": 109.0, \"Average New Cases\": 159.0}, {\"Date\": \"2020-04-10T00:00:00\", \"Cases\": 4346, \"New Cases\": 118.0, \"Average New Cases\": 145.0}, {\"Date\": \"2020-04-11T00:00:00\", \"Cases\": 4530, \"New Cases\": 184.0, \"Average New Cases\": 150.0}, {\"Date\": \"2020-04-12T00:00:00\", \"Cases\": 4683, \"New Cases\": 153.0, \"Average New Cases\": 146.0}, {\"Date\": \"2020-04-13T00:00:00\", \"Cases\": 4817, \"New Cases\": 134.0, \"Average New Cases\": 146.0}, {\"Date\": \"2020-04-14T00:00:00\", \"Cases\": 4987, \"New Cases\": 170.0, \"Average New Cases\": 146.0}, {\"Date\": \"2020-04-15T00:00:00\", \"Cases\": 5072, \"New Cases\": 85.0, \"Average New Cases\": 136.0}, {\"Date\": \"2020-04-16T00:00:00\", \"Cases\": 5182, \"New Cases\": 110.0, \"Average New Cases\": 136.0}, {\"Date\": \"2020-04-17T00:00:00\", \"Cases\": 5251, \"New Cases\": 69.0, \"Average New Cases\": 129.0}, {\"Date\": \"2020-04-18T00:00:00\", \"Cases\": 5305, \"New Cases\": 54.0, \"Average New Cases\": 111.0}, {\"Date\": \"2020-04-19T00:00:00\", \"Cases\": 5389, \"New Cases\": 84.0, \"Average New Cases\": 101.0}, {\"Date\": \"2020-04-20T00:00:00\", \"Cases\": 5425, \"New Cases\": 36.0, \"Average New Cases\": 87.0}, {\"Date\": \"2020-04-21T00:00:00\", \"Cases\": 5482, \"New Cases\": 57.0, \"Average New Cases\": 71.0}, {\"Date\": \"2020-04-22T00:00:00\", \"Cases\": 5532, \"New Cases\": 50.0, \"Average New Cases\": 66.0}, {\"Date\": \"2020-04-23T00:00:00\", \"Cases\": 5603, \"New Cases\": 71.0, \"Average New Cases\": 60.0}, {\"Date\": \"2020-04-24T00:00:00\", \"Cases\": 5691, \"New Cases\": 88.0, \"Average New Cases\": 63.0}, {\"Date\": \"2020-04-25T00:00:00\", \"Cases\": 5742, \"New Cases\": 51.0, \"Average New Cases\": 62.0}, {\"Date\": \"2020-04-26T00:00:00\", \"Cases\": 5780, \"New Cases\": 38.0, \"Average New Cases\": 56.0}, {\"Date\": \"2020-04-27T00:00:00\", \"Cases\": 5820, \"New Cases\": 40.0, \"Average New Cases\": 56.0}, {\"Date\": \"2020-04-28T00:00:00\", \"Cases\": 5851, \"New Cases\": 31.0, \"Average New Cases\": 53.0}, {\"Date\": \"2020-04-29T00:00:00\", \"Cases\": 5945, \"New Cases\": 94.0, \"Average New Cases\": 59.0}, {\"Date\": \"2020-04-30T00:00:00\", \"Cases\": 6002, \"New Cases\": 57.0, \"Average New Cases\": 57.0}, {\"Date\": \"2020-05-01T00:00:00\", \"Cases\": 6071, \"New Cases\": 69.0, \"Average New Cases\": 54.0}, {\"Date\": \"2020-05-02T00:00:00\", \"Cases\": 6176, \"New Cases\": 105.0, \"Average New Cases\": 62.0}, {\"Date\": \"2020-05-03T00:00:00\", \"Cases\": 6298, \"New Cases\": 122.0, \"Average New Cases\": 74.0}, {\"Date\": \"2020-05-04T00:00:00\", \"Cases\": 6353, \"New Cases\": 55.0, \"Average New Cases\": 76.0}], \"data-974e89afb6dd82924d6656bbec6acaac\": [{\"Cummulative Cases\": 790, \"Cases\": 0.1}, {\"Cummulative Cases\": 790, \"Cases\": 1000.0}], \"data-6f98de7312d58ea8941c46ed16f568b6\": [{\"Cummulative Cases\": 2908, \"Cases\": 0.1}, {\"Cummulative Cases\": 2908, \"Cases\": 1000.0}], \"data-215cfc5c9b074ea24b3a16235c892aa6\": [{\"Cummulative Cases\": 5072, \"Cases\": 0.1}, {\"Cummulative Cases\": 5072, \"Cases\": 1000.0}], \"data-f6b54c6235f7ce3a56cbb1e70d1d4f39\": [{\"Cummulative Cases\": 5945, \"Cases\": 0.1}, {\"Cummulative Cases\": 5945, \"Cases\": 1000.0}], \"data-e63da61d6c18353ea62a5cc5b9a0df0f\": [{\"Date\": \"2020-02-20T00:00:00\", \"Cases\": 104, \"New Cases\": 73.0, \"Average New Cases\": 11.0}, {\"Date\": \"2020-02-21T00:00:00\", \"Cases\": 204, \"New Cases\": 100.0, \"Average New Cases\": 25.0}, {\"Date\": \"2020-02-22T00:00:00\", \"Cases\": 433, \"New Cases\": 229.0, \"Average New Cases\": 58.0}, {\"Date\": \"2020-02-23T00:00:00\", \"Cases\": 602, \"New Cases\": 169.0, \"Average New Cases\": 82.0}, {\"Date\": \"2020-02-24T00:00:00\", \"Cases\": 833, \"New Cases\": 231.0, \"Average New Cases\": 115.0}, {\"Date\": \"2020-02-25T00:00:00\", \"Cases\": 977, \"New Cases\": 144.0, \"Average New Cases\": 135.0}, {\"Date\": \"2020-02-26T00:00:00\", \"Cases\": 1261, \"New Cases\": 284.0, \"Average New Cases\": 176.0}, {\"Date\": \"2020-02-27T00:00:00\", \"Cases\": 1766, \"New Cases\": 505.0, \"Average New Cases\": 237.0}, {\"Date\": \"2020-02-28T00:00:00\", \"Cases\": 2337, \"New Cases\": 571.0, \"Average New Cases\": 305.0}, {\"Date\": \"2020-02-29T00:00:00\", \"Cases\": 3150, \"New Cases\": 813.0, \"Average New Cases\": 388.0}, {\"Date\": \"2020-03-01T00:00:00\", \"Cases\": 3736, \"New Cases\": 586.0, \"Average New Cases\": 448.0}, {\"Date\": \"2020-03-02T00:00:00\", \"Cases\": 4335, \"New Cases\": 599.0, \"Average New Cases\": 500.0}, {\"Date\": \"2020-03-03T00:00:00\", \"Cases\": 5186, \"New Cases\": 851.0, \"Average New Cases\": 601.0}, {\"Date\": \"2020-03-04T00:00:00\", \"Cases\": 5621, \"New Cases\": 435.0, \"Average New Cases\": 623.0}, {\"Date\": \"2020-03-05T00:00:00\", \"Cases\": 6088, \"New Cases\": 467.0, \"Average New Cases\": 617.0}, {\"Date\": \"2020-03-06T00:00:00\", \"Cases\": 6593, \"New Cases\": 505.0, \"Average New Cases\": 608.0}, {\"Date\": \"2020-03-07T00:00:00\", \"Cases\": 7041, \"New Cases\": 448.0, \"Average New Cases\": 556.0}, {\"Date\": \"2020-03-08T00:00:00\", \"Cases\": 7314, \"New Cases\": 273.0, \"Average New Cases\": 511.0}, {\"Date\": \"2020-03-09T00:00:00\", \"Cases\": 7478, \"New Cases\": 164.0, \"Average New Cases\": 449.0}, {\"Date\": \"2020-03-10T00:00:00\", \"Cases\": 7513, \"New Cases\": 35.0, \"Average New Cases\": 332.0}, {\"Date\": \"2020-03-11T00:00:00\", \"Cases\": 7755, \"New Cases\": 242.0, \"Average New Cases\": 305.0}, {\"Date\": \"2020-03-12T00:00:00\", \"Cases\": 7869, \"New Cases\": 114.0, \"Average New Cases\": 254.0}, {\"Date\": \"2020-03-13T00:00:00\", \"Cases\": 7979, \"New Cases\": 110.0, \"Average New Cases\": 198.0}, {\"Date\": \"2020-03-14T00:00:00\", \"Cases\": 8086, \"New Cases\": 107.0, \"Average New Cases\": 149.0}, {\"Date\": \"2020-03-15T00:00:00\", \"Cases\": 8162, \"New Cases\": 76.0, \"Average New Cases\": 121.0}, {\"Date\": \"2020-03-16T00:00:00\", \"Cases\": 8236, \"New Cases\": 74.0, \"Average New Cases\": 108.0}, {\"Date\": \"2020-03-17T00:00:00\", \"Cases\": 8320, \"New Cases\": 84.0, \"Average New Cases\": 115.0}, {\"Date\": \"2020-03-18T00:00:00\", \"Cases\": 8413, \"New Cases\": 93.0, \"Average New Cases\": 94.0}, {\"Date\": \"2020-03-19T00:00:00\", \"Cases\": 8565, \"New Cases\": 152.0, \"Average New Cases\": 99.0}, {\"Date\": \"2020-03-20T00:00:00\", \"Cases\": 8652, \"New Cases\": 87.0, \"Average New Cases\": 96.0}, {\"Date\": \"2020-03-21T00:00:00\", \"Cases\": 8799, \"New Cases\": 147.0, \"Average New Cases\": 102.0}, {\"Date\": \"2020-03-22T00:00:00\", \"Cases\": 8961, \"New Cases\": 162.0, \"Average New Cases\": 114.0}, {\"Date\": \"2020-03-23T00:00:00\", \"Cases\": 8961, \"New Cases\": 0.0, \"Average New Cases\": 104.0}, {\"Date\": \"2020-03-24T00:00:00\", \"Cases\": 9037, \"New Cases\": 76.0, \"Average New Cases\": 102.0}, {\"Date\": \"2020-03-25T00:00:00\", \"Cases\": 9137, \"New Cases\": 100.0, \"Average New Cases\": 103.0}, {\"Date\": \"2020-03-26T00:00:00\", \"Cases\": 9241, \"New Cases\": 104.0, \"Average New Cases\": 97.0}, {\"Date\": \"2020-03-27T00:00:00\", \"Cases\": 9332, \"New Cases\": 91.0, \"Average New Cases\": 97.0}, {\"Date\": \"2020-03-28T00:00:00\", \"Cases\": 9478, \"New Cases\": 146.0, \"Average New Cases\": 97.0}, {\"Date\": \"2020-03-29T00:00:00\", \"Cases\": 9583, \"New Cases\": 105.0, \"Average New Cases\": 89.0}, {\"Date\": \"2020-03-30T00:00:00\", \"Cases\": 9661, \"New Cases\": 78.0, \"Average New Cases\": 100.0}, {\"Date\": \"2020-03-31T00:00:00\", \"Cases\": 9786, \"New Cases\": 125.0, \"Average New Cases\": 107.0}, {\"Date\": \"2020-04-01T00:00:00\", \"Cases\": 9887, \"New Cases\": 101.0, \"Average New Cases\": 107.0}, {\"Date\": \"2020-04-02T00:00:00\", \"Cases\": 9976, \"New Cases\": 89.0, \"Average New Cases\": 105.0}, {\"Date\": \"2020-04-03T00:00:00\", \"Cases\": 10062, \"New Cases\": 86.0, \"Average New Cases\": 104.0}, {\"Date\": \"2020-04-04T00:00:00\", \"Cases\": 10156, \"New Cases\": 94.0, \"Average New Cases\": 97.0}, {\"Date\": \"2020-04-05T00:00:00\", \"Cases\": 10237, \"New Cases\": 81.0, \"Average New Cases\": 93.0}, {\"Date\": \"2020-04-06T00:00:00\", \"Cases\": 10284, \"New Cases\": 47.0, \"Average New Cases\": 89.0}, {\"Date\": \"2020-04-07T00:00:00\", \"Cases\": 10331, \"New Cases\": 47.0, \"Average New Cases\": 78.0}, {\"Date\": \"2020-04-08T00:00:00\", \"Cases\": 10384, \"New Cases\": 53.0, \"Average New Cases\": 71.0}, {\"Date\": \"2020-04-09T00:00:00\", \"Cases\": 10423, \"New Cases\": 39.0, \"Average New Cases\": 64.0}, {\"Date\": \"2020-04-10T00:00:00\", \"Cases\": 10450, \"New Cases\": 27.0, \"Average New Cases\": 55.0}, {\"Date\": \"2020-04-11T00:00:00\", \"Cases\": 10480, \"New Cases\": 30.0, \"Average New Cases\": 46.0}, {\"Date\": \"2020-04-12T00:00:00\", \"Cases\": 10512, \"New Cases\": 32.0, \"Average New Cases\": 39.0}, {\"Date\": \"2020-04-13T00:00:00\", \"Cases\": 10537, \"New Cases\": 25.0, \"Average New Cases\": 36.0}, {\"Date\": \"2020-04-14T00:00:00\", \"Cases\": 10564, \"New Cases\": 27.0, \"Average New Cases\": 33.0}, {\"Date\": \"2020-04-15T00:00:00\", \"Cases\": 10591, \"New Cases\": 27.0, \"Average New Cases\": 30.0}, {\"Date\": \"2020-04-16T00:00:00\", \"Cases\": 10613, \"New Cases\": 22.0, \"Average New Cases\": 27.0}, {\"Date\": \"2020-04-17T00:00:00\", \"Cases\": 10635, \"New Cases\": 22.0, \"Average New Cases\": 26.0}, {\"Date\": \"2020-04-18T00:00:00\", \"Cases\": 10653, \"New Cases\": 18.0, \"Average New Cases\": 25.0}, {\"Date\": \"2020-04-19T00:00:00\", \"Cases\": 10661, \"New Cases\": 8.0, \"Average New Cases\": 21.0}, {\"Date\": \"2020-04-20T00:00:00\", \"Cases\": 10674, \"New Cases\": 13.0, \"Average New Cases\": 20.0}, {\"Date\": \"2020-04-21T00:00:00\", \"Cases\": 10683, \"New Cases\": 9.0, \"Average New Cases\": 17.0}, {\"Date\": \"2020-04-22T00:00:00\", \"Cases\": 10694, \"New Cases\": 11.0, \"Average New Cases\": 15.0}, {\"Date\": \"2020-04-23T00:00:00\", \"Cases\": 10708, \"New Cases\": 14.0, \"Average New Cases\": 14.0}, {\"Date\": \"2020-04-24T00:00:00\", \"Cases\": 10718, \"New Cases\": 10.0, \"Average New Cases\": 12.0}, {\"Date\": \"2020-04-25T00:00:00\", \"Cases\": 10728, \"New Cases\": 10.0, \"Average New Cases\": 11.0}, {\"Date\": \"2020-04-26T00:00:00\", \"Cases\": 10738, \"New Cases\": 10.0, \"Average New Cases\": 11.0}, {\"Date\": \"2020-04-27T00:00:00\", \"Cases\": 10752, \"New Cases\": 14.0, \"Average New Cases\": 11.0}, {\"Date\": \"2020-04-28T00:00:00\", \"Cases\": 10761, \"New Cases\": 9.0, \"Average New Cases\": 11.0}, {\"Date\": \"2020-04-29T00:00:00\", \"Cases\": 10765, \"New Cases\": 4.0, \"Average New Cases\": 10.0}, {\"Date\": \"2020-04-30T00:00:00\", \"Cases\": 10774, \"New Cases\": 9.0, \"Average New Cases\": 9.0}, {\"Date\": \"2020-05-01T00:00:00\", \"Cases\": 10780, \"New Cases\": 6.0, \"Average New Cases\": 9.0}, {\"Date\": \"2020-05-02T00:00:00\", \"Cases\": 10793, \"New Cases\": 13.0, \"Average New Cases\": 9.0}, {\"Date\": \"2020-05-03T00:00:00\", \"Cases\": 10801, \"New Cases\": 8.0, \"Average New Cases\": 9.0}]}}, {\"mode\": \"vega-lite\"});\n",
              "</script>"
            ]
          },
          "metadata": {
            "tags": []
          },
          "execution_count": 55
        }
      ]
    },
    {
      "cell_type": "code",
      "metadata": {
        "id": "dEjQiMvCEkfD",
        "colab_type": "code",
        "outputId": "4bba79d2-7662-41f3-cf73-53f5bf936bf6",
        "cellView": "both",
        "colab": {
          "base_uri": "https://localhost:8080/",
          "height": 385
        }
      },
      "source": [
        "#hide_input\n",
        "#@title Plot daily reported cases\n",
        "rolling_window = 7\n",
        "_data = my_cases['confirmed'].copy()\n",
        "_data['New Cases'] = _data['Cases'].diff()\n",
        "_data['Average New Cases'] = round(_data['New Cases'].rolling(window=rolling_window).mean(),0)\n",
        "_plot_bar = alt.Chart(_data).mark_bar().encode(\n",
        "    x='Date:T',\n",
        "    y='New Cases:Q',\n",
        "    tooltip = list(_data)\n",
        ")\n",
        "\n",
        "_plot_line = alt.Chart(_data).mark_line(color = 'red').encode(\n",
        "    x='Date:T',\n",
        "    y='Average New Cases:Q',\n",
        "    tooltip = list(_data)\n",
        ")\n",
        "\n",
        "(_plot_bar + _plot_line + _plot_mco_date(round(_plot_bar.data['New Cases'].max() / 100, 1) * 100)).properties(\n",
        "    title = f'Daily Reported Cases (with {rolling_window} days average) in Malaysia',\n",
        "    width = 600\n",
        ")"
      ],
      "execution_count": 56,
      "outputs": [
        {
          "output_type": "execute_result",
          "data": {
            "text/plain": [
              "alt.LayerChart(...)"
            ],
            "text/html": [
              "\n",
              "<div id=\"altair-viz-38ef2c88abb94e4b976ce7d410847b39\"></div>\n",
              "<script type=\"text/javascript\">\n",
              "  (function(spec, embedOpt){\n",
              "    let outputDiv = document.currentScript.previousElementSibling;\n",
              "    if (outputDiv.id !== \"altair-viz-38ef2c88abb94e4b976ce7d410847b39\") {\n",
              "      outputDiv = document.getElementById(\"altair-viz-38ef2c88abb94e4b976ce7d410847b39\");\n",
              "    }\n",
              "    const paths = {\n",
              "      \"vega\": \"https://cdn.jsdelivr.net/npm//vega@5?noext\",\n",
              "      \"vega-lib\": \"https://cdn.jsdelivr.net/npm//vega-lib?noext\",\n",
              "      \"vega-lite\": \"https://cdn.jsdelivr.net/npm//vega-lite@4.8.1?noext\",\n",
              "      \"vega-embed\": \"https://cdn.jsdelivr.net/npm//vega-embed@6?noext\",\n",
              "    };\n",
              "\n",
              "    function loadScript(lib) {\n",
              "      return new Promise(function(resolve, reject) {\n",
              "        var s = document.createElement('script');\n",
              "        s.src = paths[lib];\n",
              "        s.async = true;\n",
              "        s.onload = () => resolve(paths[lib]);\n",
              "        s.onerror = () => reject(`Error loading script: ${paths[lib]}`);\n",
              "        document.getElementsByTagName(\"head\")[0].appendChild(s);\n",
              "      });\n",
              "    }\n",
              "\n",
              "    function showError(err) {\n",
              "      outputDiv.innerHTML = `<div class=\"error\" style=\"color:red;\">${err}</div>`;\n",
              "      throw err;\n",
              "    }\n",
              "\n",
              "    function displayChart(vegaEmbed) {\n",
              "      vegaEmbed(outputDiv, spec, embedOpt)\n",
              "        .catch(err => showError(`Javascript Error: ${err.message}<br>This usually means there's a typo in your chart specification. See the javascript console for the full traceback.`));\n",
              "    }\n",
              "\n",
              "    if(typeof define === \"function\" && define.amd) {\n",
              "      requirejs.config({paths});\n",
              "      require([\"vega-embed\"], displayChart, err => showError(`Error loading script: ${err.message}`));\n",
              "    } else if (typeof vegaEmbed === \"function\") {\n",
              "      displayChart(vegaEmbed);\n",
              "    } else {\n",
              "      loadScript(\"vega\")\n",
              "        .then(() => loadScript(\"vega-lite\"))\n",
              "        .then(() => loadScript(\"vega-embed\"))\n",
              "        .catch(showError)\n",
              "        .then(() => displayChart(vegaEmbed));\n",
              "    }\n",
              "  })({\"config\": {\"view\": {\"continuousWidth\": 400, \"continuousHeight\": 300}}, \"layer\": [{\"mark\": \"bar\", \"encoding\": {\"tooltip\": [{\"type\": \"temporal\", \"field\": \"Date\"}, {\"type\": \"quantitative\", \"field\": \"Cases\"}, {\"type\": \"quantitative\", \"field\": \"New Cases\"}, {\"type\": \"quantitative\", \"field\": \"Average New Cases\"}], \"x\": {\"type\": \"temporal\", \"field\": \"Date\"}, \"y\": {\"type\": \"quantitative\", \"field\": \"New Cases\"}}}, {\"mark\": {\"type\": \"line\", \"color\": \"red\"}, \"encoding\": {\"tooltip\": [{\"type\": \"temporal\", \"field\": \"Date\"}, {\"type\": \"quantitative\", \"field\": \"Cases\"}, {\"type\": \"quantitative\", \"field\": \"New Cases\"}, {\"type\": \"quantitative\", \"field\": \"Average New Cases\"}], \"x\": {\"type\": \"temporal\", \"field\": \"Date\"}, \"y\": {\"type\": \"quantitative\", \"field\": \"Average New Cases\"}}}, {\"layer\": [{\"mark\": {\"type\": \"line\", \"color\": \"black\", \"opacity\": 0.5, \"strokeDash\": [3, 3]}, \"encoding\": {\"x\": {\"type\": \"temporal\", \"field\": \"Date\"}, \"y\": {\"type\": \"quantitative\", \"field\": \"Cases\"}}}, {\"mark\": {\"type\": \"text\", \"angle\": 270, \"dx\": -20, \"dy\": -10, \"text\": \"MCO1\"}, \"encoding\": {\"x\": {\"type\": \"temporal\", \"field\": \"Date\"}, \"y\": {\"type\": \"quantitative\", \"field\": \"Cases\"}}, \"transform\": [{\"filter\": \"(datum['Cases'] > 0)\"}]}, {\"layer\": [{\"mark\": {\"type\": \"line\", \"color\": \"black\", \"opacity\": 0.5, \"strokeDash\": [3, 3]}, \"encoding\": {\"x\": {\"type\": \"temporal\", \"field\": \"Date\"}, \"y\": {\"type\": \"quantitative\", \"field\": \"Cases\"}}}, {\"mark\": {\"type\": \"text\", \"angle\": 270, \"dx\": -20, \"dy\": -10, \"text\": \"MCO2\"}, \"encoding\": {\"x\": {\"type\": \"temporal\", \"field\": \"Date\"}, \"y\": {\"type\": \"quantitative\", \"field\": \"Cases\"}}, \"transform\": [{\"filter\": \"(datum['Cases'] > 0)\"}]}], \"data\": {\"name\": \"data-a2056437df25e99a1f157632cfb8e1bd\"}}, {\"layer\": [{\"mark\": {\"type\": \"line\", \"color\": \"black\", \"opacity\": 0.5, \"strokeDash\": [3, 3]}, \"encoding\": {\"x\": {\"type\": \"temporal\", \"field\": \"Date\"}, \"y\": {\"type\": \"quantitative\", \"field\": \"Cases\"}}}, {\"mark\": {\"type\": \"text\", \"angle\": 270, \"dx\": -20, \"dy\": -10, \"text\": \"MCO3\"}, \"encoding\": {\"x\": {\"type\": \"temporal\", \"field\": \"Date\"}, \"y\": {\"type\": \"quantitative\", \"field\": \"Cases\"}}, \"transform\": [{\"filter\": \"(datum['Cases'] > 0)\"}]}], \"data\": {\"name\": \"data-de8a0ae39a6b8cca89c00a555a968ea4\"}}, {\"layer\": [{\"mark\": {\"type\": \"line\", \"color\": \"black\", \"opacity\": 0.5, \"strokeDash\": [3, 3]}, \"encoding\": {\"x\": {\"type\": \"temporal\", \"field\": \"Date\"}, \"y\": {\"type\": \"quantitative\", \"field\": \"Cases\"}}}, {\"mark\": {\"type\": \"text\", \"angle\": 270, \"dx\": -20, \"dy\": -10, \"text\": \"MCO4\"}, \"encoding\": {\"x\": {\"type\": \"temporal\", \"field\": \"Date\"}, \"y\": {\"type\": \"quantitative\", \"field\": \"Cases\"}}, \"transform\": [{\"filter\": \"(datum['Cases'] > 0)\"}]}], \"data\": {\"name\": \"data-f9180adebaece09ab5dfb1985e626fc8\"}}], \"data\": {\"name\": \"data-3fbbf3961b53c47f5709f853b4d30d25\"}}], \"data\": {\"name\": \"data-6f47dae822c27ca6ca3dc48f8bb0c638\"}, \"title\": \"Daily Reported Cases (with 7 days average) in Malaysia\", \"width\": 600, \"$schema\": \"https://vega.github.io/schema/vega-lite/v4.8.1.json\", \"datasets\": {\"data-6f47dae822c27ca6ca3dc48f8bb0c638\": [{\"Date\": \"2020-01-22T00:00:00\", \"Cases\": 0, \"New Cases\": null, \"Average New Cases\": null}, {\"Date\": \"2020-01-23T00:00:00\", \"Cases\": 0, \"New Cases\": 0.0, \"Average New Cases\": null}, {\"Date\": \"2020-01-24T00:00:00\", \"Cases\": 0, \"New Cases\": 0.0, \"Average New Cases\": null}, {\"Date\": \"2020-01-25T00:00:00\", \"Cases\": 3, \"New Cases\": 3.0, \"Average New Cases\": null}, {\"Date\": \"2020-01-26T00:00:00\", \"Cases\": 4, \"New Cases\": 1.0, \"Average New Cases\": null}, {\"Date\": \"2020-01-27T00:00:00\", \"Cases\": 4, \"New Cases\": 0.0, \"Average New Cases\": null}, {\"Date\": \"2020-01-28T00:00:00\", \"Cases\": 4, \"New Cases\": 0.0, \"Average New Cases\": null}, {\"Date\": \"2020-01-29T00:00:00\", \"Cases\": 7, \"New Cases\": 3.0, \"Average New Cases\": 1.0}, {\"Date\": \"2020-01-30T00:00:00\", \"Cases\": 8, \"New Cases\": 1.0, \"Average New Cases\": 1.0}, {\"Date\": \"2020-01-31T00:00:00\", \"Cases\": 8, \"New Cases\": 0.0, \"Average New Cases\": 1.0}, {\"Date\": \"2020-02-01T00:00:00\", \"Cases\": 8, \"New Cases\": 0.0, \"Average New Cases\": 1.0}, {\"Date\": \"2020-02-02T00:00:00\", \"Cases\": 8, \"New Cases\": 0.0, \"Average New Cases\": 1.0}, {\"Date\": \"2020-02-03T00:00:00\", \"Cases\": 8, \"New Cases\": 0.0, \"Average New Cases\": 1.0}, {\"Date\": \"2020-02-04T00:00:00\", \"Cases\": 10, \"New Cases\": 2.0, \"Average New Cases\": 1.0}, {\"Date\": \"2020-02-05T00:00:00\", \"Cases\": 12, \"New Cases\": 2.0, \"Average New Cases\": 1.0}, {\"Date\": \"2020-02-06T00:00:00\", \"Cases\": 12, \"New Cases\": 0.0, \"Average New Cases\": 1.0}, {\"Date\": \"2020-02-07T00:00:00\", \"Cases\": 12, \"New Cases\": 0.0, \"Average New Cases\": 1.0}, {\"Date\": \"2020-02-08T00:00:00\", \"Cases\": 16, \"New Cases\": 4.0, \"Average New Cases\": 1.0}, {\"Date\": \"2020-02-09T00:00:00\", \"Cases\": 16, \"New Cases\": 0.0, \"Average New Cases\": 1.0}, {\"Date\": \"2020-02-10T00:00:00\", \"Cases\": 18, \"New Cases\": 2.0, \"Average New Cases\": 1.0}, {\"Date\": \"2020-02-11T00:00:00\", \"Cases\": 18, \"New Cases\": 0.0, \"Average New Cases\": 1.0}, {\"Date\": \"2020-02-12T00:00:00\", \"Cases\": 18, \"New Cases\": 0.0, \"Average New Cases\": 1.0}, {\"Date\": \"2020-02-13T00:00:00\", \"Cases\": 19, \"New Cases\": 1.0, \"Average New Cases\": 1.0}, {\"Date\": \"2020-02-14T00:00:00\", \"Cases\": 19, \"New Cases\": 0.0, \"Average New Cases\": 1.0}, {\"Date\": \"2020-02-15T00:00:00\", \"Cases\": 22, \"New Cases\": 3.0, \"Average New Cases\": 1.0}, {\"Date\": \"2020-02-16T00:00:00\", \"Cases\": 22, \"New Cases\": 0.0, \"Average New Cases\": 1.0}, {\"Date\": \"2020-02-17T00:00:00\", \"Cases\": 22, \"New Cases\": 0.0, \"Average New Cases\": 1.0}, {\"Date\": \"2020-02-18T00:00:00\", \"Cases\": 22, \"New Cases\": 0.0, \"Average New Cases\": 1.0}, {\"Date\": \"2020-02-19T00:00:00\", \"Cases\": 22, \"New Cases\": 0.0, \"Average New Cases\": 1.0}, {\"Date\": \"2020-02-20T00:00:00\", \"Cases\": 22, \"New Cases\": 0.0, \"Average New Cases\": 0.0}, {\"Date\": \"2020-02-21T00:00:00\", \"Cases\": 22, \"New Cases\": 0.0, \"Average New Cases\": 0.0}, {\"Date\": \"2020-02-22T00:00:00\", \"Cases\": 22, \"New Cases\": 0.0, \"Average New Cases\": 0.0}, {\"Date\": \"2020-02-23T00:00:00\", \"Cases\": 22, \"New Cases\": 0.0, \"Average New Cases\": 0.0}, {\"Date\": \"2020-02-24T00:00:00\", \"Cases\": 22, \"New Cases\": 0.0, \"Average New Cases\": 0.0}, {\"Date\": \"2020-02-25T00:00:00\", \"Cases\": 22, \"New Cases\": 0.0, \"Average New Cases\": 0.0}, {\"Date\": \"2020-02-26T00:00:00\", \"Cases\": 22, \"New Cases\": 0.0, \"Average New Cases\": 0.0}, {\"Date\": \"2020-02-27T00:00:00\", \"Cases\": 23, \"New Cases\": 1.0, \"Average New Cases\": 0.0}, {\"Date\": \"2020-02-28T00:00:00\", \"Cases\": 23, \"New Cases\": 0.0, \"Average New Cases\": 0.0}, {\"Date\": \"2020-02-29T00:00:00\", \"Cases\": 25, \"New Cases\": 2.0, \"Average New Cases\": 0.0}, {\"Date\": \"2020-03-01T00:00:00\", \"Cases\": 29, \"New Cases\": 4.0, \"Average New Cases\": 1.0}, {\"Date\": \"2020-03-02T00:00:00\", \"Cases\": 29, \"New Cases\": 0.0, \"Average New Cases\": 1.0}, {\"Date\": \"2020-03-03T00:00:00\", \"Cases\": 36, \"New Cases\": 7.0, \"Average New Cases\": 2.0}, {\"Date\": \"2020-03-04T00:00:00\", \"Cases\": 50, \"New Cases\": 14.0, \"Average New Cases\": 4.0}, {\"Date\": \"2020-03-05T00:00:00\", \"Cases\": 50, \"New Cases\": 0.0, \"Average New Cases\": 4.0}, {\"Date\": \"2020-03-06T00:00:00\", \"Cases\": 83, \"New Cases\": 33.0, \"Average New Cases\": 9.0}, {\"Date\": \"2020-03-07T00:00:00\", \"Cases\": 93, \"New Cases\": 10.0, \"Average New Cases\": 10.0}, {\"Date\": \"2020-03-08T00:00:00\", \"Cases\": 99, \"New Cases\": 6.0, \"Average New Cases\": 10.0}, {\"Date\": \"2020-03-09T00:00:00\", \"Cases\": 117, \"New Cases\": 18.0, \"Average New Cases\": 13.0}, {\"Date\": \"2020-03-10T00:00:00\", \"Cases\": 129, \"New Cases\": 12.0, \"Average New Cases\": 13.0}, {\"Date\": \"2020-03-11T00:00:00\", \"Cases\": 149, \"New Cases\": 20.0, \"Average New Cases\": 14.0}, {\"Date\": \"2020-03-12T00:00:00\", \"Cases\": 149, \"New Cases\": 0.0, \"Average New Cases\": 14.0}, {\"Date\": \"2020-03-13T00:00:00\", \"Cases\": 197, \"New Cases\": 48.0, \"Average New Cases\": 16.0}, {\"Date\": \"2020-03-14T00:00:00\", \"Cases\": 238, \"New Cases\": 41.0, \"Average New Cases\": 21.0}, {\"Date\": \"2020-03-15T00:00:00\", \"Cases\": 428, \"New Cases\": 190.0, \"Average New Cases\": 47.0}, {\"Date\": \"2020-03-16T00:00:00\", \"Cases\": 566, \"New Cases\": 138.0, \"Average New Cases\": 64.0}, {\"Date\": \"2020-03-17T00:00:00\", \"Cases\": 673, \"New Cases\": 107.0, \"Average New Cases\": 78.0}, {\"Date\": \"2020-03-18T00:00:00\", \"Cases\": 790, \"New Cases\": 117.0, \"Average New Cases\": 92.0}, {\"Date\": \"2020-03-19T00:00:00\", \"Cases\": 900, \"New Cases\": 110.0, \"Average New Cases\": 107.0}, {\"Date\": \"2020-03-20T00:00:00\", \"Cases\": 1030, \"New Cases\": 130.0, \"Average New Cases\": 119.0}, {\"Date\": \"2020-03-21T00:00:00\", \"Cases\": 1183, \"New Cases\": 153.0, \"Average New Cases\": 135.0}, {\"Date\": \"2020-03-22T00:00:00\", \"Cases\": 1306, \"New Cases\": 123.0, \"Average New Cases\": 125.0}, {\"Date\": \"2020-03-23T00:00:00\", \"Cases\": 1518, \"New Cases\": 212.0, \"Average New Cases\": 136.0}, {\"Date\": \"2020-03-24T00:00:00\", \"Cases\": 1624, \"New Cases\": 106.0, \"Average New Cases\": 136.0}, {\"Date\": \"2020-03-25T00:00:00\", \"Cases\": 1796, \"New Cases\": 172.0, \"Average New Cases\": 144.0}, {\"Date\": \"2020-03-26T00:00:00\", \"Cases\": 2031, \"New Cases\": 235.0, \"Average New Cases\": 162.0}, {\"Date\": \"2020-03-27T00:00:00\", \"Cases\": 2161, \"New Cases\": 130.0, \"Average New Cases\": 162.0}, {\"Date\": \"2020-03-28T00:00:00\", \"Cases\": 2320, \"New Cases\": 159.0, \"Average New Cases\": 162.0}, {\"Date\": \"2020-03-29T00:00:00\", \"Cases\": 2470, \"New Cases\": 150.0, \"Average New Cases\": 166.0}, {\"Date\": \"2020-03-30T00:00:00\", \"Cases\": 2626, \"New Cases\": 156.0, \"Average New Cases\": 158.0}, {\"Date\": \"2020-03-31T00:00:00\", \"Cases\": 2766, \"New Cases\": 140.0, \"Average New Cases\": 163.0}, {\"Date\": \"2020-04-01T00:00:00\", \"Cases\": 2908, \"New Cases\": 142.0, \"Average New Cases\": 159.0}, {\"Date\": \"2020-04-02T00:00:00\", \"Cases\": 3116, \"New Cases\": 208.0, \"Average New Cases\": 155.0}, {\"Date\": \"2020-04-03T00:00:00\", \"Cases\": 3333, \"New Cases\": 217.0, \"Average New Cases\": 167.0}, {\"Date\": \"2020-04-04T00:00:00\", \"Cases\": 3483, \"New Cases\": 150.0, \"Average New Cases\": 166.0}, {\"Date\": \"2020-04-05T00:00:00\", \"Cases\": 3662, \"New Cases\": 179.0, \"Average New Cases\": 170.0}, {\"Date\": \"2020-04-06T00:00:00\", \"Cases\": 3793, \"New Cases\": 131.0, \"Average New Cases\": 167.0}, {\"Date\": \"2020-04-07T00:00:00\", \"Cases\": 3963, \"New Cases\": 170.0, \"Average New Cases\": 171.0}, {\"Date\": \"2020-04-08T00:00:00\", \"Cases\": 4119, \"New Cases\": 156.0, \"Average New Cases\": 173.0}, {\"Date\": \"2020-04-09T00:00:00\", \"Cases\": 4228, \"New Cases\": 109.0, \"Average New Cases\": 159.0}, {\"Date\": \"2020-04-10T00:00:00\", \"Cases\": 4346, \"New Cases\": 118.0, \"Average New Cases\": 145.0}, {\"Date\": \"2020-04-11T00:00:00\", \"Cases\": 4530, \"New Cases\": 184.0, \"Average New Cases\": 150.0}, {\"Date\": \"2020-04-12T00:00:00\", \"Cases\": 4683, \"New Cases\": 153.0, \"Average New Cases\": 146.0}, {\"Date\": \"2020-04-13T00:00:00\", \"Cases\": 4817, \"New Cases\": 134.0, \"Average New Cases\": 146.0}, {\"Date\": \"2020-04-14T00:00:00\", \"Cases\": 4987, \"New Cases\": 170.0, \"Average New Cases\": 146.0}, {\"Date\": \"2020-04-15T00:00:00\", \"Cases\": 5072, \"New Cases\": 85.0, \"Average New Cases\": 136.0}, {\"Date\": \"2020-04-16T00:00:00\", \"Cases\": 5182, \"New Cases\": 110.0, \"Average New Cases\": 136.0}, {\"Date\": \"2020-04-17T00:00:00\", \"Cases\": 5251, \"New Cases\": 69.0, \"Average New Cases\": 129.0}, {\"Date\": \"2020-04-18T00:00:00\", \"Cases\": 5305, \"New Cases\": 54.0, \"Average New Cases\": 111.0}, {\"Date\": \"2020-04-19T00:00:00\", \"Cases\": 5389, \"New Cases\": 84.0, \"Average New Cases\": 101.0}, {\"Date\": \"2020-04-20T00:00:00\", \"Cases\": 5425, \"New Cases\": 36.0, \"Average New Cases\": 87.0}, {\"Date\": \"2020-04-21T00:00:00\", \"Cases\": 5482, \"New Cases\": 57.0, \"Average New Cases\": 71.0}, {\"Date\": \"2020-04-22T00:00:00\", \"Cases\": 5532, \"New Cases\": 50.0, \"Average New Cases\": 66.0}, {\"Date\": \"2020-04-23T00:00:00\", \"Cases\": 5603, \"New Cases\": 71.0, \"Average New Cases\": 60.0}, {\"Date\": \"2020-04-24T00:00:00\", \"Cases\": 5691, \"New Cases\": 88.0, \"Average New Cases\": 63.0}, {\"Date\": \"2020-04-25T00:00:00\", \"Cases\": 5742, \"New Cases\": 51.0, \"Average New Cases\": 62.0}, {\"Date\": \"2020-04-26T00:00:00\", \"Cases\": 5780, \"New Cases\": 38.0, \"Average New Cases\": 56.0}, {\"Date\": \"2020-04-27T00:00:00\", \"Cases\": 5820, \"New Cases\": 40.0, \"Average New Cases\": 56.0}, {\"Date\": \"2020-04-28T00:00:00\", \"Cases\": 5851, \"New Cases\": 31.0, \"Average New Cases\": 53.0}, {\"Date\": \"2020-04-29T00:00:00\", \"Cases\": 5945, \"New Cases\": 94.0, \"Average New Cases\": 59.0}, {\"Date\": \"2020-04-30T00:00:00\", \"Cases\": 6002, \"New Cases\": 57.0, \"Average New Cases\": 57.0}, {\"Date\": \"2020-05-01T00:00:00\", \"Cases\": 6071, \"New Cases\": 69.0, \"Average New Cases\": 54.0}, {\"Date\": \"2020-05-02T00:00:00\", \"Cases\": 6176, \"New Cases\": 105.0, \"Average New Cases\": 62.0}, {\"Date\": \"2020-05-03T00:00:00\", \"Cases\": 6298, \"New Cases\": 122.0, \"Average New Cases\": 74.0}, {\"Date\": \"2020-05-04T00:00:00\", \"Cases\": 6353, \"New Cases\": 55.0, \"Average New Cases\": 76.0}], \"data-3fbbf3961b53c47f5709f853b4d30d25\": [{\"Date\": \"2020-03-18\", \"Cases\": 0.0}, {\"Date\": \"2020-03-18\", \"Cases\": 240.0}], \"data-a2056437df25e99a1f157632cfb8e1bd\": [{\"Date\": \"2020-04-01\", \"Cases\": 0.0}, {\"Date\": \"2020-04-01\", \"Cases\": 240.0}], \"data-de8a0ae39a6b8cca89c00a555a968ea4\": [{\"Date\": \"2020-04-15\", \"Cases\": 0.0}, {\"Date\": \"2020-04-15\", \"Cases\": 240.0}], \"data-f9180adebaece09ab5dfb1985e626fc8\": [{\"Date\": \"2020-04-29\", \"Cases\": 0.0}, {\"Date\": \"2020-04-29\", \"Cases\": 240.0}]}}, {\"mode\": \"vega-lite\"});\n",
              "</script>"
            ]
          },
          "metadata": {
            "tags": []
          },
          "execution_count": 56
        }
      ]
    },
    {
      "cell_type": "code",
      "metadata": {
        "id": "Iyyk_-UwfFCw",
        "colab_type": "code",
        "outputId": "34d4940c-19cd-4e87-8825-954c522d3e33",
        "cellView": "both",
        "colab": {
          "base_uri": "https://localhost:8080/",
          "height": 382
        }
      },
      "source": [
        "#hide_input\n",
        "#@title Plot remaining active cases\n",
        "rolling_window = 7\n",
        "_data = my_cases['active'].copy()\n",
        "_data['Average Cases'] = round(_data['Cases'].rolling(window=rolling_window).mean(),0)\n",
        "_plot_bar = alt.Chart(_data).mark_bar().encode(\n",
        "    x='Date:T',\n",
        "    y='Cases:Q',\n",
        "    tooltip = list(_data)\n",
        ")\n",
        "\n",
        "_plot_line = alt.Chart(_data).mark_line(color = 'red').encode(\n",
        "    x='Date:T',\n",
        "    y='Average Cases:Q',\n",
        "    tooltip = list(_data)\n",
        ")\n",
        "\n",
        "(_plot_bar + _plot_line + _plot_mco_date(round(_plot_bar.data['Cases'].max() / 100, 1) * 100)).properties(\n",
        "    title = f'Daily Active Cases (with {rolling_window} days average) in Malaysia',\n",
        "    width = 600\n",
        ")"
      ],
      "execution_count": 57,
      "outputs": [
        {
          "output_type": "execute_result",
          "data": {
            "text/plain": [
              "alt.LayerChart(...)"
            ],
            "text/html": [
              "\n",
              "<div id=\"altair-viz-1c6409cef1e24fcca158d0b8cb5d4e86\"></div>\n",
              "<script type=\"text/javascript\">\n",
              "  (function(spec, embedOpt){\n",
              "    let outputDiv = document.currentScript.previousElementSibling;\n",
              "    if (outputDiv.id !== \"altair-viz-1c6409cef1e24fcca158d0b8cb5d4e86\") {\n",
              "      outputDiv = document.getElementById(\"altair-viz-1c6409cef1e24fcca158d0b8cb5d4e86\");\n",
              "    }\n",
              "    const paths = {\n",
              "      \"vega\": \"https://cdn.jsdelivr.net/npm//vega@5?noext\",\n",
              "      \"vega-lib\": \"https://cdn.jsdelivr.net/npm//vega-lib?noext\",\n",
              "      \"vega-lite\": \"https://cdn.jsdelivr.net/npm//vega-lite@4.8.1?noext\",\n",
              "      \"vega-embed\": \"https://cdn.jsdelivr.net/npm//vega-embed@6?noext\",\n",
              "    };\n",
              "\n",
              "    function loadScript(lib) {\n",
              "      return new Promise(function(resolve, reject) {\n",
              "        var s = document.createElement('script');\n",
              "        s.src = paths[lib];\n",
              "        s.async = true;\n",
              "        s.onload = () => resolve(paths[lib]);\n",
              "        s.onerror = () => reject(`Error loading script: ${paths[lib]}`);\n",
              "        document.getElementsByTagName(\"head\")[0].appendChild(s);\n",
              "      });\n",
              "    }\n",
              "\n",
              "    function showError(err) {\n",
              "      outputDiv.innerHTML = `<div class=\"error\" style=\"color:red;\">${err}</div>`;\n",
              "      throw err;\n",
              "    }\n",
              "\n",
              "    function displayChart(vegaEmbed) {\n",
              "      vegaEmbed(outputDiv, spec, embedOpt)\n",
              "        .catch(err => showError(`Javascript Error: ${err.message}<br>This usually means there's a typo in your chart specification. See the javascript console for the full traceback.`));\n",
              "    }\n",
              "\n",
              "    if(typeof define === \"function\" && define.amd) {\n",
              "      requirejs.config({paths});\n",
              "      require([\"vega-embed\"], displayChart, err => showError(`Error loading script: ${err.message}`));\n",
              "    } else if (typeof vegaEmbed === \"function\") {\n",
              "      displayChart(vegaEmbed);\n",
              "    } else {\n",
              "      loadScript(\"vega\")\n",
              "        .then(() => loadScript(\"vega-lite\"))\n",
              "        .then(() => loadScript(\"vega-embed\"))\n",
              "        .catch(showError)\n",
              "        .then(() => displayChart(vegaEmbed));\n",
              "    }\n",
              "  })({\"config\": {\"view\": {\"continuousWidth\": 400, \"continuousHeight\": 300}}, \"layer\": [{\"mark\": \"bar\", \"encoding\": {\"tooltip\": [{\"type\": \"temporal\", \"field\": \"Date\"}, {\"type\": \"quantitative\", \"field\": \"Cases\"}, {\"type\": \"quantitative\", \"field\": \"Average Cases\"}], \"x\": {\"type\": \"temporal\", \"field\": \"Date\"}, \"y\": {\"type\": \"quantitative\", \"field\": \"Cases\"}}}, {\"mark\": {\"type\": \"line\", \"color\": \"red\"}, \"encoding\": {\"tooltip\": [{\"type\": \"temporal\", \"field\": \"Date\"}, {\"type\": \"quantitative\", \"field\": \"Cases\"}, {\"type\": \"quantitative\", \"field\": \"Average Cases\"}], \"x\": {\"type\": \"temporal\", \"field\": \"Date\"}, \"y\": {\"type\": \"quantitative\", \"field\": \"Average Cases\"}}}, {\"layer\": [{\"mark\": {\"type\": \"line\", \"color\": \"black\", \"opacity\": 0.5, \"strokeDash\": [3, 3]}, \"encoding\": {\"x\": {\"type\": \"temporal\", \"field\": \"Date\"}, \"y\": {\"type\": \"quantitative\", \"field\": \"Cases\"}}}, {\"mark\": {\"type\": \"text\", \"angle\": 270, \"dx\": -20, \"dy\": -10, \"text\": \"MCO1\"}, \"encoding\": {\"x\": {\"type\": \"temporal\", \"field\": \"Date\"}, \"y\": {\"type\": \"quantitative\", \"field\": \"Cases\"}}, \"transform\": [{\"filter\": \"(datum['Cases'] > 0)\"}]}, {\"layer\": [{\"mark\": {\"type\": \"line\", \"color\": \"black\", \"opacity\": 0.5, \"strokeDash\": [3, 3]}, \"encoding\": {\"x\": {\"type\": \"temporal\", \"field\": \"Date\"}, \"y\": {\"type\": \"quantitative\", \"field\": \"Cases\"}}}, {\"mark\": {\"type\": \"text\", \"angle\": 270, \"dx\": -20, \"dy\": -10, \"text\": \"MCO2\"}, \"encoding\": {\"x\": {\"type\": \"temporal\", \"field\": \"Date\"}, \"y\": {\"type\": \"quantitative\", \"field\": \"Cases\"}}, \"transform\": [{\"filter\": \"(datum['Cases'] > 0)\"}]}], \"data\": {\"name\": \"data-3a075f72741d2e3bdc55c02e72de2f61\"}}, {\"layer\": [{\"mark\": {\"type\": \"line\", \"color\": \"black\", \"opacity\": 0.5, \"strokeDash\": [3, 3]}, \"encoding\": {\"x\": {\"type\": \"temporal\", \"field\": \"Date\"}, \"y\": {\"type\": \"quantitative\", \"field\": \"Cases\"}}}, {\"mark\": {\"type\": \"text\", \"angle\": 270, \"dx\": -20, \"dy\": -10, \"text\": \"MCO3\"}, \"encoding\": {\"x\": {\"type\": \"temporal\", \"field\": \"Date\"}, \"y\": {\"type\": \"quantitative\", \"field\": \"Cases\"}}, \"transform\": [{\"filter\": \"(datum['Cases'] > 0)\"}]}], \"data\": {\"name\": \"data-fee2f3445b4c24838a4c897ff1d838b7\"}}, {\"layer\": [{\"mark\": {\"type\": \"line\", \"color\": \"black\", \"opacity\": 0.5, \"strokeDash\": [3, 3]}, \"encoding\": {\"x\": {\"type\": \"temporal\", \"field\": \"Date\"}, \"y\": {\"type\": \"quantitative\", \"field\": \"Cases\"}}}, {\"mark\": {\"type\": \"text\", \"angle\": 270, \"dx\": -20, \"dy\": -10, \"text\": \"MCO4\"}, \"encoding\": {\"x\": {\"type\": \"temporal\", \"field\": \"Date\"}, \"y\": {\"type\": \"quantitative\", \"field\": \"Cases\"}}, \"transform\": [{\"filter\": \"(datum['Cases'] > 0)\"}]}], \"data\": {\"name\": \"data-d8a0e58d6d6cfb89815b4b3460d71747\"}}], \"data\": {\"name\": \"data-1dfca912951a44ecff547335531f3c60\"}}], \"data\": {\"name\": \"data-8dae92733f1c93d645e7d8f47325dc91\"}, \"title\": \"Daily Active Cases (with 7 days average) in Malaysia\", \"width\": 600, \"$schema\": \"https://vega.github.io/schema/vega-lite/v4.8.1.json\", \"datasets\": {\"data-8dae92733f1c93d645e7d8f47325dc91\": [{\"Date\": \"2020-01-22T00:00:00\", \"Cases\": 0, \"Average Cases\": null}, {\"Date\": \"2020-01-23T00:00:00\", \"Cases\": 0, \"Average Cases\": null}, {\"Date\": \"2020-01-24T00:00:00\", \"Cases\": 0, \"Average Cases\": null}, {\"Date\": \"2020-01-25T00:00:00\", \"Cases\": 3, \"Average Cases\": null}, {\"Date\": \"2020-01-26T00:00:00\", \"Cases\": 4, \"Average Cases\": null}, {\"Date\": \"2020-01-27T00:00:00\", \"Cases\": 4, \"Average Cases\": null}, {\"Date\": \"2020-01-28T00:00:00\", \"Cases\": 4, \"Average Cases\": 2.0}, {\"Date\": \"2020-01-29T00:00:00\", \"Cases\": 7, \"Average Cases\": 3.0}, {\"Date\": \"2020-01-30T00:00:00\", \"Cases\": 8, \"Average Cases\": 4.0}, {\"Date\": \"2020-01-31T00:00:00\", \"Cases\": 8, \"Average Cases\": 5.0}, {\"Date\": \"2020-02-01T00:00:00\", \"Cases\": 8, \"Average Cases\": 6.0}, {\"Date\": \"2020-02-02T00:00:00\", \"Cases\": 8, \"Average Cases\": 7.0}, {\"Date\": \"2020-02-03T00:00:00\", \"Cases\": 8, \"Average Cases\": 7.0}, {\"Date\": \"2020-02-04T00:00:00\", \"Cases\": 10, \"Average Cases\": 8.0}, {\"Date\": \"2020-02-05T00:00:00\", \"Cases\": 12, \"Average Cases\": 9.0}, {\"Date\": \"2020-02-06T00:00:00\", \"Cases\": 12, \"Average Cases\": 9.0}, {\"Date\": \"2020-02-07T00:00:00\", \"Cases\": 11, \"Average Cases\": 10.0}, {\"Date\": \"2020-02-08T00:00:00\", \"Cases\": 15, \"Average Cases\": 11.0}, {\"Date\": \"2020-02-09T00:00:00\", \"Cases\": 15, \"Average Cases\": 12.0}, {\"Date\": \"2020-02-10T00:00:00\", \"Cases\": 17, \"Average Cases\": 13.0}, {\"Date\": \"2020-02-11T00:00:00\", \"Cases\": 15, \"Average Cases\": 14.0}, {\"Date\": \"2020-02-12T00:00:00\", \"Cases\": 15, \"Average Cases\": 14.0}, {\"Date\": \"2020-02-13T00:00:00\", \"Cases\": 16, \"Average Cases\": 15.0}, {\"Date\": \"2020-02-14T00:00:00\", \"Cases\": 16, \"Average Cases\": 16.0}, {\"Date\": \"2020-02-15T00:00:00\", \"Cases\": 15, \"Average Cases\": 16.0}, {\"Date\": \"2020-02-16T00:00:00\", \"Cases\": 15, \"Average Cases\": 16.0}, {\"Date\": \"2020-02-17T00:00:00\", \"Cases\": 15, \"Average Cases\": 15.0}, {\"Date\": \"2020-02-18T00:00:00\", \"Cases\": 9, \"Average Cases\": 14.0}, {\"Date\": \"2020-02-19T00:00:00\", \"Cases\": 7, \"Average Cases\": 13.0}, {\"Date\": \"2020-02-20T00:00:00\", \"Cases\": 7, \"Average Cases\": 12.0}, {\"Date\": \"2020-02-21T00:00:00\", \"Cases\": 7, \"Average Cases\": 11.0}, {\"Date\": \"2020-02-22T00:00:00\", \"Cases\": 7, \"Average Cases\": 10.0}, {\"Date\": \"2020-02-23T00:00:00\", \"Cases\": 7, \"Average Cases\": 8.0}, {\"Date\": \"2020-02-24T00:00:00\", \"Cases\": 4, \"Average Cases\": 7.0}, {\"Date\": \"2020-02-25T00:00:00\", \"Cases\": 4, \"Average Cases\": 6.0}, {\"Date\": \"2020-02-26T00:00:00\", \"Cases\": 4, \"Average Cases\": 6.0}, {\"Date\": \"2020-02-27T00:00:00\", \"Cases\": 5, \"Average Cases\": 5.0}, {\"Date\": \"2020-02-28T00:00:00\", \"Cases\": 5, \"Average Cases\": 5.0}, {\"Date\": \"2020-02-29T00:00:00\", \"Cases\": 7, \"Average Cases\": 5.0}, {\"Date\": \"2020-03-01T00:00:00\", \"Cases\": 11, \"Average Cases\": 6.0}, {\"Date\": \"2020-03-02T00:00:00\", \"Cases\": 11, \"Average Cases\": 7.0}, {\"Date\": \"2020-03-03T00:00:00\", \"Cases\": 14, \"Average Cases\": 8.0}, {\"Date\": \"2020-03-04T00:00:00\", \"Cases\": 28, \"Average Cases\": 12.0}, {\"Date\": \"2020-03-05T00:00:00\", \"Cases\": 28, \"Average Cases\": 15.0}, {\"Date\": \"2020-03-06T00:00:00\", \"Cases\": 61, \"Average Cases\": 23.0}, {\"Date\": \"2020-03-07T00:00:00\", \"Cases\": 70, \"Average Cases\": 32.0}, {\"Date\": \"2020-03-08T00:00:00\", \"Cases\": 75, \"Average Cases\": 41.0}, {\"Date\": \"2020-03-09T00:00:00\", \"Cases\": 93, \"Average Cases\": 53.0}, {\"Date\": \"2020-03-10T00:00:00\", \"Cases\": 105, \"Average Cases\": 66.0}, {\"Date\": \"2020-03-11T00:00:00\", \"Cases\": 123, \"Average Cases\": 79.0}, {\"Date\": \"2020-03-12T00:00:00\", \"Cases\": 123, \"Average Cases\": 93.0}, {\"Date\": \"2020-03-13T00:00:00\", \"Cases\": 171, \"Average Cases\": 109.0}, {\"Date\": \"2020-03-14T00:00:00\", \"Cases\": 203, \"Average Cases\": 128.0}, {\"Date\": \"2020-03-15T00:00:00\", \"Cases\": 386, \"Average Cases\": 172.0}, {\"Date\": \"2020-03-16T00:00:00\", \"Cases\": 524, \"Average Cases\": 234.0}, {\"Date\": \"2020-03-17T00:00:00\", \"Cases\": 622, \"Average Cases\": 307.0}, {\"Date\": \"2020-03-18T00:00:00\", \"Cases\": 728, \"Average Cases\": 394.0}, {\"Date\": \"2020-03-19T00:00:00\", \"Cases\": 823, \"Average Cases\": 494.0}, {\"Date\": \"2020-03-20T00:00:00\", \"Cases\": 940, \"Average Cases\": 604.0}, {\"Date\": \"2020-03-21T00:00:00\", \"Cases\": 1065, \"Average Cases\": 727.0}, {\"Date\": \"2020-03-22T00:00:00\", \"Cases\": 1157, \"Average Cases\": 837.0}, {\"Date\": \"2020-03-23T00:00:00\", \"Cases\": 1365, \"Average Cases\": 957.0}, {\"Date\": \"2020-03-24T00:00:00\", \"Cases\": 1425, \"Average Cases\": 1072.0}, {\"Date\": \"2020-03-25T00:00:00\", \"Cases\": 1577, \"Average Cases\": 1193.0}, {\"Date\": \"2020-03-26T00:00:00\", \"Cases\": 1793, \"Average Cases\": 1332.0}, {\"Date\": \"2020-03-27T00:00:00\", \"Cases\": 1876, \"Average Cases\": 1465.0}, {\"Date\": \"2020-03-28T00:00:00\", \"Cases\": 1973, \"Average Cases\": 1595.0}, {\"Date\": \"2020-03-29T00:00:00\", \"Cases\": 2047, \"Average Cases\": 1722.0}, {\"Date\": \"2020-03-30T00:00:00\", \"Cases\": 2110, \"Average Cases\": 1829.0}, {\"Date\": \"2020-03-31T00:00:00\", \"Cases\": 2186, \"Average Cases\": 1937.0}, {\"Date\": \"2020-04-01T00:00:00\", \"Cases\": 2218, \"Average Cases\": 2029.0}, {\"Date\": \"2020-04-02T00:00:00\", \"Cases\": 2299, \"Average Cases\": 2101.0}, {\"Date\": \"2020-04-03T00:00:00\", \"Cases\": 2453, \"Average Cases\": 2184.0}, {\"Date\": \"2020-04-04T00:00:00\", \"Cases\": 2511, \"Average Cases\": 2261.0}, {\"Date\": \"2020-04-05T00:00:00\", \"Cases\": 2596, \"Average Cases\": 2339.0}, {\"Date\": \"2020-04-06T00:00:00\", \"Cases\": 2490, \"Average Cases\": 2393.0}, {\"Date\": \"2020-04-07T00:00:00\", \"Cases\": 2579, \"Average Cases\": 2449.0}, {\"Date\": \"2020-04-08T00:00:00\", \"Cases\": 2567, \"Average Cases\": 2499.0}, {\"Date\": \"2020-04-09T00:00:00\", \"Cases\": 2553, \"Average Cases\": 2536.0}, {\"Date\": \"2020-04-10T00:00:00\", \"Cases\": 2446, \"Average Cases\": 2535.0}, {\"Date\": \"2020-04-11T00:00:00\", \"Cases\": 2462, \"Average Cases\": 2528.0}, {\"Date\": \"2020-04-12T00:00:00\", \"Cases\": 2499, \"Average Cases\": 2514.0}, {\"Date\": \"2020-04-13T00:00:00\", \"Cases\": 2464, \"Average Cases\": 2510.0}, {\"Date\": \"2020-04-14T00:00:00\", \"Cases\": 2427, \"Average Cases\": 2488.0}, {\"Date\": \"2020-04-15T00:00:00\", \"Cases\": 2342, \"Average Cases\": 2456.0}, {\"Date\": \"2020-04-16T00:00:00\", \"Cases\": 2332, \"Average Cases\": 2425.0}, {\"Date\": \"2020-04-17T00:00:00\", \"Cases\": 2198, \"Average Cases\": 2389.0}, {\"Date\": \"2020-04-18T00:00:00\", \"Cases\": 2115, \"Average Cases\": 2340.0}, {\"Date\": \"2020-04-19T00:00:00\", \"Cases\": 2103, \"Average Cases\": 2283.0}, {\"Date\": \"2020-04-20T00:00:00\", \"Cases\": 2041, \"Average Cases\": 2223.0}, {\"Date\": \"2020-04-21T00:00:00\", \"Cases\": 2041, \"Average Cases\": 2167.0}, {\"Date\": \"2020-04-22T00:00:00\", \"Cases\": 1987, \"Average Cases\": 2117.0}, {\"Date\": \"2020-04-23T00:00:00\", \"Cases\": 1966, \"Average Cases\": 2064.0}, {\"Date\": \"2020-04-24T00:00:00\", \"Cases\": 1932, \"Average Cases\": 2026.0}, {\"Date\": \"2020-04-25T00:00:00\", \"Cases\": 1882, \"Average Cases\": 1993.0}, {\"Date\": \"2020-04-26T00:00:00\", \"Cases\": 1820, \"Average Cases\": 1953.0}, {\"Date\": \"2020-04-27T00:00:00\", \"Cases\": 1764, \"Average Cases\": 1913.0}, {\"Date\": \"2020-04-28T00:00:00\", \"Cases\": 1719, \"Average Cases\": 1867.0}, {\"Date\": \"2020-04-29T00:00:00\", \"Cases\": 1758, \"Average Cases\": 1834.0}, {\"Date\": \"2020-04-30T00:00:00\", \"Cases\": 1729, \"Average Cases\": 1801.0}, {\"Date\": \"2020-05-01T00:00:00\", \"Cases\": 1758, \"Average Cases\": 1776.0}, {\"Date\": \"2020-05-02T00:00:00\", \"Cases\": 1747, \"Average Cases\": 1756.0}, {\"Date\": \"2020-05-03T00:00:00\", \"Cases\": 1780, \"Average Cases\": 1751.0}, {\"Date\": \"2020-05-04T00:00:00\", \"Cases\": 1764, \"Average Cases\": 1751.0}], \"data-1dfca912951a44ecff547335531f3c60\": [{\"Date\": \"2020-03-18\", \"Cases\": 0.0}, {\"Date\": \"2020-03-18\", \"Cases\": 2600.0}], \"data-3a075f72741d2e3bdc55c02e72de2f61\": [{\"Date\": \"2020-04-01\", \"Cases\": 0.0}, {\"Date\": \"2020-04-01\", \"Cases\": 2600.0}], \"data-fee2f3445b4c24838a4c897ff1d838b7\": [{\"Date\": \"2020-04-15\", \"Cases\": 0.0}, {\"Date\": \"2020-04-15\", \"Cases\": 2600.0}], \"data-d8a0e58d6d6cfb89815b4b3460d71747\": [{\"Date\": \"2020-04-29\", \"Cases\": 0.0}, {\"Date\": \"2020-04-29\", \"Cases\": 2600.0}]}}, {\"mode\": \"vega-lite\"});\n",
              "</script>"
            ]
          },
          "metadata": {
            "tags": []
          },
          "execution_count": 57
        }
      ]
    },
    {
      "cell_type": "code",
      "metadata": {
        "id": "InfnicbxB5KO",
        "colab_type": "code",
        "outputId": "989642ab-2749-4844-dff3-ad946701a9c5",
        "colab": {
          "base_uri": "https://localhost:8080/",
          "height": 510
        }
      },
      "source": [
        "#hide\n",
        "df_states = pd.read_csv(\"https://docs.google.com/spreadsheets/d/e/2PACX-1vTzT9vUJNiKV2yN4sb_VvxKcq-B2triWGPE74rfUT4XOsF-5qsB1tM6OfMPVKiRHX95tE9tPubdTbxY/pub?gid=1726267961&single=true&output=csv\", parse_dates=['Date'])\n",
        "df_states.set_index('Date').sum(axis=1)"
      ],
      "execution_count": 58,
      "outputs": [
        {
          "output_type": "execute_result",
          "data": {
            "text/plain": [
              "Date\n",
              "3/27    130\n",
              "3/28    159\n",
              "3/29    150\n",
              "3/30    156\n",
              "3/31    140\n",
              "4/1     142\n",
              "4/2     208\n",
              "4/3     217\n",
              "4/4     150\n",
              "4/5     179\n",
              "4/6     131\n",
              "4/7     170\n",
              "4/8     156\n",
              "4/9     109\n",
              "4/10    118\n",
              "4/11    184\n",
              "4/12    153\n",
              "4/13    134\n",
              "4/14    170\n",
              "4/15     85\n",
              "4/16    110\n",
              "4/17     69\n",
              "4/18     54\n",
              "4/19     84\n",
              "4/20     36\n",
              "4/21     57\n",
              "4/22     50\n",
              "dtype: int64"
            ]
          },
          "metadata": {
            "tags": []
          },
          "execution_count": 58
        }
      ]
    },
    {
      "cell_type": "code",
      "metadata": {
        "id": "C-BskulAGr_K",
        "colab_type": "code",
        "outputId": "3cb5b8c5-3d57-4c40-b826-725f61c4cfd0",
        "colab": {
          "base_uri": "https://localhost:8080/",
          "height": 359
        }
      },
      "source": [
        "#hide\n",
        "df_districts = pd.read_csv(\"https://docs.google.com/spreadsheets/d/e/2PACX-1vTzT9vUJNiKV2yN4sb_VvxKcq-B2triWGPE74rfUT4XOsF-5qsB1tM6OfMPVKiRHX95tE9tPubdTbxY/pub?gid=1667946793&single=true&output=csv\")\n",
        "col_latest = df_districts.columns.values[-1]\n",
        "\n",
        "df_districts[['Districts', 'State', col_latest]].sort_values(col_latest, ascending=False).reset_index(drop=True).head(10)"
      ],
      "execution_count": 59,
      "outputs": [
        {
          "output_type": "execute_result",
          "data": {
            "text/html": [
              "<div>\n",
              "<style scoped>\n",
              "    .dataframe tbody tr th:only-of-type {\n",
              "        vertical-align: middle;\n",
              "    }\n",
              "\n",
              "    .dataframe tbody tr th {\n",
              "        vertical-align: top;\n",
              "    }\n",
              "\n",
              "    .dataframe thead th {\n",
              "        text-align: right;\n",
              "    }\n",
              "</style>\n",
              "<table border=\"1\" class=\"dataframe\">\n",
              "  <thead>\n",
              "    <tr style=\"text-align: right;\">\n",
              "      <th></th>\n",
              "      <th>Districts</th>\n",
              "      <th>State</th>\n",
              "      <th>4/20</th>\n",
              "    </tr>\n",
              "  </thead>\n",
              "  <tbody>\n",
              "    <tr>\n",
              "      <th>0</th>\n",
              "      <td>Lembah Pantai</td>\n",
              "      <td>KUL</td>\n",
              "      <td>629</td>\n",
              "    </tr>\n",
              "    <tr>\n",
              "      <th>1</th>\n",
              "      <td>Hulu Langat</td>\n",
              "      <td>SGR</td>\n",
              "      <td>446</td>\n",
              "    </tr>\n",
              "    <tr>\n",
              "      <th>2</th>\n",
              "      <td>Petaling</td>\n",
              "      <td>SGR</td>\n",
              "      <td>374</td>\n",
              "    </tr>\n",
              "    <tr>\n",
              "      <th>3</th>\n",
              "      <td>Seremban</td>\n",
              "      <td>NSN</td>\n",
              "      <td>307</td>\n",
              "    </tr>\n",
              "    <tr>\n",
              "      <th>4</th>\n",
              "      <td>Kuching</td>\n",
              "      <td>SRW</td>\n",
              "      <td>264</td>\n",
              "    </tr>\n",
              "    <tr>\n",
              "      <th>5</th>\n",
              "      <td>Kluang</td>\n",
              "      <td>JHR</td>\n",
              "      <td>222</td>\n",
              "    </tr>\n",
              "    <tr>\n",
              "      <th>6</th>\n",
              "      <td>Johor Bahru</td>\n",
              "      <td>JHR</td>\n",
              "      <td>193</td>\n",
              "    </tr>\n",
              "    <tr>\n",
              "      <th>7</th>\n",
              "      <td>Klang</td>\n",
              "      <td>SGR</td>\n",
              "      <td>173</td>\n",
              "    </tr>\n",
              "    <tr>\n",
              "      <th>8</th>\n",
              "      <td>Kepong</td>\n",
              "      <td>KUL</td>\n",
              "      <td>159</td>\n",
              "    </tr>\n",
              "    <tr>\n",
              "      <th>9</th>\n",
              "      <td>Gombak</td>\n",
              "      <td>SGR</td>\n",
              "      <td>144</td>\n",
              "    </tr>\n",
              "  </tbody>\n",
              "</table>\n",
              "</div>"
            ],
            "text/plain": [
              "       Districts State  4/20\n",
              "0  Lembah Pantai   KUL   629\n",
              "1    Hulu Langat   SGR   446\n",
              "2       Petaling   SGR   374\n",
              "3       Seremban   NSN   307\n",
              "4        Kuching   SRW   264\n",
              "5         Kluang   JHR   222\n",
              "6    Johor Bahru   JHR   193\n",
              "7          Klang   SGR   173\n",
              "8         Kepong   KUL   159\n",
              "9         Gombak   SGR   144"
            ]
          },
          "metadata": {
            "tags": []
          },
          "execution_count": 59
        }
      ]
    },
    {
      "cell_type": "code",
      "metadata": {
        "id": "kuUFoXd7Zis-",
        "colab_type": "code",
        "outputId": "e804846d-7443-4c15-c58c-8b431a385995",
        "colab": {
          "base_uri": "https://localhost:8080/",
          "height": 390
        }
      },
      "source": [
        "#hide\n",
        "df_districts_last2 = df_districts.set_index(['Districts', 'State']).transpose().tail(2)\n",
        "df_districts_new = df_districts_last2.diff().tail(1).transpose()\n",
        "df_districts_new = df_districts_new.sort_values(by=df_districts_new.columns[0], ascending=False).head(10)\n",
        "df_districts_new[df_districts_new[df_districts_new.columns[0]] > 0]"
      ],
      "execution_count": 60,
      "outputs": [
        {
          "output_type": "execute_result",
          "data": {
            "text/html": [
              "<div>\n",
              "<style scoped>\n",
              "    .dataframe tbody tr th:only-of-type {\n",
              "        vertical-align: middle;\n",
              "    }\n",
              "\n",
              "    .dataframe tbody tr th {\n",
              "        vertical-align: top;\n",
              "    }\n",
              "\n",
              "    .dataframe thead th {\n",
              "        text-align: right;\n",
              "    }\n",
              "</style>\n",
              "<table border=\"1\" class=\"dataframe\">\n",
              "  <thead>\n",
              "    <tr style=\"text-align: right;\">\n",
              "      <th></th>\n",
              "      <th></th>\n",
              "      <th>4/20</th>\n",
              "    </tr>\n",
              "    <tr>\n",
              "      <th>Districts</th>\n",
              "      <th>State</th>\n",
              "      <th></th>\n",
              "    </tr>\n",
              "  </thead>\n",
              "  <tbody>\n",
              "    <tr>\n",
              "      <th>Putrajaya</th>\n",
              "      <th>PJY</th>\n",
              "      <td>13.0</td>\n",
              "    </tr>\n",
              "    <tr>\n",
              "      <th>Kuching</th>\n",
              "      <th>SRW</th>\n",
              "      <td>4.0</td>\n",
              "    </tr>\n",
              "    <tr>\n",
              "      <th>Seremban</th>\n",
              "      <th>NSN</th>\n",
              "      <td>3.0</td>\n",
              "    </tr>\n",
              "    <tr>\n",
              "      <th>Kuala Langat</th>\n",
              "      <th>SGR</th>\n",
              "      <td>2.0</td>\n",
              "    </tr>\n",
              "    <tr>\n",
              "      <th>Bintulu</th>\n",
              "      <th>SRW</th>\n",
              "      <td>2.0</td>\n",
              "    </tr>\n",
              "    <tr>\n",
              "      <th>Kepong</th>\n",
              "      <th>KUL</th>\n",
              "      <td>2.0</td>\n",
              "    </tr>\n",
              "    <tr>\n",
              "      <th>Kuantan</th>\n",
              "      <th>PHG</th>\n",
              "      <td>2.0</td>\n",
              "    </tr>\n",
              "    <tr>\n",
              "      <th>Johor Bahru</th>\n",
              "      <th>JHR</th>\n",
              "      <td>1.0</td>\n",
              "    </tr>\n",
              "    <tr>\n",
              "      <th>Melaka Tengah</th>\n",
              "      <th>MLK</th>\n",
              "      <td>1.0</td>\n",
              "    </tr>\n",
              "    <tr>\n",
              "      <th>Jasin</th>\n",
              "      <th>MLK</th>\n",
              "      <td>1.0</td>\n",
              "    </tr>\n",
              "  </tbody>\n",
              "</table>\n",
              "</div>"
            ],
            "text/plain": [
              "                     4/20\n",
              "Districts     State      \n",
              "Putrajaya     PJY    13.0\n",
              "Kuching       SRW     4.0\n",
              "Seremban      NSN     3.0\n",
              "Kuala Langat  SGR     2.0\n",
              "Bintulu       SRW     2.0\n",
              "Kepong        KUL     2.0\n",
              "Kuantan       PHG     2.0\n",
              "Johor Bahru   JHR     1.0\n",
              "Melaka Tengah MLK     1.0\n",
              "Jasin         MLK     1.0"
            ]
          },
          "metadata": {
            "tags": []
          },
          "execution_count": 60
        }
      ]
    }
  ]
}