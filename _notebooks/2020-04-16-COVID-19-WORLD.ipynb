{
  "nbformat": 4,
  "nbformat_minor": 0,
  "metadata": {
    "colab": {
      "name": "2020-04-16-COVID-19-WORLD",
      "provenance": [],
      "authorship_tag": "ABX9TyMMWOhBP9phHCd17PiWs1I/"
    },
    "kernelspec": {
      "name": "python3",
      "display_name": "Python 3"
    }
  },
  "cells": [
    {
      "cell_type": "markdown",
      "metadata": {
        "id": "N-itaTOAANXW",
        "colab_type": "text"
      },
      "source": [
        "# Coronavirus Latest\n",
        "> Updates on the respiratory illness that has infected more than one million people and killed tens of thousands.\n",
        "\n",
        "- toc:false\n",
        "- branch: master\n",
        "- badges: false\n",
        "- hide_colab_badge: true\n",
        "- comments: false\n",
        "- permalink:/covid-overview/\n"
      ]
    },
    {
      "cell_type": "code",
      "metadata": {
        "id": "Qr8vncx8AFdx",
        "colab_type": "code",
        "colab": {},
        "cellView": "both"
      },
      "source": [
        "#hide\n",
        "import pandas as pd\n",
        "import numpy as np\n",
        "import altair as alt\n",
        "from IPython.display import HTML\n",
        "\n",
        "base_url = 'https://raw.githubusercontent.com/CSSEGISandData/COVID-19/master/csse_covid_19_data'\n",
        "\n",
        "# confirmed, deaths, recovered\n",
        "def get_time_series(type):\n",
        "  _url = f'{base_url}/csse_covid_19_time_series/time_series_covid19_{type}_global.csv'\n",
        "  _dff = pd.read_csv(_url)\n",
        "  _cols = _dff.columns[~_dff.columns.isin(['Province/State', 'Country/Region', 'Lat', 'Long'])]\n",
        "  _dff = (_dff.groupby('Country/Region')[_cols].sum().stack().reset_index(name = 'Cases')\n",
        "        .rename(columns = {'level_1': 'Date', 'Country/Region': 'Country'}))\n",
        "  _dff['Date'] = pd.to_datetime(_dff['Date'], format='%m/%d/%y')\n",
        "  return _dff\n",
        "\n",
        "df_confirmed = get_time_series('confirmed')\n",
        "df_recovered = get_time_series('recovered')\n",
        "df_deaths = get_time_series('deaths')\n",
        "date_latest = df_confirmed['Date'].max()\n",
        "\n",
        "df_last = lambda name, _df, n: _df[_df['Date'].isin(_df['Date'].tail(n))].set_index(['Country', 'Date']).rename(columns={'Cases': name})\n",
        "df_summary = lambda last_n: pd.concat([df_last('Confirmed', df_confirmed, last_n), df_last('Deaths', df_deaths, last_n), df_last('Recovered', df_recovered, last_n)], axis=1)\n",
        "df_global = df_summary(2).groupby(['Date']).sum().reset_index()\n",
        "s_date_latest = date_latest.strftime(\"%B %d, %Y\")\n",
        "n_confirmed = df_global.loc[1]['Confirmed']\n",
        "n_deaths = df_global.loc[1]['Deaths']\n",
        "n_recovered = df_global.loc[1]['Recovered']\n",
        "\n",
        "df_global_diff = df_global.diff()\n",
        "n_confirmed_diff = df_global_diff.loc[1]['Confirmed']\n",
        "n_deaths_diff = df_global_diff.loc[1]['Deaths']\n",
        "n_recovered_diff = df_global_diff.loc[1]['Recovered']\n",
        "countries = df_confirmed['Country'].unique()"
      ],
      "execution_count": 0,
      "outputs": []
    },
    {
      "cell_type": "code",
      "metadata": {
        "id": "oCHllIBDBOSm",
        "colab_type": "code",
        "colab": {
          "base_uri": "https://localhost:8080/",
          "height": 357
        },
        "outputId": "47f00c3e-8d77-4c87-d601-84b9fc951878"
      },
      "source": [
        "#hide_input\n",
        "HTML(\n",
        "    f'<div style=\"font-size: 1.0em;\">'\n",
        "    f'<div> \\\n",
        "        <span style=\"font-size: 2.0em;\">{n_confirmed:,}</span><br/>\\\n",
        "        Total cases reported worldwide, {s_date_latest} \\\n",
        "      </div>\\\n",
        "      <br/>'\n",
        "    f'<div><span style=\"font-size: 2.0em;\">{n_confirmed_diff:,.0f}</span><br/>New cases reported since last day</div><br/>'\n",
        "    f'<div><span style=\"font-size: 2.0em;\">{n_recovered:,}</span> +{n_recovered_diff:,.0f} ({n_recovered/n_confirmed*100:.2f}%)<br/>Total recovered reported worldwide</div><br/>'\n",
        "    f'<div><span style=\"font-size: 2.0em;\">{n_deaths:,}</span> +{n_deaths_diff:,.0f} ({n_deaths/n_confirmed*100:.2f}%)<br/>Total deaths reported worldwide</div><br/>'\n",
        "    f'<div><span style=\"font-size: 2.0em;\">{len(countries) - 1}</span><br/>Total number of countries tracked</div><br/>'\n",
        "    f'</div>'\n",
        ")"
      ],
      "execution_count": 45,
      "outputs": [
        {
          "output_type": "execute_result",
          "data": {
            "text/html": [
              "<div style=\"font-size: 1.0em;\"><div>         <span style=\"font-size: 2.0em;\">2,152,646</span><br/>        Total cases reported worldwide, April 16, 2020       </div>      <br/><div><span style=\"font-size: 2.0em;\">96,592</span><br/>New cases reported since last day</div><br/><div><span style=\"font-size: 2.0em;\">542,107</span> +31,088 (25.18%)<br/>Total recovered reported worldwide</div><br/><div><span style=\"font-size: 2.0em;\">143,800</span> +9,624 (6.68%)<br/>Total deaths reported worldwide</div><br/><div><span style=\"font-size: 2.0em;\">184</span><br/>Total number of countries tracked</div><br/></div>"
            ],
            "text/plain": [
              "<IPython.core.display.HTML object>"
            ]
          },
          "metadata": {
            "tags": []
          },
          "execution_count": 45
        }
      ]
    },
    {
      "cell_type": "code",
      "metadata": {
        "id": "FpSoscMdk2kn",
        "colab_type": "code",
        "colab": {
          "base_uri": "https://localhost:8080/",
          "height": 385
        },
        "outputId": "005651d4-ccf4-4105-f703-2a0f3da960dd"
      },
      "source": [
        "#hide_input\n",
        "_df = df_confirmed.groupby(['Date']).sum().unstack().reset_index().drop(columns=['level_0']).rename(columns={0: 'Cummulative Confirmed'})\n",
        "_df['New Confirm'] = _df[['Cummulative Confirmed']].diff()\n",
        "\n",
        "_df_line = alt.Chart(_df).mark_line(color='#D32F2F').encode(\n",
        "    alt.X('Date:T'),\n",
        "    alt.Y('Cummulative Confirmed:Q', axis=alt.Axis(titleColor='#D32F2F'), scale=alt.Scale(type='log')),\n",
        "    tooltip=list(_df)\n",
        ")\n",
        "\n",
        "_df_new_bar = alt.Chart(_df).mark_bar(opacity=0.3, color='#303F9F').encode(\n",
        "    alt.X('Date:T'),\n",
        "    alt.Y('New Confirm:Q', axis=alt.Axis(titleColor='#303F9F'), scale=alt.Scale(type='log')),\n",
        "    tooltip=list(_df)\n",
        ")\n",
        "\n",
        "\n",
        "alt.layer(_df_line, _df_new_bar).resolve_scale(\n",
        "    y='independent'\n",
        ").properties(\n",
        "    title = 'Confirmed Cases across the world',\n",
        "    width = 600\n",
        ")"
      ],
      "execution_count": 46,
      "outputs": [
        {
          "output_type": "execute_result",
          "data": {
            "text/plain": [
              "alt.LayerChart(...)"
            ],
            "text/html": [
              "\n",
              "<div id=\"altair-viz-3344925534a24d979dacfc1f76012167\"></div>\n",
              "<script type=\"text/javascript\">\n",
              "  (function(spec, embedOpt){\n",
              "    let outputDiv = document.currentScript.previousElementSibling;\n",
              "    if (outputDiv.id !== \"altair-viz-3344925534a24d979dacfc1f76012167\") {\n",
              "      outputDiv = document.getElementById(\"altair-viz-3344925534a24d979dacfc1f76012167\");\n",
              "    }\n",
              "    const paths = {\n",
              "      \"vega\": \"https://cdn.jsdelivr.net/npm//vega@5?noext\",\n",
              "      \"vega-lib\": \"https://cdn.jsdelivr.net/npm//vega-lib?noext\",\n",
              "      \"vega-lite\": \"https://cdn.jsdelivr.net/npm//vega-lite@4.8.1?noext\",\n",
              "      \"vega-embed\": \"https://cdn.jsdelivr.net/npm//vega-embed@6?noext\",\n",
              "    };\n",
              "\n",
              "    function loadScript(lib) {\n",
              "      return new Promise(function(resolve, reject) {\n",
              "        var s = document.createElement('script');\n",
              "        s.src = paths[lib];\n",
              "        s.async = true;\n",
              "        s.onload = () => resolve(paths[lib]);\n",
              "        s.onerror = () => reject(`Error loading script: ${paths[lib]}`);\n",
              "        document.getElementsByTagName(\"head\")[0].appendChild(s);\n",
              "      });\n",
              "    }\n",
              "\n",
              "    function showError(err) {\n",
              "      outputDiv.innerHTML = `<div class=\"error\" style=\"color:red;\">${err}</div>`;\n",
              "      throw err;\n",
              "    }\n",
              "\n",
              "    function displayChart(vegaEmbed) {\n",
              "      vegaEmbed(outputDiv, spec, embedOpt)\n",
              "        .catch(err => showError(`Javascript Error: ${err.message}<br>This usually means there's a typo in your chart specification. See the javascript console for the full traceback.`));\n",
              "    }\n",
              "\n",
              "    if(typeof define === \"function\" && define.amd) {\n",
              "      requirejs.config({paths});\n",
              "      require([\"vega-embed\"], displayChart, err => showError(`Error loading script: ${err.message}`));\n",
              "    } else if (typeof vegaEmbed === \"function\") {\n",
              "      displayChart(vegaEmbed);\n",
              "    } else {\n",
              "      loadScript(\"vega\")\n",
              "        .then(() => loadScript(\"vega-lite\"))\n",
              "        .then(() => loadScript(\"vega-embed\"))\n",
              "        .catch(showError)\n",
              "        .then(() => displayChart(vegaEmbed));\n",
              "    }\n",
              "  })({\"config\": {\"view\": {\"continuousWidth\": 400, \"continuousHeight\": 300}}, \"layer\": [{\"mark\": {\"type\": \"line\", \"color\": \"#D32F2F\"}, \"encoding\": {\"tooltip\": [{\"type\": \"temporal\", \"field\": \"Date\"}, {\"type\": \"quantitative\", \"field\": \"Cummulative Confirmed\"}, {\"type\": \"quantitative\", \"field\": \"New Confirm\"}], \"x\": {\"type\": \"temporal\", \"field\": \"Date\"}, \"y\": {\"type\": \"quantitative\", \"axis\": {\"titleColor\": \"#D32F2F\"}, \"field\": \"Cummulative Confirmed\", \"scale\": {\"type\": \"log\"}}}}, {\"mark\": {\"type\": \"bar\", \"color\": \"#303F9F\", \"opacity\": 0.3}, \"encoding\": {\"tooltip\": [{\"type\": \"temporal\", \"field\": \"Date\"}, {\"type\": \"quantitative\", \"field\": \"Cummulative Confirmed\"}, {\"type\": \"quantitative\", \"field\": \"New Confirm\"}], \"x\": {\"type\": \"temporal\", \"field\": \"Date\"}, \"y\": {\"type\": \"quantitative\", \"axis\": {\"titleColor\": \"#303F9F\"}, \"field\": \"New Confirm\", \"scale\": {\"type\": \"log\"}}}}], \"data\": {\"name\": \"data-261d33f9b693304a784212f55ad3e744\"}, \"resolve\": {\"scale\": {\"y\": \"independent\"}}, \"title\": \"Confirmed Cases across the world\", \"width\": 600, \"$schema\": \"https://vega.github.io/schema/vega-lite/v4.8.1.json\", \"datasets\": {\"data-261d33f9b693304a784212f55ad3e744\": [{\"Date\": \"2020-01-22T00:00:00\", \"Cummulative Confirmed\": 555, \"New Confirm\": null}, {\"Date\": \"2020-01-23T00:00:00\", \"Cummulative Confirmed\": 654, \"New Confirm\": 99.0}, {\"Date\": \"2020-01-24T00:00:00\", \"Cummulative Confirmed\": 941, \"New Confirm\": 287.0}, {\"Date\": \"2020-01-25T00:00:00\", \"Cummulative Confirmed\": 1434, \"New Confirm\": 493.0}, {\"Date\": \"2020-01-26T00:00:00\", \"Cummulative Confirmed\": 2118, \"New Confirm\": 684.0}, {\"Date\": \"2020-01-27T00:00:00\", \"Cummulative Confirmed\": 2927, \"New Confirm\": 809.0}, {\"Date\": \"2020-01-28T00:00:00\", \"Cummulative Confirmed\": 5578, \"New Confirm\": 2651.0}, {\"Date\": \"2020-01-29T00:00:00\", \"Cummulative Confirmed\": 6166, \"New Confirm\": 588.0}, {\"Date\": \"2020-01-30T00:00:00\", \"Cummulative Confirmed\": 8234, \"New Confirm\": 2068.0}, {\"Date\": \"2020-01-31T00:00:00\", \"Cummulative Confirmed\": 9927, \"New Confirm\": 1693.0}, {\"Date\": \"2020-02-01T00:00:00\", \"Cummulative Confirmed\": 12038, \"New Confirm\": 2111.0}, {\"Date\": \"2020-02-02T00:00:00\", \"Cummulative Confirmed\": 16787, \"New Confirm\": 4749.0}, {\"Date\": \"2020-02-03T00:00:00\", \"Cummulative Confirmed\": 19881, \"New Confirm\": 3094.0}, {\"Date\": \"2020-02-04T00:00:00\", \"Cummulative Confirmed\": 23892, \"New Confirm\": 4011.0}, {\"Date\": \"2020-02-05T00:00:00\", \"Cummulative Confirmed\": 27635, \"New Confirm\": 3743.0}, {\"Date\": \"2020-02-06T00:00:00\", \"Cummulative Confirmed\": 30794, \"New Confirm\": 3159.0}, {\"Date\": \"2020-02-07T00:00:00\", \"Cummulative Confirmed\": 34391, \"New Confirm\": 3597.0}, {\"Date\": \"2020-02-08T00:00:00\", \"Cummulative Confirmed\": 37120, \"New Confirm\": 2729.0}, {\"Date\": \"2020-02-09T00:00:00\", \"Cummulative Confirmed\": 40150, \"New Confirm\": 3030.0}, {\"Date\": \"2020-02-10T00:00:00\", \"Cummulative Confirmed\": 42762, \"New Confirm\": 2612.0}, {\"Date\": \"2020-02-11T00:00:00\", \"Cummulative Confirmed\": 44802, \"New Confirm\": 2040.0}, {\"Date\": \"2020-02-12T00:00:00\", \"Cummulative Confirmed\": 45221, \"New Confirm\": 419.0}, {\"Date\": \"2020-02-13T00:00:00\", \"Cummulative Confirmed\": 60368, \"New Confirm\": 15147.0}, {\"Date\": \"2020-02-14T00:00:00\", \"Cummulative Confirmed\": 66885, \"New Confirm\": 6517.0}, {\"Date\": \"2020-02-15T00:00:00\", \"Cummulative Confirmed\": 69030, \"New Confirm\": 2145.0}, {\"Date\": \"2020-02-16T00:00:00\", \"Cummulative Confirmed\": 71224, \"New Confirm\": 2194.0}, {\"Date\": \"2020-02-17T00:00:00\", \"Cummulative Confirmed\": 73258, \"New Confirm\": 2034.0}, {\"Date\": \"2020-02-18T00:00:00\", \"Cummulative Confirmed\": 75136, \"New Confirm\": 1878.0}, {\"Date\": \"2020-02-19T00:00:00\", \"Cummulative Confirmed\": 75639, \"New Confirm\": 503.0}, {\"Date\": \"2020-02-20T00:00:00\", \"Cummulative Confirmed\": 76197, \"New Confirm\": 558.0}, {\"Date\": \"2020-02-21T00:00:00\", \"Cummulative Confirmed\": 76819, \"New Confirm\": 622.0}, {\"Date\": \"2020-02-22T00:00:00\", \"Cummulative Confirmed\": 78572, \"New Confirm\": 1753.0}, {\"Date\": \"2020-02-23T00:00:00\", \"Cummulative Confirmed\": 78958, \"New Confirm\": 386.0}, {\"Date\": \"2020-02-24T00:00:00\", \"Cummulative Confirmed\": 79561, \"New Confirm\": 603.0}, {\"Date\": \"2020-02-25T00:00:00\", \"Cummulative Confirmed\": 80406, \"New Confirm\": 845.0}, {\"Date\": \"2020-02-26T00:00:00\", \"Cummulative Confirmed\": 81388, \"New Confirm\": 982.0}, {\"Date\": \"2020-02-27T00:00:00\", \"Cummulative Confirmed\": 82746, \"New Confirm\": 1358.0}, {\"Date\": \"2020-02-28T00:00:00\", \"Cummulative Confirmed\": 84112, \"New Confirm\": 1366.0}, {\"Date\": \"2020-02-29T00:00:00\", \"Cummulative Confirmed\": 86011, \"New Confirm\": 1899.0}, {\"Date\": \"2020-03-01T00:00:00\", \"Cummulative Confirmed\": 88369, \"New Confirm\": 2358.0}, {\"Date\": \"2020-03-02T00:00:00\", \"Cummulative Confirmed\": 90306, \"New Confirm\": 1937.0}, {\"Date\": \"2020-03-03T00:00:00\", \"Cummulative Confirmed\": 92840, \"New Confirm\": 2534.0}, {\"Date\": \"2020-03-04T00:00:00\", \"Cummulative Confirmed\": 95120, \"New Confirm\": 2280.0}, {\"Date\": \"2020-03-05T00:00:00\", \"Cummulative Confirmed\": 97886, \"New Confirm\": 2766.0}, {\"Date\": \"2020-03-06T00:00:00\", \"Cummulative Confirmed\": 101801, \"New Confirm\": 3915.0}, {\"Date\": \"2020-03-07T00:00:00\", \"Cummulative Confirmed\": 105847, \"New Confirm\": 4046.0}, {\"Date\": \"2020-03-08T00:00:00\", \"Cummulative Confirmed\": 109821, \"New Confirm\": 3974.0}, {\"Date\": \"2020-03-09T00:00:00\", \"Cummulative Confirmed\": 113590, \"New Confirm\": 3769.0}, {\"Date\": \"2020-03-10T00:00:00\", \"Cummulative Confirmed\": 118620, \"New Confirm\": 5030.0}, {\"Date\": \"2020-03-11T00:00:00\", \"Cummulative Confirmed\": 125875, \"New Confirm\": 7255.0}, {\"Date\": \"2020-03-12T00:00:00\", \"Cummulative Confirmed\": 128352, \"New Confirm\": 2477.0}, {\"Date\": \"2020-03-13T00:00:00\", \"Cummulative Confirmed\": 145205, \"New Confirm\": 16853.0}, {\"Date\": \"2020-03-14T00:00:00\", \"Cummulative Confirmed\": 156101, \"New Confirm\": 10896.0}, {\"Date\": \"2020-03-15T00:00:00\", \"Cummulative Confirmed\": 167454, \"New Confirm\": 11353.0}, {\"Date\": \"2020-03-16T00:00:00\", \"Cummulative Confirmed\": 181574, \"New Confirm\": 14120.0}, {\"Date\": \"2020-03-17T00:00:00\", \"Cummulative Confirmed\": 197102, \"New Confirm\": 15528.0}, {\"Date\": \"2020-03-18T00:00:00\", \"Cummulative Confirmed\": 214821, \"New Confirm\": 17719.0}, {\"Date\": \"2020-03-19T00:00:00\", \"Cummulative Confirmed\": 242570, \"New Confirm\": 27749.0}, {\"Date\": \"2020-03-20T00:00:00\", \"Cummulative Confirmed\": 272208, \"New Confirm\": 29638.0}, {\"Date\": \"2020-03-21T00:00:00\", \"Cummulative Confirmed\": 304507, \"New Confirm\": 32299.0}, {\"Date\": \"2020-03-22T00:00:00\", \"Cummulative Confirmed\": 336953, \"New Confirm\": 32446.0}, {\"Date\": \"2020-03-23T00:00:00\", \"Cummulative Confirmed\": 378231, \"New Confirm\": 41278.0}, {\"Date\": \"2020-03-24T00:00:00\", \"Cummulative Confirmed\": 418041, \"New Confirm\": 39810.0}, {\"Date\": \"2020-03-25T00:00:00\", \"Cummulative Confirmed\": 467653, \"New Confirm\": 49612.0}, {\"Date\": \"2020-03-26T00:00:00\", \"Cummulative Confirmed\": 529591, \"New Confirm\": 61938.0}, {\"Date\": \"2020-03-27T00:00:00\", \"Cummulative Confirmed\": 593291, \"New Confirm\": 63700.0}, {\"Date\": \"2020-03-28T00:00:00\", \"Cummulative Confirmed\": 660693, \"New Confirm\": 67402.0}, {\"Date\": \"2020-03-29T00:00:00\", \"Cummulative Confirmed\": 720140, \"New Confirm\": 59447.0}, {\"Date\": \"2020-03-30T00:00:00\", \"Cummulative Confirmed\": 782389, \"New Confirm\": 62249.0}, {\"Date\": \"2020-03-31T00:00:00\", \"Cummulative Confirmed\": 857487, \"New Confirm\": 75098.0}, {\"Date\": \"2020-04-01T00:00:00\", \"Cummulative Confirmed\": 932605, \"New Confirm\": 75118.0}, {\"Date\": \"2020-04-02T00:00:00\", \"Cummulative Confirmed\": 1013466, \"New Confirm\": 80861.0}, {\"Date\": \"2020-04-03T00:00:00\", \"Cummulative Confirmed\": 1095917, \"New Confirm\": 82451.0}, {\"Date\": \"2020-04-04T00:00:00\", \"Cummulative Confirmed\": 1176060, \"New Confirm\": 80143.0}, {\"Date\": \"2020-04-05T00:00:00\", \"Cummulative Confirmed\": 1249754, \"New Confirm\": 73694.0}, {\"Date\": \"2020-04-06T00:00:00\", \"Cummulative Confirmed\": 1321481, \"New Confirm\": 71727.0}, {\"Date\": \"2020-04-07T00:00:00\", \"Cummulative Confirmed\": 1395194, \"New Confirm\": 73713.0}, {\"Date\": \"2020-04-08T00:00:00\", \"Cummulative Confirmed\": 1480202, \"New Confirm\": 85008.0}, {\"Date\": \"2020-04-09T00:00:00\", \"Cummulative Confirmed\": 1563935, \"New Confirm\": 83733.0}, {\"Date\": \"2020-04-10T00:00:00\", \"Cummulative Confirmed\": 1657526, \"New Confirm\": 93591.0}, {\"Date\": \"2020-04-11T00:00:00\", \"Cummulative Confirmed\": 1735650, \"New Confirm\": 78124.0}, {\"Date\": \"2020-04-12T00:00:00\", \"Cummulative Confirmed\": 1834721, \"New Confirm\": 99071.0}, {\"Date\": \"2020-04-13T00:00:00\", \"Cummulative Confirmed\": 1904838, \"New Confirm\": 70117.0}, {\"Date\": \"2020-04-14T00:00:00\", \"Cummulative Confirmed\": 1976191, \"New Confirm\": 71353.0}, {\"Date\": \"2020-04-15T00:00:00\", \"Cummulative Confirmed\": 2056054, \"New Confirm\": 79863.0}, {\"Date\": \"2020-04-16T00:00:00\", \"Cummulative Confirmed\": 2152646, \"New Confirm\": 96592.0}]}}, {\"mode\": \"vega-lite\"});\n",
              "</script>"
            ]
          },
          "metadata": {
            "tags": []
          },
          "execution_count": 46
        }
      ]
    },
    {
      "cell_type": "code",
      "metadata": {
        "id": "FScyvKiVte_k",
        "colab_type": "code",
        "colab": {}
      },
      "source": [
        "#hide\n",
        "df_confirmed_new = df_confirmed.set_index(['Date', 'Country']).unstack().diff().stack().reset_index()\n",
        "df_confirmed_new_pct = df_confirmed_new.set_index(['Date', 'Country']).rename(columns={'Cases': 'New Confirm Weight'}).unstack().apply(lambda x: x/sum(x), axis=1).round(3).stack().reset_index()\n",
        "selection = alt.selection_multi(fields=['Country'], bind='legend')\n",
        "df_confirmed_new_pct = df_confirmed_new_pct[df_confirmed_new_pct['New Confirm Weight'] > 0.03]\n",
        "\n",
        "_weight_bar = alt.Chart(df_confirmed_new_pct).mark_bar().encode(\n",
        "    x='Date:T', \n",
        "    y=alt.Y('New Confirm Weight:Q', axis=alt.Axis(format='%'), title='Daily Confirm Weight'), \n",
        "    color='Country',\n",
        "    tooltip=list(df_confirmed_new_pct),\n",
        "    opacity=alt.condition(selection,alt.value(1), alt.value(0.2))\n",
        ").add_selection(selection)\n",
        "\n",
        "def df_summary(_df):\n",
        "  _summary = _df.groupby(['Date', 'Country']).sum().unstack().xs('Cases', axis=1).tail(2).reset_index(drop=True).transpose()\n",
        "  _summary['New'] = _summary.diff(axis=1)[1]\n",
        "  _df_new_mean =_df.groupby(['Date', 'Country']).sum().unstack().xs('Cases', axis=1).diff().rolling(window=7).mean()[-1:] \\\n",
        "                        .reset_index(drop=True).transpose().round(0).sort_values(by=0,ascending=False).rename(columns={0: 'New_Mean_7D'})                        \n",
        "  _df_pct_chg = _df.groupby(['Date', 'Country']).sum().unstack().xs('Cases', axis=1).pct_change().rolling(window=7).mean()[-1:] \\\n",
        "                        .reset_index(drop=True).transpose().sort_values(by=0,ascending=False).rename(columns={0: 'Change_Mean_7D'})\n",
        "  #df_confirmed_pct_mean_latest = df_confirmed_pct_mean\n",
        "  _summary = pd.merge(_summary, _df_new_mean, on = 'Country')\n",
        "\n",
        "  _summary['Change'] = _summary.pct_change(axis=1)[1]\n",
        "  _summary = pd.merge(_summary, _df_pct_chg, on = 'Country')\n",
        "  _summary['Trending'] = _summary['Change'] - _summary['Change_Mean_7D']\n",
        "  _summary['Weight'] = _summary['New'] / _summary['New'].sum()\n",
        "  _summary = _summary.drop(columns=0).rename(columns={1: 'Total'}).sort_values(by=['New', 'Total', 'Trending'], ascending=False).round(4)\n",
        "  return _summary\n",
        "\n",
        "df_summary_confirmed = df_summary(df_confirmed)"
      ],
      "execution_count": 0,
      "outputs": []
    },
    {
      "cell_type": "code",
      "metadata": {
        "id": "7TeKMKa2b1dV",
        "colab_type": "code",
        "colab": {
          "base_uri": "https://localhost:8080/",
          "height": 483
        },
        "outputId": "18d94137-f01a-4a9b-e2f1-f0c40a4dbbf1"
      },
      "source": [
        "#hide_input\n",
        "_new_bar = alt.Chart().mark_bar().encode(\n",
        "    alt.X('Country:N', sort='-y'),\n",
        "    alt.Y('New:Q', scale=alt.Scale(type='log')),\n",
        "    tooltip = list(df_summary_confirmed)\n",
        ")\n",
        "\n",
        "_mean_bar = alt.Chart().mark_tick(color='red').encode(\n",
        "    alt.X('Country:N', axis=alt.Axis(labels=False, ticks=False)),\n",
        "    alt.Y('New_Mean_7D:Q', scale=alt.Scale(type='log')),\n",
        "    tooltip = list(df_summary_confirmed)\n",
        ")\n",
        "\n",
        "\n",
        "_new_text = _new_bar.mark_text(\n",
        "    angle=270,\n",
        "    align='left',\n",
        "    baseline='middle',    \n",
        "    dy=3,\n",
        "    dx=3  # Nudges text to right so it doesn't appear on top of the bar\n",
        ").encode(\n",
        "    text='New:Q'\n",
        ")\n",
        "\n",
        "alt.layer(_new_bar + _new_text, _mean_bar, data=df_summary_confirmed.reset_index().head(50)).resolve_scale(x='independent').properties(\n",
        "  title = f'New Confirmed Cases On {s_date_latest}',\n",
        "  width= 600\n",
        ")"
      ],
      "execution_count": 175,
      "outputs": [
        {
          "output_type": "execute_result",
          "data": {
            "text/plain": [
              "alt.LayerChart(...)"
            ],
            "text/html": [
              "\n",
              "<div id=\"altair-viz-82b2034ccc074978b9fdf688ae69b956\"></div>\n",
              "<script type=\"text/javascript\">\n",
              "  (function(spec, embedOpt){\n",
              "    let outputDiv = document.currentScript.previousElementSibling;\n",
              "    if (outputDiv.id !== \"altair-viz-82b2034ccc074978b9fdf688ae69b956\") {\n",
              "      outputDiv = document.getElementById(\"altair-viz-82b2034ccc074978b9fdf688ae69b956\");\n",
              "    }\n",
              "    const paths = {\n",
              "      \"vega\": \"https://cdn.jsdelivr.net/npm//vega@5?noext\",\n",
              "      \"vega-lib\": \"https://cdn.jsdelivr.net/npm//vega-lib?noext\",\n",
              "      \"vega-lite\": \"https://cdn.jsdelivr.net/npm//vega-lite@4.8.1?noext\",\n",
              "      \"vega-embed\": \"https://cdn.jsdelivr.net/npm//vega-embed@6?noext\",\n",
              "    };\n",
              "\n",
              "    function loadScript(lib) {\n",
              "      return new Promise(function(resolve, reject) {\n",
              "        var s = document.createElement('script');\n",
              "        s.src = paths[lib];\n",
              "        s.async = true;\n",
              "        s.onload = () => resolve(paths[lib]);\n",
              "        s.onerror = () => reject(`Error loading script: ${paths[lib]}`);\n",
              "        document.getElementsByTagName(\"head\")[0].appendChild(s);\n",
              "      });\n",
              "    }\n",
              "\n",
              "    function showError(err) {\n",
              "      outputDiv.innerHTML = `<div class=\"error\" style=\"color:red;\">${err}</div>`;\n",
              "      throw err;\n",
              "    }\n",
              "\n",
              "    function displayChart(vegaEmbed) {\n",
              "      vegaEmbed(outputDiv, spec, embedOpt)\n",
              "        .catch(err => showError(`Javascript Error: ${err.message}<br>This usually means there's a typo in your chart specification. See the javascript console for the full traceback.`));\n",
              "    }\n",
              "\n",
              "    if(typeof define === \"function\" && define.amd) {\n",
              "      requirejs.config({paths});\n",
              "      require([\"vega-embed\"], displayChart, err => showError(`Error loading script: ${err.message}`));\n",
              "    } else if (typeof vegaEmbed === \"function\") {\n",
              "      displayChart(vegaEmbed);\n",
              "    } else {\n",
              "      loadScript(\"vega\")\n",
              "        .then(() => loadScript(\"vega-lite\"))\n",
              "        .then(() => loadScript(\"vega-embed\"))\n",
              "        .catch(showError)\n",
              "        .then(() => displayChart(vegaEmbed));\n",
              "    }\n",
              "  })({\"config\": {\"view\": {\"continuousWidth\": 400, \"continuousHeight\": 300}}, \"layer\": [{\"layer\": [{\"mark\": \"bar\", \"encoding\": {\"tooltip\": [{\"type\": \"quantitative\", \"field\": \"Total\"}, {\"type\": \"quantitative\", \"field\": \"New\"}, {\"type\": \"quantitative\", \"field\": \"New_Mean_7D\"}, {\"type\": \"quantitative\", \"field\": \"Change\"}, {\"type\": \"quantitative\", \"field\": \"Change_Mean_7D\"}, {\"type\": \"quantitative\", \"field\": \"Trending\"}, {\"type\": \"quantitative\", \"field\": \"Weight\"}], \"x\": {\"type\": \"nominal\", \"field\": \"Country\", \"sort\": \"-y\"}, \"y\": {\"type\": \"quantitative\", \"field\": \"New\", \"scale\": {\"type\": \"log\"}}}}, {\"mark\": {\"type\": \"text\", \"align\": \"left\", \"angle\": 270, \"baseline\": \"middle\", \"dx\": 3, \"dy\": 3}, \"encoding\": {\"text\": {\"type\": \"quantitative\", \"field\": \"New\"}, \"tooltip\": [{\"type\": \"quantitative\", \"field\": \"Total\"}, {\"type\": \"quantitative\", \"field\": \"New\"}, {\"type\": \"quantitative\", \"field\": \"New_Mean_7D\"}, {\"type\": \"quantitative\", \"field\": \"Change\"}, {\"type\": \"quantitative\", \"field\": \"Change_Mean_7D\"}, {\"type\": \"quantitative\", \"field\": \"Trending\"}, {\"type\": \"quantitative\", \"field\": \"Weight\"}], \"x\": {\"type\": \"nominal\", \"field\": \"Country\", \"sort\": \"-y\"}, \"y\": {\"type\": \"quantitative\", \"field\": \"New\", \"scale\": {\"type\": \"log\"}}}}]}, {\"mark\": {\"type\": \"tick\", \"color\": \"red\"}, \"encoding\": {\"tooltip\": [{\"type\": \"quantitative\", \"field\": \"Total\"}, {\"type\": \"quantitative\", \"field\": \"New\"}, {\"type\": \"quantitative\", \"field\": \"New_Mean_7D\"}, {\"type\": \"quantitative\", \"field\": \"Change\"}, {\"type\": \"quantitative\", \"field\": \"Change_Mean_7D\"}, {\"type\": \"quantitative\", \"field\": \"Trending\"}, {\"type\": \"quantitative\", \"field\": \"Weight\"}], \"x\": {\"type\": \"nominal\", \"axis\": {\"labels\": false, \"ticks\": false}, \"field\": \"Country\"}, \"y\": {\"type\": \"quantitative\", \"field\": \"New_Mean_7D\", \"scale\": {\"type\": \"log\"}}}}], \"data\": {\"name\": \"data-050612d4d0c7e7ffd18bad07cd65d08e\"}, \"resolve\": {\"scale\": {\"x\": \"independent\"}}, \"title\": \"New Confirmed Cases On April 16, 2020\", \"width\": 600, \"$schema\": \"https://vega.github.io/schema/vega-lite/v4.8.1.json\", \"datasets\": {\"data-050612d4d0c7e7ffd18bad07cd65d08e\": [{\"Country\": \"US\", \"Total\": 667801, \"New\": 31451.0, \"New_Mean_7D\": 29481.0, \"Change\": 0.0494, \"Change_Mean_7D\": 0.0543, \"Trending\": -0.0048, \"Weight\": 0.3256}, {\"Country\": \"France\", \"Total\": 147091, \"New\": 12509.0, \"New_Mean_7D\": 8532.0, \"Change\": 0.0929, \"Change_Mean_7D\": 0.0803, \"Trending\": 0.0126, \"Weight\": 0.1295}, {\"Country\": \"Spain\", \"Total\": 184948, \"New\": 7304.0, \"New_Mean_7D\": 4532.0, \"Change\": 0.0411, \"Change_Mean_7D\": 0.0273, \"Trending\": 0.0138, \"Weight\": 0.0756}, {\"Country\": \"Turkey\", \"Total\": 74193, \"New\": 4801.0, \"New_Mean_7D\": 4559.0, \"Change\": 0.0692, \"Change_Mean_7D\": 0.0838, \"Trending\": -0.0146, \"Weight\": 0.0497}, {\"Country\": \"United Kingdom\", \"Total\": 104145, \"New\": 4662.0, \"New_Mean_7D\": 5468.0, \"Change\": 0.0469, \"Change_Mean_7D\": 0.068, \"Trending\": -0.0211, \"Weight\": 0.0483}, {\"Country\": \"Italy\", \"Total\": 168941, \"New\": 3786.0, \"New_Mean_7D\": 3616.0, \"Change\": 0.0229, \"Change_Mean_7D\": 0.0235, \"Trending\": -0.0006, \"Weight\": 0.0392}, {\"Country\": \"Russia\", \"Total\": 27938, \"New\": 3448.0, \"New_Mean_7D\": 2544.0, \"Change\": 0.1408, \"Change_Mean_7D\": 0.156, \"Trending\": -0.0152, \"Weight\": 0.0357}, {\"Country\": \"Germany\", \"Total\": 137698, \"New\": 2945.0, \"New_Mean_7D\": 2788.0, \"Change\": 0.0219, \"Change_Mean_7D\": 0.0221, \"Trending\": -0.0002, \"Weight\": 0.0305}, {\"Country\": \"Canada\", \"Total\": 30808, \"New\": 2600.0, \"New_Mean_7D\": 1451.0, \"Change\": 0.0922, \"Change_Mean_7D\": 0.0589, \"Trending\": 0.0333, \"Weight\": 0.0269}, {\"Country\": \"Brazil\", \"Total\": 30425, \"New\": 2105.0, \"New_Mean_7D\": 1762.0, \"Change\": 0.0743, \"Change_Mean_7D\": 0.0773, \"Trending\": -0.0029, \"Weight\": 0.0218}, {\"Country\": \"Iran\", \"Total\": 77995, \"New\": 1606.0, \"New_Mean_7D\": 1682.0, \"Change\": 0.021, \"Change_Mean_7D\": 0.0237, \"Trending\": -0.0026, \"Weight\": 0.0166}, {\"Country\": \"Belgium\", \"Total\": 34809, \"New\": 1236.0, \"New_Mean_7D\": 1404.0, \"Change\": 0.0368, \"Change_Mean_7D\": 0.0487, \"Trending\": -0.0119, \"Weight\": 0.0128}, {\"Country\": \"India\", \"Total\": 13430, \"New\": 1108.0, \"New_Mean_7D\": 958.0, \"Change\": 0.0899, \"Change_Mean_7D\": 0.1041, \"Trending\": -0.0141, \"Weight\": 0.0115}, {\"Country\": \"Netherlands\", \"Total\": 29383, \"New\": 1067.0, \"New_Mean_7D\": 1069.0, \"Change\": 0.0377, \"Change_Mean_7D\": 0.0429, \"Trending\": -0.0052, \"Weight\": 0.011}, {\"Country\": \"Peru\", \"Total\": 12491, \"New\": 1016.0, \"New_Mean_7D\": 1034.0, \"Change\": 0.0885, \"Change_Mean_7D\": 0.134, \"Trending\": -0.0454, \"Weight\": 0.0105}, {\"Country\": \"Portugal\", \"Total\": 18841, \"New\": 750.0, \"New_Mean_7D\": 698.0, \"Change\": 0.0415, \"Change_Mean_7D\": 0.0441, \"Trending\": -0.0027, \"Weight\": 0.0078}, {\"Country\": \"Singapore\", \"Total\": 4427, \"New\": 728.0, \"New_Mean_7D\": 360.0, \"Change\": 0.1968, \"Change_Mean_7D\": 0.1281, \"Trending\": 0.0687, \"Weight\": 0.0075}, {\"Country\": \"Ireland\", \"Total\": 13271, \"New\": 724.0, \"New_Mean_7D\": 957.0, \"Change\": 0.0577, \"Change_Mean_7D\": 0.1067, \"Trending\": -0.049, \"Weight\": 0.0075}, {\"Country\": \"Sweden\", \"Total\": 12540, \"New\": 613.0, \"New_Mean_7D\": 486.0, \"Change\": 0.0514, \"Change_Mean_7D\": 0.0462, \"Trending\": 0.0052, \"Weight\": 0.0063}, {\"Country\": \"Pakistan\", \"Total\": 6919, \"New\": 536.0, \"New_Mean_7D\": 347.0, \"Change\": 0.084, \"Change_Mean_7D\": 0.0639, \"Trending\": 0.0201, \"Weight\": 0.0055}, {\"Country\": \"Chile\", \"Total\": 8807, \"New\": 534.0, \"New_Mean_7D\": 405.0, \"Change\": 0.0645, \"Change_Mean_7D\": 0.0572, \"Trending\": 0.0074, \"Weight\": 0.0055}, {\"Country\": \"Japan\", \"Total\": 8626, \"New\": 526.0, \"New_Mean_7D\": 566.0, \"Change\": 0.0649, \"Change_Mean_7D\": 0.0926, \"Trending\": -0.0277, \"Weight\": 0.0054}, {\"Country\": \"Saudi Arabia\", \"Total\": 6380, \"New\": 518.0, \"New_Mean_7D\": 442.0, \"Change\": 0.0884, \"Change_Mean_7D\": 0.0994, \"Trending\": -0.011, \"Weight\": 0.0054}, {\"Country\": \"Romania\", \"Total\": 7707, \"New\": 491.0, \"New_Mean_7D\": 358.0, \"Change\": 0.068, \"Change_Mean_7D\": 0.0579, \"Trending\": 0.0101, \"Weight\": 0.0051}, {\"Country\": \"Belarus\", \"Total\": 4204, \"New\": 476.0, \"New_Mean_7D\": 388.0, \"Change\": 0.1277, \"Change_Mean_7D\": 0.1622, \"Trending\": -0.0345, \"Weight\": 0.0049}, {\"Country\": \"United Arab Emirates\", \"Total\": 5825, \"New\": 460.0, \"New_Mean_7D\": 405.0, \"Change\": 0.0857, \"Change_Mean_7D\": 0.1, \"Trending\": -0.0143, \"Weight\": 0.0048}, {\"Country\": \"Mexico\", \"Total\": 5847, \"New\": 448.0, \"New_Mean_7D\": 381.0, \"Change\": 0.083, \"Change_Mean_7D\": 0.091, \"Trending\": -0.008, \"Weight\": 0.0046}, {\"Country\": \"Serbia\", \"Total\": 5318, \"New\": 445.0, \"New_Mean_7D\": 350.0, \"Change\": 0.0913, \"Change_Mean_7D\": 0.0923, \"Trending\": -0.001, \"Weight\": 0.0046}, {\"Country\": \"Ukraine\", \"Total\": 4161, \"New\": 397.0, \"New_Mean_7D\": 324.0, \"Change\": 0.1055, \"Change_Mean_7D\": 0.1194, \"Trending\": -0.0139, \"Weight\": 0.0041}, {\"Country\": \"Switzerland\", \"Total\": 26732, \"New\": 396.0, \"New_Mean_7D\": 383.0, \"Change\": 0.015, \"Change_Mean_7D\": 0.0152, \"Trending\": -0.0002, \"Weight\": 0.0041}, {\"Country\": \"Qatar\", \"Total\": 4103, \"New\": 392.0, \"New_Mean_7D\": 247.0, \"Change\": 0.1056, \"Change_Mean_7D\": 0.0813, \"Trending\": 0.0243, \"Weight\": 0.0041}, {\"Country\": \"Indonesia\", \"Total\": 5516, \"New\": 380.0, \"New_Mean_7D\": 318.0, \"Change\": 0.074, \"Change_Mean_7D\": 0.0766, \"Trending\": -0.0026, \"Weight\": 0.0039}, {\"Country\": \"Ecuador\", \"Total\": 8225, \"New\": 367.0, \"New_Mean_7D\": 466.0, \"Change\": 0.0467, \"Change_Mean_7D\": 0.0833, \"Trending\": -0.0366, \"Weight\": 0.0038}, {\"Country\": \"Bangladesh\", \"Total\": 1572, \"New\": 341.0, \"New_Mean_7D\": 177.0, \"Change\": 0.277, \"Change_Mean_7D\": 0.251, \"Trending\": 0.026, \"Weight\": 0.0035}, {\"Country\": \"Poland\", \"Total\": 7918, \"New\": 336.0, \"New_Mean_7D\": 335.0, \"Change\": 0.0443, \"Change_Mean_7D\": 0.0515, \"Trending\": -0.0071, \"Weight\": 0.0035}, {\"Country\": \"Morocco\", \"Total\": 2283, \"New\": 259.0, \"New_Mean_7D\": 130.0, \"Change\": 0.128, \"Change_Mean_7D\": 0.0755, \"Trending\": 0.0525, \"Weight\": 0.0027}, {\"Country\": \"Israel\", \"Total\": 12758, \"New\": 257.0, \"New_Mean_7D\": 399.0, \"Change\": 0.0206, \"Change_Mean_7D\": 0.0359, \"Trending\": -0.0153, \"Weight\": 0.0027}, {\"Country\": \"Czechia\", \"Total\": 6433, \"New\": 217.0, \"New_Mean_7D\": 123.0, \"Change\": 0.0349, \"Change_Mean_7D\": 0.0209, \"Trending\": 0.0141, \"Weight\": 0.0022}, {\"Country\": \"Philippines\", \"Total\": 5660, \"New\": 207.0, \"New_Mean_7D\": 226.0, \"Change\": 0.038, \"Change_Mean_7D\": 0.0481, \"Trending\": -0.0101, \"Weight\": 0.0021}, {\"Country\": \"Denmark\", \"Total\": 7074, \"New\": 198.0, \"New_Mean_7D\": 178.0, \"Change\": 0.0288, \"Change_Mean_7D\": 0.028, \"Trending\": 0.0008, \"Weight\": 0.002}, {\"Country\": \"Panama\", \"Total\": 3751, \"New\": 177.0, \"New_Mean_7D\": 175.0, \"Change\": 0.0495, \"Change_Mean_7D\": 0.0583, \"Trending\": -0.0088, \"Weight\": 0.0018}, {\"Country\": \"Egypt\", \"Total\": 2673, \"New\": 168.0, \"New_Mean_7D\": 139.0, \"Change\": 0.0671, \"Change_Mean_7D\": 0.0669, \"Trending\": 0.0002, \"Weight\": 0.0017}, {\"Country\": \"Norway\", \"Total\": 6896, \"New\": 156.0, \"New_Mean_7D\": 98.0, \"Change\": 0.0231, \"Change_Mean_7D\": 0.0151, \"Trending\": 0.0081, \"Weight\": 0.0016}, {\"Country\": \"Djibouti\", \"Total\": 591, \"New\": 156.0, \"New_Mean_7D\": 65.0, \"Change\": 0.3586, \"Change_Mean_7D\": 0.2385, \"Trending\": 0.1201, \"Weight\": 0.0016}, {\"Country\": \"Cameroon\", \"Total\": 996, \"New\": 148.0, \"New_Mean_7D\": 38.0, \"Change\": 0.1745, \"Change_Mean_7D\": 0.0474, \"Trending\": 0.1271, \"Weight\": 0.0015}, {\"Country\": \"Dominican Republic\", \"Total\": 3755, \"New\": 141.0, \"New_Mean_7D\": 201.0, \"Change\": 0.039, \"Change_Mean_7D\": 0.0697, \"Trending\": -0.0306, \"Weight\": 0.0015}, {\"Country\": \"Austria\", \"Total\": 14476, \"New\": 140.0, \"New_Mean_7D\": 176.0, \"Change\": 0.0098, \"Change_Mean_7D\": 0.0128, \"Trending\": -0.003, \"Weight\": 0.0014}, {\"Country\": \"Finland\", \"Total\": 3369, \"New\": 132.0, \"New_Mean_7D\": 109.0, \"Change\": 0.0408, \"Change_Mean_7D\": 0.0375, \"Trending\": 0.0033, \"Weight\": 0.0014}, {\"Country\": \"Colombia\", \"Total\": 3233, \"New\": 128.0, \"New_Mean_7D\": 144.0, \"Change\": 0.0412, \"Change_Mean_7D\": 0.0554, \"Trending\": -0.0142, \"Weight\": 0.0013}, {\"Country\": \"Argentina\", \"Total\": 2571, \"New\": 128.0, \"New_Mean_7D\": 111.0, \"Change\": 0.0524, \"Change_Mean_7D\": 0.0532, \"Trending\": -0.0008, \"Weight\": 0.0013}]}}, {\"mode\": \"vega-lite\"});\n",
              "</script>"
            ]
          },
          "metadata": {
            "tags": []
          },
          "execution_count": 175
        }
      ]
    },
    {
      "cell_type": "code",
      "metadata": {
        "id": "AVWWmyT5oInS",
        "colab_type": "code",
        "colab": {
          "base_uri": "https://localhost:8080/",
          "height": 499
        },
        "outputId": "91777c65-66dd-49be-906c-7539c5a85b2b"
      },
      "source": [
        "#hide_input\n",
        "_data = df_summary_confirmed[df_summary_confirmed['Total'] > 1000].reset_index()\n",
        "\n",
        "_new_bar = alt.Chart().mark_bar().encode(\n",
        "    alt.X('Country:N', sort='-y'),\n",
        "    alt.Y('Change:Q', axis=alt.Axis(format='%')),\n",
        "    tooltip = list(df_summary_confirmed)\n",
        ")\n",
        "\n",
        "_mean_bar = alt.Chart().mark_tick(color='red').encode(\n",
        "    alt.X('Country:N', axis=alt.Axis(labels=False, ticks=False)),\n",
        "    alt.Y('Change_Mean_7D:Q',axis=alt.Axis(format='%')),\n",
        "    tooltip = list(df_summary_confirmed)\n",
        ")\n",
        "\n",
        "\n",
        "_new_text = _new_bar.mark_text(\n",
        "    size=10,\n",
        "    angle=270,\n",
        "    align='left',\n",
        "    baseline='middle', \n",
        "    dy=3,\n",
        "    dx=3  # Nudges text to right so it doesn't appear on top of the bar\n",
        ").encode(\n",
        "    text='Change:Q'\n",
        ")\n",
        "\n",
        "alt.layer(_new_bar + _new_text, _mean_bar, data=_data).resolve_scale(x='independent').properties(\n",
        "  title = f'New Confirmed Cases On {s_date_latest}',\n",
        "  width= 600\n",
        ")"
      ],
      "execution_count": 197,
      "outputs": [
        {
          "output_type": "execute_result",
          "data": {
            "text/plain": [
              "alt.LayerChart(...)"
            ],
            "text/html": [
              "\n",
              "<div id=\"altair-viz-0a911d752d7146ed8a7b9783d79d2b0f\"></div>\n",
              "<script type=\"text/javascript\">\n",
              "  (function(spec, embedOpt){\n",
              "    let outputDiv = document.currentScript.previousElementSibling;\n",
              "    if (outputDiv.id !== \"altair-viz-0a911d752d7146ed8a7b9783d79d2b0f\") {\n",
              "      outputDiv = document.getElementById(\"altair-viz-0a911d752d7146ed8a7b9783d79d2b0f\");\n",
              "    }\n",
              "    const paths = {\n",
              "      \"vega\": \"https://cdn.jsdelivr.net/npm//vega@5?noext\",\n",
              "      \"vega-lib\": \"https://cdn.jsdelivr.net/npm//vega-lib?noext\",\n",
              "      \"vega-lite\": \"https://cdn.jsdelivr.net/npm//vega-lite@4.8.1?noext\",\n",
              "      \"vega-embed\": \"https://cdn.jsdelivr.net/npm//vega-embed@6?noext\",\n",
              "    };\n",
              "\n",
              "    function loadScript(lib) {\n",
              "      return new Promise(function(resolve, reject) {\n",
              "        var s = document.createElement('script');\n",
              "        s.src = paths[lib];\n",
              "        s.async = true;\n",
              "        s.onload = () => resolve(paths[lib]);\n",
              "        s.onerror = () => reject(`Error loading script: ${paths[lib]}`);\n",
              "        document.getElementsByTagName(\"head\")[0].appendChild(s);\n",
              "      });\n",
              "    }\n",
              "\n",
              "    function showError(err) {\n",
              "      outputDiv.innerHTML = `<div class=\"error\" style=\"color:red;\">${err}</div>`;\n",
              "      throw err;\n",
              "    }\n",
              "\n",
              "    function displayChart(vegaEmbed) {\n",
              "      vegaEmbed(outputDiv, spec, embedOpt)\n",
              "        .catch(err => showError(`Javascript Error: ${err.message}<br>This usually means there's a typo in your chart specification. See the javascript console for the full traceback.`));\n",
              "    }\n",
              "\n",
              "    if(typeof define === \"function\" && define.amd) {\n",
              "      requirejs.config({paths});\n",
              "      require([\"vega-embed\"], displayChart, err => showError(`Error loading script: ${err.message}`));\n",
              "    } else if (typeof vegaEmbed === \"function\") {\n",
              "      displayChart(vegaEmbed);\n",
              "    } else {\n",
              "      loadScript(\"vega\")\n",
              "        .then(() => loadScript(\"vega-lite\"))\n",
              "        .then(() => loadScript(\"vega-embed\"))\n",
              "        .catch(showError)\n",
              "        .then(() => displayChart(vegaEmbed));\n",
              "    }\n",
              "  })({\"config\": {\"view\": {\"continuousWidth\": 400, \"continuousHeight\": 300}}, \"layer\": [{\"layer\": [{\"mark\": \"bar\", \"encoding\": {\"tooltip\": [{\"type\": \"quantitative\", \"field\": \"Total\"}, {\"type\": \"quantitative\", \"field\": \"New\"}, {\"type\": \"quantitative\", \"field\": \"New_Mean_7D\"}, {\"type\": \"quantitative\", \"field\": \"Change\"}, {\"type\": \"quantitative\", \"field\": \"Change_Mean_7D\"}, {\"type\": \"quantitative\", \"field\": \"Trending\"}, {\"type\": \"quantitative\", \"field\": \"Weight\"}], \"x\": {\"type\": \"nominal\", \"field\": \"Country\", \"sort\": \"-y\"}, \"y\": {\"type\": \"quantitative\", \"axis\": {\"format\": \"%\"}, \"field\": \"Change\"}}}, {\"mark\": {\"type\": \"text\", \"align\": \"left\", \"angle\": 270, \"baseline\": \"middle\", \"dx\": 3, \"dy\": 3, \"size\": 10}, \"encoding\": {\"text\": {\"type\": \"quantitative\", \"field\": \"Change\"}, \"tooltip\": [{\"type\": \"quantitative\", \"field\": \"Total\"}, {\"type\": \"quantitative\", \"field\": \"New\"}, {\"type\": \"quantitative\", \"field\": \"New_Mean_7D\"}, {\"type\": \"quantitative\", \"field\": \"Change\"}, {\"type\": \"quantitative\", \"field\": \"Change_Mean_7D\"}, {\"type\": \"quantitative\", \"field\": \"Trending\"}, {\"type\": \"quantitative\", \"field\": \"Weight\"}], \"x\": {\"type\": \"nominal\", \"field\": \"Country\", \"sort\": \"-y\"}, \"y\": {\"type\": \"quantitative\", \"axis\": {\"format\": \"%\"}, \"field\": \"Change\"}}}]}, {\"mark\": {\"type\": \"tick\", \"color\": \"red\"}, \"encoding\": {\"tooltip\": [{\"type\": \"quantitative\", \"field\": \"Total\"}, {\"type\": \"quantitative\", \"field\": \"New\"}, {\"type\": \"quantitative\", \"field\": \"New_Mean_7D\"}, {\"type\": \"quantitative\", \"field\": \"Change\"}, {\"type\": \"quantitative\", \"field\": \"Change_Mean_7D\"}, {\"type\": \"quantitative\", \"field\": \"Trending\"}, {\"type\": \"quantitative\", \"field\": \"Weight\"}], \"x\": {\"type\": \"nominal\", \"axis\": {\"labels\": false, \"ticks\": false}, \"field\": \"Country\"}, \"y\": {\"type\": \"quantitative\", \"axis\": {\"format\": \"%\"}, \"field\": \"Change_Mean_7D\"}}}], \"data\": {\"name\": \"data-a08584bc5d81732b0b2f1559bb721243\"}, \"resolve\": {\"scale\": {\"x\": \"independent\"}}, \"title\": \"New Confirmed Cases On April 16, 2020\", \"width\": 600, \"$schema\": \"https://vega.github.io/schema/vega-lite/v4.8.1.json\", \"datasets\": {\"data-a08584bc5d81732b0b2f1559bb721243\": [{\"Country\": \"US\", \"Total\": 667801, \"New\": 31451.0, \"New_Mean_7D\": 29481.0, \"Change\": 0.0494, \"Change_Mean_7D\": 0.0543, \"Trending\": -0.0048, \"Weight\": 0.3256}, {\"Country\": \"France\", \"Total\": 147091, \"New\": 12509.0, \"New_Mean_7D\": 8532.0, \"Change\": 0.0929, \"Change_Mean_7D\": 0.0803, \"Trending\": 0.0126, \"Weight\": 0.1295}, {\"Country\": \"Spain\", \"Total\": 184948, \"New\": 7304.0, \"New_Mean_7D\": 4532.0, \"Change\": 0.0411, \"Change_Mean_7D\": 0.0273, \"Trending\": 0.0138, \"Weight\": 0.0756}, {\"Country\": \"Turkey\", \"Total\": 74193, \"New\": 4801.0, \"New_Mean_7D\": 4559.0, \"Change\": 0.0692, \"Change_Mean_7D\": 0.0838, \"Trending\": -0.0146, \"Weight\": 0.0497}, {\"Country\": \"United Kingdom\", \"Total\": 104145, \"New\": 4662.0, \"New_Mean_7D\": 5468.0, \"Change\": 0.0469, \"Change_Mean_7D\": 0.068, \"Trending\": -0.0211, \"Weight\": 0.0483}, {\"Country\": \"Italy\", \"Total\": 168941, \"New\": 3786.0, \"New_Mean_7D\": 3616.0, \"Change\": 0.0229, \"Change_Mean_7D\": 0.0235, \"Trending\": -0.0006, \"Weight\": 0.0392}, {\"Country\": \"Russia\", \"Total\": 27938, \"New\": 3448.0, \"New_Mean_7D\": 2544.0, \"Change\": 0.1408, \"Change_Mean_7D\": 0.156, \"Trending\": -0.0152, \"Weight\": 0.0357}, {\"Country\": \"Germany\", \"Total\": 137698, \"New\": 2945.0, \"New_Mean_7D\": 2788.0, \"Change\": 0.0219, \"Change_Mean_7D\": 0.0221, \"Trending\": -0.0002, \"Weight\": 0.0305}, {\"Country\": \"Canada\", \"Total\": 30808, \"New\": 2600.0, \"New_Mean_7D\": 1451.0, \"Change\": 0.0922, \"Change_Mean_7D\": 0.0589, \"Trending\": 0.0333, \"Weight\": 0.0269}, {\"Country\": \"Brazil\", \"Total\": 30425, \"New\": 2105.0, \"New_Mean_7D\": 1762.0, \"Change\": 0.0743, \"Change_Mean_7D\": 0.0773, \"Trending\": -0.0029, \"Weight\": 0.0218}, {\"Country\": \"Iran\", \"Total\": 77995, \"New\": 1606.0, \"New_Mean_7D\": 1682.0, \"Change\": 0.021, \"Change_Mean_7D\": 0.0237, \"Trending\": -0.0026, \"Weight\": 0.0166}, {\"Country\": \"Belgium\", \"Total\": 34809, \"New\": 1236.0, \"New_Mean_7D\": 1404.0, \"Change\": 0.0368, \"Change_Mean_7D\": 0.0487, \"Trending\": -0.0119, \"Weight\": 0.0128}, {\"Country\": \"India\", \"Total\": 13430, \"New\": 1108.0, \"New_Mean_7D\": 958.0, \"Change\": 0.0899, \"Change_Mean_7D\": 0.1041, \"Trending\": -0.0141, \"Weight\": 0.0115}, {\"Country\": \"Netherlands\", \"Total\": 29383, \"New\": 1067.0, \"New_Mean_7D\": 1069.0, \"Change\": 0.0377, \"Change_Mean_7D\": 0.0429, \"Trending\": -0.0052, \"Weight\": 0.011}, {\"Country\": \"Peru\", \"Total\": 12491, \"New\": 1016.0, \"New_Mean_7D\": 1034.0, \"Change\": 0.0885, \"Change_Mean_7D\": 0.134, \"Trending\": -0.0454, \"Weight\": 0.0105}, {\"Country\": \"Portugal\", \"Total\": 18841, \"New\": 750.0, \"New_Mean_7D\": 698.0, \"Change\": 0.0415, \"Change_Mean_7D\": 0.0441, \"Trending\": -0.0027, \"Weight\": 0.0078}, {\"Country\": \"Singapore\", \"Total\": 4427, \"New\": 728.0, \"New_Mean_7D\": 360.0, \"Change\": 0.1968, \"Change_Mean_7D\": 0.1281, \"Trending\": 0.0687, \"Weight\": 0.0075}, {\"Country\": \"Ireland\", \"Total\": 13271, \"New\": 724.0, \"New_Mean_7D\": 957.0, \"Change\": 0.0577, \"Change_Mean_7D\": 0.1067, \"Trending\": -0.049, \"Weight\": 0.0075}, {\"Country\": \"Sweden\", \"Total\": 12540, \"New\": 613.0, \"New_Mean_7D\": 486.0, \"Change\": 0.0514, \"Change_Mean_7D\": 0.0462, \"Trending\": 0.0052, \"Weight\": 0.0063}, {\"Country\": \"Pakistan\", \"Total\": 6919, \"New\": 536.0, \"New_Mean_7D\": 347.0, \"Change\": 0.084, \"Change_Mean_7D\": 0.0639, \"Trending\": 0.0201, \"Weight\": 0.0055}, {\"Country\": \"Chile\", \"Total\": 8807, \"New\": 534.0, \"New_Mean_7D\": 405.0, \"Change\": 0.0645, \"Change_Mean_7D\": 0.0572, \"Trending\": 0.0074, \"Weight\": 0.0055}, {\"Country\": \"Japan\", \"Total\": 8626, \"New\": 526.0, \"New_Mean_7D\": 566.0, \"Change\": 0.0649, \"Change_Mean_7D\": 0.0926, \"Trending\": -0.0277, \"Weight\": 0.0054}, {\"Country\": \"Saudi Arabia\", \"Total\": 6380, \"New\": 518.0, \"New_Mean_7D\": 442.0, \"Change\": 0.0884, \"Change_Mean_7D\": 0.0994, \"Trending\": -0.011, \"Weight\": 0.0054}, {\"Country\": \"Romania\", \"Total\": 7707, \"New\": 491.0, \"New_Mean_7D\": 358.0, \"Change\": 0.068, \"Change_Mean_7D\": 0.0579, \"Trending\": 0.0101, \"Weight\": 0.0051}, {\"Country\": \"Belarus\", \"Total\": 4204, \"New\": 476.0, \"New_Mean_7D\": 388.0, \"Change\": 0.1277, \"Change_Mean_7D\": 0.1622, \"Trending\": -0.0345, \"Weight\": 0.0049}, {\"Country\": \"United Arab Emirates\", \"Total\": 5825, \"New\": 460.0, \"New_Mean_7D\": 405.0, \"Change\": 0.0857, \"Change_Mean_7D\": 0.1, \"Trending\": -0.0143, \"Weight\": 0.0048}, {\"Country\": \"Mexico\", \"Total\": 5847, \"New\": 448.0, \"New_Mean_7D\": 381.0, \"Change\": 0.083, \"Change_Mean_7D\": 0.091, \"Trending\": -0.008, \"Weight\": 0.0046}, {\"Country\": \"Serbia\", \"Total\": 5318, \"New\": 445.0, \"New_Mean_7D\": 350.0, \"Change\": 0.0913, \"Change_Mean_7D\": 0.0923, \"Trending\": -0.001, \"Weight\": 0.0046}, {\"Country\": \"Ukraine\", \"Total\": 4161, \"New\": 397.0, \"New_Mean_7D\": 324.0, \"Change\": 0.1055, \"Change_Mean_7D\": 0.1194, \"Trending\": -0.0139, \"Weight\": 0.0041}, {\"Country\": \"Switzerland\", \"Total\": 26732, \"New\": 396.0, \"New_Mean_7D\": 383.0, \"Change\": 0.015, \"Change_Mean_7D\": 0.0152, \"Trending\": -0.0002, \"Weight\": 0.0041}, {\"Country\": \"Qatar\", \"Total\": 4103, \"New\": 392.0, \"New_Mean_7D\": 247.0, \"Change\": 0.1056, \"Change_Mean_7D\": 0.0813, \"Trending\": 0.0243, \"Weight\": 0.0041}, {\"Country\": \"Indonesia\", \"Total\": 5516, \"New\": 380.0, \"New_Mean_7D\": 318.0, \"Change\": 0.074, \"Change_Mean_7D\": 0.0766, \"Trending\": -0.0026, \"Weight\": 0.0039}, {\"Country\": \"Ecuador\", \"Total\": 8225, \"New\": 367.0, \"New_Mean_7D\": 466.0, \"Change\": 0.0467, \"Change_Mean_7D\": 0.0833, \"Trending\": -0.0366, \"Weight\": 0.0038}, {\"Country\": \"Bangladesh\", \"Total\": 1572, \"New\": 341.0, \"New_Mean_7D\": 177.0, \"Change\": 0.277, \"Change_Mean_7D\": 0.251, \"Trending\": 0.026, \"Weight\": 0.0035}, {\"Country\": \"Poland\", \"Total\": 7918, \"New\": 336.0, \"New_Mean_7D\": 335.0, \"Change\": 0.0443, \"Change_Mean_7D\": 0.0515, \"Trending\": -0.0071, \"Weight\": 0.0035}, {\"Country\": \"Morocco\", \"Total\": 2283, \"New\": 259.0, \"New_Mean_7D\": 130.0, \"Change\": 0.128, \"Change_Mean_7D\": 0.0755, \"Trending\": 0.0525, \"Weight\": 0.0027}, {\"Country\": \"Israel\", \"Total\": 12758, \"New\": 257.0, \"New_Mean_7D\": 399.0, \"Change\": 0.0206, \"Change_Mean_7D\": 0.0359, \"Trending\": -0.0153, \"Weight\": 0.0027}, {\"Country\": \"Czechia\", \"Total\": 6433, \"New\": 217.0, \"New_Mean_7D\": 123.0, \"Change\": 0.0349, \"Change_Mean_7D\": 0.0209, \"Trending\": 0.0141, \"Weight\": 0.0022}, {\"Country\": \"Philippines\", \"Total\": 5660, \"New\": 207.0, \"New_Mean_7D\": 226.0, \"Change\": 0.038, \"Change_Mean_7D\": 0.0481, \"Trending\": -0.0101, \"Weight\": 0.0021}, {\"Country\": \"Denmark\", \"Total\": 7074, \"New\": 198.0, \"New_Mean_7D\": 178.0, \"Change\": 0.0288, \"Change_Mean_7D\": 0.028, \"Trending\": 0.0008, \"Weight\": 0.002}, {\"Country\": \"Panama\", \"Total\": 3751, \"New\": 177.0, \"New_Mean_7D\": 175.0, \"Change\": 0.0495, \"Change_Mean_7D\": 0.0583, \"Trending\": -0.0088, \"Weight\": 0.0018}, {\"Country\": \"Egypt\", \"Total\": 2673, \"New\": 168.0, \"New_Mean_7D\": 139.0, \"Change\": 0.0671, \"Change_Mean_7D\": 0.0669, \"Trending\": 0.0002, \"Weight\": 0.0017}, {\"Country\": \"Norway\", \"Total\": 6896, \"New\": 156.0, \"New_Mean_7D\": 98.0, \"Change\": 0.0231, \"Change_Mean_7D\": 0.0151, \"Trending\": 0.0081, \"Weight\": 0.0016}, {\"Country\": \"Dominican Republic\", \"Total\": 3755, \"New\": 141.0, \"New_Mean_7D\": 201.0, \"Change\": 0.039, \"Change_Mean_7D\": 0.0697, \"Trending\": -0.0306, \"Weight\": 0.0015}, {\"Country\": \"Austria\", \"Total\": 14476, \"New\": 140.0, \"New_Mean_7D\": 176.0, \"Change\": 0.0098, \"Change_Mean_7D\": 0.0128, \"Trending\": -0.003, \"Weight\": 0.0014}, {\"Country\": \"Finland\", \"Total\": 3369, \"New\": 132.0, \"New_Mean_7D\": 109.0, \"Change\": 0.0408, \"Change_Mean_7D\": 0.0375, \"Trending\": 0.0033, \"Weight\": 0.0014}, {\"Country\": \"Colombia\", \"Total\": 3233, \"New\": 128.0, \"New_Mean_7D\": 144.0, \"Change\": 0.0412, \"Change_Mean_7D\": 0.0554, \"Trending\": -0.0142, \"Weight\": 0.0013}, {\"Country\": \"Argentina\", \"Total\": 2571, \"New\": 128.0, \"New_Mean_7D\": 111.0, \"Change\": 0.0524, \"Change_Mean_7D\": 0.0532, \"Trending\": -0.0008, \"Weight\": 0.0013}, {\"Country\": \"Kuwait\", \"Total\": 1524, \"New\": 119.0, \"New_Mean_7D\": 88.0, \"Change\": 0.0847, \"Change_Mean_7D\": 0.0772, \"Trending\": 0.0075, \"Weight\": 0.0012}, {\"Country\": \"Malaysia\", \"Total\": 5182, \"New\": 110.0, \"New_Mean_7D\": 136.0, \"Change\": 0.0217, \"Change_Mean_7D\": 0.0295, \"Trending\": -0.0078, \"Weight\": 0.0011}, {\"Country\": \"Oman\", \"Total\": 1019, \"New\": 109.0, \"New_Mean_7D\": 80.0, \"Change\": 0.1198, \"Change_Mean_7D\": 0.1222, \"Trending\": -0.0024, \"Weight\": 0.0011}, {\"Country\": \"Algeria\", \"Total\": 2268, \"New\": 108.0, \"New_Mean_7D\": 86.0, \"Change\": 0.05, \"Change_Mean_7D\": 0.0451, \"Trending\": 0.0049, \"Weight\": 0.0011}, {\"Country\": \"Kazakhstan\", \"Total\": 1402, \"New\": 107.0, \"New_Mean_7D\": 89.0, \"Change\": 0.0826, \"Change_Mean_7D\": 0.0878, \"Trending\": -0.0052, \"Weight\": 0.0011}, {\"Country\": \"North Macedonia\", \"Total\": 1081, \"New\": 107.0, \"New_Mean_7D\": 60.0, \"Change\": 0.1099, \"Change_Mean_7D\": 0.0726, \"Trending\": 0.0373, \"Weight\": 0.0011}, {\"Country\": \"Moldova\", \"Total\": 2154, \"New\": 105.0, \"New_Mean_7D\": 124.0, \"Change\": 0.0512, \"Change_Mean_7D\": 0.0766, \"Trending\": -0.0254, \"Weight\": 0.0011}, {\"Country\": \"South Africa\", \"Total\": 2605, \"New\": 99.0, \"New_Mean_7D\": 96.0, \"Change\": 0.0395, \"Change_Mean_7D\": 0.0436, \"Trending\": -0.0041, \"Weight\": 0.001}, {\"Country\": \"Hungary\", \"Total\": 1652, \"New\": 73.0, \"New_Mean_7D\": 96.0, \"Change\": 0.0462, \"Change_Mean_7D\": 0.079, \"Trending\": -0.0328, \"Weight\": 0.0008}, {\"Country\": \"Luxembourg\", \"Total\": 3444, \"New\": 71.0, \"New_Mean_7D\": 47.0, \"Change\": 0.021, \"Change_Mean_7D\": 0.0145, \"Trending\": 0.0065, \"Weight\": 0.0007}, {\"Country\": \"Bosnia and Herzegovina\", \"Total\": 1167, \"New\": 57.0, \"New_Mean_7D\": 44.0, \"Change\": 0.0514, \"Change_Mean_7D\": 0.045, \"Trending\": 0.0063, \"Weight\": 0.0006}, {\"Country\": \"Croatia\", \"Total\": 1791, \"New\": 50.0, \"New_Mean_7D\": 55.0, \"Change\": 0.0287, \"Change_Mean_7D\": 0.0352, \"Trending\": -0.0064, \"Weight\": 0.0005}, {\"Country\": \"Armenia\", \"Total\": 1159, \"New\": 48.0, \"New_Mean_7D\": 34.0, \"Change\": 0.0432, \"Change_Mean_7D\": 0.0334, \"Trending\": 0.0098, \"Weight\": 0.0005}, {\"Country\": \"China\", \"Total\": 83403, \"New\": 47.0, \"New_Mean_7D\": 74.0, \"Change\": 0.0006, \"Change_Mean_7D\": 0.0009, \"Trending\": -0.0003, \"Weight\": 0.0005}, {\"Country\": \"Uzbekistan\", \"Total\": 1349, \"New\": 47.0, \"New_Mean_7D\": 110.0, \"Change\": 0.0361, \"Change_Mean_7D\": 0.1291, \"Trending\": -0.093, \"Weight\": 0.0005}, {\"Country\": \"Lithuania\", \"Total\": 1128, \"New\": 37.0, \"New_Mean_7D\": 25.0, \"Change\": 0.0339, \"Change_Mean_7D\": 0.0241, \"Trending\": 0.0098, \"Weight\": 0.0004}, {\"Country\": \"Estonia\", \"Total\": 1434, \"New\": 34.0, \"New_Mean_7D\": 32.0, \"Change\": 0.0243, \"Change_Mean_7D\": 0.025, \"Trending\": -0.0007, \"Weight\": 0.0004}, {\"Country\": \"Azerbaijan\", \"Total\": 1283, \"New\": 30.0, \"New_Mean_7D\": 51.0, \"Change\": 0.0239, \"Change_Mean_7D\": 0.0478, \"Trending\": -0.0239, \"Weight\": 0.0003}, {\"Country\": \"Thailand\", \"Total\": 2672, \"New\": 29.0, \"New_Mean_7D\": 36.0, \"Change\": 0.011, \"Change_Mean_7D\": 0.0141, \"Trending\": -0.0031, \"Weight\": 0.0003}, {\"Country\": \"Bahrain\", \"Total\": 1700, \"New\": 29.0, \"New_Mean_7D\": 116.0, \"Change\": 0.0174, \"Change_Mean_7D\": 0.0987, \"Trending\": -0.0814, \"Weight\": 0.0003}, {\"Country\": \"Korea, South\", \"Total\": 10613, \"New\": 22.0, \"New_Mean_7D\": 27.0, \"Change\": 0.0021, \"Change_Mean_7D\": 0.0026, \"Trending\": -0.0005, \"Weight\": 0.0002}, {\"Country\": \"Australia\", \"Total\": 6462, \"New\": 22.0, \"New_Mean_7D\": 51.0, \"Change\": 0.0034, \"Change_Mean_7D\": 0.0081, \"Trending\": -0.0047, \"Weight\": 0.0002}, {\"Country\": \"Slovenia\", \"Total\": 1268, \"New\": 20.0, \"New_Mean_7D\": 21.0, \"Change\": 0.016, \"Change_Mean_7D\": 0.0174, \"Trending\": -0.0014, \"Weight\": 0.0002}, {\"Country\": \"Iraq\", \"Total\": 1434, \"New\": 19.0, \"New_Mean_7D\": 29.0, \"Change\": 0.0134, \"Change_Mean_7D\": 0.022, \"Trending\": -0.0085, \"Weight\": 0.0002}, {\"Country\": \"Greece\", \"Total\": 2207, \"New\": 15.0, \"New_Mean_7D\": 36.0, \"Change\": 0.0068, \"Change_Mean_7D\": 0.0175, \"Trending\": -0.0107, \"Weight\": 0.0002}, {\"Country\": \"New Zealand\", \"Total\": 1401, \"New\": 15.0, \"New_Mean_7D\": 23.0, \"Change\": 0.0108, \"Change_Mean_7D\": 0.0177, \"Trending\": -0.0069, \"Weight\": 0.0002}, {\"Country\": \"Iceland\", \"Total\": 1739, \"New\": 12.0, \"New_Mean_7D\": 13.0, \"Change\": 0.0069, \"Change_Mean_7D\": 0.0077, \"Trending\": -0.0008, \"Weight\": 0.0001}]}}, {\"mode\": \"vega-lite\"});\n",
              "</script>"
            ]
          },
          "metadata": {
            "tags": []
          },
          "execution_count": 197
        }
      ]
    },
    {
      "cell_type": "code",
      "metadata": {
        "id": "fBDatWSXPI8w",
        "colab_type": "code",
        "colab": {
          "base_uri": "https://localhost:8080/",
          "height": 385
        },
        "outputId": "e3454d68-f92d-4c52-9dd6-ce7cd08065d6"
      },
      "source": [
        "#hide_input\n",
        "_weight_bar.properties(\n",
        "    title = 'Weight of New Cases by Country (Country with weight more than 3%)',\n",
        "    width = 600\n",
        ")"
      ],
      "execution_count": 183,
      "outputs": [
        {
          "output_type": "execute_result",
          "data": {
            "text/plain": [
              "alt.Chart(...)"
            ],
            "text/html": [
              "\n",
              "<div id=\"altair-viz-b6bbe083280e4316881a759105d23f52\"></div>\n",
              "<script type=\"text/javascript\">\n",
              "  (function(spec, embedOpt){\n",
              "    let outputDiv = document.currentScript.previousElementSibling;\n",
              "    if (outputDiv.id !== \"altair-viz-b6bbe083280e4316881a759105d23f52\") {\n",
              "      outputDiv = document.getElementById(\"altair-viz-b6bbe083280e4316881a759105d23f52\");\n",
              "    }\n",
              "    const paths = {\n",
              "      \"vega\": \"https://cdn.jsdelivr.net/npm//vega@5?noext\",\n",
              "      \"vega-lib\": \"https://cdn.jsdelivr.net/npm//vega-lib?noext\",\n",
              "      \"vega-lite\": \"https://cdn.jsdelivr.net/npm//vega-lite@4.8.1?noext\",\n",
              "      \"vega-embed\": \"https://cdn.jsdelivr.net/npm//vega-embed@6?noext\",\n",
              "    };\n",
              "\n",
              "    function loadScript(lib) {\n",
              "      return new Promise(function(resolve, reject) {\n",
              "        var s = document.createElement('script');\n",
              "        s.src = paths[lib];\n",
              "        s.async = true;\n",
              "        s.onload = () => resolve(paths[lib]);\n",
              "        s.onerror = () => reject(`Error loading script: ${paths[lib]}`);\n",
              "        document.getElementsByTagName(\"head\")[0].appendChild(s);\n",
              "      });\n",
              "    }\n",
              "\n",
              "    function showError(err) {\n",
              "      outputDiv.innerHTML = `<div class=\"error\" style=\"color:red;\">${err}</div>`;\n",
              "      throw err;\n",
              "    }\n",
              "\n",
              "    function displayChart(vegaEmbed) {\n",
              "      vegaEmbed(outputDiv, spec, embedOpt)\n",
              "        .catch(err => showError(`Javascript Error: ${err.message}<br>This usually means there's a typo in your chart specification. See the javascript console for the full traceback.`));\n",
              "    }\n",
              "\n",
              "    if(typeof define === \"function\" && define.amd) {\n",
              "      requirejs.config({paths});\n",
              "      require([\"vega-embed\"], displayChart, err => showError(`Error loading script: ${err.message}`));\n",
              "    } else if (typeof vegaEmbed === \"function\") {\n",
              "      displayChart(vegaEmbed);\n",
              "    } else {\n",
              "      loadScript(\"vega\")\n",
              "        .then(() => loadScript(\"vega-lite\"))\n",
              "        .then(() => loadScript(\"vega-embed\"))\n",
              "        .catch(showError)\n",
              "        .then(() => displayChart(vegaEmbed));\n",
              "    }\n",
              "  })({\"config\": {\"view\": {\"continuousWidth\": 400, \"continuousHeight\": 300}}, \"data\": {\"name\": \"data-dcecaca74fa4f67adcfd5d75bd88dfac\"}, \"mark\": \"bar\", \"encoding\": {\"color\": {\"type\": \"nominal\", \"field\": \"Country\"}, \"opacity\": {\"condition\": {\"value\": 1, \"selection\": \"selector021\"}, \"value\": 0.2}, \"tooltip\": [{\"type\": \"temporal\", \"field\": \"Date\"}, {\"type\": \"nominal\", \"field\": \"Country\"}, {\"type\": \"quantitative\", \"field\": \"New Confirm Weight\"}], \"x\": {\"type\": \"temporal\", \"field\": \"Date\"}, \"y\": {\"type\": \"quantitative\", \"axis\": {\"format\": \"%\"}, \"field\": \"New Confirm Weight\", \"title\": \"Daily Confirm Weight\"}}, \"selection\": {\"selector021\": {\"type\": \"multi\", \"fields\": [\"Country\"], \"bind\": \"legend\"}}, \"title\": \"Weight of New Cases by Country (Country with weight more than 3%)\", \"width\": 600, \"$schema\": \"https://vega.github.io/schema/vega-lite/v4.8.1.json\", \"datasets\": {\"data-dcecaca74fa4f67adcfd5d75bd88dfac\": [{\"Date\": \"2020-01-23T00:00:00\", \"Country\": \"China\", \"New Confirm Weight\": 0.96}, {\"Date\": \"2020-01-24T00:00:00\", \"Country\": \"China\", \"New Confirm Weight\": 0.965}, {\"Date\": \"2020-01-25T00:00:00\", \"Country\": \"China\", \"New Confirm Weight\": 0.986}, {\"Date\": \"2020-01-26T00:00:00\", \"Country\": \"China\", \"New Confirm Weight\": 0.978}, {\"Date\": \"2020-01-27T00:00:00\", \"Country\": \"China\", \"New Confirm Weight\": 0.991}, {\"Date\": \"2020-01-28T00:00:00\", \"Country\": \"China\", \"New Confirm Weight\": 0.993}, {\"Date\": \"2020-01-29T00:00:00\", \"Country\": \"China\", \"New Confirm Weight\": 0.983}, {\"Date\": \"2020-01-30T00:00:00\", \"Country\": \"China\", \"New Confirm Weight\": 0.993}, {\"Date\": \"2020-01-31T00:00:00\", \"Country\": \"China\", \"New Confirm Weight\": 0.981}, {\"Date\": \"2020-02-01T00:00:00\", \"Country\": \"China\", \"New Confirm Weight\": 0.99}, {\"Date\": \"2020-02-02T00:00:00\", \"Country\": \"China\", \"New Confirm Weight\": 0.998}, {\"Date\": \"2020-02-03T00:00:00\", \"Country\": \"China\", \"New Confirm Weight\": 0.997}, {\"Date\": \"2020-02-04T00:00:00\", \"Country\": \"China\", \"New Confirm Weight\": 0.995}, {\"Date\": \"2020-02-05T00:00:00\", \"Country\": \"China\", \"New Confirm Weight\": 0.997}, {\"Date\": \"2020-02-06T00:00:00\", \"Country\": \"China\", \"New Confirm Weight\": 0.996}, {\"Date\": \"2020-02-07T00:00:00\", \"Country\": \"China\", \"New Confirm Weight\": 0.979}, {\"Date\": \"2020-02-08T00:00:00\", \"Country\": \"China\", \"New Confirm Weight\": 0.991}, {\"Date\": \"2020-02-09T00:00:00\", \"Country\": \"China\", \"New Confirm Weight\": 0.995}, {\"Date\": \"2020-02-10T00:00:00\", \"Country\": \"China\", \"New Confirm Weight\": 0.967}, {\"Date\": \"2020-02-11T00:00:00\", \"Country\": \"China\", \"New Confirm Weight\": 0.996}, {\"Date\": \"2020-02-12T00:00:00\", \"Country\": \"China\", \"New Confirm Weight\": 0.89}, {\"Date\": \"2020-02-12T00:00:00\", \"Country\": \"Diamond Princess\", \"New Confirm Weight\": 0.095}, {\"Date\": \"2020-02-13T00:00:00\", \"Country\": \"China\", \"New Confirm Weight\": 0.999}, {\"Date\": \"2020-02-14T00:00:00\", \"Country\": \"China\", \"New Confirm Weight\": 0.992}, {\"Date\": \"2020-02-15T00:00:00\", \"Country\": \"China\", \"New Confirm Weight\": 0.958}, {\"Date\": \"2020-02-15T00:00:00\", \"Country\": \"Diamond Princess\", \"New Confirm Weight\": 0.031}, {\"Date\": \"2020-02-16T00:00:00\", \"Country\": \"China\", \"New Confirm Weight\": 0.957}, {\"Date\": \"2020-02-16T00:00:00\", \"Country\": \"Diamond Princess\", \"New Confirm Weight\": 0.032}, {\"Date\": \"2020-02-17T00:00:00\", \"Country\": \"China\", \"New Confirm Weight\": 0.944}, {\"Date\": \"2020-02-17T00:00:00\", \"Country\": \"Diamond Princess\", \"New Confirm Weight\": 0.049}, {\"Date\": \"2020-02-18T00:00:00\", \"Country\": \"China\", \"New Confirm Weight\": 0.946}, {\"Date\": \"2020-02-18T00:00:00\", \"Country\": \"Diamond Princess\", \"New Confirm Weight\": 0.047}, {\"Date\": \"2020-02-19T00:00:00\", \"Country\": \"China\", \"New Confirm Weight\": 0.811}, {\"Date\": \"2020-02-19T00:00:00\", \"Country\": \"Diamond Princess\", \"New Confirm Weight\": 0.157}, {\"Date\": \"2020-02-20T00:00:00\", \"Country\": \"China\", \"New Confirm Weight\": 0.821}, {\"Date\": \"2020-02-20T00:00:00\", \"Country\": \"Korea, South\", \"New Confirm Weight\": 0.131}, {\"Date\": \"2020-02-21T00:00:00\", \"Country\": \"China\", \"New Confirm Weight\": 0.76}, {\"Date\": \"2020-02-21T00:00:00\", \"Country\": \"Korea, South\", \"New Confirm Weight\": 0.161}, {\"Date\": \"2020-02-22T00:00:00\", \"Country\": \"China\", \"New Confirm Weight\": 0.828}, {\"Date\": \"2020-02-22T00:00:00\", \"Country\": \"Korea, South\", \"New Confirm Weight\": 0.131}, {\"Date\": \"2020-02-23T00:00:00\", \"Country\": \"China\", \"New Confirm Weight\": 0.054}, {\"Date\": \"2020-02-23T00:00:00\", \"Country\": \"Diamond Princess\", \"New Confirm Weight\": 0.148}, {\"Date\": \"2020-02-23T00:00:00\", \"Country\": \"Iran\", \"New Confirm Weight\": 0.039}, {\"Date\": \"2020-02-23T00:00:00\", \"Country\": \"Italy\", \"New Confirm Weight\": 0.241}, {\"Date\": \"2020-02-23T00:00:00\", \"Country\": \"Japan\", \"New Confirm Weight\": 0.065}, {\"Date\": \"2020-02-23T00:00:00\", \"Country\": \"Korea, South\", \"New Confirm Weight\": 0.438}, {\"Date\": \"2020-02-24T00:00:00\", \"Country\": \"China\", \"New Confirm Weight\": 0.363}, {\"Date\": \"2020-02-24T00:00:00\", \"Country\": \"Italy\", \"New Confirm Weight\": 0.123}, {\"Date\": \"2020-02-24T00:00:00\", \"Country\": \"Korea, South\", \"New Confirm Weight\": 0.383}, {\"Date\": \"2020-02-24T00:00:00\", \"Country\": \"US\", \"New Confirm Weight\": 0.06}, {\"Date\": \"2020-02-25T00:00:00\", \"Country\": \"China\", \"New Confirm Weight\": 0.607}, {\"Date\": \"2020-02-25T00:00:00\", \"Country\": \"Iran\", \"New Confirm Weight\": 0.04}, {\"Date\": \"2020-02-25T00:00:00\", \"Country\": \"Italy\", \"New Confirm Weight\": 0.11}, {\"Date\": \"2020-02-25T00:00:00\", \"Country\": \"Korea, South\", \"New Confirm Weight\": 0.17}, {\"Date\": \"2020-02-26T00:00:00\", \"Country\": \"China\", \"New Confirm Weight\": 0.42}, {\"Date\": \"2020-02-26T00:00:00\", \"Country\": \"Iran\", \"New Confirm Weight\": 0.045}, {\"Date\": \"2020-02-26T00:00:00\", \"Country\": \"Italy\", \"New Confirm Weight\": 0.133}, {\"Date\": \"2020-02-26T00:00:00\", \"Country\": \"Korea, South\", \"New Confirm Weight\": 0.289}, {\"Date\": \"2020-02-27T00:00:00\", \"Country\": \"China\", \"New Confirm Weight\": 0.32}, {\"Date\": \"2020-02-27T00:00:00\", \"Country\": \"Iran\", \"New Confirm Weight\": 0.078}, {\"Date\": \"2020-02-27T00:00:00\", \"Country\": \"Italy\", \"New Confirm Weight\": 0.149}, {\"Date\": \"2020-02-27T00:00:00\", \"Country\": \"Korea, South\", \"New Confirm Weight\": 0.372}, {\"Date\": \"2020-02-28T00:00:00\", \"Country\": \"China\", \"New Confirm Weight\": 0.24}, {\"Date\": \"2020-02-28T00:00:00\", \"Country\": \"Iran\", \"New Confirm Weight\": 0.105}, {\"Date\": \"2020-02-28T00:00:00\", \"Country\": \"Italy\", \"New Confirm Weight\": 0.171}, {\"Date\": \"2020-02-28T00:00:00\", \"Country\": \"Korea, South\", \"New Confirm Weight\": 0.418}, {\"Date\": \"2020-02-29T00:00:00\", \"Country\": \"China\", \"New Confirm Weight\": 0.225}, {\"Date\": \"2020-02-29T00:00:00\", \"Country\": \"Iran\", \"New Confirm Weight\": 0.108}, {\"Date\": \"2020-02-29T00:00:00\", \"Country\": \"Italy\", \"New Confirm Weight\": 0.126}, {\"Date\": \"2020-02-29T00:00:00\", \"Country\": \"Korea, South\", \"New Confirm Weight\": 0.428}, {\"Date\": \"2020-03-01T00:00:00\", \"Country\": \"China\", \"New Confirm Weight\": 0.244}, {\"Date\": \"2020-03-01T00:00:00\", \"Country\": \"Iran\", \"New Confirm Weight\": 0.163}, {\"Date\": \"2020-03-01T00:00:00\", \"Country\": \"Italy\", \"New Confirm Weight\": 0.24}, {\"Date\": \"2020-03-01T00:00:00\", \"Country\": \"Korea, South\", \"New Confirm Weight\": 0.249}, {\"Date\": \"2020-03-02T00:00:00\", \"Country\": \"China\", \"New Confirm Weight\": 0.105}, {\"Date\": \"2020-03-02T00:00:00\", \"Country\": \"France\", \"New Confirm Weight\": 0.031}, {\"Date\": \"2020-03-02T00:00:00\", \"Country\": \"Iran\", \"New Confirm Weight\": 0.27}, {\"Date\": \"2020-03-02T00:00:00\", \"Country\": \"Italy\", \"New Confirm Weight\": 0.177}, {\"Date\": \"2020-03-02T00:00:00\", \"Country\": \"Korea, South\", \"New Confirm Weight\": 0.309}, {\"Date\": \"2020-03-03T00:00:00\", \"Country\": \"China\", \"New Confirm Weight\": 0.049}, {\"Date\": \"2020-03-03T00:00:00\", \"Country\": \"Iran\", \"New Confirm Weight\": 0.33}, {\"Date\": \"2020-03-03T00:00:00\", \"Country\": \"Italy\", \"New Confirm Weight\": 0.184}, {\"Date\": \"2020-03-03T00:00:00\", \"Country\": \"Korea, South\", \"New Confirm Weight\": 0.336}, {\"Date\": \"2020-03-04T00:00:00\", \"Country\": \"China\", \"New Confirm Weight\": 0.055}, {\"Date\": \"2020-03-04T00:00:00\", \"Country\": \"France\", \"New Confirm Weight\": 0.037}, {\"Date\": \"2020-03-04T00:00:00\", \"Country\": \"Iran\", \"New Confirm Weight\": 0.257}, {\"Date\": \"2020-03-04T00:00:00\", \"Country\": \"Italy\", \"New Confirm Weight\": 0.257}, {\"Date\": \"2020-03-04T00:00:00\", \"Country\": \"Korea, South\", \"New Confirm Weight\": 0.191}, {\"Date\": \"2020-03-05T00:00:00\", \"Country\": \"China\", \"New Confirm Weight\": 0.055}, {\"Date\": \"2020-03-05T00:00:00\", \"Country\": \"France\", \"New Confirm Weight\": 0.033}, {\"Date\": \"2020-03-05T00:00:00\", \"Country\": \"Germany\", \"New Confirm Weight\": 0.08}, {\"Date\": \"2020-03-05T00:00:00\", \"Country\": \"Iran\", \"New Confirm Weight\": 0.214}, {\"Date\": \"2020-03-05T00:00:00\", \"Country\": \"Italy\", \"New Confirm Weight\": 0.278}, {\"Date\": \"2020-03-05T00:00:00\", \"Country\": \"Korea, South\", \"New Confirm Weight\": 0.169}, {\"Date\": \"2020-03-06T00:00:00\", \"Country\": \"China\", \"New Confirm Weight\": 0.039}, {\"Date\": \"2020-03-06T00:00:00\", \"Country\": \"France\", \"New Confirm Weight\": 0.07}, {\"Date\": \"2020-03-06T00:00:00\", \"Country\": \"Germany\", \"New Confirm Weight\": 0.048}, {\"Date\": \"2020-03-06T00:00:00\", \"Country\": \"Iran\", \"New Confirm Weight\": 0.315}, {\"Date\": \"2020-03-06T00:00:00\", \"Country\": \"Italy\", \"New Confirm Weight\": 0.199}, {\"Date\": \"2020-03-06T00:00:00\", \"Country\": \"Korea, South\", \"New Confirm Weight\": 0.129}, {\"Date\": \"2020-03-06T00:00:00\", \"Country\": \"Spain\", \"New Confirm Weight\": 0.036}, {\"Date\": \"2020-03-07T00:00:00\", \"Country\": \"France\", \"New Confirm Weight\": 0.075}, {\"Date\": \"2020-03-07T00:00:00\", \"Country\": \"Germany\", \"New Confirm Weight\": 0.032}, {\"Date\": \"2020-03-07T00:00:00\", \"Country\": \"Iran\", \"New Confirm Weight\": 0.266}, {\"Date\": \"2020-03-07T00:00:00\", \"Country\": \"Italy\", \"New Confirm Weight\": 0.308}, {\"Date\": \"2020-03-07T00:00:00\", \"Country\": \"Korea, South\", \"New Confirm Weight\": 0.111}, {\"Date\": \"2020-03-07T00:00:00\", \"Country\": \"US\", \"New Confirm Weight\": 0.035}, {\"Date\": \"2020-03-08T00:00:00\", \"Country\": \"France\", \"New Confirm Weight\": 0.045}, {\"Date\": \"2020-03-08T00:00:00\", \"Country\": \"Germany\", \"New Confirm Weight\": 0.061}, {\"Date\": \"2020-03-08T00:00:00\", \"Country\": \"Iran\", \"New Confirm Weight\": 0.187}, {\"Date\": \"2020-03-08T00:00:00\", \"Country\": \"Italy\", \"New Confirm Weight\": 0.375}, {\"Date\": \"2020-03-08T00:00:00\", \"Country\": \"Korea, South\", \"New Confirm Weight\": 0.069}, {\"Date\": \"2020-03-08T00:00:00\", \"Country\": \"Spain\", \"New Confirm Weight\": 0.044}, {\"Date\": \"2020-03-09T00:00:00\", \"Country\": \"Germany\", \"New Confirm Weight\": 0.036}, {\"Date\": \"2020-03-09T00:00:00\", \"Country\": \"Iran\", \"New Confirm Weight\": 0.158}, {\"Date\": \"2020-03-09T00:00:00\", \"Country\": \"Italy\", \"New Confirm Weight\": 0.477}, {\"Date\": \"2020-03-09T00:00:00\", \"Country\": \"Korea, South\", \"New Confirm Weight\": 0.044}, {\"Date\": \"2020-03-09T00:00:00\", \"Country\": \"Spain\", \"New Confirm Weight\": 0.106}, {\"Date\": \"2020-03-10T00:00:00\", \"Country\": \"Denmark\", \"New Confirm Weight\": 0.034}, {\"Date\": \"2020-03-10T00:00:00\", \"Country\": \"France\", \"New Confirm Weight\": 0.114}, {\"Date\": \"2020-03-10T00:00:00\", \"Country\": \"Germany\", \"New Confirm Weight\": 0.056}, {\"Date\": \"2020-03-10T00:00:00\", \"Country\": \"Iran\", \"New Confirm Weight\": 0.175}, {\"Date\": \"2020-03-10T00:00:00\", \"Country\": \"Italy\", \"New Confirm Weight\": 0.194}, {\"Date\": \"2020-03-10T00:00:00\", \"Country\": \"Norway\", \"New Confirm Weight\": 0.039}, {\"Date\": \"2020-03-10T00:00:00\", \"Country\": \"Spain\", \"New Confirm Weight\": 0.124}, {\"Date\": \"2020-03-10T00:00:00\", \"Country\": \"US\", \"New Confirm Weight\": 0.075}, {\"Date\": \"2020-03-11T00:00:00\", \"Country\": \"France\", \"New Confirm Weight\": 0.069}, {\"Date\": \"2020-03-11T00:00:00\", \"Country\": \"Germany\", \"New Confirm Weight\": 0.062}, {\"Date\": \"2020-03-11T00:00:00\", \"Country\": \"Iran\", \"New Confirm Weight\": 0.132}, {\"Date\": \"2020-03-11T00:00:00\", \"Country\": \"Italy\", \"New Confirm Weight\": 0.319}, {\"Date\": \"2020-03-11T00:00:00\", \"Country\": \"Korea, South\", \"New Confirm Weight\": 0.033}, {\"Date\": \"2020-03-11T00:00:00\", \"Country\": \"Qatar\", \"New Confirm Weight\": 0.033}, {\"Date\": \"2020-03-11T00:00:00\", \"Country\": \"Spain\", \"New Confirm Weight\": 0.08}, {\"Date\": \"2020-03-11T00:00:00\", \"Country\": \"US\", \"New Confirm Weight\": 0.044}, {\"Date\": \"2020-03-12T00:00:00\", \"Country\": \"Denmark\", \"New Confirm Weight\": 0.07}, {\"Date\": \"2020-03-12T00:00:00\", \"Country\": \"Germany\", \"New Confirm Weight\": 0.069}, {\"Date\": \"2020-03-12T00:00:00\", \"Country\": \"Iran\", \"New Confirm Weight\": 0.434}, {\"Date\": \"2020-03-12T00:00:00\", \"Country\": \"Korea, South\", \"New Confirm Weight\": 0.046}, {\"Date\": \"2020-03-12T00:00:00\", \"Country\": \"Norway\", \"New Confirm Weight\": 0.042}, {\"Date\": \"2020-03-12T00:00:00\", \"Country\": \"Sweden\", \"New Confirm Weight\": 0.04}, {\"Date\": \"2020-03-12T00:00:00\", \"Country\": \"US\", \"New Confirm Weight\": 0.154}, {\"Date\": \"2020-03-13T00:00:00\", \"Country\": \"France\", \"New Confirm Weight\": 0.082}, {\"Date\": \"2020-03-13T00:00:00\", \"Country\": \"Germany\", \"New Confirm Weight\": 0.095}, {\"Date\": \"2020-03-13T00:00:00\", \"Country\": \"Iran\", \"New Confirm Weight\": 0.076}, {\"Date\": \"2020-03-13T00:00:00\", \"Country\": \"Italy\", \"New Confirm Weight\": 0.308}, {\"Date\": \"2020-03-13T00:00:00\", \"Country\": \"Spain\", \"New Confirm Weight\": 0.175}, {\"Date\": \"2020-03-13T00:00:00\", \"Country\": \"US\", \"New Confirm Weight\": 0.031}, {\"Date\": \"2020-03-14T00:00:00\", \"Country\": \"France\", \"New Confirm Weight\": 0.075}, {\"Date\": \"2020-03-14T00:00:00\", \"Country\": \"Germany\", \"New Confirm Weight\": 0.084}, {\"Date\": \"2020-03-14T00:00:00\", \"Country\": \"Iran\", \"New Confirm Weight\": 0.125}, {\"Date\": \"2020-03-14T00:00:00\", \"Country\": \"Italy\", \"New Confirm Weight\": 0.321}, {\"Date\": \"2020-03-14T00:00:00\", \"Country\": \"Spain\", \"New Confirm Weight\": 0.106}, {\"Date\": \"2020-03-14T00:00:00\", \"Country\": \"US\", \"New Confirm Weight\": 0.05}, {\"Date\": \"2020-03-14T00:00:00\", \"Country\": \"United Kingdom\", \"New Confirm Weight\": 0.031}, {\"Date\": \"2020-03-15T00:00:00\", \"Country\": \"Germany\", \"New Confirm Weight\": 0.107}, {\"Date\": \"2020-03-15T00:00:00\", \"Country\": \"Iran\", \"New Confirm Weight\": 0.106}, {\"Date\": \"2020-03-15T00:00:00\", \"Country\": \"Italy\", \"New Confirm Weight\": 0.316}, {\"Date\": \"2020-03-15T00:00:00\", \"Country\": \"Spain\", \"New Confirm Weight\": 0.124}, {\"Date\": \"2020-03-15T00:00:00\", \"Country\": \"Switzerland\", \"New Confirm Weight\": 0.074}, {\"Date\": \"2020-03-15T00:00:00\", \"Country\": \"US\", \"New Confirm Weight\": 0.068}, {\"Date\": \"2020-03-16T00:00:00\", \"Country\": \"France\", \"New Confirm Weight\": 0.152}, {\"Date\": \"2020-03-16T00:00:00\", \"Country\": \"Germany\", \"New Confirm Weight\": 0.105}, {\"Date\": \"2020-03-16T00:00:00\", \"Country\": \"Iran\", \"New Confirm Weight\": 0.075}, {\"Date\": \"2020-03-16T00:00:00\", \"Country\": \"Italy\", \"New Confirm Weight\": 0.229}, {\"Date\": \"2020-03-16T00:00:00\", \"Country\": \"Spain\", \"New Confirm Weight\": 0.152}, {\"Date\": \"2020-03-16T00:00:00\", \"Country\": \"US\", \"New Confirm Weight\": 0.08}, {\"Date\": \"2020-03-17T00:00:00\", \"Country\": \"France\", \"New Confirm Weight\": 0.066}, {\"Date\": \"2020-03-17T00:00:00\", \"Country\": \"Germany\", \"New Confirm Weight\": 0.128}, {\"Date\": \"2020-03-17T00:00:00\", \"Country\": \"Iran\", \"New Confirm Weight\": 0.076}, {\"Date\": \"2020-03-17T00:00:00\", \"Country\": \"Italy\", \"New Confirm Weight\": 0.227}, {\"Date\": \"2020-03-17T00:00:00\", \"Country\": \"Spain\", \"New Confirm Weight\": 0.116}, {\"Date\": \"2020-03-17T00:00:00\", \"Country\": \"Switzerland\", \"New Confirm Weight\": 0.032}, {\"Date\": \"2020-03-17T00:00:00\", \"Country\": \"US\", \"New Confirm Weight\": 0.115}, {\"Date\": \"2020-03-18T00:00:00\", \"Country\": \"France\", \"New Confirm Weight\": 0.08}, {\"Date\": \"2020-03-18T00:00:00\", \"Country\": \"Germany\", \"New Confirm Weight\": 0.173}, {\"Date\": \"2020-03-18T00:00:00\", \"Country\": \"Iran\", \"New Confirm Weight\": 0.067}, {\"Date\": \"2020-03-18T00:00:00\", \"Country\": \"Italy\", \"New Confirm Weight\": 0.237}, {\"Date\": \"2020-03-18T00:00:00\", \"Country\": \"Spain\", \"New Confirm Weight\": 0.122}, {\"Date\": \"2020-03-18T00:00:00\", \"Country\": \"US\", \"New Confirm Weight\": 0.077}, {\"Date\": \"2020-03-18T00:00:00\", \"Country\": \"United Kingdom\", \"New Confirm Weight\": 0.038}, {\"Date\": \"2020-03-19T00:00:00\", \"Country\": \"France\", \"New Confirm Weight\": 0.067}, {\"Date\": \"2020-03-19T00:00:00\", \"Country\": \"Germany\", \"New Confirm Weight\": 0.108}, {\"Date\": \"2020-03-19T00:00:00\", \"Country\": \"Iran\", \"New Confirm Weight\": 0.038}, {\"Date\": \"2020-03-19T00:00:00\", \"Country\": \"Italy\", \"New Confirm Weight\": 0.192}, {\"Date\": \"2020-03-19T00:00:00\", \"Country\": \"Spain\", \"New Confirm Weight\": 0.146}, {\"Date\": \"2020-03-19T00:00:00\", \"Country\": \"Switzerland\", \"New Confirm Weight\": 0.038}, {\"Date\": \"2020-03-19T00:00:00\", \"Country\": \"US\", \"New Confirm Weight\": 0.215}, {\"Date\": \"2020-03-20T00:00:00\", \"Country\": \"France\", \"New Confirm Weight\": 0.06}, {\"Date\": \"2020-03-20T00:00:00\", \"Country\": \"Germany\", \"New Confirm Weight\": 0.153}, {\"Date\": \"2020-03-20T00:00:00\", \"Country\": \"Iran\", \"New Confirm Weight\": 0.042}, {\"Date\": \"2020-03-20T00:00:00\", \"Country\": \"Italy\", \"New Confirm Weight\": 0.202}, {\"Date\": \"2020-03-20T00:00:00\", \"Country\": \"Spain\", \"New Confirm Weight\": 0.083}, {\"Date\": \"2020-03-20T00:00:00\", \"Country\": \"Switzerland\", \"New Confirm Weight\": 0.041}, {\"Date\": \"2020-03-20T00:00:00\", \"Country\": \"US\", \"New Confirm Weight\": 0.186}, {\"Date\": \"2020-03-20T00:00:00\", \"Country\": \"United Kingdom\", \"New Confirm Weight\": 0.044}, {\"Date\": \"2020-03-21T00:00:00\", \"Country\": \"France\", \"New Confirm Weight\": 0.053}, {\"Date\": \"2020-03-21T00:00:00\", \"Country\": \"Germany\", \"New Confirm Weight\": 0.073}, {\"Date\": \"2020-03-21T00:00:00\", \"Country\": \"Italy\", \"New Confirm Weight\": 0.203}, {\"Date\": \"2020-03-21T00:00:00\", \"Country\": \"Spain\", \"New Confirm Weight\": 0.154}, {\"Date\": \"2020-03-21T00:00:00\", \"Country\": \"Switzerland\", \"New Confirm Weight\": 0.04}, {\"Date\": \"2020-03-21T00:00:00\", \"Country\": \"US\", \"New Confirm Weight\": 0.196}, {\"Date\": \"2020-03-21T00:00:00\", \"Country\": \"United Kingdom\", \"New Confirm Weight\": 0.033}, {\"Date\": \"2020-03-22T00:00:00\", \"Country\": \"France\", \"New Confirm Weight\": 0.055}, {\"Date\": \"2020-03-22T00:00:00\", \"Country\": \"Germany\", \"New Confirm Weight\": 0.082}, {\"Date\": \"2020-03-22T00:00:00\", \"Country\": \"Iran\", \"New Confirm Weight\": 0.032}, {\"Date\": \"2020-03-22T00:00:00\", \"Country\": \"Italy\", \"New Confirm Weight\": 0.171}, {\"Date\": \"2020-03-22T00:00:00\", \"Country\": \"Spain\", \"New Confirm Weight\": 0.105}, {\"Date\": \"2020-03-22T00:00:00\", \"Country\": \"US\", \"New Confirm Weight\": 0.237}, {\"Date\": \"2020-03-23T00:00:00\", \"Country\": \"France\", \"New Confirm Weight\": 0.094}, {\"Date\": \"2020-03-23T00:00:00\", \"Country\": \"Germany\", \"New Confirm Weight\": 0.101}, {\"Date\": \"2020-03-23T00:00:00\", \"Country\": \"Iran\", \"New Confirm Weight\": 0.034}, {\"Date\": \"2020-03-23T00:00:00\", \"Country\": \"Italy\", \"New Confirm Weight\": 0.116}, {\"Date\": \"2020-03-23T00:00:00\", \"Country\": \"Spain\", \"New Confirm Weight\": 0.154}, {\"Date\": \"2020-03-23T00:00:00\", \"Country\": \"Switzerland\", \"New Confirm Weight\": 0.032}, {\"Date\": \"2020-03-23T00:00:00\", \"Country\": \"US\", \"New Confirm Weight\": 0.256}, {\"Date\": \"2020-03-24T00:00:00\", \"Country\": \"France\", \"New Confirm Weight\": 0.063}, {\"Date\": \"2020-03-24T00:00:00\", \"Country\": \"Germany\", \"New Confirm Weight\": 0.099}, {\"Date\": \"2020-03-24T00:00:00\", \"Country\": \"Iran\", \"New Confirm Weight\": 0.044}, {\"Date\": \"2020-03-24T00:00:00\", \"Country\": \"Italy\", \"New Confirm Weight\": 0.132}, {\"Date\": \"2020-03-24T00:00:00\", \"Country\": \"Spain\", \"New Confirm Weight\": 0.119}, {\"Date\": \"2020-03-24T00:00:00\", \"Country\": \"US\", \"New Confirm Weight\": 0.249}, {\"Date\": \"2020-03-24T00:00:00\", \"Country\": \"United Kingdom\", \"New Confirm Weight\": 0.036}, {\"Date\": \"2020-03-25T00:00:00\", \"Country\": \"France\", \"New Confirm Weight\": 0.06}, {\"Date\": \"2020-03-25T00:00:00\", \"Country\": \"Germany\", \"New Confirm Weight\": 0.087}, {\"Date\": \"2020-03-25T00:00:00\", \"Country\": \"Iran\", \"New Confirm Weight\": 0.044}, {\"Date\": \"2020-03-25T00:00:00\", \"Country\": \"Italy\", \"New Confirm Weight\": 0.105}, {\"Date\": \"2020-03-25T00:00:00\", \"Country\": \"Spain\", \"New Confirm Weight\": 0.194}, {\"Date\": \"2020-03-25T00:00:00\", \"Country\": \"US\", \"New Confirm Weight\": 0.243}, {\"Date\": \"2020-03-26T00:00:00\", \"Country\": \"France\", \"New Confirm Weight\": 0.064}, {\"Date\": \"2020-03-26T00:00:00\", \"Country\": \"Germany\", \"New Confirm Weight\": 0.107}, {\"Date\": \"2020-03-26T00:00:00\", \"Country\": \"Iran\", \"New Confirm Weight\": 0.039}, {\"Date\": \"2020-03-26T00:00:00\", \"Country\": \"Italy\", \"New Confirm Weight\": 0.1}, {\"Date\": \"2020-03-26T00:00:00\", \"Country\": \"Spain\", \"New Confirm Weight\": 0.134}, {\"Date\": \"2020-03-26T00:00:00\", \"Country\": \"US\", \"New Confirm Weight\": 0.292}, {\"Date\": \"2020-03-26T00:00:00\", \"Country\": \"United Kingdom\", \"New Confirm Weight\": 0.035}, {\"Date\": \"2020-03-27T00:00:00\", \"Country\": \"France\", \"New Confirm Weight\": 0.06}, {\"Date\": \"2020-03-27T00:00:00\", \"Country\": \"Germany\", \"New Confirm Weight\": 0.109}, {\"Date\": \"2020-03-27T00:00:00\", \"Country\": \"Iran\", \"New Confirm Weight\": 0.046}, {\"Date\": \"2020-03-27T00:00:00\", \"Country\": \"Italy\", \"New Confirm Weight\": 0.093}, {\"Date\": \"2020-03-27T00:00:00\", \"Country\": \"Spain\", \"New Confirm Weight\": 0.125}, {\"Date\": \"2020-03-27T00:00:00\", \"Country\": \"Turkey\", \"New Confirm Weight\": 0.032}, {\"Date\": \"2020-03-27T00:00:00\", \"Country\": \"US\", \"New Confirm Weight\": 0.28}, {\"Date\": \"2020-03-27T00:00:00\", \"Country\": \"United Kingdom\", \"New Confirm Weight\": 0.046}, {\"Date\": \"2020-03-28T00:00:00\", \"Country\": \"France\", \"New Confirm Weight\": 0.07}, {\"Date\": \"2020-03-28T00:00:00\", \"Country\": \"Germany\", \"New Confirm Weight\": 0.101}, {\"Date\": \"2020-03-28T00:00:00\", \"Country\": \"Iran\", \"New Confirm Weight\": 0.046}, {\"Date\": \"2020-03-28T00:00:00\", \"Country\": \"Italy\", \"New Confirm Weight\": 0.089}, {\"Date\": \"2020-03-28T00:00:00\", \"Country\": \"Spain\", \"New Confirm Weight\": 0.112}, {\"Date\": \"2020-03-28T00:00:00\", \"Country\": \"US\", \"New Confirm Weight\": 0.294}, {\"Date\": \"2020-03-28T00:00:00\", \"Country\": \"United Kingdom\", \"New Confirm Weight\": 0.038}, {\"Date\": \"2020-03-29T00:00:00\", \"Country\": \"France\", \"New Confirm Weight\": 0.044}, {\"Date\": \"2020-03-29T00:00:00\", \"Country\": \"Germany\", \"New Confirm Weight\": 0.074}, {\"Date\": \"2020-03-29T00:00:00\", \"Country\": \"Iran\", \"New Confirm Weight\": 0.049}, {\"Date\": \"2020-03-29T00:00:00\", \"Country\": \"Italy\", \"New Confirm Weight\": 0.088}, {\"Date\": \"2020-03-29T00:00:00\", \"Country\": \"Spain\", \"New Confirm Weight\": 0.116}, {\"Date\": \"2020-03-29T00:00:00\", \"Country\": \"Turkey\", \"New Confirm Weight\": 0.031}, {\"Date\": \"2020-03-29T00:00:00\", \"Country\": \"US\", \"New Confirm Weight\": 0.327}, {\"Date\": \"2020-03-29T00:00:00\", \"Country\": \"United Kingdom\", \"New Confirm Weight\": 0.042}, {\"Date\": \"2020-03-30T00:00:00\", \"Country\": \"France\", \"New Confirm Weight\": 0.072}, {\"Date\": \"2020-03-30T00:00:00\", \"Country\": \"Germany\", \"New Confirm Weight\": 0.077}, {\"Date\": \"2020-03-30T00:00:00\", \"Country\": \"Iran\", \"New Confirm Weight\": 0.051}, {\"Date\": \"2020-03-30T00:00:00\", \"Country\": \"Italy\", \"New Confirm Weight\": 0.065}, {\"Date\": \"2020-03-30T00:00:00\", \"Country\": \"Spain\", \"New Confirm Weight\": 0.126}, {\"Date\": \"2020-03-30T00:00:00\", \"Country\": \"US\", \"New Confirm Weight\": 0.336}, {\"Date\": \"2020-03-30T00:00:00\", \"Country\": \"United Kingdom\", \"New Confirm Weight\": 0.043}, {\"Date\": \"2020-03-31T00:00:00\", \"Country\": \"France\", \"New Confirm Weight\": 0.102}, {\"Date\": \"2020-03-31T00:00:00\", \"Country\": \"Germany\", \"New Confirm Weight\": 0.066}, {\"Date\": \"2020-03-31T00:00:00\", \"Country\": \"Iran\", \"New Confirm Weight\": 0.041}, {\"Date\": \"2020-03-31T00:00:00\", \"Country\": \"Italy\", \"New Confirm Weight\": 0.054}, {\"Date\": \"2020-03-31T00:00:00\", \"Country\": \"Spain\", \"New Confirm Weight\": 0.106}, {\"Date\": \"2020-03-31T00:00:00\", \"Country\": \"Turkey\", \"New Confirm Weight\": 0.036}, {\"Date\": \"2020-03-31T00:00:00\", \"Country\": \"US\", \"New Confirm Weight\": 0.351}, {\"Date\": \"2020-03-31T00:00:00\", \"Country\": \"United Kingdom\", \"New Confirm Weight\": 0.04}, {\"Date\": \"2020-04-01T00:00:00\", \"Country\": \"France\", \"New Confirm Weight\": 0.066}, {\"Date\": \"2020-04-01T00:00:00\", \"Country\": \"Germany\", \"New Confirm Weight\": 0.081}, {\"Date\": \"2020-04-01T00:00:00\", \"Country\": \"Iran\", \"New Confirm Weight\": 0.04}, {\"Date\": \"2020-04-01T00:00:00\", \"Country\": \"Italy\", \"New Confirm Weight\": 0.064}, {\"Date\": \"2020-04-01T00:00:00\", \"Country\": \"Spain\", \"New Confirm Weight\": 0.109}, {\"Date\": \"2020-04-01T00:00:00\", \"Country\": \"US\", \"New Confirm Weight\": 0.335}, {\"Date\": \"2020-04-01T00:00:00\", \"Country\": \"United Kingdom\", \"New Confirm Weight\": 0.058}, {\"Date\": \"2020-04-02T00:00:00\", \"Country\": \"Germany\", \"New Confirm Weight\": 0.086}, {\"Date\": \"2020-04-02T00:00:00\", \"Country\": \"Iran\", \"New Confirm Weight\": 0.036}, {\"Date\": \"2020-04-02T00:00:00\", \"Country\": \"Italy\", \"New Confirm Weight\": 0.058}, {\"Date\": \"2020-04-02T00:00:00\", \"Country\": \"Spain\", \"New Confirm Weight\": 0.098}, {\"Date\": \"2020-04-02T00:00:00\", \"Country\": \"US\", \"New Confirm Weight\": 0.376}, {\"Date\": \"2020-04-02T00:00:00\", \"Country\": \"United Kingdom\", \"New Confirm Weight\": 0.053}, {\"Date\": \"2020-04-03T00:00:00\", \"Country\": \"France\", \"New Confirm Weight\": 0.064}, {\"Date\": \"2020-04-03T00:00:00\", \"Country\": \"Germany\", \"New Confirm Weight\": 0.077}, {\"Date\": \"2020-04-03T00:00:00\", \"Country\": \"Iran\", \"New Confirm Weight\": 0.033}, {\"Date\": \"2020-04-03T00:00:00\", \"Country\": \"Italy\", \"New Confirm Weight\": 0.056}, {\"Date\": \"2020-04-03T00:00:00\", \"Country\": \"Spain\", \"New Confirm Weight\": 0.087}, {\"Date\": \"2020-04-03T00:00:00\", \"Country\": \"Turkey\", \"New Confirm Weight\": 0.034}, {\"Date\": \"2020-04-03T00:00:00\", \"Country\": \"US\", \"New Confirm Weight\": 0.386}, {\"Date\": \"2020-04-03T00:00:00\", \"Country\": \"United Kingdom\", \"New Confirm Weight\": 0.055}, {\"Date\": \"2020-04-04T00:00:00\", \"Country\": \"France\", \"New Confirm Weight\": 0.054}, {\"Date\": \"2020-04-04T00:00:00\", \"Country\": \"Germany\", \"New Confirm Weight\": 0.062}, {\"Date\": \"2020-04-04T00:00:00\", \"Country\": \"Iran\", \"New Confirm Weight\": 0.032}, {\"Date\": \"2020-04-04T00:00:00\", \"Country\": \"Italy\", \"New Confirm Weight\": 0.06}, {\"Date\": \"2020-04-04T00:00:00\", \"Country\": \"Spain\", \"New Confirm Weight\": 0.087}, {\"Date\": \"2020-04-04T00:00:00\", \"Country\": \"Turkey\", \"New Confirm Weight\": 0.038}, {\"Date\": \"2020-04-04T00:00:00\", \"Country\": \"US\", \"New Confirm Weight\": 0.415}, {\"Date\": \"2020-04-04T00:00:00\", \"Country\": \"United Kingdom\", \"New Confirm Weight\": 0.047}, {\"Date\": \"2020-04-05T00:00:00\", \"Country\": \"Canada\", \"New Confirm Weight\": 0.038}, {\"Date\": \"2020-04-05T00:00:00\", \"Country\": \"Germany\", \"New Confirm Weight\": 0.055}, {\"Date\": \"2020-04-05T00:00:00\", \"Country\": \"Iran\", \"New Confirm Weight\": 0.034}, {\"Date\": \"2020-04-05T00:00:00\", \"Country\": \"Italy\", \"New Confirm Weight\": 0.059}, {\"Date\": \"2020-04-05T00:00:00\", \"Country\": \"Spain\", \"New Confirm Weight\": 0.074}, {\"Date\": \"2020-04-05T00:00:00\", \"Country\": \"Turkey\", \"New Confirm Weight\": 0.043}, {\"Date\": \"2020-04-05T00:00:00\", \"Country\": \"US\", \"New Confirm Weight\": 0.383}, {\"Date\": \"2020-04-05T00:00:00\", \"Country\": \"United Kingdom\", \"New Confirm Weight\": 0.081}, {\"Date\": \"2020-04-06T00:00:00\", \"Country\": \"France\", \"New Confirm Weight\": 0.055}, {\"Date\": \"2020-04-06T00:00:00\", \"Country\": \"Germany\", \"New Confirm Weight\": 0.045}, {\"Date\": \"2020-04-06T00:00:00\", \"Country\": \"Iran\", \"New Confirm Weight\": 0.032}, {\"Date\": \"2020-04-06T00:00:00\", \"Country\": \"Italy\", \"New Confirm Weight\": 0.05}, {\"Date\": \"2020-04-06T00:00:00\", \"Country\": \"Spain\", \"New Confirm Weight\": 0.07}, {\"Date\": \"2020-04-06T00:00:00\", \"Country\": \"Turkey\", \"New Confirm Weight\": 0.044}, {\"Date\": \"2020-04-06T00:00:00\", \"Country\": \"US\", \"New Confirm Weight\": 0.413}, {\"Date\": \"2020-04-06T00:00:00\", \"Country\": \"United Kingdom\", \"New Confirm Weight\": 0.054}, {\"Date\": \"2020-04-07T00:00:00\", \"Country\": \"France\", \"New Confirm Weight\": 0.052}, {\"Date\": \"2020-04-07T00:00:00\", \"Country\": \"Germany\", \"New Confirm Weight\": 0.058}, {\"Date\": \"2020-04-07T00:00:00\", \"Country\": \"Italy\", \"New Confirm Weight\": 0.041}, {\"Date\": \"2020-04-07T00:00:00\", \"Country\": \"Spain\", \"New Confirm Weight\": 0.071}, {\"Date\": \"2020-04-07T00:00:00\", \"Country\": \"Turkey\", \"New Confirm Weight\": 0.053}, {\"Date\": \"2020-04-07T00:00:00\", \"Country\": \"US\", \"New Confirm Weight\": 0.401}, {\"Date\": \"2020-04-07T00:00:00\", \"Country\": \"United Kingdom\", \"New Confirm Weight\": 0.05}, {\"Date\": \"2020-04-08T00:00:00\", \"Country\": \"France\", \"New Confirm Weight\": 0.046}, {\"Date\": \"2020-04-08T00:00:00\", \"Country\": \"Germany\", \"New Confirm Weight\": 0.066}, {\"Date\": \"2020-04-08T00:00:00\", \"Country\": \"Italy\", \"New Confirm Weight\": 0.045}, {\"Date\": \"2020-04-08T00:00:00\", \"Country\": \"Spain\", \"New Confirm Weight\": 0.074}, {\"Date\": \"2020-04-08T00:00:00\", \"Country\": \"Turkey\", \"New Confirm Weight\": 0.048}, {\"Date\": \"2020-04-08T00:00:00\", \"Country\": \"US\", \"New Confirm Weight\": 0.386}, {\"Date\": \"2020-04-08T00:00:00\", \"Country\": \"United Kingdom\", \"New Confirm Weight\": 0.065}, {\"Date\": \"2020-04-09T00:00:00\", \"Country\": \"France\", \"New Confirm Weight\": 0.051}, {\"Date\": \"2020-04-09T00:00:00\", \"Country\": \"Germany\", \"New Confirm Weight\": 0.058}, {\"Date\": \"2020-04-09T00:00:00\", \"Country\": \"Italy\", \"New Confirm Weight\": 0.05}, {\"Date\": \"2020-04-09T00:00:00\", \"Country\": \"Spain\", \"New Confirm Weight\": 0.06}, {\"Date\": \"2020-04-09T00:00:00\", \"Country\": \"Turkey\", \"New Confirm Weight\": 0.048}, {\"Date\": \"2020-04-09T00:00:00\", \"Country\": \"US\", \"New Confirm Weight\": 0.387}, {\"Date\": \"2020-04-09T00:00:00\", \"Country\": \"United Kingdom\", \"New Confirm Weight\": 0.053}, {\"Date\": \"2020-04-10T00:00:00\", \"Country\": \"France\", \"New Confirm Weight\": 0.047}, {\"Date\": \"2020-04-10T00:00:00\", \"Country\": \"Germany\", \"New Confirm Weight\": 0.043}, {\"Date\": \"2020-04-10T00:00:00\", \"Country\": \"Italy\", \"New Confirm Weight\": 0.042}, {\"Date\": \"2020-04-10T00:00:00\", \"Country\": \"Spain\", \"New Confirm Weight\": 0.054}, {\"Date\": \"2020-04-10T00:00:00\", \"Country\": \"Turkey\", \"New Confirm Weight\": 0.051}, {\"Date\": \"2020-04-10T00:00:00\", \"Country\": \"US\", \"New Confirm Weight\": 0.375}, {\"Date\": \"2020-04-10T00:00:00\", \"Country\": \"United Kingdom\", \"New Confirm Weight\": 0.093}, {\"Date\": \"2020-04-11T00:00:00\", \"Country\": \"France\", \"New Confirm Weight\": 0.04}, {\"Date\": \"2020-04-11T00:00:00\", \"Country\": \"Germany\", \"New Confirm Weight\": 0.035}, {\"Date\": \"2020-04-11T00:00:00\", \"Country\": \"Italy\", \"New Confirm Weight\": 0.06}, {\"Date\": \"2020-04-11T00:00:00\", \"Country\": \"Spain\", \"New Confirm Weight\": 0.061}, {\"Date\": \"2020-04-11T00:00:00\", \"Country\": \"Turkey\", \"New Confirm Weight\": 0.066}, {\"Date\": \"2020-04-11T00:00:00\", \"Country\": \"US\", \"New Confirm Weight\": 0.382}, {\"Date\": \"2020-04-11T00:00:00\", \"Country\": \"United Kingdom\", \"New Confirm Weight\": 0.067}, {\"Date\": \"2020-04-12T00:00:00\", \"Country\": \"France\", \"New Confirm Weight\": 0.271}, {\"Date\": \"2020-04-12T00:00:00\", \"Country\": \"Italy\", \"New Confirm Weight\": 0.041}, {\"Date\": \"2020-04-12T00:00:00\", \"Country\": \"Spain\", \"New Confirm Weight\": 0.038}, {\"Date\": \"2020-04-12T00:00:00\", \"Country\": \"Turkey\", \"New Confirm Weight\": 0.048}, {\"Date\": \"2020-04-12T00:00:00\", \"Country\": \"US\", \"New Confirm Weight\": 0.292}, {\"Date\": \"2020-04-12T00:00:00\", \"Country\": \"United Kingdom\", \"New Confirm Weight\": 0.054}, {\"Date\": \"2020-04-13T00:00:00\", \"Country\": \"France\", \"New Confirm Weight\": 0.053}, {\"Date\": \"2020-04-13T00:00:00\", \"Country\": \"Germany\", \"New Confirm Weight\": 0.032}, {\"Date\": \"2020-04-13T00:00:00\", \"Country\": \"Italy\", \"New Confirm Weight\": 0.045}, {\"Date\": \"2020-04-13T00:00:00\", \"Country\": \"Peru\", \"New Confirm Weight\": 0.032}, {\"Date\": \"2020-04-13T00:00:00\", \"Country\": \"Russia\", \"New Confirm Weight\": 0.036}, {\"Date\": \"2020-04-13T00:00:00\", \"Country\": \"Spain\", \"New Confirm Weight\": 0.047}, {\"Date\": \"2020-04-13T00:00:00\", \"Country\": \"Turkey\", \"New Confirm Weight\": 0.058}, {\"Date\": \"2020-04-13T00:00:00\", \"Country\": \"US\", \"New Confirm Weight\": 0.361}, {\"Date\": \"2020-04-13T00:00:00\", \"Country\": \"United Kingdom\", \"New Confirm Weight\": 0.062}, {\"Date\": \"2020-04-14T00:00:00\", \"Country\": \"France\", \"New Confirm Weight\": 0.084}, {\"Date\": \"2020-04-14T00:00:00\", \"Country\": \"Italy\", \"New Confirm Weight\": 0.042}, {\"Date\": \"2020-04-14T00:00:00\", \"Country\": \"Russia\", \"New Confirm Weight\": 0.039}, {\"Date\": \"2020-04-14T00:00:00\", \"Country\": \"Spain\", \"New Confirm Weight\": 0.034}, {\"Date\": \"2020-04-14T00:00:00\", \"Country\": \"Turkey\", \"New Confirm Weight\": 0.057}, {\"Date\": \"2020-04-14T00:00:00\", \"Country\": \"US\", \"New Confirm Weight\": 0.379}, {\"Date\": \"2020-04-14T00:00:00\", \"Country\": \"United Kingdom\", \"New Confirm Weight\": 0.074}, {\"Date\": \"2020-04-15T00:00:00\", \"Country\": \"Belgium\", \"New Confirm Weight\": 0.031}, {\"Date\": \"2020-04-15T00:00:00\", \"Country\": \"Brazil\", \"New Confirm Weight\": 0.038}, {\"Date\": \"2020-04-15T00:00:00\", \"Country\": \"France\", \"New Confirm Weight\": 0.04}, {\"Date\": \"2020-04-15T00:00:00\", \"Country\": \"Germany\", \"New Confirm Weight\": 0.042}, {\"Date\": \"2020-04-15T00:00:00\", \"Country\": \"Italy\", \"New Confirm Weight\": 0.033}, {\"Date\": \"2020-04-15T00:00:00\", \"Country\": \"Russia\", \"New Confirm Weight\": 0.042}, {\"Date\": \"2020-04-15T00:00:00\", \"Country\": \"Spain\", \"New Confirm Weight\": 0.064}, {\"Date\": \"2020-04-15T00:00:00\", \"Country\": \"Turkey\", \"New Confirm Weight\": 0.054}, {\"Date\": \"2020-04-15T00:00:00\", \"Country\": \"US\", \"New Confirm Weight\": 0.359}, {\"Date\": \"2020-04-15T00:00:00\", \"Country\": \"United Kingdom\", \"New Confirm Weight\": 0.058}, {\"Date\": \"2020-04-16T00:00:00\", \"Country\": \"France\", \"New Confirm Weight\": 0.13}, {\"Date\": \"2020-04-16T00:00:00\", \"Country\": \"Italy\", \"New Confirm Weight\": 0.039}, {\"Date\": \"2020-04-16T00:00:00\", \"Country\": \"Russia\", \"New Confirm Weight\": 0.036}, {\"Date\": \"2020-04-16T00:00:00\", \"Country\": \"Spain\", \"New Confirm Weight\": 0.076}, {\"Date\": \"2020-04-16T00:00:00\", \"Country\": \"Turkey\", \"New Confirm Weight\": 0.05}, {\"Date\": \"2020-04-16T00:00:00\", \"Country\": \"US\", \"New Confirm Weight\": 0.326}, {\"Date\": \"2020-04-16T00:00:00\", \"Country\": \"United Kingdom\", \"New Confirm Weight\": 0.048}]}}, {\"mode\": \"vega-lite\"});\n",
              "</script>"
            ]
          },
          "metadata": {
            "tags": []
          },
          "execution_count": 183
        }
      ]
    },
    {
      "cell_type": "code",
      "metadata": {
        "id": "SWnLrKxGLw22",
        "colab_type": "code",
        "colab": {
          "base_uri": "https://localhost:8080/",
          "height": 368
        },
        "outputId": "19548e55-ba8c-4691-9911-667586bc8e33"
      },
      "source": [
        "#hide\n",
        "df_confirm_country = df_confirmed_new_pct[['Date', 'New Confirm Weight']].groupby('Date').count().rename(columns={'New Confirm Weight': 'Count'})\n",
        "df_confirm_country['Total Weight'] = df_confirmed_new_pct[['Date', 'New Confirm Weight']].groupby('Date').sum()\n",
        "df_confirm_country = df_confirm_country.reset_index()\n",
        "alt.Chart(df_confirm_country).mark_line().encode(\n",
        "    alt.X('Date:T'),\n",
        "    alt.Y('Total Weight:Q', axis=alt.Axis(format='%')),\n",
        "    tooltip=list(df_confirm_country)\n",
        ")"
      ],
      "execution_count": 51,
      "outputs": [
        {
          "output_type": "execute_result",
          "data": {
            "text/plain": [
              "alt.Chart(...)"
            ],
            "text/html": [
              "\n",
              "<div id=\"altair-viz-2030e263da7d44998a1ce2c2a141dde5\"></div>\n",
              "<script type=\"text/javascript\">\n",
              "  (function(spec, embedOpt){\n",
              "    let outputDiv = document.currentScript.previousElementSibling;\n",
              "    if (outputDiv.id !== \"altair-viz-2030e263da7d44998a1ce2c2a141dde5\") {\n",
              "      outputDiv = document.getElementById(\"altair-viz-2030e263da7d44998a1ce2c2a141dde5\");\n",
              "    }\n",
              "    const paths = {\n",
              "      \"vega\": \"https://cdn.jsdelivr.net/npm//vega@5?noext\",\n",
              "      \"vega-lib\": \"https://cdn.jsdelivr.net/npm//vega-lib?noext\",\n",
              "      \"vega-lite\": \"https://cdn.jsdelivr.net/npm//vega-lite@4.8.1?noext\",\n",
              "      \"vega-embed\": \"https://cdn.jsdelivr.net/npm//vega-embed@6?noext\",\n",
              "    };\n",
              "\n",
              "    function loadScript(lib) {\n",
              "      return new Promise(function(resolve, reject) {\n",
              "        var s = document.createElement('script');\n",
              "        s.src = paths[lib];\n",
              "        s.async = true;\n",
              "        s.onload = () => resolve(paths[lib]);\n",
              "        s.onerror = () => reject(`Error loading script: ${paths[lib]}`);\n",
              "        document.getElementsByTagName(\"head\")[0].appendChild(s);\n",
              "      });\n",
              "    }\n",
              "\n",
              "    function showError(err) {\n",
              "      outputDiv.innerHTML = `<div class=\"error\" style=\"color:red;\">${err}</div>`;\n",
              "      throw err;\n",
              "    }\n",
              "\n",
              "    function displayChart(vegaEmbed) {\n",
              "      vegaEmbed(outputDiv, spec, embedOpt)\n",
              "        .catch(err => showError(`Javascript Error: ${err.message}<br>This usually means there's a typo in your chart specification. See the javascript console for the full traceback.`));\n",
              "    }\n",
              "\n",
              "    if(typeof define === \"function\" && define.amd) {\n",
              "      requirejs.config({paths});\n",
              "      require([\"vega-embed\"], displayChart, err => showError(`Error loading script: ${err.message}`));\n",
              "    } else if (typeof vegaEmbed === \"function\") {\n",
              "      displayChart(vegaEmbed);\n",
              "    } else {\n",
              "      loadScript(\"vega\")\n",
              "        .then(() => loadScript(\"vega-lite\"))\n",
              "        .then(() => loadScript(\"vega-embed\"))\n",
              "        .catch(showError)\n",
              "        .then(() => displayChart(vegaEmbed));\n",
              "    }\n",
              "  })({\"config\": {\"view\": {\"continuousWidth\": 400, \"continuousHeight\": 300}}, \"data\": {\"name\": \"data-1458dbb123be4b281fb20c83099ba996\"}, \"mark\": \"line\", \"encoding\": {\"tooltip\": [{\"type\": \"temporal\", \"field\": \"Date\"}, {\"type\": \"quantitative\", \"field\": \"Count\"}, {\"type\": \"quantitative\", \"field\": \"Total Weight\"}], \"x\": {\"type\": \"temporal\", \"field\": \"Date\"}, \"y\": {\"type\": \"quantitative\", \"axis\": {\"format\": \"%\"}, \"field\": \"Total Weight\"}}, \"$schema\": \"https://vega.github.io/schema/vega-lite/v4.8.1.json\", \"datasets\": {\"data-1458dbb123be4b281fb20c83099ba996\": [{\"Date\": \"2020-01-23T00:00:00\", \"Count\": 1, \"Total Weight\": 0.96}, {\"Date\": \"2020-01-24T00:00:00\", \"Count\": 1, \"Total Weight\": 0.965}, {\"Date\": \"2020-01-25T00:00:00\", \"Count\": 1, \"Total Weight\": 0.986}, {\"Date\": \"2020-01-26T00:00:00\", \"Count\": 1, \"Total Weight\": 0.978}, {\"Date\": \"2020-01-27T00:00:00\", \"Count\": 1, \"Total Weight\": 0.991}, {\"Date\": \"2020-01-28T00:00:00\", \"Count\": 1, \"Total Weight\": 0.993}, {\"Date\": \"2020-01-29T00:00:00\", \"Count\": 1, \"Total Weight\": 0.983}, {\"Date\": \"2020-01-30T00:00:00\", \"Count\": 1, \"Total Weight\": 0.993}, {\"Date\": \"2020-01-31T00:00:00\", \"Count\": 1, \"Total Weight\": 0.981}, {\"Date\": \"2020-02-01T00:00:00\", \"Count\": 1, \"Total Weight\": 0.99}, {\"Date\": \"2020-02-02T00:00:00\", \"Count\": 1, \"Total Weight\": 0.998}, {\"Date\": \"2020-02-03T00:00:00\", \"Count\": 1, \"Total Weight\": 0.997}, {\"Date\": \"2020-02-04T00:00:00\", \"Count\": 1, \"Total Weight\": 0.995}, {\"Date\": \"2020-02-05T00:00:00\", \"Count\": 1, \"Total Weight\": 0.997}, {\"Date\": \"2020-02-06T00:00:00\", \"Count\": 1, \"Total Weight\": 0.996}, {\"Date\": \"2020-02-07T00:00:00\", \"Count\": 1, \"Total Weight\": 0.979}, {\"Date\": \"2020-02-08T00:00:00\", \"Count\": 1, \"Total Weight\": 0.991}, {\"Date\": \"2020-02-09T00:00:00\", \"Count\": 1, \"Total Weight\": 0.995}, {\"Date\": \"2020-02-10T00:00:00\", \"Count\": 1, \"Total Weight\": 0.967}, {\"Date\": \"2020-02-11T00:00:00\", \"Count\": 1, \"Total Weight\": 0.996}, {\"Date\": \"2020-02-12T00:00:00\", \"Count\": 2, \"Total Weight\": 0.985}, {\"Date\": \"2020-02-13T00:00:00\", \"Count\": 1, \"Total Weight\": 0.999}, {\"Date\": \"2020-02-14T00:00:00\", \"Count\": 1, \"Total Weight\": 0.992}, {\"Date\": \"2020-02-15T00:00:00\", \"Count\": 2, \"Total Weight\": 0.989}, {\"Date\": \"2020-02-16T00:00:00\", \"Count\": 2, \"Total Weight\": 0.989}, {\"Date\": \"2020-02-17T00:00:00\", \"Count\": 2, \"Total Weight\": 0.993}, {\"Date\": \"2020-02-18T00:00:00\", \"Count\": 2, \"Total Weight\": 0.993}, {\"Date\": \"2020-02-19T00:00:00\", \"Count\": 2, \"Total Weight\": 0.9680000000000001}, {\"Date\": \"2020-02-20T00:00:00\", \"Count\": 2, \"Total Weight\": 0.952}, {\"Date\": \"2020-02-21T00:00:00\", \"Count\": 2, \"Total Weight\": 0.921}, {\"Date\": \"2020-02-22T00:00:00\", \"Count\": 2, \"Total Weight\": 0.959}, {\"Date\": \"2020-02-23T00:00:00\", \"Count\": 6, \"Total Weight\": 0.9849999999999999}, {\"Date\": \"2020-02-24T00:00:00\", \"Count\": 4, \"Total Weight\": 0.929}, {\"Date\": \"2020-02-25T00:00:00\", \"Count\": 4, \"Total Weight\": 0.927}, {\"Date\": \"2020-02-26T00:00:00\", \"Count\": 4, \"Total Weight\": 0.887}, {\"Date\": \"2020-02-27T00:00:00\", \"Count\": 4, \"Total Weight\": 0.919}, {\"Date\": \"2020-02-28T00:00:00\", \"Count\": 4, \"Total Weight\": 0.9339999999999999}, {\"Date\": \"2020-02-29T00:00:00\", \"Count\": 4, \"Total Weight\": 0.887}, {\"Date\": \"2020-03-01T00:00:00\", \"Count\": 4, \"Total Weight\": 0.896}, {\"Date\": \"2020-03-02T00:00:00\", \"Count\": 5, \"Total Weight\": 0.8919999999999999}, {\"Date\": \"2020-03-03T00:00:00\", \"Count\": 4, \"Total Weight\": 0.899}, {\"Date\": \"2020-03-04T00:00:00\", \"Count\": 5, \"Total Weight\": 0.7969999999999999}, {\"Date\": \"2020-03-05T00:00:00\", \"Count\": 6, \"Total Weight\": 0.8290000000000001}, {\"Date\": \"2020-03-06T00:00:00\", \"Count\": 7, \"Total Weight\": 0.8360000000000001}, {\"Date\": \"2020-03-07T00:00:00\", \"Count\": 6, \"Total Weight\": 0.8270000000000001}, {\"Date\": \"2020-03-08T00:00:00\", \"Count\": 6, \"Total Weight\": 0.7809999999999999}, {\"Date\": \"2020-03-09T00:00:00\", \"Count\": 5, \"Total Weight\": 0.8210000000000001}, {\"Date\": \"2020-03-10T00:00:00\", \"Count\": 8, \"Total Weight\": 0.8109999999999999}, {\"Date\": \"2020-03-11T00:00:00\", \"Count\": 8, \"Total Weight\": 0.7720000000000001}, {\"Date\": \"2020-03-12T00:00:00\", \"Count\": 7, \"Total Weight\": 0.8550000000000001}, {\"Date\": \"2020-03-13T00:00:00\", \"Count\": 6, \"Total Weight\": 0.767}, {\"Date\": \"2020-03-14T00:00:00\", \"Count\": 7, \"Total Weight\": 0.792}, {\"Date\": \"2020-03-15T00:00:00\", \"Count\": 6, \"Total Weight\": 0.7949999999999999}, {\"Date\": \"2020-03-16T00:00:00\", \"Count\": 6, \"Total Weight\": 0.793}, {\"Date\": \"2020-03-17T00:00:00\", \"Count\": 7, \"Total Weight\": 0.76}, {\"Date\": \"2020-03-18T00:00:00\", \"Count\": 7, \"Total Weight\": 0.7939999999999999}, {\"Date\": \"2020-03-19T00:00:00\", \"Count\": 7, \"Total Weight\": 0.804}, {\"Date\": \"2020-03-20T00:00:00\", \"Count\": 8, \"Total Weight\": 0.8110000000000002}, {\"Date\": \"2020-03-21T00:00:00\", \"Count\": 7, \"Total Weight\": 0.7520000000000001}, {\"Date\": \"2020-03-22T00:00:00\", \"Count\": 6, \"Total Weight\": 0.6819999999999999}, {\"Date\": \"2020-03-23T00:00:00\", \"Count\": 7, \"Total Weight\": 0.787}, {\"Date\": \"2020-03-24T00:00:00\", \"Count\": 7, \"Total Weight\": 0.742}, {\"Date\": \"2020-03-25T00:00:00\", \"Count\": 6, \"Total Weight\": 0.733}, {\"Date\": \"2020-03-26T00:00:00\", \"Count\": 7, \"Total Weight\": 0.771}, {\"Date\": \"2020-03-27T00:00:00\", \"Count\": 8, \"Total Weight\": 0.791}, {\"Date\": \"2020-03-28T00:00:00\", \"Count\": 7, \"Total Weight\": 0.75}, {\"Date\": \"2020-03-29T00:00:00\", \"Count\": 8, \"Total Weight\": 0.7710000000000001}, {\"Date\": \"2020-03-30T00:00:00\", \"Count\": 7, \"Total Weight\": 0.7700000000000001}, {\"Date\": \"2020-03-31T00:00:00\", \"Count\": 8, \"Total Weight\": 0.796}, {\"Date\": \"2020-04-01T00:00:00\", \"Count\": 7, \"Total Weight\": 0.7530000000000001}, {\"Date\": \"2020-04-02T00:00:00\", \"Count\": 6, \"Total Weight\": 0.7070000000000001}, {\"Date\": \"2020-04-03T00:00:00\", \"Count\": 8, \"Total Weight\": 0.792}, {\"Date\": \"2020-04-04T00:00:00\", \"Count\": 8, \"Total Weight\": 0.795}, {\"Date\": \"2020-04-05T00:00:00\", \"Count\": 8, \"Total Weight\": 0.7669999999999999}, {\"Date\": \"2020-04-06T00:00:00\", \"Count\": 8, \"Total Weight\": 0.763}, {\"Date\": \"2020-04-07T00:00:00\", \"Count\": 7, \"Total Weight\": 0.726}, {\"Date\": \"2020-04-08T00:00:00\", \"Count\": 7, \"Total Weight\": 0.73}, {\"Date\": \"2020-04-09T00:00:00\", \"Count\": 7, \"Total Weight\": 0.7070000000000001}, {\"Date\": \"2020-04-10T00:00:00\", \"Count\": 7, \"Total Weight\": 0.705}, {\"Date\": \"2020-04-11T00:00:00\", \"Count\": 7, \"Total Weight\": 0.7110000000000001}, {\"Date\": \"2020-04-12T00:00:00\", \"Count\": 6, \"Total Weight\": 0.744}, {\"Date\": \"2020-04-13T00:00:00\", \"Count\": 9, \"Total Weight\": 0.726}, {\"Date\": \"2020-04-14T00:00:00\", \"Count\": 7, \"Total Weight\": 0.709}, {\"Date\": \"2020-04-15T00:00:00\", \"Count\": 10, \"Total Weight\": 0.7610000000000001}, {\"Date\": \"2020-04-16T00:00:00\", \"Count\": 7, \"Total Weight\": 0.7050000000000001}]}}, {\"mode\": \"vega-lite\"});\n",
              "</script>"
            ]
          },
          "metadata": {
            "tags": []
          },
          "execution_count": 51
        }
      ]
    },
    {
      "cell_type": "code",
      "metadata": {
        "id": "6cSeV_rRFmVK",
        "colab_type": "code",
        "colab": {
          "base_uri": "https://localhost:8080/",
          "height": 449
        },
        "outputId": "bd86b617-76ae-4ce8-8807-f7d94b2fe6a7"
      },
      "source": [
        "#hide_input\n",
        "df_summary_deaths = df_summary(df_deaths)\n",
        "df_deaths_major = df_summary_deaths[(df_summary_deaths['New'] > 10) & (df_summary_deaths['Total'] > 100)].reset_index()\n",
        "\n",
        "alt.Chart(df_deaths_major).mark_bar().encode(\n",
        "    alt.X('Country:N', sort='-y'),\n",
        "    alt.Y('Change_Mean_7D:Q', axis=alt.Axis(format='%'), title='Mean Change'),\n",
        "    tooltip=list(df_deaths_major)\n",
        ").properties(\n",
        "    width=600,\n",
        "    title='Percentage Change (Mean of 7 Days) of Deaths Case'\n",
        ")"
      ],
      "execution_count": 52,
      "outputs": [
        {
          "output_type": "execute_result",
          "data": {
            "text/plain": [
              "alt.Chart(...)"
            ],
            "text/html": [
              "\n",
              "<div id=\"altair-viz-23243532c24648c48150d0d463d9cd20\"></div>\n",
              "<script type=\"text/javascript\">\n",
              "  (function(spec, embedOpt){\n",
              "    let outputDiv = document.currentScript.previousElementSibling;\n",
              "    if (outputDiv.id !== \"altair-viz-23243532c24648c48150d0d463d9cd20\") {\n",
              "      outputDiv = document.getElementById(\"altair-viz-23243532c24648c48150d0d463d9cd20\");\n",
              "    }\n",
              "    const paths = {\n",
              "      \"vega\": \"https://cdn.jsdelivr.net/npm//vega@5?noext\",\n",
              "      \"vega-lib\": \"https://cdn.jsdelivr.net/npm//vega-lib?noext\",\n",
              "      \"vega-lite\": \"https://cdn.jsdelivr.net/npm//vega-lite@4.8.1?noext\",\n",
              "      \"vega-embed\": \"https://cdn.jsdelivr.net/npm//vega-embed@6?noext\",\n",
              "    };\n",
              "\n",
              "    function loadScript(lib) {\n",
              "      return new Promise(function(resolve, reject) {\n",
              "        var s = document.createElement('script');\n",
              "        s.src = paths[lib];\n",
              "        s.async = true;\n",
              "        s.onload = () => resolve(paths[lib]);\n",
              "        s.onerror = () => reject(`Error loading script: ${paths[lib]}`);\n",
              "        document.getElementsByTagName(\"head\")[0].appendChild(s);\n",
              "      });\n",
              "    }\n",
              "\n",
              "    function showError(err) {\n",
              "      outputDiv.innerHTML = `<div class=\"error\" style=\"color:red;\">${err}</div>`;\n",
              "      throw err;\n",
              "    }\n",
              "\n",
              "    function displayChart(vegaEmbed) {\n",
              "      vegaEmbed(outputDiv, spec, embedOpt)\n",
              "        .catch(err => showError(`Javascript Error: ${err.message}<br>This usually means there's a typo in your chart specification. See the javascript console for the full traceback.`));\n",
              "    }\n",
              "\n",
              "    if(typeof define === \"function\" && define.amd) {\n",
              "      requirejs.config({paths});\n",
              "      require([\"vega-embed\"], displayChart, err => showError(`Error loading script: ${err.message}`));\n",
              "    } else if (typeof vegaEmbed === \"function\") {\n",
              "      displayChart(vegaEmbed);\n",
              "    } else {\n",
              "      loadScript(\"vega\")\n",
              "        .then(() => loadScript(\"vega-lite\"))\n",
              "        .then(() => loadScript(\"vega-embed\"))\n",
              "        .catch(showError)\n",
              "        .then(() => displayChart(vegaEmbed));\n",
              "    }\n",
              "  })({\"config\": {\"view\": {\"continuousWidth\": 400, \"continuousHeight\": 300}}, \"data\": {\"name\": \"data-e936bc8d130e93a21e09d9f900dcc878\"}, \"mark\": \"bar\", \"encoding\": {\"tooltip\": [{\"type\": \"nominal\", \"field\": \"Country\"}, {\"type\": \"quantitative\", \"field\": \"Total\"}, {\"type\": \"quantitative\", \"field\": \"New\"}, {\"type\": \"quantitative\", \"field\": \"Change\"}, {\"type\": \"quantitative\", \"field\": \"Change_Mean_7D\"}, {\"type\": \"quantitative\", \"field\": \"Trending\"}], \"x\": {\"type\": \"nominal\", \"field\": \"Country\", \"sort\": \"-y\"}, \"y\": {\"type\": \"quantitative\", \"axis\": {\"format\": \"%\"}, \"field\": \"Change_Mean_7D\", \"title\": \"Mean Change\"}}, \"title\": \"Percentage Change (Mean of 7 Days) of Deaths Case\", \"width\": 600, \"$schema\": \"https://vega.github.io/schema/vega-lite/v4.8.1.json\", \"datasets\": {\"data-e936bc8d130e93a21e09d9f900dcc878\": [{\"Country\": \"US\", \"Total\": 32916, \"New\": 4591.0, \"Change\": 0.1620829655781113, \"Change_Mean_7D\": 0.10428647444516849, \"Trending\": 0.057796491132942815}, {\"Country\": \"Italy\", \"Total\": 22170, \"New\": 525.0, \"Change\": 0.02425502425502435, \"Change_Mean_7D\": 0.027959024827269672, \"Trending\": -0.003704000572245323}, {\"Country\": \"Spain\", \"Total\": 19315, \"New\": 607.0, \"Change\": 0.03244601240111189, \"Change_Mean_7D\": 0.032462893088351076, \"Trending\": -1.6880687239186065e-05}, {\"Country\": \"France\", \"Total\": 17941, \"New\": 753.0, \"Change\": 0.04380963462881082, \"Change_Mean_7D\": 0.05646731485537267, \"Trending\": -0.01265768022656185}, {\"Country\": \"United Kingdom\", \"Total\": 13759, \"New\": 865.0, \"Change\": 0.06708546610826738, \"Change_Mean_7D\": 0.08087970539458252, \"Trending\": -0.013794239286315138}, {\"Country\": \"Iran\", \"Total\": 4869, \"New\": 92.0, \"Change\": 0.019258949131254033, \"Change_Mean_7D\": 0.024512787304316212, \"Trending\": -0.005253838173062179}, {\"Country\": \"Belgium\", \"Total\": 4857, \"New\": 417.0, \"Change\": 0.0939189189189189, \"Change_Mean_7D\": 0.09886551119174358, \"Trending\": -0.004946592272824679}, {\"Country\": \"Germany\", \"Total\": 4052, \"New\": 248.0, \"Change\": 0.06519453207150372, \"Change_Mean_7D\": 0.06613543770148038, \"Trending\": -0.0009409056299766599}, {\"Country\": \"Netherlands\", \"Total\": 3327, \"New\": 182.0, \"Change\": 0.05786963434022252, \"Change_Mean_7D\": 0.047633815431191495, \"Trending\": 0.010235818909031025}, {\"Country\": \"Brazil\", \"Total\": 1924, \"New\": 188.0, \"Change\": 0.10829493087557607, \"Change_Mean_7D\": 0.10643141840506806, \"Trending\": 0.0018635124705080053}, {\"Country\": \"Turkey\", \"Total\": 1643, \"New\": 125.0, \"Change\": 0.08234519104084326, \"Change_Mean_7D\": 0.08844882546911419, \"Trending\": -0.006103634428270929}, {\"Country\": \"Sweden\", \"Total\": 1333, \"New\": 130.0, \"Change\": 0.10806317539484622, \"Change_Mean_7D\": 0.07844225865864875, \"Trending\": 0.029620916736197475}, {\"Country\": \"Switzerland\", \"Total\": 1281, \"New\": 42.0, \"Change\": 0.03389830508474567, \"Change_Mean_7D\": 0.04404197735485406, \"Trending\": -0.010143672270108386}, {\"Country\": \"Canada\", \"Total\": 1257, \"New\": 251.0, \"Change\": 0.24950298210735578, \"Change_Mean_7D\": 0.14097862546845247, \"Trending\": 0.10852435663890331}, {\"Country\": \"Portugal\", \"Total\": 629, \"New\": 30.0, \"Change\": 0.05008347245409017, \"Change_Mean_7D\": 0.06345882294904956, \"Trending\": -0.013375350494959387}, {\"Country\": \"Indonesia\", \"Total\": 496, \"New\": 27.0, \"Change\": 0.05756929637526653, \"Change_Mean_7D\": 0.08594202844936451, \"Trending\": -0.028372732074097975}, {\"Country\": \"Ireland\", \"Total\": 486, \"New\": 42.0, \"Change\": 0.09459459459459452, \"Change_Mean_7D\": 0.0919030176196559, \"Trending\": 0.002691576974938617}, {\"Country\": \"Mexico\", \"Total\": 449, \"New\": 43.0, \"Change\": 0.10591133004926112, \"Change_Mean_7D\": 0.14604583978545713, \"Trending\": -0.040134509736196006}, {\"Country\": \"India\", \"Total\": 448, \"New\": 43.0, \"Change\": 0.10617283950617273, \"Change_Mean_7D\": 0.10351091269320316, \"Trending\": 0.0026619268129695756}, {\"Country\": \"Austria\", \"Total\": 410, \"New\": 17.0, \"Change\": 0.04325699745547085, \"Change_Mean_7D\": 0.04827989455731206, \"Trending\": -0.005022897101841214}, {\"Country\": \"Ecuador\", \"Total\": 403, \"New\": 15.0, \"Change\": 0.038659793814433074, \"Change_Mean_7D\": 0.057901953851251076, \"Trending\": -0.019242160036818}, {\"Country\": \"Romania\", \"Total\": 392, \"New\": 20.0, \"Change\": 0.053763440860215006, \"Change_Mean_7D\": 0.06769741770897499, \"Trending\": -0.01393397684875998}, {\"Country\": \"Philippines\", \"Total\": 362, \"New\": 13.0, \"Change\": 0.0372492836676217, \"Change_Mean_7D\": 0.08741208741455443, \"Trending\": -0.05016280374693273}, {\"Country\": \"Algeria\", \"Total\": 348, \"New\": 12.0, \"Change\": 0.03571428571428581, \"Change_Mean_7D\": 0.057888151701952086, \"Trending\": -0.022173865987666276}, {\"Country\": \"Denmark\", \"Total\": 321, \"New\": 12.0, \"Change\": 0.03883495145631066, \"Change_Mean_7D\": 0.044312041465397724, \"Trending\": -0.005477090009087061}, {\"Country\": \"Poland\", \"Total\": 314, \"New\": 28.0, \"Change\": 0.09790209790209792, \"Change_Mean_7D\": 0.08852060157986126, \"Trending\": 0.009381496322236657}, {\"Country\": \"Peru\", \"Total\": 274, \"New\": 20.0, \"Change\": 0.07874015748031504, \"Change_Mean_7D\": 0.1041451033855236, \"Trending\": -0.02540494590520856}, {\"Country\": \"Russia\", \"Total\": 232, \"New\": 34.0, \"Change\": 0.1717171717171717, \"Change_Mean_7D\": 0.173492859321595, \"Trending\": -0.0017756876044232872}, {\"Country\": \"Egypt\", \"Total\": 196, \"New\": 13.0, \"Change\": 0.0710382513661203, \"Change_Mean_7D\": 0.07579012964681013, \"Trending\": -0.0047518782806898335}, {\"Country\": \"Japan\", \"Total\": 178, \"New\": 32.0, \"Change\": 0.2191780821917808, \"Change_Mean_7D\": 0.09796402833524913, \"Trending\": 0.12121405385653168}, {\"Country\": \"Colombia\", \"Total\": 144, \"New\": 13.0, \"Change\": 0.0992366412213741, \"Change_Mean_7D\": 0.11308635732528008, \"Trending\": -0.013849716103905979}, {\"Country\": \"Israel\", \"Total\": 142, \"New\": 12.0, \"Change\": 0.0923076923076922, \"Change_Mean_7D\": 0.07476967413687996, \"Trending\": 0.017538018170812242}, {\"Country\": \"Pakistan\", \"Total\": 128, \"New\": 17.0, \"Change\": 0.15315315315315314, \"Change_Mean_7D\": 0.1057419561351348, \"Trending\": 0.04741119701801834}, {\"Country\": \"Chile\", \"Total\": 105, \"New\": 11.0, \"Change\": 0.11702127659574457, \"Change_Mean_7D\": 0.09214711968164749, \"Trending\": 0.024874156914097084}]}}, {\"mode\": \"vega-lite\"});\n",
              "</script>"
            ]
          },
          "metadata": {
            "tags": []
          },
          "execution_count": 52
        }
      ]
    },
    {
      "cell_type": "code",
      "metadata": {
        "id": "FOd9kt3AaOlT",
        "colab_type": "code",
        "outputId": "d1c09667-3f63-491c-ff83-cb398cc584b0",
        "colab": {
          "base_uri": "https://localhost:8080/",
          "height": 238
        }
      },
      "source": [
        "#hide\n",
        "df_confirmed_countries = df_confirmed.groupby(['Date', 'Country']).sum().unstack().xs('Cases', axis=1).transpose()\n",
        "df_confirmed_countries.loc['France']"
      ],
      "execution_count": 53,
      "outputs": [
        {
          "output_type": "execute_result",
          "data": {
            "text/plain": [
              "Date\n",
              "2020-01-22         0\n",
              "2020-01-23         0\n",
              "2020-01-24         2\n",
              "2020-01-25         3\n",
              "2020-01-26         3\n",
              "               ...  \n",
              "2020-04-12    121712\n",
              "2020-04-13    125394\n",
              "2020-04-14    131361\n",
              "2020-04-15    134582\n",
              "2020-04-16    147091\n",
              "Name: France, Length: 86, dtype: int64"
            ]
          },
          "metadata": {
            "tags": []
          },
          "execution_count": 53
        }
      ]
    }
  ]
}