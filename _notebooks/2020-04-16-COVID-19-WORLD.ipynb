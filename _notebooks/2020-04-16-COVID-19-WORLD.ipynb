{
  "nbformat": 4,
  "nbformat_minor": 0,
  "metadata": {
    "colab": {
      "name": "2020-04-16-COVID-19-WORLD",
      "provenance": [],
      "authorship_tag": "ABX9TyPa4WBZBshtsYzmdcL7yWNK"
    },
    "kernelspec": {
      "name": "python3",
      "display_name": "Python 3"
    }
  },
  "cells": [
    {
      "cell_type": "markdown",
      "metadata": {
        "id": "N-itaTOAANXW",
        "colab_type": "text"
      },
      "source": [
        "# Coronavirus Latest\n",
        "> Updates on the respiratory illness that has infected more than one million people and killed tens of thousands.\n",
        "\n",
        "- toc:false\n",
        "- branch: master\n",
        "- badges: false\n",
        "- hide_colab_badge: true\n",
        "- comments: false\n",
        "- permalink:/covid-overview/\n"
      ]
    },
    {
      "cell_type": "code",
      "metadata": {
        "id": "Qr8vncx8AFdx",
        "colab_type": "code",
        "colab": {},
        "cellView": "both"
      },
      "source": [
        "#hide\n",
        "import pandas as pd\n",
        "import numpy as np\n",
        "import altair as alt\n",
        "from IPython.display import HTML\n",
        "\n",
        "base_url = 'https://raw.githubusercontent.com/CSSEGISandData/COVID-19/master/csse_covid_19_data'\n",
        "\n",
        "# confirmed, deaths, recovered\n",
        "def get_time_series(type):\n",
        "  _url = f'{base_url}/csse_covid_19_time_series/time_series_covid19_{type}_global.csv'\n",
        "  _dff = pd.read_csv(_url)\n",
        "  _cols = _dff.columns[~_dff.columns.isin(['Province/State', 'Country/Region', 'Lat', 'Long'])]\n",
        "  _dff = (_dff.groupby('Country/Region')[_cols].sum().stack().reset_index(name = 'Cases')\n",
        "        .rename(columns = {'level_1': 'Date', 'Country/Region': 'Country'}))\n",
        "  _dff['Date'] = pd.to_datetime(_dff['Date'], format='%m/%d/%y')\n",
        "  return _dff\n",
        "\n",
        "df_confirmed = get_time_series('confirmed')\n",
        "df_recovered = get_time_series('recovered')\n",
        "  df_deaths = get_time_series('deaths')\n",
        "date_latest = df_confirmed['Date'].max()\n",
        "\n",
        "df_last = lambda name, _df, n: _df[_df['Date'].isin(_df['Date'].tail(n))].set_index(['Country', 'Date']).rename(columns={'Cases': name})\n",
        "df_summary = lambda last_n: pd.concat([df_last('Confirmed', df_confirmed, last_n), df_last('Deaths', df_deaths, last_n), df_last('Recovered', df_recovered, last_n)], axis=1)\n",
        "df_global = df_summary(2).groupby(['Date']).sum().reset_index()\n",
        "s_date_latest = date_latest.strftime(\"%B %d, %Y\")\n",
        "n_confirmed = df_global.loc[1]['Confirmed']\n",
        "n_deaths = df_global.loc[1]['Deaths']\n",
        "n_recovered = df_global.loc[1]['Recovered']\n",
        "\n",
        "df_global_diff = df_global.diff()\n",
        "n_confirmed_diff = df_global_diff.loc[1]['Confirmed']\n",
        "n_deaths_diff = df_global_diff.loc[1]['Deaths']\n",
        "n_recovered_diff = df_global_diff.loc[1]['Recovered']\n",
        "countries = df_confirmed['Country'].unique()"
      ],
      "execution_count": 0,
      "outputs": []
    },
    {
      "cell_type": "code",
      "metadata": {
        "id": "oCHllIBDBOSm",
        "colab_type": "code",
        "colab": {
          "base_uri": "https://localhost:8080/",
          "height": 357
        },
        "outputId": "ab99bcc6-ecb4-40eb-c11d-b4970bc8d0c6"
      },
      "source": [
        "#hide_input\n",
        "HTML(\n",
        "    f'<div style=\"font-size: 1.0em;\">'\n",
        "    f'<div> \\\n",
        "        <span style=\"font-size: 2.0em;\">{n_confirmed:,}</span><br/>\\\n",
        "        Total cases reported worldwide, {s_date_latest} \\\n",
        "      </div>\\\n",
        "      <br/>'\n",
        "    f'<div><span style=\"font-size: 2.0em;\">{n_confirmed_diff:,.0f}</span><br/>New cases reported since last day</div><br/>'\n",
        "    f'<div><span style=\"font-size: 2.0em;\">{n_recovered:,}</span> +{n_recovered_diff:,.0f} ({n_recovered/n_confirmed*100:.2f}%)<br/>Total recovered reported worldwide</div><br/>'\n",
        "    f'<div><span style=\"font-size: 2.0em;\">{n_deaths:,}</span> +{n_deaths_diff:,.0f} ({n_deaths/n_confirmed*100:.2f}%)<br/>Total deaths reported worldwide</div><br/>'\n",
        "    f'<div><span style=\"font-size: 2.0em;\">{len(countries) - 1}</span><br/>Total number of countries tracked</div><br/>'\n",
        "    f'</div>'\n",
        ")"
      ],
      "execution_count": 22,
      "outputs": [
        {
          "output_type": "execute_result",
          "data": {
            "text/html": [
              "<div style=\"font-size: 1.0em;\"><div>         <span style=\"font-size: 2.0em;\">2,056,054</span><br/>        Total cases reported worldwide, April 15, 2020       </div>      <br/><div><span style=\"font-size: 2.0em;\">79,863</span><br/>New cases reported since last day</div><br/><div><span style=\"font-size: 2.0em;\">511,019</span> +36,758 (24.85%)<br/>Total recovered reported worldwide</div><br/><div><span style=\"font-size: 2.0em;\">134,177</span> +8,193 (6.53%)<br/>Total deaths reported worldwide</div><br/><div><span style=\"font-size: 2.0em;\">184</span><br/>Total number of countries tracked</div><br/></div>"
            ],
            "text/plain": [
              "<IPython.core.display.HTML object>"
            ]
          },
          "metadata": {
            "tags": []
          },
          "execution_count": 22
        }
      ]
    },
    {
      "cell_type": "code",
      "metadata": {
        "id": "FpSoscMdk2kn",
        "colab_type": "code",
        "colab": {
          "base_uri": "https://localhost:8080/",
          "height": 385
        },
        "outputId": "d2fa0186-aa61-4379-cd59-5d8c94065b61"
      },
      "source": [
        "#hide_input\n",
        "_df = df_confirmed.groupby(['Date']).sum().unstack().reset_index().drop(columns=['level_0']).rename(columns={0: 'Cummulative Confirmed'})\n",
        "_df['New Confirm'] = _df[['Cummulative Confirmed']].diff()\n",
        "\n",
        "_df_line = alt.Chart(_df).mark_line(color='#D32F2F').encode(\n",
        "    alt.X('Date:T'),\n",
        "    alt.Y('Cummulative Confirmed:Q', axis=alt.Axis(titleColor='#D32F2F'), scale=alt.Scale(type='log')),\n",
        "    tooltip=list(_df)\n",
        ")\n",
        "\n",
        "_df_new_bar = alt.Chart(_df).mark_bar(opacity=0.3, color='#303F9F').encode(\n",
        "    alt.X('Date:T'),\n",
        "    alt.Y('New Confirm:Q', axis=alt.Axis(titleColor='#303F9F'), scale=alt.Scale(type='log')),\n",
        "    tooltip=list(_df)\n",
        ")\n",
        "\n",
        "\n",
        "alt.layer(_df_line, _df_new_bar).resolve_scale(\n",
        "    y='independent'\n",
        ").properties(\n",
        "    title = 'Confirmed Cases across the world',\n",
        "    width = 600\n",
        ")"
      ],
      "execution_count": 82,
      "outputs": [
        {
          "output_type": "execute_result",
          "data": {
            "text/plain": [
              "alt.LayerChart(...)"
            ],
            "text/html": [
              "\n",
              "<div id=\"altair-viz-ce3ddbc84a5741699086b9621b2f0f05\"></div>\n",
              "<script type=\"text/javascript\">\n",
              "  (function(spec, embedOpt){\n",
              "    let outputDiv = document.currentScript.previousElementSibling;\n",
              "    if (outputDiv.id !== \"altair-viz-ce3ddbc84a5741699086b9621b2f0f05\") {\n",
              "      outputDiv = document.getElementById(\"altair-viz-ce3ddbc84a5741699086b9621b2f0f05\");\n",
              "    }\n",
              "    const paths = {\n",
              "      \"vega\": \"https://cdn.jsdelivr.net/npm//vega@5?noext\",\n",
              "      \"vega-lib\": \"https://cdn.jsdelivr.net/npm//vega-lib?noext\",\n",
              "      \"vega-lite\": \"https://cdn.jsdelivr.net/npm//vega-lite@4.8.1?noext\",\n",
              "      \"vega-embed\": \"https://cdn.jsdelivr.net/npm//vega-embed@6?noext\",\n",
              "    };\n",
              "\n",
              "    function loadScript(lib) {\n",
              "      return new Promise(function(resolve, reject) {\n",
              "        var s = document.createElement('script');\n",
              "        s.src = paths[lib];\n",
              "        s.async = true;\n",
              "        s.onload = () => resolve(paths[lib]);\n",
              "        s.onerror = () => reject(`Error loading script: ${paths[lib]}`);\n",
              "        document.getElementsByTagName(\"head\")[0].appendChild(s);\n",
              "      });\n",
              "    }\n",
              "\n",
              "    function showError(err) {\n",
              "      outputDiv.innerHTML = `<div class=\"error\" style=\"color:red;\">${err}</div>`;\n",
              "      throw err;\n",
              "    }\n",
              "\n",
              "    function displayChart(vegaEmbed) {\n",
              "      vegaEmbed(outputDiv, spec, embedOpt)\n",
              "        .catch(err => showError(`Javascript Error: ${err.message}<br>This usually means there's a typo in your chart specification. See the javascript console for the full traceback.`));\n",
              "    }\n",
              "\n",
              "    if(typeof define === \"function\" && define.amd) {\n",
              "      requirejs.config({paths});\n",
              "      require([\"vega-embed\"], displayChart, err => showError(`Error loading script: ${err.message}`));\n",
              "    } else if (typeof vegaEmbed === \"function\") {\n",
              "      displayChart(vegaEmbed);\n",
              "    } else {\n",
              "      loadScript(\"vega\")\n",
              "        .then(() => loadScript(\"vega-lite\"))\n",
              "        .then(() => loadScript(\"vega-embed\"))\n",
              "        .catch(showError)\n",
              "        .then(() => displayChart(vegaEmbed));\n",
              "    }\n",
              "  })({\"config\": {\"view\": {\"continuousWidth\": 400, \"continuousHeight\": 300}}, \"layer\": [{\"mark\": {\"type\": \"line\", \"color\": \"#D32F2F\"}, \"encoding\": {\"tooltip\": [{\"type\": \"temporal\", \"field\": \"Date\"}, {\"type\": \"quantitative\", \"field\": \"Cummulative Confirmed\"}, {\"type\": \"quantitative\", \"field\": \"New Confirm\"}], \"x\": {\"type\": \"temporal\", \"field\": \"Date\"}, \"y\": {\"type\": \"quantitative\", \"axis\": {\"titleColor\": \"#D32F2F\"}, \"field\": \"Cummulative Confirmed\", \"scale\": {\"type\": \"log\"}}}}, {\"mark\": {\"type\": \"bar\", \"color\": \"#303F9F\", \"opacity\": 0.3}, \"encoding\": {\"tooltip\": [{\"type\": \"temporal\", \"field\": \"Date\"}, {\"type\": \"quantitative\", \"field\": \"Cummulative Confirmed\"}, {\"type\": \"quantitative\", \"field\": \"New Confirm\"}], \"x\": {\"type\": \"temporal\", \"field\": \"Date\"}, \"y\": {\"type\": \"quantitative\", \"axis\": {\"titleColor\": \"#303F9F\"}, \"field\": \"New Confirm\", \"scale\": {\"type\": \"log\"}}}}], \"data\": {\"name\": \"data-a3f764548e3394c09de19a825214a450\"}, \"resolve\": {\"scale\": {\"y\": \"independent\"}}, \"title\": \"Confirmed Cases across the world\", \"width\": 600, \"$schema\": \"https://vega.github.io/schema/vega-lite/v4.8.1.json\", \"datasets\": {\"data-a3f764548e3394c09de19a825214a450\": [{\"Date\": \"2020-01-22T00:00:00\", \"Cummulative Confirmed\": 555, \"New Confirm\": null}, {\"Date\": \"2020-01-23T00:00:00\", \"Cummulative Confirmed\": 654, \"New Confirm\": 99.0}, {\"Date\": \"2020-01-24T00:00:00\", \"Cummulative Confirmed\": 941, \"New Confirm\": 287.0}, {\"Date\": \"2020-01-25T00:00:00\", \"Cummulative Confirmed\": 1434, \"New Confirm\": 493.0}, {\"Date\": \"2020-01-26T00:00:00\", \"Cummulative Confirmed\": 2118, \"New Confirm\": 684.0}, {\"Date\": \"2020-01-27T00:00:00\", \"Cummulative Confirmed\": 2927, \"New Confirm\": 809.0}, {\"Date\": \"2020-01-28T00:00:00\", \"Cummulative Confirmed\": 5578, \"New Confirm\": 2651.0}, {\"Date\": \"2020-01-29T00:00:00\", \"Cummulative Confirmed\": 6166, \"New Confirm\": 588.0}, {\"Date\": \"2020-01-30T00:00:00\", \"Cummulative Confirmed\": 8234, \"New Confirm\": 2068.0}, {\"Date\": \"2020-01-31T00:00:00\", \"Cummulative Confirmed\": 9927, \"New Confirm\": 1693.0}, {\"Date\": \"2020-02-01T00:00:00\", \"Cummulative Confirmed\": 12038, \"New Confirm\": 2111.0}, {\"Date\": \"2020-02-02T00:00:00\", \"Cummulative Confirmed\": 16787, \"New Confirm\": 4749.0}, {\"Date\": \"2020-02-03T00:00:00\", \"Cummulative Confirmed\": 19881, \"New Confirm\": 3094.0}, {\"Date\": \"2020-02-04T00:00:00\", \"Cummulative Confirmed\": 23892, \"New Confirm\": 4011.0}, {\"Date\": \"2020-02-05T00:00:00\", \"Cummulative Confirmed\": 27635, \"New Confirm\": 3743.0}, {\"Date\": \"2020-02-06T00:00:00\", \"Cummulative Confirmed\": 30794, \"New Confirm\": 3159.0}, {\"Date\": \"2020-02-07T00:00:00\", \"Cummulative Confirmed\": 34391, \"New Confirm\": 3597.0}, {\"Date\": \"2020-02-08T00:00:00\", \"Cummulative Confirmed\": 37120, \"New Confirm\": 2729.0}, {\"Date\": \"2020-02-09T00:00:00\", \"Cummulative Confirmed\": 40150, \"New Confirm\": 3030.0}, {\"Date\": \"2020-02-10T00:00:00\", \"Cummulative Confirmed\": 42762, \"New Confirm\": 2612.0}, {\"Date\": \"2020-02-11T00:00:00\", \"Cummulative Confirmed\": 44802, \"New Confirm\": 2040.0}, {\"Date\": \"2020-02-12T00:00:00\", \"Cummulative Confirmed\": 45221, \"New Confirm\": 419.0}, {\"Date\": \"2020-02-13T00:00:00\", \"Cummulative Confirmed\": 60368, \"New Confirm\": 15147.0}, {\"Date\": \"2020-02-14T00:00:00\", \"Cummulative Confirmed\": 66885, \"New Confirm\": 6517.0}, {\"Date\": \"2020-02-15T00:00:00\", \"Cummulative Confirmed\": 69030, \"New Confirm\": 2145.0}, {\"Date\": \"2020-02-16T00:00:00\", \"Cummulative Confirmed\": 71224, \"New Confirm\": 2194.0}, {\"Date\": \"2020-02-17T00:00:00\", \"Cummulative Confirmed\": 73258, \"New Confirm\": 2034.0}, {\"Date\": \"2020-02-18T00:00:00\", \"Cummulative Confirmed\": 75136, \"New Confirm\": 1878.0}, {\"Date\": \"2020-02-19T00:00:00\", \"Cummulative Confirmed\": 75639, \"New Confirm\": 503.0}, {\"Date\": \"2020-02-20T00:00:00\", \"Cummulative Confirmed\": 76197, \"New Confirm\": 558.0}, {\"Date\": \"2020-02-21T00:00:00\", \"Cummulative Confirmed\": 76819, \"New Confirm\": 622.0}, {\"Date\": \"2020-02-22T00:00:00\", \"Cummulative Confirmed\": 78572, \"New Confirm\": 1753.0}, {\"Date\": \"2020-02-23T00:00:00\", \"Cummulative Confirmed\": 78958, \"New Confirm\": 386.0}, {\"Date\": \"2020-02-24T00:00:00\", \"Cummulative Confirmed\": 79561, \"New Confirm\": 603.0}, {\"Date\": \"2020-02-25T00:00:00\", \"Cummulative Confirmed\": 80406, \"New Confirm\": 845.0}, {\"Date\": \"2020-02-26T00:00:00\", \"Cummulative Confirmed\": 81388, \"New Confirm\": 982.0}, {\"Date\": \"2020-02-27T00:00:00\", \"Cummulative Confirmed\": 82746, \"New Confirm\": 1358.0}, {\"Date\": \"2020-02-28T00:00:00\", \"Cummulative Confirmed\": 84112, \"New Confirm\": 1366.0}, {\"Date\": \"2020-02-29T00:00:00\", \"Cummulative Confirmed\": 86011, \"New Confirm\": 1899.0}, {\"Date\": \"2020-03-01T00:00:00\", \"Cummulative Confirmed\": 88369, \"New Confirm\": 2358.0}, {\"Date\": \"2020-03-02T00:00:00\", \"Cummulative Confirmed\": 90306, \"New Confirm\": 1937.0}, {\"Date\": \"2020-03-03T00:00:00\", \"Cummulative Confirmed\": 92840, \"New Confirm\": 2534.0}, {\"Date\": \"2020-03-04T00:00:00\", \"Cummulative Confirmed\": 95120, \"New Confirm\": 2280.0}, {\"Date\": \"2020-03-05T00:00:00\", \"Cummulative Confirmed\": 97886, \"New Confirm\": 2766.0}, {\"Date\": \"2020-03-06T00:00:00\", \"Cummulative Confirmed\": 101801, \"New Confirm\": 3915.0}, {\"Date\": \"2020-03-07T00:00:00\", \"Cummulative Confirmed\": 105847, \"New Confirm\": 4046.0}, {\"Date\": \"2020-03-08T00:00:00\", \"Cummulative Confirmed\": 109821, \"New Confirm\": 3974.0}, {\"Date\": \"2020-03-09T00:00:00\", \"Cummulative Confirmed\": 113590, \"New Confirm\": 3769.0}, {\"Date\": \"2020-03-10T00:00:00\", \"Cummulative Confirmed\": 118620, \"New Confirm\": 5030.0}, {\"Date\": \"2020-03-11T00:00:00\", \"Cummulative Confirmed\": 125875, \"New Confirm\": 7255.0}, {\"Date\": \"2020-03-12T00:00:00\", \"Cummulative Confirmed\": 128352, \"New Confirm\": 2477.0}, {\"Date\": \"2020-03-13T00:00:00\", \"Cummulative Confirmed\": 145205, \"New Confirm\": 16853.0}, {\"Date\": \"2020-03-14T00:00:00\", \"Cummulative Confirmed\": 156101, \"New Confirm\": 10896.0}, {\"Date\": \"2020-03-15T00:00:00\", \"Cummulative Confirmed\": 167454, \"New Confirm\": 11353.0}, {\"Date\": \"2020-03-16T00:00:00\", \"Cummulative Confirmed\": 181574, \"New Confirm\": 14120.0}, {\"Date\": \"2020-03-17T00:00:00\", \"Cummulative Confirmed\": 197102, \"New Confirm\": 15528.0}, {\"Date\": \"2020-03-18T00:00:00\", \"Cummulative Confirmed\": 214821, \"New Confirm\": 17719.0}, {\"Date\": \"2020-03-19T00:00:00\", \"Cummulative Confirmed\": 242570, \"New Confirm\": 27749.0}, {\"Date\": \"2020-03-20T00:00:00\", \"Cummulative Confirmed\": 272208, \"New Confirm\": 29638.0}, {\"Date\": \"2020-03-21T00:00:00\", \"Cummulative Confirmed\": 304507, \"New Confirm\": 32299.0}, {\"Date\": \"2020-03-22T00:00:00\", \"Cummulative Confirmed\": 336953, \"New Confirm\": 32446.0}, {\"Date\": \"2020-03-23T00:00:00\", \"Cummulative Confirmed\": 378235, \"New Confirm\": 41282.0}, {\"Date\": \"2020-03-24T00:00:00\", \"Cummulative Confirmed\": 418045, \"New Confirm\": 39810.0}, {\"Date\": \"2020-03-25T00:00:00\", \"Cummulative Confirmed\": 467653, \"New Confirm\": 49608.0}, {\"Date\": \"2020-03-26T00:00:00\", \"Cummulative Confirmed\": 529591, \"New Confirm\": 61938.0}, {\"Date\": \"2020-03-27T00:00:00\", \"Cummulative Confirmed\": 593291, \"New Confirm\": 63700.0}, {\"Date\": \"2020-03-28T00:00:00\", \"Cummulative Confirmed\": 660693, \"New Confirm\": 67402.0}, {\"Date\": \"2020-03-29T00:00:00\", \"Cummulative Confirmed\": 720140, \"New Confirm\": 59447.0}, {\"Date\": \"2020-03-30T00:00:00\", \"Cummulative Confirmed\": 782389, \"New Confirm\": 62249.0}, {\"Date\": \"2020-03-31T00:00:00\", \"Cummulative Confirmed\": 857487, \"New Confirm\": 75098.0}, {\"Date\": \"2020-04-01T00:00:00\", \"Cummulative Confirmed\": 932605, \"New Confirm\": 75118.0}, {\"Date\": \"2020-04-02T00:00:00\", \"Cummulative Confirmed\": 1013466, \"New Confirm\": 80861.0}, {\"Date\": \"2020-04-03T00:00:00\", \"Cummulative Confirmed\": 1095917, \"New Confirm\": 82451.0}, {\"Date\": \"2020-04-04T00:00:00\", \"Cummulative Confirmed\": 1197408, \"New Confirm\": 101491.0}, {\"Date\": \"2020-04-05T00:00:00\", \"Cummulative Confirmed\": 1272115, \"New Confirm\": 74707.0}, {\"Date\": \"2020-04-06T00:00:00\", \"Cummulative Confirmed\": 1345101, \"New Confirm\": 72986.0}, {\"Date\": \"2020-04-07T00:00:00\", \"Cummulative Confirmed\": 1426096, \"New Confirm\": 80995.0}, {\"Date\": \"2020-04-08T00:00:00\", \"Cummulative Confirmed\": 1511104, \"New Confirm\": 85008.0}, {\"Date\": \"2020-04-09T00:00:00\", \"Cummulative Confirmed\": 1595350, \"New Confirm\": 84246.0}, {\"Date\": \"2020-04-10T00:00:00\", \"Cummulative Confirmed\": 1691719, \"New Confirm\": 96369.0}, {\"Date\": \"2020-04-11T00:00:00\", \"Cummulative Confirmed\": 1771514, \"New Confirm\": 79795.0}, {\"Date\": \"2020-04-12T00:00:00\", \"Cummulative Confirmed\": 1846679, \"New Confirm\": 75165.0}, {\"Date\": \"2020-04-13T00:00:00\", \"Cummulative Confirmed\": 1917319, \"New Confirm\": 70640.0}, {\"Date\": \"2020-04-14T00:00:00\", \"Cummulative Confirmed\": 1976191, \"New Confirm\": 58872.0}, {\"Date\": \"2020-04-15T00:00:00\", \"Cummulative Confirmed\": 2056054, \"New Confirm\": 79863.0}]}}, {\"mode\": \"vega-lite\"});\n",
              "</script>"
            ]
          },
          "metadata": {
            "tags": []
          },
          "execution_count": 82
        }
      ]
    },
    {
      "cell_type": "code",
      "metadata": {
        "id": "FScyvKiVte_k",
        "colab_type": "code",
        "colab": {}
      },
      "source": [
        "#hide\n",
        "df_confirmed_new = df_confirmed.set_index(['Date', 'Country']).unstack().diff().stack().reset_index()\n",
        "df_confirmed_new_pct = df_confirmed_new.set_index(['Date', 'Country']).rename(columns={'Cases': 'New Confirm Weight'}).unstack().apply(lambda x: x/sum(x), axis=1).round(3).stack().reset_index()\n",
        "selection = alt.selection_multi(fields=['Country'], bind='legend')\n",
        "df_confirmed_new_pct = df_confirmed_new_pct[df_confirmed_new_pct['New Confirm Weight'] > 0.03]\n",
        "\n",
        "_weight_bar = alt.Chart(df_confirmed_new_pct).mark_bar().encode(\n",
        "    x='Date:T', \n",
        "    y=alt.Y('New Confirm Weight:Q', axis=alt.Axis(format='%'), title='Daily Confirm Weight'), \n",
        "    color='Country',\n",
        "    tooltip=list(df_confirmed_new_pct),\n",
        "    opacity=alt.condition(selection,alt.value(1), alt.value(0.2))\n",
        ").add_selection(selection)\n",
        "\n",
        "# HTML(\n",
        "#     f'<div>Title</div>'\n",
        "# )"
      ],
      "execution_count": 0,
      "outputs": []
    },
    {
      "cell_type": "code",
      "metadata": {
        "id": "fBDatWSXPI8w",
        "colab_type": "code",
        "colab": {
          "base_uri": "https://localhost:8080/",
          "height": 385
        },
        "outputId": "b75cc5b5-09be-4ffc-b5a0-383cfaae048b"
      },
      "source": [
        "#hide_input\n",
        "_weight_bar.properties(\n",
        "    title = 'Weight of New Cases by Country (Country with weight more than 3%)',\n",
        "    width = 600\n",
        ")"
      ],
      "execution_count": 142,
      "outputs": [
        {
          "output_type": "execute_result",
          "data": {
            "text/plain": [
              "alt.Chart(...)"
            ],
            "text/html": [
              "\n",
              "<div id=\"altair-viz-23d47a1242364b95852de46991d977d9\"></div>\n",
              "<script type=\"text/javascript\">\n",
              "  (function(spec, embedOpt){\n",
              "    let outputDiv = document.currentScript.previousElementSibling;\n",
              "    if (outputDiv.id !== \"altair-viz-23d47a1242364b95852de46991d977d9\") {\n",
              "      outputDiv = document.getElementById(\"altair-viz-23d47a1242364b95852de46991d977d9\");\n",
              "    }\n",
              "    const paths = {\n",
              "      \"vega\": \"https://cdn.jsdelivr.net/npm//vega@5?noext\",\n",
              "      \"vega-lib\": \"https://cdn.jsdelivr.net/npm//vega-lib?noext\",\n",
              "      \"vega-lite\": \"https://cdn.jsdelivr.net/npm//vega-lite@4.8.1?noext\",\n",
              "      \"vega-embed\": \"https://cdn.jsdelivr.net/npm//vega-embed@6?noext\",\n",
              "    };\n",
              "\n",
              "    function loadScript(lib) {\n",
              "      return new Promise(function(resolve, reject) {\n",
              "        var s = document.createElement('script');\n",
              "        s.src = paths[lib];\n",
              "        s.async = true;\n",
              "        s.onload = () => resolve(paths[lib]);\n",
              "        s.onerror = () => reject(`Error loading script: ${paths[lib]}`);\n",
              "        document.getElementsByTagName(\"head\")[0].appendChild(s);\n",
              "      });\n",
              "    }\n",
              "\n",
              "    function showError(err) {\n",
              "      outputDiv.innerHTML = `<div class=\"error\" style=\"color:red;\">${err}</div>`;\n",
              "      throw err;\n",
              "    }\n",
              "\n",
              "    function displayChart(vegaEmbed) {\n",
              "      vegaEmbed(outputDiv, spec, embedOpt)\n",
              "        .catch(err => showError(`Javascript Error: ${err.message}<br>This usually means there's a typo in your chart specification. See the javascript console for the full traceback.`));\n",
              "    }\n",
              "\n",
              "    if(typeof define === \"function\" && define.amd) {\n",
              "      requirejs.config({paths});\n",
              "      require([\"vega-embed\"], displayChart, err => showError(`Error loading script: ${err.message}`));\n",
              "    } else if (typeof vegaEmbed === \"function\") {\n",
              "      displayChart(vegaEmbed);\n",
              "    } else {\n",
              "      loadScript(\"vega\")\n",
              "        .then(() => loadScript(\"vega-lite\"))\n",
              "        .then(() => loadScript(\"vega-embed\"))\n",
              "        .catch(showError)\n",
              "        .then(() => displayChart(vegaEmbed));\n",
              "    }\n",
              "  })({\"config\": {\"view\": {\"continuousWidth\": 400, \"continuousHeight\": 300}}, \"data\": {\"name\": \"data-c4b7eb642a8af32684170ee8de999dc3\"}, \"mark\": \"bar\", \"encoding\": {\"color\": {\"type\": \"nominal\", \"field\": \"Country\"}, \"opacity\": {\"condition\": {\"value\": 1, \"selection\": \"selector026\"}, \"value\": 0.2}, \"tooltip\": [{\"type\": \"temporal\", \"field\": \"Date\"}, {\"type\": \"nominal\", \"field\": \"Country\"}, {\"type\": \"quantitative\", \"field\": \"New Confirm Weight\"}], \"x\": {\"type\": \"temporal\", \"field\": \"Date\"}, \"y\": {\"type\": \"quantitative\", \"axis\": {\"format\": \"%\"}, \"field\": \"New Confirm Weight\", \"title\": \"Daily Confirm Weight\"}}, \"selection\": {\"selector026\": {\"type\": \"multi\", \"fields\": [\"Country\"], \"bind\": \"legend\"}}, \"title\": \"Weight of New Cases by Country (Country with weight more than 3%)\", \"width\": 600, \"$schema\": \"https://vega.github.io/schema/vega-lite/v4.8.1.json\", \"datasets\": {\"data-c4b7eb642a8af32684170ee8de999dc3\": [{\"Date\": \"2020-01-23T00:00:00\", \"Country\": \"China\", \"New Confirm Weight\": 0.96}, {\"Date\": \"2020-01-24T00:00:00\", \"Country\": \"China\", \"New Confirm Weight\": 0.965}, {\"Date\": \"2020-01-25T00:00:00\", \"Country\": \"China\", \"New Confirm Weight\": 0.986}, {\"Date\": \"2020-01-26T00:00:00\", \"Country\": \"China\", \"New Confirm Weight\": 0.978}, {\"Date\": \"2020-01-27T00:00:00\", \"Country\": \"China\", \"New Confirm Weight\": 0.991}, {\"Date\": \"2020-01-28T00:00:00\", \"Country\": \"China\", \"New Confirm Weight\": 0.993}, {\"Date\": \"2020-01-29T00:00:00\", \"Country\": \"China\", \"New Confirm Weight\": 0.983}, {\"Date\": \"2020-01-30T00:00:00\", \"Country\": \"China\", \"New Confirm Weight\": 0.993}, {\"Date\": \"2020-01-31T00:00:00\", \"Country\": \"China\", \"New Confirm Weight\": 0.981}, {\"Date\": \"2020-02-01T00:00:00\", \"Country\": \"China\", \"New Confirm Weight\": 0.99}, {\"Date\": \"2020-02-02T00:00:00\", \"Country\": \"China\", \"New Confirm Weight\": 0.998}, {\"Date\": \"2020-02-03T00:00:00\", \"Country\": \"China\", \"New Confirm Weight\": 0.997}, {\"Date\": \"2020-02-04T00:00:00\", \"Country\": \"China\", \"New Confirm Weight\": 0.995}, {\"Date\": \"2020-02-05T00:00:00\", \"Country\": \"China\", \"New Confirm Weight\": 0.997}, {\"Date\": \"2020-02-06T00:00:00\", \"Country\": \"China\", \"New Confirm Weight\": 0.996}, {\"Date\": \"2020-02-07T00:00:00\", \"Country\": \"China\", \"New Confirm Weight\": 0.979}, {\"Date\": \"2020-02-08T00:00:00\", \"Country\": \"China\", \"New Confirm Weight\": 0.991}, {\"Date\": \"2020-02-09T00:00:00\", \"Country\": \"China\", \"New Confirm Weight\": 0.995}, {\"Date\": \"2020-02-10T00:00:00\", \"Country\": \"China\", \"New Confirm Weight\": 0.967}, {\"Date\": \"2020-02-11T00:00:00\", \"Country\": \"China\", \"New Confirm Weight\": 0.996}, {\"Date\": \"2020-02-12T00:00:00\", \"Country\": \"China\", \"New Confirm Weight\": 0.89}, {\"Date\": \"2020-02-12T00:00:00\", \"Country\": \"Diamond Princess\", \"New Confirm Weight\": 0.095}, {\"Date\": \"2020-02-13T00:00:00\", \"Country\": \"China\", \"New Confirm Weight\": 0.999}, {\"Date\": \"2020-02-14T00:00:00\", \"Country\": \"China\", \"New Confirm Weight\": 0.992}, {\"Date\": \"2020-02-15T00:00:00\", \"Country\": \"China\", \"New Confirm Weight\": 0.958}, {\"Date\": \"2020-02-15T00:00:00\", \"Country\": \"Diamond Princess\", \"New Confirm Weight\": 0.031}, {\"Date\": \"2020-02-16T00:00:00\", \"Country\": \"China\", \"New Confirm Weight\": 0.957}, {\"Date\": \"2020-02-16T00:00:00\", \"Country\": \"Diamond Princess\", \"New Confirm Weight\": 0.032}, {\"Date\": \"2020-02-17T00:00:00\", \"Country\": \"China\", \"New Confirm Weight\": 0.944}, {\"Date\": \"2020-02-17T00:00:00\", \"Country\": \"Diamond Princess\", \"New Confirm Weight\": 0.049}, {\"Date\": \"2020-02-18T00:00:00\", \"Country\": \"China\", \"New Confirm Weight\": 0.946}, {\"Date\": \"2020-02-18T00:00:00\", \"Country\": \"Diamond Princess\", \"New Confirm Weight\": 0.047}, {\"Date\": \"2020-02-19T00:00:00\", \"Country\": \"China\", \"New Confirm Weight\": 0.811}, {\"Date\": \"2020-02-19T00:00:00\", \"Country\": \"Diamond Princess\", \"New Confirm Weight\": 0.157}, {\"Date\": \"2020-02-20T00:00:00\", \"Country\": \"China\", \"New Confirm Weight\": 0.821}, {\"Date\": \"2020-02-20T00:00:00\", \"Country\": \"Korea, South\", \"New Confirm Weight\": 0.131}, {\"Date\": \"2020-02-21T00:00:00\", \"Country\": \"China\", \"New Confirm Weight\": 0.76}, {\"Date\": \"2020-02-21T00:00:00\", \"Country\": \"Korea, South\", \"New Confirm Weight\": 0.161}, {\"Date\": \"2020-02-22T00:00:00\", \"Country\": \"China\", \"New Confirm Weight\": 0.828}, {\"Date\": \"2020-02-22T00:00:00\", \"Country\": \"Korea, South\", \"New Confirm Weight\": 0.131}, {\"Date\": \"2020-02-23T00:00:00\", \"Country\": \"China\", \"New Confirm Weight\": 0.054}, {\"Date\": \"2020-02-23T00:00:00\", \"Country\": \"Diamond Princess\", \"New Confirm Weight\": 0.148}, {\"Date\": \"2020-02-23T00:00:00\", \"Country\": \"Iran\", \"New Confirm Weight\": 0.039}, {\"Date\": \"2020-02-23T00:00:00\", \"Country\": \"Italy\", \"New Confirm Weight\": 0.241}, {\"Date\": \"2020-02-23T00:00:00\", \"Country\": \"Japan\", \"New Confirm Weight\": 0.065}, {\"Date\": \"2020-02-23T00:00:00\", \"Country\": \"Korea, South\", \"New Confirm Weight\": 0.438}, {\"Date\": \"2020-02-24T00:00:00\", \"Country\": \"China\", \"New Confirm Weight\": 0.363}, {\"Date\": \"2020-02-24T00:00:00\", \"Country\": \"Italy\", \"New Confirm Weight\": 0.123}, {\"Date\": \"2020-02-24T00:00:00\", \"Country\": \"Korea, South\", \"New Confirm Weight\": 0.383}, {\"Date\": \"2020-02-24T00:00:00\", \"Country\": \"US\", \"New Confirm Weight\": 0.06}, {\"Date\": \"2020-02-25T00:00:00\", \"Country\": \"China\", \"New Confirm Weight\": 0.607}, {\"Date\": \"2020-02-25T00:00:00\", \"Country\": \"Iran\", \"New Confirm Weight\": 0.04}, {\"Date\": \"2020-02-25T00:00:00\", \"Country\": \"Italy\", \"New Confirm Weight\": 0.11}, {\"Date\": \"2020-02-25T00:00:00\", \"Country\": \"Korea, South\", \"New Confirm Weight\": 0.17}, {\"Date\": \"2020-02-26T00:00:00\", \"Country\": \"China\", \"New Confirm Weight\": 0.42}, {\"Date\": \"2020-02-26T00:00:00\", \"Country\": \"Iran\", \"New Confirm Weight\": 0.045}, {\"Date\": \"2020-02-26T00:00:00\", \"Country\": \"Italy\", \"New Confirm Weight\": 0.133}, {\"Date\": \"2020-02-26T00:00:00\", \"Country\": \"Korea, South\", \"New Confirm Weight\": 0.289}, {\"Date\": \"2020-02-27T00:00:00\", \"Country\": \"China\", \"New Confirm Weight\": 0.32}, {\"Date\": \"2020-02-27T00:00:00\", \"Country\": \"Iran\", \"New Confirm Weight\": 0.078}, {\"Date\": \"2020-02-27T00:00:00\", \"Country\": \"Italy\", \"New Confirm Weight\": 0.149}, {\"Date\": \"2020-02-27T00:00:00\", \"Country\": \"Korea, South\", \"New Confirm Weight\": 0.372}, {\"Date\": \"2020-02-28T00:00:00\", \"Country\": \"China\", \"New Confirm Weight\": 0.24}, {\"Date\": \"2020-02-28T00:00:00\", \"Country\": \"Iran\", \"New Confirm Weight\": 0.105}, {\"Date\": \"2020-02-28T00:00:00\", \"Country\": \"Italy\", \"New Confirm Weight\": 0.171}, {\"Date\": \"2020-02-28T00:00:00\", \"Country\": \"Korea, South\", \"New Confirm Weight\": 0.418}, {\"Date\": \"2020-02-29T00:00:00\", \"Country\": \"China\", \"New Confirm Weight\": 0.225}, {\"Date\": \"2020-02-29T00:00:00\", \"Country\": \"Iran\", \"New Confirm Weight\": 0.108}, {\"Date\": \"2020-02-29T00:00:00\", \"Country\": \"Italy\", \"New Confirm Weight\": 0.126}, {\"Date\": \"2020-02-29T00:00:00\", \"Country\": \"Korea, South\", \"New Confirm Weight\": 0.428}, {\"Date\": \"2020-03-01T00:00:00\", \"Country\": \"China\", \"New Confirm Weight\": 0.244}, {\"Date\": \"2020-03-01T00:00:00\", \"Country\": \"Iran\", \"New Confirm Weight\": 0.163}, {\"Date\": \"2020-03-01T00:00:00\", \"Country\": \"Italy\", \"New Confirm Weight\": 0.24}, {\"Date\": \"2020-03-01T00:00:00\", \"Country\": \"Korea, South\", \"New Confirm Weight\": 0.249}, {\"Date\": \"2020-03-02T00:00:00\", \"Country\": \"China\", \"New Confirm Weight\": 0.105}, {\"Date\": \"2020-03-02T00:00:00\", \"Country\": \"France\", \"New Confirm Weight\": 0.031}, {\"Date\": \"2020-03-02T00:00:00\", \"Country\": \"Iran\", \"New Confirm Weight\": 0.27}, {\"Date\": \"2020-03-02T00:00:00\", \"Country\": \"Italy\", \"New Confirm Weight\": 0.177}, {\"Date\": \"2020-03-02T00:00:00\", \"Country\": \"Korea, South\", \"New Confirm Weight\": 0.309}, {\"Date\": \"2020-03-03T00:00:00\", \"Country\": \"China\", \"New Confirm Weight\": 0.049}, {\"Date\": \"2020-03-03T00:00:00\", \"Country\": \"Iran\", \"New Confirm Weight\": 0.33}, {\"Date\": \"2020-03-03T00:00:00\", \"Country\": \"Italy\", \"New Confirm Weight\": 0.184}, {\"Date\": \"2020-03-03T00:00:00\", \"Country\": \"Korea, South\", \"New Confirm Weight\": 0.336}, {\"Date\": \"2020-03-04T00:00:00\", \"Country\": \"China\", \"New Confirm Weight\": 0.055}, {\"Date\": \"2020-03-04T00:00:00\", \"Country\": \"France\", \"New Confirm Weight\": 0.037}, {\"Date\": \"2020-03-04T00:00:00\", \"Country\": \"Iran\", \"New Confirm Weight\": 0.257}, {\"Date\": \"2020-03-04T00:00:00\", \"Country\": \"Italy\", \"New Confirm Weight\": 0.257}, {\"Date\": \"2020-03-04T00:00:00\", \"Country\": \"Korea, South\", \"New Confirm Weight\": 0.191}, {\"Date\": \"2020-03-05T00:00:00\", \"Country\": \"China\", \"New Confirm Weight\": 0.055}, {\"Date\": \"2020-03-05T00:00:00\", \"Country\": \"France\", \"New Confirm Weight\": 0.033}, {\"Date\": \"2020-03-05T00:00:00\", \"Country\": \"Germany\", \"New Confirm Weight\": 0.08}, {\"Date\": \"2020-03-05T00:00:00\", \"Country\": \"Iran\", \"New Confirm Weight\": 0.214}, {\"Date\": \"2020-03-05T00:00:00\", \"Country\": \"Italy\", \"New Confirm Weight\": 0.278}, {\"Date\": \"2020-03-05T00:00:00\", \"Country\": \"Korea, South\", \"New Confirm Weight\": 0.169}, {\"Date\": \"2020-03-06T00:00:00\", \"Country\": \"China\", \"New Confirm Weight\": 0.039}, {\"Date\": \"2020-03-06T00:00:00\", \"Country\": \"France\", \"New Confirm Weight\": 0.07}, {\"Date\": \"2020-03-06T00:00:00\", \"Country\": \"Germany\", \"New Confirm Weight\": 0.048}, {\"Date\": \"2020-03-06T00:00:00\", \"Country\": \"Iran\", \"New Confirm Weight\": 0.315}, {\"Date\": \"2020-03-06T00:00:00\", \"Country\": \"Italy\", \"New Confirm Weight\": 0.199}, {\"Date\": \"2020-03-06T00:00:00\", \"Country\": \"Korea, South\", \"New Confirm Weight\": 0.129}, {\"Date\": \"2020-03-06T00:00:00\", \"Country\": \"Spain\", \"New Confirm Weight\": 0.036}, {\"Date\": \"2020-03-07T00:00:00\", \"Country\": \"France\", \"New Confirm Weight\": 0.075}, {\"Date\": \"2020-03-07T00:00:00\", \"Country\": \"Germany\", \"New Confirm Weight\": 0.032}, {\"Date\": \"2020-03-07T00:00:00\", \"Country\": \"Iran\", \"New Confirm Weight\": 0.266}, {\"Date\": \"2020-03-07T00:00:00\", \"Country\": \"Italy\", \"New Confirm Weight\": 0.308}, {\"Date\": \"2020-03-07T00:00:00\", \"Country\": \"Korea, South\", \"New Confirm Weight\": 0.111}, {\"Date\": \"2020-03-07T00:00:00\", \"Country\": \"US\", \"New Confirm Weight\": 0.035}, {\"Date\": \"2020-03-08T00:00:00\", \"Country\": \"France\", \"New Confirm Weight\": 0.045}, {\"Date\": \"2020-03-08T00:00:00\", \"Country\": \"Germany\", \"New Confirm Weight\": 0.061}, {\"Date\": \"2020-03-08T00:00:00\", \"Country\": \"Iran\", \"New Confirm Weight\": 0.187}, {\"Date\": \"2020-03-08T00:00:00\", \"Country\": \"Italy\", \"New Confirm Weight\": 0.375}, {\"Date\": \"2020-03-08T00:00:00\", \"Country\": \"Korea, South\", \"New Confirm Weight\": 0.069}, {\"Date\": \"2020-03-08T00:00:00\", \"Country\": \"Spain\", \"New Confirm Weight\": 0.044}, {\"Date\": \"2020-03-09T00:00:00\", \"Country\": \"Germany\", \"New Confirm Weight\": 0.036}, {\"Date\": \"2020-03-09T00:00:00\", \"Country\": \"Iran\", \"New Confirm Weight\": 0.158}, {\"Date\": \"2020-03-09T00:00:00\", \"Country\": \"Italy\", \"New Confirm Weight\": 0.477}, {\"Date\": \"2020-03-09T00:00:00\", \"Country\": \"Korea, South\", \"New Confirm Weight\": 0.044}, {\"Date\": \"2020-03-09T00:00:00\", \"Country\": \"Spain\", \"New Confirm Weight\": 0.106}, {\"Date\": \"2020-03-10T00:00:00\", \"Country\": \"Denmark\", \"New Confirm Weight\": 0.034}, {\"Date\": \"2020-03-10T00:00:00\", \"Country\": \"France\", \"New Confirm Weight\": 0.114}, {\"Date\": \"2020-03-10T00:00:00\", \"Country\": \"Germany\", \"New Confirm Weight\": 0.056}, {\"Date\": \"2020-03-10T00:00:00\", \"Country\": \"Iran\", \"New Confirm Weight\": 0.175}, {\"Date\": \"2020-03-10T00:00:00\", \"Country\": \"Italy\", \"New Confirm Weight\": 0.194}, {\"Date\": \"2020-03-10T00:00:00\", \"Country\": \"Norway\", \"New Confirm Weight\": 0.039}, {\"Date\": \"2020-03-10T00:00:00\", \"Country\": \"Spain\", \"New Confirm Weight\": 0.124}, {\"Date\": \"2020-03-10T00:00:00\", \"Country\": \"US\", \"New Confirm Weight\": 0.075}, {\"Date\": \"2020-03-11T00:00:00\", \"Country\": \"France\", \"New Confirm Weight\": 0.069}, {\"Date\": \"2020-03-11T00:00:00\", \"Country\": \"Germany\", \"New Confirm Weight\": 0.062}, {\"Date\": \"2020-03-11T00:00:00\", \"Country\": \"Iran\", \"New Confirm Weight\": 0.132}, {\"Date\": \"2020-03-11T00:00:00\", \"Country\": \"Italy\", \"New Confirm Weight\": 0.319}, {\"Date\": \"2020-03-11T00:00:00\", \"Country\": \"Korea, South\", \"New Confirm Weight\": 0.033}, {\"Date\": \"2020-03-11T00:00:00\", \"Country\": \"Qatar\", \"New Confirm Weight\": 0.033}, {\"Date\": \"2020-03-11T00:00:00\", \"Country\": \"Spain\", \"New Confirm Weight\": 0.08}, {\"Date\": \"2020-03-11T00:00:00\", \"Country\": \"US\", \"New Confirm Weight\": 0.044}, {\"Date\": \"2020-03-12T00:00:00\", \"Country\": \"Denmark\", \"New Confirm Weight\": 0.07}, {\"Date\": \"2020-03-12T00:00:00\", \"Country\": \"Germany\", \"New Confirm Weight\": 0.069}, {\"Date\": \"2020-03-12T00:00:00\", \"Country\": \"Iran\", \"New Confirm Weight\": 0.434}, {\"Date\": \"2020-03-12T00:00:00\", \"Country\": \"Korea, South\", \"New Confirm Weight\": 0.046}, {\"Date\": \"2020-03-12T00:00:00\", \"Country\": \"Norway\", \"New Confirm Weight\": 0.042}, {\"Date\": \"2020-03-12T00:00:00\", \"Country\": \"Sweden\", \"New Confirm Weight\": 0.04}, {\"Date\": \"2020-03-12T00:00:00\", \"Country\": \"US\", \"New Confirm Weight\": 0.154}, {\"Date\": \"2020-03-13T00:00:00\", \"Country\": \"France\", \"New Confirm Weight\": 0.082}, {\"Date\": \"2020-03-13T00:00:00\", \"Country\": \"Germany\", \"New Confirm Weight\": 0.095}, {\"Date\": \"2020-03-13T00:00:00\", \"Country\": \"Iran\", \"New Confirm Weight\": 0.076}, {\"Date\": \"2020-03-13T00:00:00\", \"Country\": \"Italy\", \"New Confirm Weight\": 0.308}, {\"Date\": \"2020-03-13T00:00:00\", \"Country\": \"Spain\", \"New Confirm Weight\": 0.175}, {\"Date\": \"2020-03-13T00:00:00\", \"Country\": \"US\", \"New Confirm Weight\": 0.031}, {\"Date\": \"2020-03-14T00:00:00\", \"Country\": \"France\", \"New Confirm Weight\": 0.075}, {\"Date\": \"2020-03-14T00:00:00\", \"Country\": \"Germany\", \"New Confirm Weight\": 0.084}, {\"Date\": \"2020-03-14T00:00:00\", \"Country\": \"Iran\", \"New Confirm Weight\": 0.125}, {\"Date\": \"2020-03-14T00:00:00\", \"Country\": \"Italy\", \"New Confirm Weight\": 0.321}, {\"Date\": \"2020-03-14T00:00:00\", \"Country\": \"Spain\", \"New Confirm Weight\": 0.106}, {\"Date\": \"2020-03-14T00:00:00\", \"Country\": \"US\", \"New Confirm Weight\": 0.05}, {\"Date\": \"2020-03-14T00:00:00\", \"Country\": \"United Kingdom\", \"New Confirm Weight\": 0.031}, {\"Date\": \"2020-03-15T00:00:00\", \"Country\": \"Germany\", \"New Confirm Weight\": 0.107}, {\"Date\": \"2020-03-15T00:00:00\", \"Country\": \"Iran\", \"New Confirm Weight\": 0.106}, {\"Date\": \"2020-03-15T00:00:00\", \"Country\": \"Italy\", \"New Confirm Weight\": 0.316}, {\"Date\": \"2020-03-15T00:00:00\", \"Country\": \"Spain\", \"New Confirm Weight\": 0.124}, {\"Date\": \"2020-03-15T00:00:00\", \"Country\": \"Switzerland\", \"New Confirm Weight\": 0.074}, {\"Date\": \"2020-03-15T00:00:00\", \"Country\": \"US\", \"New Confirm Weight\": 0.068}, {\"Date\": \"2020-03-16T00:00:00\", \"Country\": \"France\", \"New Confirm Weight\": 0.152}, {\"Date\": \"2020-03-16T00:00:00\", \"Country\": \"Germany\", \"New Confirm Weight\": 0.105}, {\"Date\": \"2020-03-16T00:00:00\", \"Country\": \"Iran\", \"New Confirm Weight\": 0.075}, {\"Date\": \"2020-03-16T00:00:00\", \"Country\": \"Italy\", \"New Confirm Weight\": 0.229}, {\"Date\": \"2020-03-16T00:00:00\", \"Country\": \"Spain\", \"New Confirm Weight\": 0.152}, {\"Date\": \"2020-03-16T00:00:00\", \"Country\": \"US\", \"New Confirm Weight\": 0.08}, {\"Date\": \"2020-03-17T00:00:00\", \"Country\": \"France\", \"New Confirm Weight\": 0.066}, {\"Date\": \"2020-03-17T00:00:00\", \"Country\": \"Germany\", \"New Confirm Weight\": 0.128}, {\"Date\": \"2020-03-17T00:00:00\", \"Country\": \"Iran\", \"New Confirm Weight\": 0.076}, {\"Date\": \"2020-03-17T00:00:00\", \"Country\": \"Italy\", \"New Confirm Weight\": 0.227}, {\"Date\": \"2020-03-17T00:00:00\", \"Country\": \"Spain\", \"New Confirm Weight\": 0.116}, {\"Date\": \"2020-03-17T00:00:00\", \"Country\": \"Switzerland\", \"New Confirm Weight\": 0.032}, {\"Date\": \"2020-03-17T00:00:00\", \"Country\": \"US\", \"New Confirm Weight\": 0.115}, {\"Date\": \"2020-03-18T00:00:00\", \"Country\": \"France\", \"New Confirm Weight\": 0.08}, {\"Date\": \"2020-03-18T00:00:00\", \"Country\": \"Germany\", \"New Confirm Weight\": 0.173}, {\"Date\": \"2020-03-18T00:00:00\", \"Country\": \"Iran\", \"New Confirm Weight\": 0.067}, {\"Date\": \"2020-03-18T00:00:00\", \"Country\": \"Italy\", \"New Confirm Weight\": 0.237}, {\"Date\": \"2020-03-18T00:00:00\", \"Country\": \"Spain\", \"New Confirm Weight\": 0.122}, {\"Date\": \"2020-03-18T00:00:00\", \"Country\": \"US\", \"New Confirm Weight\": 0.077}, {\"Date\": \"2020-03-18T00:00:00\", \"Country\": \"United Kingdom\", \"New Confirm Weight\": 0.038}, {\"Date\": \"2020-03-19T00:00:00\", \"Country\": \"France\", \"New Confirm Weight\": 0.067}, {\"Date\": \"2020-03-19T00:00:00\", \"Country\": \"Germany\", \"New Confirm Weight\": 0.108}, {\"Date\": \"2020-03-19T00:00:00\", \"Country\": \"Iran\", \"New Confirm Weight\": 0.038}, {\"Date\": \"2020-03-19T00:00:00\", \"Country\": \"Italy\", \"New Confirm Weight\": 0.192}, {\"Date\": \"2020-03-19T00:00:00\", \"Country\": \"Spain\", \"New Confirm Weight\": 0.146}, {\"Date\": \"2020-03-19T00:00:00\", \"Country\": \"Switzerland\", \"New Confirm Weight\": 0.038}, {\"Date\": \"2020-03-19T00:00:00\", \"Country\": \"US\", \"New Confirm Weight\": 0.215}, {\"Date\": \"2020-03-20T00:00:00\", \"Country\": \"France\", \"New Confirm Weight\": 0.06}, {\"Date\": \"2020-03-20T00:00:00\", \"Country\": \"Germany\", \"New Confirm Weight\": 0.153}, {\"Date\": \"2020-03-20T00:00:00\", \"Country\": \"Iran\", \"New Confirm Weight\": 0.042}, {\"Date\": \"2020-03-20T00:00:00\", \"Country\": \"Italy\", \"New Confirm Weight\": 0.202}, {\"Date\": \"2020-03-20T00:00:00\", \"Country\": \"Spain\", \"New Confirm Weight\": 0.083}, {\"Date\": \"2020-03-20T00:00:00\", \"Country\": \"Switzerland\", \"New Confirm Weight\": 0.041}, {\"Date\": \"2020-03-20T00:00:00\", \"Country\": \"US\", \"New Confirm Weight\": 0.186}, {\"Date\": \"2020-03-20T00:00:00\", \"Country\": \"United Kingdom\", \"New Confirm Weight\": 0.044}, {\"Date\": \"2020-03-21T00:00:00\", \"Country\": \"France\", \"New Confirm Weight\": 0.053}, {\"Date\": \"2020-03-21T00:00:00\", \"Country\": \"Germany\", \"New Confirm Weight\": 0.073}, {\"Date\": \"2020-03-21T00:00:00\", \"Country\": \"Italy\", \"New Confirm Weight\": 0.203}, {\"Date\": \"2020-03-21T00:00:00\", \"Country\": \"Spain\", \"New Confirm Weight\": 0.154}, {\"Date\": \"2020-03-21T00:00:00\", \"Country\": \"Switzerland\", \"New Confirm Weight\": 0.04}, {\"Date\": \"2020-03-21T00:00:00\", \"Country\": \"US\", \"New Confirm Weight\": 0.196}, {\"Date\": \"2020-03-21T00:00:00\", \"Country\": \"United Kingdom\", \"New Confirm Weight\": 0.033}, {\"Date\": \"2020-03-22T00:00:00\", \"Country\": \"France\", \"New Confirm Weight\": 0.055}, {\"Date\": \"2020-03-22T00:00:00\", \"Country\": \"Germany\", \"New Confirm Weight\": 0.082}, {\"Date\": \"2020-03-22T00:00:00\", \"Country\": \"Iran\", \"New Confirm Weight\": 0.032}, {\"Date\": \"2020-03-22T00:00:00\", \"Country\": \"Italy\", \"New Confirm Weight\": 0.171}, {\"Date\": \"2020-03-22T00:00:00\", \"Country\": \"Spain\", \"New Confirm Weight\": 0.105}, {\"Date\": \"2020-03-22T00:00:00\", \"Country\": \"US\", \"New Confirm Weight\": 0.237}, {\"Date\": \"2020-03-23T00:00:00\", \"Country\": \"France\", \"New Confirm Weight\": 0.094}, {\"Date\": \"2020-03-23T00:00:00\", \"Country\": \"Germany\", \"New Confirm Weight\": 0.101}, {\"Date\": \"2020-03-23T00:00:00\", \"Country\": \"Iran\", \"New Confirm Weight\": 0.034}, {\"Date\": \"2020-03-23T00:00:00\", \"Country\": \"Italy\", \"New Confirm Weight\": 0.116}, {\"Date\": \"2020-03-23T00:00:00\", \"Country\": \"Spain\", \"New Confirm Weight\": 0.154}, {\"Date\": \"2020-03-23T00:00:00\", \"Country\": \"Switzerland\", \"New Confirm Weight\": 0.032}, {\"Date\": \"2020-03-23T00:00:00\", \"Country\": \"US\", \"New Confirm Weight\": 0.256}, {\"Date\": \"2020-03-24T00:00:00\", \"Country\": \"France\", \"New Confirm Weight\": 0.063}, {\"Date\": \"2020-03-24T00:00:00\", \"Country\": \"Germany\", \"New Confirm Weight\": 0.099}, {\"Date\": \"2020-03-24T00:00:00\", \"Country\": \"Iran\", \"New Confirm Weight\": 0.044}, {\"Date\": \"2020-03-24T00:00:00\", \"Country\": \"Italy\", \"New Confirm Weight\": 0.132}, {\"Date\": \"2020-03-24T00:00:00\", \"Country\": \"Spain\", \"New Confirm Weight\": 0.119}, {\"Date\": \"2020-03-24T00:00:00\", \"Country\": \"US\", \"New Confirm Weight\": 0.249}, {\"Date\": \"2020-03-24T00:00:00\", \"Country\": \"United Kingdom\", \"New Confirm Weight\": 0.036}, {\"Date\": \"2020-03-25T00:00:00\", \"Country\": \"France\", \"New Confirm Weight\": 0.06}, {\"Date\": \"2020-03-25T00:00:00\", \"Country\": \"Germany\", \"New Confirm Weight\": 0.087}, {\"Date\": \"2020-03-25T00:00:00\", \"Country\": \"Iran\", \"New Confirm Weight\": 0.044}, {\"Date\": \"2020-03-25T00:00:00\", \"Country\": \"Italy\", \"New Confirm Weight\": 0.105}, {\"Date\": \"2020-03-25T00:00:00\", \"Country\": \"Spain\", \"New Confirm Weight\": 0.194}, {\"Date\": \"2020-03-25T00:00:00\", \"Country\": \"US\", \"New Confirm Weight\": 0.243}, {\"Date\": \"2020-03-26T00:00:00\", \"Country\": \"France\", \"New Confirm Weight\": 0.064}, {\"Date\": \"2020-03-26T00:00:00\", \"Country\": \"Germany\", \"New Confirm Weight\": 0.107}, {\"Date\": \"2020-03-26T00:00:00\", \"Country\": \"Iran\", \"New Confirm Weight\": 0.039}, {\"Date\": \"2020-03-26T00:00:00\", \"Country\": \"Italy\", \"New Confirm Weight\": 0.1}, {\"Date\": \"2020-03-26T00:00:00\", \"Country\": \"Spain\", \"New Confirm Weight\": 0.134}, {\"Date\": \"2020-03-26T00:00:00\", \"Country\": \"US\", \"New Confirm Weight\": 0.292}, {\"Date\": \"2020-03-26T00:00:00\", \"Country\": \"United Kingdom\", \"New Confirm Weight\": 0.035}, {\"Date\": \"2020-03-27T00:00:00\", \"Country\": \"France\", \"New Confirm Weight\": 0.06}, {\"Date\": \"2020-03-27T00:00:00\", \"Country\": \"Germany\", \"New Confirm Weight\": 0.109}, {\"Date\": \"2020-03-27T00:00:00\", \"Country\": \"Iran\", \"New Confirm Weight\": 0.046}, {\"Date\": \"2020-03-27T00:00:00\", \"Country\": \"Italy\", \"New Confirm Weight\": 0.093}, {\"Date\": \"2020-03-27T00:00:00\", \"Country\": \"Spain\", \"New Confirm Weight\": 0.125}, {\"Date\": \"2020-03-27T00:00:00\", \"Country\": \"Turkey\", \"New Confirm Weight\": 0.032}, {\"Date\": \"2020-03-27T00:00:00\", \"Country\": \"US\", \"New Confirm Weight\": 0.28}, {\"Date\": \"2020-03-27T00:00:00\", \"Country\": \"United Kingdom\", \"New Confirm Weight\": 0.046}, {\"Date\": \"2020-03-28T00:00:00\", \"Country\": \"France\", \"New Confirm Weight\": 0.07}, {\"Date\": \"2020-03-28T00:00:00\", \"Country\": \"Germany\", \"New Confirm Weight\": 0.101}, {\"Date\": \"2020-03-28T00:00:00\", \"Country\": \"Iran\", \"New Confirm Weight\": 0.046}, {\"Date\": \"2020-03-28T00:00:00\", \"Country\": \"Italy\", \"New Confirm Weight\": 0.089}, {\"Date\": \"2020-03-28T00:00:00\", \"Country\": \"Spain\", \"New Confirm Weight\": 0.112}, {\"Date\": \"2020-03-28T00:00:00\", \"Country\": \"US\", \"New Confirm Weight\": 0.294}, {\"Date\": \"2020-03-28T00:00:00\", \"Country\": \"United Kingdom\", \"New Confirm Weight\": 0.038}, {\"Date\": \"2020-03-29T00:00:00\", \"Country\": \"France\", \"New Confirm Weight\": 0.044}, {\"Date\": \"2020-03-29T00:00:00\", \"Country\": \"Germany\", \"New Confirm Weight\": 0.074}, {\"Date\": \"2020-03-29T00:00:00\", \"Country\": \"Iran\", \"New Confirm Weight\": 0.049}, {\"Date\": \"2020-03-29T00:00:00\", \"Country\": \"Italy\", \"New Confirm Weight\": 0.088}, {\"Date\": \"2020-03-29T00:00:00\", \"Country\": \"Spain\", \"New Confirm Weight\": 0.116}, {\"Date\": \"2020-03-29T00:00:00\", \"Country\": \"Turkey\", \"New Confirm Weight\": 0.031}, {\"Date\": \"2020-03-29T00:00:00\", \"Country\": \"US\", \"New Confirm Weight\": 0.327}, {\"Date\": \"2020-03-29T00:00:00\", \"Country\": \"United Kingdom\", \"New Confirm Weight\": 0.042}, {\"Date\": \"2020-03-30T00:00:00\", \"Country\": \"France\", \"New Confirm Weight\": 0.072}, {\"Date\": \"2020-03-30T00:00:00\", \"Country\": \"Germany\", \"New Confirm Weight\": 0.077}, {\"Date\": \"2020-03-30T00:00:00\", \"Country\": \"Iran\", \"New Confirm Weight\": 0.051}, {\"Date\": \"2020-03-30T00:00:00\", \"Country\": \"Italy\", \"New Confirm Weight\": 0.065}, {\"Date\": \"2020-03-30T00:00:00\", \"Country\": \"Spain\", \"New Confirm Weight\": 0.126}, {\"Date\": \"2020-03-30T00:00:00\", \"Country\": \"US\", \"New Confirm Weight\": 0.336}, {\"Date\": \"2020-03-30T00:00:00\", \"Country\": \"United Kingdom\", \"New Confirm Weight\": 0.043}, {\"Date\": \"2020-03-31T00:00:00\", \"Country\": \"France\", \"New Confirm Weight\": 0.102}, {\"Date\": \"2020-03-31T00:00:00\", \"Country\": \"Germany\", \"New Confirm Weight\": 0.066}, {\"Date\": \"2020-03-31T00:00:00\", \"Country\": \"Iran\", \"New Confirm Weight\": 0.041}, {\"Date\": \"2020-03-31T00:00:00\", \"Country\": \"Italy\", \"New Confirm Weight\": 0.054}, {\"Date\": \"2020-03-31T00:00:00\", \"Country\": \"Spain\", \"New Confirm Weight\": 0.106}, {\"Date\": \"2020-03-31T00:00:00\", \"Country\": \"Turkey\", \"New Confirm Weight\": 0.036}, {\"Date\": \"2020-03-31T00:00:00\", \"Country\": \"US\", \"New Confirm Weight\": 0.351}, {\"Date\": \"2020-03-31T00:00:00\", \"Country\": \"United Kingdom\", \"New Confirm Weight\": 0.04}, {\"Date\": \"2020-04-01T00:00:00\", \"Country\": \"France\", \"New Confirm Weight\": 0.066}, {\"Date\": \"2020-04-01T00:00:00\", \"Country\": \"Germany\", \"New Confirm Weight\": 0.081}, {\"Date\": \"2020-04-01T00:00:00\", \"Country\": \"Iran\", \"New Confirm Weight\": 0.04}, {\"Date\": \"2020-04-01T00:00:00\", \"Country\": \"Italy\", \"New Confirm Weight\": 0.064}, {\"Date\": \"2020-04-01T00:00:00\", \"Country\": \"Spain\", \"New Confirm Weight\": 0.109}, {\"Date\": \"2020-04-01T00:00:00\", \"Country\": \"US\", \"New Confirm Weight\": 0.335}, {\"Date\": \"2020-04-01T00:00:00\", \"Country\": \"United Kingdom\", \"New Confirm Weight\": 0.058}, {\"Date\": \"2020-04-02T00:00:00\", \"Country\": \"Germany\", \"New Confirm Weight\": 0.086}, {\"Date\": \"2020-04-02T00:00:00\", \"Country\": \"Iran\", \"New Confirm Weight\": 0.036}, {\"Date\": \"2020-04-02T00:00:00\", \"Country\": \"Italy\", \"New Confirm Weight\": 0.058}, {\"Date\": \"2020-04-02T00:00:00\", \"Country\": \"Spain\", \"New Confirm Weight\": 0.098}, {\"Date\": \"2020-04-02T00:00:00\", \"Country\": \"US\", \"New Confirm Weight\": 0.376}, {\"Date\": \"2020-04-02T00:00:00\", \"Country\": \"United Kingdom\", \"New Confirm Weight\": 0.053}, {\"Date\": \"2020-04-03T00:00:00\", \"Country\": \"France\", \"New Confirm Weight\": 0.064}, {\"Date\": \"2020-04-03T00:00:00\", \"Country\": \"Germany\", \"New Confirm Weight\": 0.077}, {\"Date\": \"2020-04-03T00:00:00\", \"Country\": \"Iran\", \"New Confirm Weight\": 0.033}, {\"Date\": \"2020-04-03T00:00:00\", \"Country\": \"Italy\", \"New Confirm Weight\": 0.056}, {\"Date\": \"2020-04-03T00:00:00\", \"Country\": \"Spain\", \"New Confirm Weight\": 0.087}, {\"Date\": \"2020-04-03T00:00:00\", \"Country\": \"Turkey\", \"New Confirm Weight\": 0.034}, {\"Date\": \"2020-04-03T00:00:00\", \"Country\": \"US\", \"New Confirm Weight\": 0.386}, {\"Date\": \"2020-04-03T00:00:00\", \"Country\": \"United Kingdom\", \"New Confirm Weight\": 0.055}, {\"Date\": \"2020-04-04T00:00:00\", \"Country\": \"France\", \"New Confirm Weight\": 0.253}, {\"Date\": \"2020-04-04T00:00:00\", \"Country\": \"Germany\", \"New Confirm Weight\": 0.049}, {\"Date\": \"2020-04-04T00:00:00\", \"Country\": \"Italy\", \"New Confirm Weight\": 0.047}, {\"Date\": \"2020-04-04T00:00:00\", \"Country\": \"Spain\", \"New Confirm Weight\": 0.069}, {\"Date\": \"2020-04-04T00:00:00\", \"Country\": \"US\", \"New Confirm Weight\": 0.328}, {\"Date\": \"2020-04-04T00:00:00\", \"Country\": \"United Kingdom\", \"New Confirm Weight\": 0.037}, {\"Date\": \"2020-04-05T00:00:00\", \"Country\": \"Canada\", \"New Confirm Weight\": 0.037}, {\"Date\": \"2020-04-05T00:00:00\", \"Country\": \"France\", \"New Confirm Weight\": 0.039}, {\"Date\": \"2020-04-05T00:00:00\", \"Country\": \"Germany\", \"New Confirm Weight\": 0.054}, {\"Date\": \"2020-04-05T00:00:00\", \"Country\": \"Iran\", \"New Confirm Weight\": 0.033}, {\"Date\": \"2020-04-05T00:00:00\", \"Country\": \"Italy\", \"New Confirm Weight\": 0.058}, {\"Date\": \"2020-04-05T00:00:00\", \"Country\": \"Spain\", \"New Confirm Weight\": 0.073}, {\"Date\": \"2020-04-05T00:00:00\", \"Country\": \"Turkey\", \"New Confirm Weight\": 0.042}, {\"Date\": \"2020-04-05T00:00:00\", \"Country\": \"US\", \"New Confirm Weight\": 0.378}, {\"Date\": \"2020-04-05T00:00:00\", \"Country\": \"United Kingdom\", \"New Confirm Weight\": 0.08}, {\"Date\": \"2020-04-06T00:00:00\", \"Country\": \"France\", \"New Confirm Weight\": 0.071}, {\"Date\": \"2020-04-06T00:00:00\", \"Country\": \"Germany\", \"New Confirm Weight\": 0.045}, {\"Date\": \"2020-04-06T00:00:00\", \"Country\": \"Iran\", \"New Confirm Weight\": 0.031}, {\"Date\": \"2020-04-06T00:00:00\", \"Country\": \"Italy\", \"New Confirm Weight\": 0.049}, {\"Date\": \"2020-04-06T00:00:00\", \"Country\": \"Spain\", \"New Confirm Weight\": 0.069}, {\"Date\": \"2020-04-06T00:00:00\", \"Country\": \"Turkey\", \"New Confirm Weight\": 0.043}, {\"Date\": \"2020-04-06T00:00:00\", \"Country\": \"US\", \"New Confirm Weight\": 0.405}, {\"Date\": \"2020-04-06T00:00:00\", \"Country\": \"United Kingdom\", \"New Confirm Weight\": 0.053}, {\"Date\": \"2020-04-07T00:00:00\", \"Country\": \"France\", \"New Confirm Weight\": 0.137}, {\"Date\": \"2020-04-07T00:00:00\", \"Country\": \"Germany\", \"New Confirm Weight\": 0.053}, {\"Date\": \"2020-04-07T00:00:00\", \"Country\": \"Italy\", \"New Confirm Weight\": 0.038}, {\"Date\": \"2020-04-07T00:00:00\", \"Country\": \"Spain\", \"New Confirm Weight\": 0.065}, {\"Date\": \"2020-04-07T00:00:00\", \"Country\": \"Turkey\", \"New Confirm Weight\": 0.048}, {\"Date\": \"2020-04-07T00:00:00\", \"Country\": \"US\", \"New Confirm Weight\": 0.365}, {\"Date\": \"2020-04-07T00:00:00\", \"Country\": \"United Kingdom\", \"New Confirm Weight\": 0.045}, {\"Date\": \"2020-04-08T00:00:00\", \"Country\": \"France\", \"New Confirm Weight\": 0.046}, {\"Date\": \"2020-04-08T00:00:00\", \"Country\": \"Germany\", \"New Confirm Weight\": 0.066}, {\"Date\": \"2020-04-08T00:00:00\", \"Country\": \"Italy\", \"New Confirm Weight\": 0.045}, {\"Date\": \"2020-04-08T00:00:00\", \"Country\": \"Spain\", \"New Confirm Weight\": 0.074}, {\"Date\": \"2020-04-08T00:00:00\", \"Country\": \"Turkey\", \"New Confirm Weight\": 0.048}, {\"Date\": \"2020-04-08T00:00:00\", \"Country\": \"US\", \"New Confirm Weight\": 0.386}, {\"Date\": \"2020-04-08T00:00:00\", \"Country\": \"United Kingdom\", \"New Confirm Weight\": 0.065}, {\"Date\": \"2020-04-09T00:00:00\", \"Country\": \"France\", \"New Confirm Weight\": 0.057}, {\"Date\": \"2020-04-09T00:00:00\", \"Country\": \"Germany\", \"New Confirm Weight\": 0.058}, {\"Date\": \"2020-04-09T00:00:00\", \"Country\": \"Italy\", \"New Confirm Weight\": 0.05}, {\"Date\": \"2020-04-09T00:00:00\", \"Country\": \"Spain\", \"New Confirm Weight\": 0.059}, {\"Date\": \"2020-04-09T00:00:00\", \"Country\": \"Turkey\", \"New Confirm Weight\": 0.048}, {\"Date\": \"2020-04-09T00:00:00\", \"Country\": \"US\", \"New Confirm Weight\": 0.384}, {\"Date\": \"2020-04-09T00:00:00\", \"Country\": \"United Kingdom\", \"New Confirm Weight\": 0.052}, {\"Date\": \"2020-04-10T00:00:00\", \"Country\": \"France\", \"New Confirm Weight\": 0.074}, {\"Date\": \"2020-04-10T00:00:00\", \"Country\": \"Germany\", \"New Confirm Weight\": 0.041}, {\"Date\": \"2020-04-10T00:00:00\", \"Country\": \"Italy\", \"New Confirm Weight\": 0.041}, {\"Date\": \"2020-04-10T00:00:00\", \"Country\": \"Spain\", \"New Confirm Weight\": 0.052}, {\"Date\": \"2020-04-10T00:00:00\", \"Country\": \"Turkey\", \"New Confirm Weight\": 0.049}, {\"Date\": \"2020-04-10T00:00:00\", \"Country\": \"US\", \"New Confirm Weight\": 0.364}, {\"Date\": \"2020-04-10T00:00:00\", \"Country\": \"United Kingdom\", \"New Confirm Weight\": 0.091}, {\"Date\": \"2020-04-11T00:00:00\", \"Country\": \"France\", \"New Confirm Weight\": 0.06}, {\"Date\": \"2020-04-11T00:00:00\", \"Country\": \"Germany\", \"New Confirm Weight\": 0.034}, {\"Date\": \"2020-04-11T00:00:00\", \"Country\": \"Italy\", \"New Confirm Weight\": 0.059}, {\"Date\": \"2020-04-11T00:00:00\", \"Country\": \"Spain\", \"New Confirm Weight\": 0.06}, {\"Date\": \"2020-04-11T00:00:00\", \"Country\": \"Turkey\", \"New Confirm Weight\": 0.064}, {\"Date\": \"2020-04-11T00:00:00\", \"Country\": \"US\", \"New Confirm Weight\": 0.374}, {\"Date\": \"2020-04-11T00:00:00\", \"Country\": \"United Kingdom\", \"New Confirm Weight\": 0.066}, {\"Date\": \"2020-04-12T00:00:00\", \"Country\": \"France\", \"New Confirm Weight\": 0.039}, {\"Date\": \"2020-04-12T00:00:00\", \"Country\": \"Germany\", \"New Confirm Weight\": 0.039}, {\"Date\": \"2020-04-12T00:00:00\", \"Country\": \"Italy\", \"New Confirm Weight\": 0.054}, {\"Date\": \"2020-04-12T00:00:00\", \"Country\": \"Spain\", \"New Confirm Weight\": 0.051}, {\"Date\": \"2020-04-12T00:00:00\", \"Country\": \"Turkey\", \"New Confirm Weight\": 0.064}, {\"Date\": \"2020-04-12T00:00:00\", \"Country\": \"US\", \"New Confirm Weight\": 0.385}, {\"Date\": \"2020-04-12T00:00:00\", \"Country\": \"United Kingdom\", \"New Confirm Weight\": 0.071}, {\"Date\": \"2020-04-13T00:00:00\", \"Country\": \"France\", \"New Confirm Weight\": 0.06}, {\"Date\": \"2020-04-13T00:00:00\", \"Country\": \"Germany\", \"New Confirm Weight\": 0.031}, {\"Date\": \"2020-04-13T00:00:00\", \"Country\": \"Italy\", \"New Confirm Weight\": 0.045}, {\"Date\": \"2020-04-13T00:00:00\", \"Country\": \"Peru\", \"New Confirm Weight\": 0.032}, {\"Date\": \"2020-04-13T00:00:00\", \"Country\": \"Russia\", \"New Confirm Weight\": 0.036}, {\"Date\": \"2020-04-13T00:00:00\", \"Country\": \"Spain\", \"New Confirm Weight\": 0.046}, {\"Date\": \"2020-04-13T00:00:00\", \"Country\": \"Turkey\", \"New Confirm Weight\": 0.058}, {\"Date\": \"2020-04-13T00:00:00\", \"Country\": \"US\", \"New Confirm Weight\": 0.358}, {\"Date\": \"2020-04-13T00:00:00\", \"Country\": \"United Kingdom\", \"New Confirm Weight\": 0.062}, {\"Date\": \"2020-04-14T00:00:00\", \"Country\": \"Brazil\", \"New Confirm Weight\": 0.031}, {\"Date\": \"2020-04-14T00:00:00\", \"Country\": \"Italy\", \"New Confirm Weight\": 0.05}, {\"Date\": \"2020-04-14T00:00:00\", \"Country\": \"Russia\", \"New Confirm Weight\": 0.047}, {\"Date\": \"2020-04-14T00:00:00\", \"Country\": \"Spain\", \"New Confirm Weight\": 0.041}, {\"Date\": \"2020-04-14T00:00:00\", \"Country\": \"Turkey\", \"New Confirm Weight\": 0.069}, {\"Date\": \"2020-04-14T00:00:00\", \"Country\": \"US\", \"New Confirm Weight\": 0.459}, {\"Date\": \"2020-04-14T00:00:00\", \"Country\": \"United Kingdom\", \"New Confirm Weight\": 0.09}, {\"Date\": \"2020-04-15T00:00:00\", \"Country\": \"Belgium\", \"New Confirm Weight\": 0.031}, {\"Date\": \"2020-04-15T00:00:00\", \"Country\": \"Brazil\", \"New Confirm Weight\": 0.038}, {\"Date\": \"2020-04-15T00:00:00\", \"Country\": \"France\", \"New Confirm Weight\": 0.04}, {\"Date\": \"2020-04-15T00:00:00\", \"Country\": \"Germany\", \"New Confirm Weight\": 0.042}, {\"Date\": \"2020-04-15T00:00:00\", \"Country\": \"Italy\", \"New Confirm Weight\": 0.033}, {\"Date\": \"2020-04-15T00:00:00\", \"Country\": \"Russia\", \"New Confirm Weight\": 0.042}, {\"Date\": \"2020-04-15T00:00:00\", \"Country\": \"Spain\", \"New Confirm Weight\": 0.064}, {\"Date\": \"2020-04-15T00:00:00\", \"Country\": \"Turkey\", \"New Confirm Weight\": 0.054}, {\"Date\": \"2020-04-15T00:00:00\", \"Country\": \"US\", \"New Confirm Weight\": 0.359}, {\"Date\": \"2020-04-15T00:00:00\", \"Country\": \"United Kingdom\", \"New Confirm Weight\": 0.058}]}}, {\"mode\": \"vega-lite\"});\n",
              "</script>"
            ]
          },
          "metadata": {
            "tags": []
          },
          "execution_count": 142
        }
      ]
    },
    {
      "cell_type": "code",
      "metadata": {
        "id": "SWnLrKxGLw22",
        "colab_type": "code",
        "colab": {
          "base_uri": "https://localhost:8080/",
          "height": 368
        },
        "outputId": "7e060fa0-1508-4af3-f9fa-a9d498aceaff"
      },
      "source": [
        "#hide\n",
        "df_confirm_country = df_confirmed_new_pct[['Date', 'New Confirm Weight']].groupby('Date').count().rename(columns={'New Confirm Weight': 'Count'})\n",
        "df_confirm_country['Total Weight'] = df_confirmed_new_pct[['Date', 'New Confirm Weight']].groupby('Date').sum()\n",
        "df_confirm_country = df_confirm_country.reset_index()\n",
        "alt.Chart(df_confirm_country).mark_line().encode(\n",
        "    alt.X('Date:T'),\n",
        "    alt.Y('Total Weight:Q', axis=alt.Axis(format='%')),\n",
        "    tooltip=list(df_confirm_country)\n",
        ")"
      ],
      "execution_count": 136,
      "outputs": [
        {
          "output_type": "execute_result",
          "data": {
            "text/plain": [
              "alt.Chart(...)"
            ],
            "text/html": [
              "\n",
              "<div id=\"altair-viz-d61f0b4593ad4d12a8d804cdef892afc\"></div>\n",
              "<script type=\"text/javascript\">\n",
              "  (function(spec, embedOpt){\n",
              "    let outputDiv = document.currentScript.previousElementSibling;\n",
              "    if (outputDiv.id !== \"altair-viz-d61f0b4593ad4d12a8d804cdef892afc\") {\n",
              "      outputDiv = document.getElementById(\"altair-viz-d61f0b4593ad4d12a8d804cdef892afc\");\n",
              "    }\n",
              "    const paths = {\n",
              "      \"vega\": \"https://cdn.jsdelivr.net/npm//vega@5?noext\",\n",
              "      \"vega-lib\": \"https://cdn.jsdelivr.net/npm//vega-lib?noext\",\n",
              "      \"vega-lite\": \"https://cdn.jsdelivr.net/npm//vega-lite@4.8.1?noext\",\n",
              "      \"vega-embed\": \"https://cdn.jsdelivr.net/npm//vega-embed@6?noext\",\n",
              "    };\n",
              "\n",
              "    function loadScript(lib) {\n",
              "      return new Promise(function(resolve, reject) {\n",
              "        var s = document.createElement('script');\n",
              "        s.src = paths[lib];\n",
              "        s.async = true;\n",
              "        s.onload = () => resolve(paths[lib]);\n",
              "        s.onerror = () => reject(`Error loading script: ${paths[lib]}`);\n",
              "        document.getElementsByTagName(\"head\")[0].appendChild(s);\n",
              "      });\n",
              "    }\n",
              "\n",
              "    function showError(err) {\n",
              "      outputDiv.innerHTML = `<div class=\"error\" style=\"color:red;\">${err}</div>`;\n",
              "      throw err;\n",
              "    }\n",
              "\n",
              "    function displayChart(vegaEmbed) {\n",
              "      vegaEmbed(outputDiv, spec, embedOpt)\n",
              "        .catch(err => showError(`Javascript Error: ${err.message}<br>This usually means there's a typo in your chart specification. See the javascript console for the full traceback.`));\n",
              "    }\n",
              "\n",
              "    if(typeof define === \"function\" && define.amd) {\n",
              "      requirejs.config({paths});\n",
              "      require([\"vega-embed\"], displayChart, err => showError(`Error loading script: ${err.message}`));\n",
              "    } else if (typeof vegaEmbed === \"function\") {\n",
              "      displayChart(vegaEmbed);\n",
              "    } else {\n",
              "      loadScript(\"vega\")\n",
              "        .then(() => loadScript(\"vega-lite\"))\n",
              "        .then(() => loadScript(\"vega-embed\"))\n",
              "        .catch(showError)\n",
              "        .then(() => displayChart(vegaEmbed));\n",
              "    }\n",
              "  })({\"config\": {\"view\": {\"continuousWidth\": 400, \"continuousHeight\": 300}}, \"data\": {\"name\": \"data-624c6e36eb467346fcdee1a69c0c6787\"}, \"mark\": \"line\", \"encoding\": {\"tooltip\": [{\"type\": \"temporal\", \"field\": \"Date\"}, {\"type\": \"quantitative\", \"field\": \"Count\"}, {\"type\": \"quantitative\", \"field\": \"Total Weight\"}], \"x\": {\"type\": \"temporal\", \"field\": \"Date\"}, \"y\": {\"type\": \"quantitative\", \"axis\": {\"format\": \"%\"}, \"field\": \"Total Weight\"}}, \"$schema\": \"https://vega.github.io/schema/vega-lite/v4.8.1.json\", \"datasets\": {\"data-624c6e36eb467346fcdee1a69c0c6787\": [{\"Date\": \"2020-01-23T00:00:00\", \"Count\": 1, \"Total Weight\": 0.96}, {\"Date\": \"2020-01-24T00:00:00\", \"Count\": 1, \"Total Weight\": 0.965}, {\"Date\": \"2020-01-25T00:00:00\", \"Count\": 1, \"Total Weight\": 0.986}, {\"Date\": \"2020-01-26T00:00:00\", \"Count\": 1, \"Total Weight\": 0.978}, {\"Date\": \"2020-01-27T00:00:00\", \"Count\": 1, \"Total Weight\": 0.991}, {\"Date\": \"2020-01-28T00:00:00\", \"Count\": 1, \"Total Weight\": 0.993}, {\"Date\": \"2020-01-29T00:00:00\", \"Count\": 1, \"Total Weight\": 0.983}, {\"Date\": \"2020-01-30T00:00:00\", \"Count\": 1, \"Total Weight\": 0.993}, {\"Date\": \"2020-01-31T00:00:00\", \"Count\": 1, \"Total Weight\": 0.981}, {\"Date\": \"2020-02-01T00:00:00\", \"Count\": 1, \"Total Weight\": 0.99}, {\"Date\": \"2020-02-02T00:00:00\", \"Count\": 1, \"Total Weight\": 0.998}, {\"Date\": \"2020-02-03T00:00:00\", \"Count\": 1, \"Total Weight\": 0.997}, {\"Date\": \"2020-02-04T00:00:00\", \"Count\": 1, \"Total Weight\": 0.995}, {\"Date\": \"2020-02-05T00:00:00\", \"Count\": 1, \"Total Weight\": 0.997}, {\"Date\": \"2020-02-06T00:00:00\", \"Count\": 1, \"Total Weight\": 0.996}, {\"Date\": \"2020-02-07T00:00:00\", \"Count\": 1, \"Total Weight\": 0.979}, {\"Date\": \"2020-02-08T00:00:00\", \"Count\": 1, \"Total Weight\": 0.991}, {\"Date\": \"2020-02-09T00:00:00\", \"Count\": 1, \"Total Weight\": 0.995}, {\"Date\": \"2020-02-10T00:00:00\", \"Count\": 1, \"Total Weight\": 0.967}, {\"Date\": \"2020-02-11T00:00:00\", \"Count\": 1, \"Total Weight\": 0.996}, {\"Date\": \"2020-02-12T00:00:00\", \"Count\": 2, \"Total Weight\": 0.985}, {\"Date\": \"2020-02-13T00:00:00\", \"Count\": 1, \"Total Weight\": 0.999}, {\"Date\": \"2020-02-14T00:00:00\", \"Count\": 1, \"Total Weight\": 0.992}, {\"Date\": \"2020-02-15T00:00:00\", \"Count\": 2, \"Total Weight\": 0.989}, {\"Date\": \"2020-02-16T00:00:00\", \"Count\": 2, \"Total Weight\": 0.989}, {\"Date\": \"2020-02-17T00:00:00\", \"Count\": 2, \"Total Weight\": 0.993}, {\"Date\": \"2020-02-18T00:00:00\", \"Count\": 2, \"Total Weight\": 0.993}, {\"Date\": \"2020-02-19T00:00:00\", \"Count\": 2, \"Total Weight\": 0.9680000000000001}, {\"Date\": \"2020-02-20T00:00:00\", \"Count\": 2, \"Total Weight\": 0.952}, {\"Date\": \"2020-02-21T00:00:00\", \"Count\": 2, \"Total Weight\": 0.921}, {\"Date\": \"2020-02-22T00:00:00\", \"Count\": 2, \"Total Weight\": 0.959}, {\"Date\": \"2020-02-23T00:00:00\", \"Count\": 6, \"Total Weight\": 0.9849999999999999}, {\"Date\": \"2020-02-24T00:00:00\", \"Count\": 4, \"Total Weight\": 0.929}, {\"Date\": \"2020-02-25T00:00:00\", \"Count\": 4, \"Total Weight\": 0.927}, {\"Date\": \"2020-02-26T00:00:00\", \"Count\": 4, \"Total Weight\": 0.887}, {\"Date\": \"2020-02-27T00:00:00\", \"Count\": 4, \"Total Weight\": 0.919}, {\"Date\": \"2020-02-28T00:00:00\", \"Count\": 4, \"Total Weight\": 0.9339999999999999}, {\"Date\": \"2020-02-29T00:00:00\", \"Count\": 4, \"Total Weight\": 0.887}, {\"Date\": \"2020-03-01T00:00:00\", \"Count\": 4, \"Total Weight\": 0.896}, {\"Date\": \"2020-03-02T00:00:00\", \"Count\": 5, \"Total Weight\": 0.8919999999999999}, {\"Date\": \"2020-03-03T00:00:00\", \"Count\": 4, \"Total Weight\": 0.899}, {\"Date\": \"2020-03-04T00:00:00\", \"Count\": 5, \"Total Weight\": 0.7969999999999999}, {\"Date\": \"2020-03-05T00:00:00\", \"Count\": 6, \"Total Weight\": 0.8290000000000001}, {\"Date\": \"2020-03-06T00:00:00\", \"Count\": 7, \"Total Weight\": 0.8360000000000001}, {\"Date\": \"2020-03-07T00:00:00\", \"Count\": 6, \"Total Weight\": 0.8270000000000001}, {\"Date\": \"2020-03-08T00:00:00\", \"Count\": 6, \"Total Weight\": 0.7809999999999999}, {\"Date\": \"2020-03-09T00:00:00\", \"Count\": 5, \"Total Weight\": 0.8210000000000001}, {\"Date\": \"2020-03-10T00:00:00\", \"Count\": 8, \"Total Weight\": 0.8109999999999999}, {\"Date\": \"2020-03-11T00:00:00\", \"Count\": 8, \"Total Weight\": 0.7720000000000001}, {\"Date\": \"2020-03-12T00:00:00\", \"Count\": 7, \"Total Weight\": 0.8550000000000001}, {\"Date\": \"2020-03-13T00:00:00\", \"Count\": 6, \"Total Weight\": 0.767}, {\"Date\": \"2020-03-14T00:00:00\", \"Count\": 7, \"Total Weight\": 0.792}, {\"Date\": \"2020-03-15T00:00:00\", \"Count\": 6, \"Total Weight\": 0.7949999999999999}, {\"Date\": \"2020-03-16T00:00:00\", \"Count\": 6, \"Total Weight\": 0.793}, {\"Date\": \"2020-03-17T00:00:00\", \"Count\": 7, \"Total Weight\": 0.76}, {\"Date\": \"2020-03-18T00:00:00\", \"Count\": 7, \"Total Weight\": 0.7939999999999999}, {\"Date\": \"2020-03-19T00:00:00\", \"Count\": 7, \"Total Weight\": 0.804}, {\"Date\": \"2020-03-20T00:00:00\", \"Count\": 8, \"Total Weight\": 0.8110000000000002}, {\"Date\": \"2020-03-21T00:00:00\", \"Count\": 7, \"Total Weight\": 0.7520000000000001}, {\"Date\": \"2020-03-22T00:00:00\", \"Count\": 6, \"Total Weight\": 0.6819999999999999}, {\"Date\": \"2020-03-23T00:00:00\", \"Count\": 7, \"Total Weight\": 0.787}, {\"Date\": \"2020-03-24T00:00:00\", \"Count\": 7, \"Total Weight\": 0.742}, {\"Date\": \"2020-03-25T00:00:00\", \"Count\": 6, \"Total Weight\": 0.733}, {\"Date\": \"2020-03-26T00:00:00\", \"Count\": 7, \"Total Weight\": 0.771}, {\"Date\": \"2020-03-27T00:00:00\", \"Count\": 8, \"Total Weight\": 0.791}, {\"Date\": \"2020-03-28T00:00:00\", \"Count\": 7, \"Total Weight\": 0.75}, {\"Date\": \"2020-03-29T00:00:00\", \"Count\": 8, \"Total Weight\": 0.7710000000000001}, {\"Date\": \"2020-03-30T00:00:00\", \"Count\": 7, \"Total Weight\": 0.7700000000000001}, {\"Date\": \"2020-03-31T00:00:00\", \"Count\": 8, \"Total Weight\": 0.796}, {\"Date\": \"2020-04-01T00:00:00\", \"Count\": 7, \"Total Weight\": 0.7530000000000001}, {\"Date\": \"2020-04-02T00:00:00\", \"Count\": 6, \"Total Weight\": 0.7070000000000001}, {\"Date\": \"2020-04-03T00:00:00\", \"Count\": 8, \"Total Weight\": 0.792}, {\"Date\": \"2020-04-04T00:00:00\", \"Count\": 6, \"Total Weight\": 0.783}, {\"Date\": \"2020-04-05T00:00:00\", \"Count\": 9, \"Total Weight\": 0.7939999999999999}, {\"Date\": \"2020-04-06T00:00:00\", \"Count\": 8, \"Total Weight\": 0.7660000000000001}, {\"Date\": \"2020-04-07T00:00:00\", \"Count\": 7, \"Total Weight\": 0.751}, {\"Date\": \"2020-04-08T00:00:00\", \"Count\": 7, \"Total Weight\": 0.73}, {\"Date\": \"2020-04-09T00:00:00\", \"Count\": 7, \"Total Weight\": 0.7080000000000001}, {\"Date\": \"2020-04-10T00:00:00\", \"Count\": 7, \"Total Weight\": 0.712}, {\"Date\": \"2020-04-11T00:00:00\", \"Count\": 7, \"Total Weight\": 0.7170000000000001}, {\"Date\": \"2020-04-12T00:00:00\", \"Count\": 7, \"Total Weight\": 0.703}, {\"Date\": \"2020-04-13T00:00:00\", \"Count\": 9, \"Total Weight\": 0.728}, {\"Date\": \"2020-04-14T00:00:00\", \"Count\": 7, \"Total Weight\": 0.787}, {\"Date\": \"2020-04-15T00:00:00\", \"Count\": 10, \"Total Weight\": 0.7610000000000001}]}}, {\"mode\": \"vega-lite\"});\n",
              "</script>"
            ]
          },
          "metadata": {
            "tags": []
          },
          "execution_count": 136
        }
      ]
    },
    {
      "cell_type": "code",
      "metadata": {
        "id": "NTfxP5yvAiLL",
        "colab_type": "code",
        "outputId": "629bd426-def7-4316-de9e-fd287a816296",
        "colab": {
          "base_uri": "https://localhost:8080/",
          "height": 473
        }
      },
      "source": [
        "#hide_input\n",
        "def df_summary(_df):\n",
        "  _summary = _df.groupby(['Date', 'Country']).sum().unstack().xs('Cases', axis=1).tail(2).reset_index(drop=True).transpose()\n",
        "  _summary['New'] = _summary.diff(axis=1)[1]\n",
        "  _summary['Change'] = _summary.pct_change(axis=1)[1]\n",
        "  _df_pct_chg = _df.groupby(['Date', 'Country']).sum().unstack().xs('Cases', axis=1).pct_change().rolling(window=7).mean()[-1:] \\\n",
        "                        .reset_index(drop=True).transpose().sort_values(by=0,ascending=False).rename(columns={0: 'Change_Mean_7D'})\n",
        "  #df_confirmed_pct_mean_latest = df_confirmed_pct_mean\n",
        "  _summary = pd.merge(_summary, _df_pct_chg, on = 'Country')\n",
        "  _summary['Trending'] = _summary['Change'] - _summary['Change_Mean_7D']\n",
        "  _summary = _summary.drop(columns=0).rename(columns={1: 'Total'}).sort_values(by=['Total', 'New', 'Trending'], ascending=False)\n",
        "  return _summary\n",
        "\n",
        "df_summary_confirmed = df_summary(df_confirmed)\n",
        "df_confirmed_major = df_summary_confirmed[(df_summary_confirmed['New'] > 50) & (df_summary_confirmed['Total'] > 1000)].reset_index()\n",
        "\n",
        "alt.Chart(df_confirmed_major).mark_bar().encode(\n",
        "    alt.X('Country:N', sort='-y'),\n",
        "    alt.Y('Change_Mean_7D:Q', axis=alt.Axis(format='%'), title='Mean Change'),\n",
        "    tooltip=list(df_confirmed_major)\n",
        ").properties(\n",
        "    width=600,\n",
        "    title='Percentage Change (Mean of 7 Days) of Confirmed Case'\n",
        ")"
      ],
      "execution_count": 35,
      "outputs": [
        {
          "output_type": "execute_result",
          "data": {
            "text/plain": [
              "alt.Chart(...)"
            ],
            "text/html": [
              "\n",
              "<div id=\"altair-viz-957f31b9034647e5b0be17109c028cbe\"></div>\n",
              "<script type=\"text/javascript\">\n",
              "  (function(spec, embedOpt){\n",
              "    let outputDiv = document.currentScript.previousElementSibling;\n",
              "    if (outputDiv.id !== \"altair-viz-957f31b9034647e5b0be17109c028cbe\") {\n",
              "      outputDiv = document.getElementById(\"altair-viz-957f31b9034647e5b0be17109c028cbe\");\n",
              "    }\n",
              "    const paths = {\n",
              "      \"vega\": \"https://cdn.jsdelivr.net/npm//vega@5?noext\",\n",
              "      \"vega-lib\": \"https://cdn.jsdelivr.net/npm//vega-lib?noext\",\n",
              "      \"vega-lite\": \"https://cdn.jsdelivr.net/npm//vega-lite@4.8.1?noext\",\n",
              "      \"vega-embed\": \"https://cdn.jsdelivr.net/npm//vega-embed@6?noext\",\n",
              "    };\n",
              "\n",
              "    function loadScript(lib) {\n",
              "      return new Promise(function(resolve, reject) {\n",
              "        var s = document.createElement('script');\n",
              "        s.src = paths[lib];\n",
              "        s.async = true;\n",
              "        s.onload = () => resolve(paths[lib]);\n",
              "        s.onerror = () => reject(`Error loading script: ${paths[lib]}`);\n",
              "        document.getElementsByTagName(\"head\")[0].appendChild(s);\n",
              "      });\n",
              "    }\n",
              "\n",
              "    function showError(err) {\n",
              "      outputDiv.innerHTML = `<div class=\"error\" style=\"color:red;\">${err}</div>`;\n",
              "      throw err;\n",
              "    }\n",
              "\n",
              "    function displayChart(vegaEmbed) {\n",
              "      vegaEmbed(outputDiv, spec, embedOpt)\n",
              "        .catch(err => showError(`Javascript Error: ${err.message}<br>This usually means there's a typo in your chart specification. See the javascript console for the full traceback.`));\n",
              "    }\n",
              "\n",
              "    if(typeof define === \"function\" && define.amd) {\n",
              "      requirejs.config({paths});\n",
              "      require([\"vega-embed\"], displayChart, err => showError(`Error loading script: ${err.message}`));\n",
              "    } else if (typeof vegaEmbed === \"function\") {\n",
              "      displayChart(vegaEmbed);\n",
              "    } else {\n",
              "      loadScript(\"vega\")\n",
              "        .then(() => loadScript(\"vega-lite\"))\n",
              "        .then(() => loadScript(\"vega-embed\"))\n",
              "        .catch(showError)\n",
              "        .then(() => displayChart(vegaEmbed));\n",
              "    }\n",
              "  })({\"config\": {\"view\": {\"continuousWidth\": 400, \"continuousHeight\": 300}}, \"data\": {\"name\": \"data-ab3d7da057674f5ebaf952f16920ed20\"}, \"mark\": \"bar\", \"encoding\": {\"tooltip\": [{\"type\": \"nominal\", \"field\": \"Country\"}, {\"type\": \"quantitative\", \"field\": \"Total\"}, {\"type\": \"quantitative\", \"field\": \"New\"}, {\"type\": \"quantitative\", \"field\": \"Change\"}, {\"type\": \"quantitative\", \"field\": \"Change_Mean_7D\"}, {\"type\": \"quantitative\", \"field\": \"Trending\"}], \"x\": {\"type\": \"nominal\", \"field\": \"Country\", \"sort\": \"-y\"}, \"y\": {\"type\": \"quantitative\", \"axis\": {\"format\": \"%\"}, \"field\": \"Change_Mean_7D\", \"title\": \"Mean Change\"}}, \"title\": \"Percentage Change (Mean of 7 Days) of Confirmed Case\", \"width\": 600, \"$schema\": \"https://vega.github.io/schema/vega-lite/v4.8.1.json\", \"datasets\": {\"data-ab3d7da057674f5ebaf952f16920ed20\": [{\"Country\": \"US\", \"Total\": 636350, \"New\": 28680.0, \"Change\": 0.047196669244820466, \"Change_Mean_7D\": 0.057996105233780834, \"Trending\": -0.010799435988960368}, {\"Country\": \"Spain\", \"Total\": 177644, \"New\": 5103.0, \"Change\": 0.029575579137712138, \"Change_Mean_7D\": 0.02622903567216287, \"Trending\": 0.0033465434655492697}, {\"Country\": \"Italy\", \"Total\": 165155, \"New\": 2667.0, \"Change\": 0.016413519767613627, \"Change_Mean_7D\": 0.024507395569692614, \"Trending\": -0.008093875802078987}, {\"Country\": \"Germany\", \"Total\": 134753, \"New\": 3394.0, \"Change\": 0.025837590115637354, \"Change_Mean_7D\": 0.0251353318994898, \"Trending\": 0.0007022582161475555}, {\"Country\": \"France\", \"Total\": 134582, \"New\": 3221.0, \"Change\": 0.024520215284597358, \"Change_Mean_7D\": 0.024548254020584154, \"Trending\": -2.8038735986796876e-05}, {\"Country\": \"United Kingdom\", \"Total\": 99483, \"New\": 4638.0, \"Change\": 0.04890083820971047, \"Change_Mean_7D\": 0.07150122082635546, \"Trending\": -0.022600382616644987}, {\"Country\": \"Iran\", \"Total\": 76389, \"New\": 1512.0, \"Change\": 0.020193116711406667, \"Change_Mean_7D\": 0.02427167622638723, \"Trending\": -0.004078559514980564}, {\"Country\": \"Turkey\", \"Total\": 69392, \"New\": 4281.0, \"Change\": 0.06574925895777972, \"Change_Mean_7D\": 0.08908247469995996, \"Trending\": -0.02333321574218024}, {\"Country\": \"Belgium\", \"Total\": 33573, \"New\": 2454.0, \"Change\": 0.07885857514701633, \"Change_Mean_7D\": 0.05309722104508485, \"Trending\": 0.025761354101931477}, {\"Country\": \"Brazil\", \"Total\": 28320, \"New\": 3058.0, \"Change\": 0.12105138152165318, \"Change_Mean_7D\": 0.08363947073460275, \"Trending\": 0.03741191078705043}, {\"Country\": \"Netherlands\", \"Total\": 28316, \"New\": 736.0, \"Change\": 0.026686004350978898, \"Change_Mean_7D\": 0.04598195131780804, \"Trending\": -0.01929594696682914}, {\"Country\": \"Canada\", \"Total\": 28208, \"New\": 1174.0, \"Change\": 0.04342679588666121, \"Change_Mean_7D\": 0.057028670445519215, \"Trending\": -0.013601874558858008}, {\"Country\": \"Switzerland\", \"Total\": 26336, \"New\": 400.0, \"Change\": 0.015422578655151176, \"Change_Mean_7D\": 0.01780578907112467, \"Trending\": -0.0023832104159734954}, {\"Country\": \"Russia\", \"Total\": 24490, \"New\": 3388.0, \"Change\": 0.16055350203772156, \"Change_Mean_7D\": 0.15992219628056373, \"Trending\": 0.0006313057571578351}, {\"Country\": \"Portugal\", \"Total\": 18091, \"New\": 643.0, \"Change\": 0.03685236130215497, \"Change_Mean_7D\": 0.04708381185869749, \"Trending\": -0.010231450556542523}, {\"Country\": \"Austria\", \"Total\": 14336, \"New\": 110.0, \"Change\": 0.007732321102207118, \"Change_Mean_7D\": 0.014742093958948654, \"Trending\": -0.007009772856741536}, {\"Country\": \"Ireland\", \"Total\": 12547, \"New\": 1068.0, \"Change\": 0.09303946336788926, \"Change_Mean_7D\": 0.11026427507358424, \"Trending\": -0.01722481170569498}, {\"Country\": \"Israel\", \"Total\": 12501, \"New\": 455.0, \"Change\": 0.03777187448115549, \"Change_Mean_7D\": 0.04153807193231402, \"Trending\": -0.003766197451158533}, {\"Country\": \"India\", \"Total\": 12322, \"New\": 835.0, \"Change\": 0.07269086793766877, \"Change_Mean_7D\": 0.11074622861783337, \"Trending\": -0.0380553606801646}, {\"Country\": \"Sweden\", \"Total\": 11927, \"New\": 482.0, \"Change\": 0.04211446046308431, \"Change_Mean_7D\": 0.05113724045974344, \"Trending\": -0.009022779996659125}, {\"Country\": \"Peru\", \"Total\": 11475, \"New\": 1172.0, \"Change\": 0.11375327574492866, \"Change_Mean_7D\": 0.15139244554350334, \"Trending\": -0.03763916979857468}, {\"Country\": \"Chile\", \"Total\": 8273, \"New\": 356.0, \"Change\": 0.04496652772514831, \"Change_Mean_7D\": 0.058931862372010944, \"Trending\": -0.013965334646862636}, {\"Country\": \"Japan\", \"Total\": 8100, \"New\": 455.0, \"Change\": 0.059516023544800456, \"Change_Mean_7D\": 0.0971225111563939, \"Trending\": -0.03760648761159345}, {\"Country\": \"Ecuador\", \"Total\": 7858, \"New\": 255.0, \"Change\": 0.03353939234512682, \"Change_Mean_7D\": 0.09314834946640525, \"Trending\": -0.059608957121278436}, {\"Country\": \"Poland\", \"Total\": 7582, \"New\": 380.0, \"Change\": 0.05276312135517913, \"Change_Mean_7D\": 0.05528388077578149, \"Trending\": -0.002520759420602356}, {\"Country\": \"Romania\", \"Total\": 7216, \"New\": 337.0, \"Change\": 0.04898967873237381, \"Change_Mean_7D\": 0.06141735386790186, \"Trending\": -0.012427675135528053}, {\"Country\": \"Denmark\", \"Total\": 6876, \"New\": 170.0, \"Change\": 0.025350432448553617, \"Change_Mean_7D\": 0.029852295060630363, \"Trending\": -0.004501862612076746}, {\"Country\": \"Norway\", \"Total\": 6740, \"New\": 117.0, \"Change\": 0.017665710403140578, \"Change_Mean_7D\": 0.014702365654763254, \"Trending\": 0.0029633447483773234}, {\"Country\": \"Pakistan\", \"Total\": 6383, \"New\": 546.0, \"Change\": 0.09354120267260568, \"Change_Mean_7D\": 0.05948007218129457, \"Trending\": 0.03406113049131111}, {\"Country\": \"Czechia\", \"Total\": 6216, \"New\": 105.0, \"Change\": 0.01718213058419238, \"Change_Mean_7D\": 0.022782280313293324, \"Trending\": -0.005600149729100945}, {\"Country\": \"Saudi Arabia\", \"Total\": 5862, \"New\": 493.0, \"Change\": 0.09182343080648159, \"Change_Mean_7D\": 0.10408395539396562, \"Trending\": -0.012260524587484029}, {\"Country\": \"Philippines\", \"Total\": 5453, \"New\": 230.0, \"Change\": 0.04403599463909624, \"Change_Mean_7D\": 0.0502559118414782, \"Trending\": -0.006219917202381957}, {\"Country\": \"Mexico\", \"Total\": 5399, \"New\": 385.0, \"Change\": 0.07678500199441562, \"Change_Mean_7D\": 0.0994116201789242, \"Trending\": -0.022626618184508576}, {\"Country\": \"United Arab Emirates\", \"Total\": 5365, \"New\": 432.0, \"Change\": 0.08757348469491189, \"Change_Mean_7D\": 0.10556508724164286, \"Trending\": -0.017991602546730975}, {\"Country\": \"Indonesia\", \"Total\": 5136, \"New\": 297.0, \"Change\": 0.06137631742095473, \"Change_Mean_7D\": 0.0822993853148334, \"Trending\": -0.02092306789387867}, {\"Country\": \"Malaysia\", \"Total\": 5072, \"New\": 85.0, \"Change\": 0.01704431521957095, \"Change_Mean_7D\": 0.03020495052401489, \"Trending\": -0.01316063530444394}, {\"Country\": \"Serbia\", \"Total\": 4873, \"New\": 408.0, \"Change\": 0.09137737961926096, \"Change_Mean_7D\": 0.09007170219347493, \"Trending\": 0.0013056774257860226}, {\"Country\": \"Ukraine\", \"Total\": 3764, \"New\": 392.0, \"Change\": 0.11625148279952557, \"Change_Mean_7D\": 0.12353385714228556, \"Trending\": -0.007282374342759981}, {\"Country\": \"Belarus\", \"Total\": 3728, \"New\": 447.0, \"Change\": 0.13623895153916488, \"Change_Mean_7D\": 0.20020549413038988, \"Trending\": -0.063966542591225}, {\"Country\": \"Qatar\", \"Total\": 3711, \"New\": 283.0, \"Change\": 0.0825554259043173, \"Change_Mean_7D\": 0.07692394921085367, \"Trending\": 0.00563147669346363}, {\"Country\": \"Singapore\", \"Total\": 3699, \"New\": 447.0, \"Change\": 0.13745387453874547, \"Change_Mean_7D\": 0.12525972309724218, \"Trending\": 0.012194151441503293}, {\"Country\": \"Dominican Republic\", \"Total\": 3614, \"New\": 328.0, \"Change\": 0.09981740718198417, \"Change_Mean_7D\": 0.08019352035077712, \"Trending\": 0.019623886831207055}, {\"Country\": \"Panama\", \"Total\": 3574, \"New\": 102.0, \"Change\": 0.02937788018433185, \"Change_Mean_7D\": 0.06894852186455444, \"Trending\": -0.03957064168022259}, {\"Country\": \"Luxembourg\", \"Total\": 3373, \"New\": 66.0, \"Change\": 0.019957665557907456, \"Change_Mean_7D\": 0.015311682862065983, \"Trending\": 0.004645982695841473}, {\"Country\": \"Finland\", \"Total\": 3237, \"New\": 76.0, \"Change\": 0.024043024359379883, \"Change_Mean_7D\": 0.0384618847760931, \"Trending\": -0.014418860416713218}, {\"Country\": \"Colombia\", \"Total\": 3105, \"New\": 126.0, \"Change\": 0.04229607250755296, \"Change_Mean_7D\": 0.0613008418269846, \"Trending\": -0.01900476931943164}, {\"Country\": \"South Africa\", \"Total\": 2506, \"New\": 91.0, \"Change\": 0.037681159420289934, \"Change_Mean_7D\": 0.04486808028763128, \"Trending\": -0.007186920867341344}, {\"Country\": \"Egypt\", \"Total\": 2505, \"New\": 155.0, \"Change\": 0.06595744680851068, \"Change_Mean_7D\": 0.07005346073459033, \"Trending\": -0.004096013926079653}, {\"Country\": \"Argentina\", \"Total\": 2443, \"New\": 166.0, \"Change\": 0.07290294246815976, \"Change_Mean_7D\": 0.05234971589659744, \"Trending\": 0.02055322657156232}, {\"Country\": \"Algeria\", \"Total\": 2160, \"New\": 90.0, \"Change\": 0.04347826086956519, \"Change_Mean_7D\": 0.046475813491061, \"Trending\": -0.0029975526214958137}, {\"Country\": \"Moldova\", \"Total\": 2049, \"New\": 115.0, \"Change\": 0.059462254395036274, \"Change_Mean_7D\": 0.08328474982488802, \"Trending\": -0.02382249542985175}, {\"Country\": \"Morocco\", \"Total\": 2024, \"New\": 136.0, \"Change\": 0.07203389830508478, \"Change_Mean_7D\": 0.06827411800704761, \"Trending\": 0.0037597802980371686}, {\"Country\": \"Bahrain\", \"Total\": 1671, \"New\": 143.0, \"Change\": 0.09358638743455505, \"Change_Mean_7D\": 0.1073701418261428, \"Trending\": -0.013783754391587744}, {\"Country\": \"Hungary\", \"Total\": 1579, \"New\": 67.0, \"Change\": 0.0443121693121693, \"Change_Mean_7D\": 0.08597510783750938, \"Trending\": -0.041662938525340074}, {\"Country\": \"Uzbekistan\", \"Total\": 1302, \"New\": 137.0, \"Change\": 0.11759656652360517, \"Change_Mean_7D\": 0.13366864560330854, \"Trending\": -0.016072079079703372}, {\"Country\": \"Kazakhstan\", \"Total\": 1295, \"New\": 63.0, \"Change\": 0.051136363636363535, \"Change_Mean_7D\": 0.08660750147931284, \"Trending\": -0.03547113784294931}, {\"Country\": \"Azerbaijan\", \"Total\": 1253, \"New\": 56.0, \"Change\": 0.04678362573099415, \"Change_Mean_7D\": 0.06244780264934852, \"Trending\": -0.015664176918354374}, {\"Country\": \"Bangladesh\", \"Total\": 1231, \"New\": 219.0, \"Change\": 0.21640316205533594, \"Change_Mean_7D\": 0.2847909953350397, \"Trending\": -0.06838783327970377}]}}, {\"mode\": \"vega-lite\"});\n",
              "</script>"
            ]
          },
          "metadata": {
            "tags": []
          },
          "execution_count": 35
        }
      ]
    },
    {
      "cell_type": "code",
      "metadata": {
        "id": "6cSeV_rRFmVK",
        "colab_type": "code",
        "colab": {
          "base_uri": "https://localhost:8080/",
          "height": 449
        },
        "outputId": "ba7c8944-defb-44cd-c31a-674644878670"
      },
      "source": [
        "#hide_input\n",
        "df_summary_deaths = df_summary(df_deaths)\n",
        "df_deaths_major = df_summary_deaths[(df_summary_deaths['New'] > 10) & (df_summary_deaths['Total'] > 100)].reset_index()\n",
        "\n",
        "alt.Chart(df_deaths_major).mark_bar().encode(\n",
        "    alt.X('Country:N', sort='-y'),\n",
        "    alt.Y('Change_Mean_7D:Q', axis=alt.Axis(format='%'), title='Mean Change'),\n",
        "    tooltip=list(df_deaths_major)\n",
        ").properties(\n",
        "    width=600,\n",
        "    title='Percentage Change (Mean of 7 Days) of Deaths Case'\n",
        ")"
      ],
      "execution_count": 42,
      "outputs": [
        {
          "output_type": "execute_result",
          "data": {
            "text/plain": [
              "alt.Chart(...)"
            ],
            "text/html": [
              "\n",
              "<div id=\"altair-viz-56619b28c7f34df0b3aed4047f5ca3b2\"></div>\n",
              "<script type=\"text/javascript\">\n",
              "  (function(spec, embedOpt){\n",
              "    let outputDiv = document.currentScript.previousElementSibling;\n",
              "    if (outputDiv.id !== \"altair-viz-56619b28c7f34df0b3aed4047f5ca3b2\") {\n",
              "      outputDiv = document.getElementById(\"altair-viz-56619b28c7f34df0b3aed4047f5ca3b2\");\n",
              "    }\n",
              "    const paths = {\n",
              "      \"vega\": \"https://cdn.jsdelivr.net/npm//vega@5?noext\",\n",
              "      \"vega-lib\": \"https://cdn.jsdelivr.net/npm//vega-lib?noext\",\n",
              "      \"vega-lite\": \"https://cdn.jsdelivr.net/npm//vega-lite@4.8.1?noext\",\n",
              "      \"vega-embed\": \"https://cdn.jsdelivr.net/npm//vega-embed@6?noext\",\n",
              "    };\n",
              "\n",
              "    function loadScript(lib) {\n",
              "      return new Promise(function(resolve, reject) {\n",
              "        var s = document.createElement('script');\n",
              "        s.src = paths[lib];\n",
              "        s.async = true;\n",
              "        s.onload = () => resolve(paths[lib]);\n",
              "        s.onerror = () => reject(`Error loading script: ${paths[lib]}`);\n",
              "        document.getElementsByTagName(\"head\")[0].appendChild(s);\n",
              "      });\n",
              "    }\n",
              "\n",
              "    function showError(err) {\n",
              "      outputDiv.innerHTML = `<div class=\"error\" style=\"color:red;\">${err}</div>`;\n",
              "      throw err;\n",
              "    }\n",
              "\n",
              "    function displayChart(vegaEmbed) {\n",
              "      vegaEmbed(outputDiv, spec, embedOpt)\n",
              "        .catch(err => showError(`Javascript Error: ${err.message}<br>This usually means there's a typo in your chart specification. See the javascript console for the full traceback.`));\n",
              "    }\n",
              "\n",
              "    if(typeof define === \"function\" && define.amd) {\n",
              "      requirejs.config({paths});\n",
              "      require([\"vega-embed\"], displayChart, err => showError(`Error loading script: ${err.message}`));\n",
              "    } else if (typeof vegaEmbed === \"function\") {\n",
              "      displayChart(vegaEmbed);\n",
              "    } else {\n",
              "      loadScript(\"vega\")\n",
              "        .then(() => loadScript(\"vega-lite\"))\n",
              "        .then(() => loadScript(\"vega-embed\"))\n",
              "        .catch(showError)\n",
              "        .then(() => displayChart(vegaEmbed));\n",
              "    }\n",
              "  })({\"config\": {\"view\": {\"continuousWidth\": 400, \"continuousHeight\": 300}}, \"data\": {\"name\": \"data-32cdf00d4156c6e76af6aad15b800136\"}, \"mark\": \"bar\", \"encoding\": {\"tooltip\": [{\"type\": \"nominal\", \"field\": \"Country\"}, {\"type\": \"quantitative\", \"field\": \"Total\"}, {\"type\": \"quantitative\", \"field\": \"New\"}, {\"type\": \"quantitative\", \"field\": \"Change\"}, {\"type\": \"quantitative\", \"field\": \"Change_Mean_7D\"}, {\"type\": \"quantitative\", \"field\": \"Trending\"}], \"x\": {\"type\": \"nominal\", \"field\": \"Country\", \"sort\": \"-y\"}, \"y\": {\"type\": \"quantitative\", \"axis\": {\"format\": \"%\"}, \"field\": \"Change_Mean_7D\", \"title\": \"Mean Change\"}}, \"title\": \"Percentage Change (Mean of 7 Days) of Deaths Case\", \"width\": 600, \"$schema\": \"https://vega.github.io/schema/vega-lite/v4.8.1.json\", \"datasets\": {\"data-32cdf00d4156c6e76af6aad15b800136\": [{\"Country\": \"US\", \"Total\": 28326, \"New\": 2494.0, \"Change\": 0.09654691855063491, \"Change_Mean_7D\": 0.09847074542094607, \"Trending\": -0.00192382687031116}, {\"Country\": \"Italy\", \"Total\": 21645, \"New\": 578.0, \"Change\": 0.02743627474248833, \"Change_Mean_7D\": 0.02942598452616098, \"Trending\": -0.0019897097836726503}, {\"Country\": \"Spain\", \"Total\": 18708, \"New\": 652.0, \"Change\": 0.03610988037217555, \"Change_Mean_7D\": 0.034153561640490784, \"Trending\": 0.001956318731684767}, {\"Country\": \"France\", \"Total\": 17188, \"New\": 1440.0, \"Change\": 0.0914401828803657, \"Change_Mean_7D\": 0.06780514251084822, \"Trending\": 0.023635040369517482}, {\"Country\": \"United Kingdom\", \"Total\": 12894, \"New\": 765.0, \"Change\": 0.06307197625525607, \"Change_Mean_7D\": 0.08901509423891042, \"Trending\": -0.025943117983654354}, {\"Country\": \"Iran\", \"Total\": 4777, \"New\": 94.0, \"Change\": 0.02007260303224423, \"Change_Mean_7D\": 0.025947405604874425, \"Trending\": -0.005874802572630195}, {\"Country\": \"Belgium\", \"Total\": 4440, \"New\": 283.0, \"Change\": 0.0680779408227088, \"Change_Mean_7D\": 0.10349699216251028, \"Trending\": -0.035419051339801486}, {\"Country\": \"Germany\", \"Total\": 3804, \"New\": 510.0, \"Change\": 0.15482695810564673, \"Change_Mean_7D\": 0.07251250053454232, \"Trending\": 0.08231445757110441}, {\"Country\": \"Netherlands\", \"Total\": 3145, \"New\": 190.0, \"Change\": 0.06429780033840937, \"Change_Mean_7D\": 0.04874271467495445, \"Trending\": 0.01555508566345492}, {\"Country\": \"Brazil\", \"Total\": 1736, \"New\": 204.0, \"Change\": 0.13315926892950403, \"Change_Mean_7D\": 0.11381087970158006, \"Trending\": 0.019348389227923965}, {\"Country\": \"Turkey\", \"Total\": 1518, \"New\": 115.0, \"Change\": 0.08196721311475419, \"Change_Mean_7D\": 0.09357474117545397, \"Trending\": -0.011607528060699784}, {\"Country\": \"Switzerland\", \"Total\": 1239, \"New\": 65.0, \"Change\": 0.055366269165247006, \"Change_Mean_7D\": 0.04765905907060069, \"Trending\": 0.007707210094646318}, {\"Country\": \"Sweden\", \"Total\": 1203, \"New\": 170.0, \"Change\": 0.16456921587608897, \"Change_Mean_7D\": 0.0850466667484264, \"Trending\": 0.07952254912766257}, {\"Country\": \"Canada\", \"Total\": 1006, \"New\": 107.0, \"Change\": 0.11902113459399333, \"Change_Mean_7D\": 0.13903137600629248, \"Trending\": -0.02001024141229915}, {\"Country\": \"Portugal\", \"Total\": 599, \"New\": 32.0, \"Change\": 0.0564373897707231, \"Change_Mean_7D\": 0.06720629680899155, \"Trending\": -0.010768907038268452}, {\"Country\": \"Ireland\", \"Total\": 444, \"New\": 38.0, \"Change\": 0.09359605911330049, \"Change_Mean_7D\": 0.09541078070188706, \"Trending\": -0.0018147215885865736}, {\"Country\": \"Mexico\", \"Total\": 406, \"New\": 74.0, \"Change\": 0.22289156626506035, \"Change_Mean_7D\": 0.16435030023434688, \"Trending\": 0.05854126603071347}, {\"Country\": \"India\", \"Total\": 405, \"New\": 12.0, \"Change\": 0.03053435114503822, \"Change_Mean_7D\": 0.126866638670652, \"Trending\": -0.09633228752561379}, {\"Country\": \"Ecuador\", \"Total\": 388, \"New\": 19.0, \"Change\": 0.051490514905149, \"Change_Mean_7D\": 0.07008868932758354, \"Trending\": -0.01859817442243454}, {\"Country\": \"Romania\", \"Total\": 372, \"New\": 21.0, \"Change\": 0.05982905982905984, \"Change_Mean_7D\": 0.07819874433933387, \"Trending\": -0.01836968451027403}, {\"Country\": \"Philippines\", \"Total\": 349, \"New\": 14.0, \"Change\": 0.04179104477611939, \"Change_Mean_7D\": 0.09857427765983925, \"Trending\": -0.056783232883719864}, {\"Country\": \"Poland\", \"Total\": 286, \"New\": 23.0, \"Change\": 0.0874524714828897, \"Change_Mean_7D\": 0.08801167654263432, \"Trending\": -0.0005592050597446191}, {\"Country\": \"Peru\", \"Total\": 254, \"New\": 24.0, \"Change\": 0.10434782608695659, \"Change_Mean_7D\": 0.11296734771242074, \"Trending\": -0.008619521625464158}, {\"Country\": \"Russia\", \"Total\": 198, \"New\": 28.0, \"Change\": 0.16470588235294126, \"Change_Mean_7D\": 0.1784402928404571, \"Trending\": -0.013734410487515836}, {\"Country\": \"Norway\", \"Total\": 150, \"New\": 11.0, \"Change\": 0.07913669064748197, \"Change_Mean_7D\": 0.05823656395803604, \"Trending\": 0.02090012668944593}, {\"Country\": \"Hungary\", \"Total\": 134, \"New\": 12.0, \"Change\": 0.09836065573770503, \"Change_Mean_7D\": 0.12740521417030684, \"Trending\": -0.029044558432601814}, {\"Country\": \"Pakistan\", \"Total\": 111, \"New\": 15.0, \"Change\": 0.15625, \"Change_Mean_7D\": 0.09323061575494197, \"Trending\": 0.06301938424505803}]}}, {\"mode\": \"vega-lite\"});\n",
              "</script>"
            ]
          },
          "metadata": {
            "tags": []
          },
          "execution_count": 42
        }
      ]
    },
    {
      "cell_type": "code",
      "metadata": {
        "id": "vyS4mFqHcrZU",
        "colab_type": "code",
        "outputId": "dab4f83f-9f85-496e-dcec-68cb557978ae",
        "colab": {
          "base_uri": "https://localhost:8080/",
          "height": 450
        }
      },
      "source": [
        " #hide\n",
        "df_confirmed_latest.sort_values(by=['Change'], ascending=False)"
      ],
      "execution_count": 12,
      "outputs": [
        {
          "output_type": "execute_result",
          "data": {
            "text/html": [
              "<div>\n",
              "<style scoped>\n",
              "    .dataframe tbody tr th:only-of-type {\n",
              "        vertical-align: middle;\n",
              "    }\n",
              "\n",
              "    .dataframe tbody tr th {\n",
              "        vertical-align: top;\n",
              "    }\n",
              "\n",
              "    .dataframe thead th {\n",
              "        text-align: right;\n",
              "    }\n",
              "</style>\n",
              "<table border=\"1\" class=\"dataframe\">\n",
              "  <thead>\n",
              "    <tr style=\"text-align: right;\">\n",
              "      <th></th>\n",
              "      <th>Total</th>\n",
              "      <th>New</th>\n",
              "      <th>Change</th>\n",
              "      <th>Change_Mean_7D</th>\n",
              "      <th>Trending</th>\n",
              "    </tr>\n",
              "    <tr>\n",
              "      <th>Country</th>\n",
              "      <th></th>\n",
              "      <th></th>\n",
              "      <th></th>\n",
              "      <th></th>\n",
              "      <th></th>\n",
              "    </tr>\n",
              "  </thead>\n",
              "  <tbody>\n",
              "    <tr>\n",
              "      <th>Cabo Verde</th>\n",
              "      <td>56</td>\n",
              "      <td>45.0</td>\n",
              "      <td>4.090909</td>\n",
              "      <td>0.654824</td>\n",
              "      <td>3.436085</td>\n",
              "    </tr>\n",
              "    <tr>\n",
              "      <th>Congo (Brazzaville)</th>\n",
              "      <td>117</td>\n",
              "      <td>57.0</td>\n",
              "      <td>0.950000</td>\n",
              "      <td>0.183333</td>\n",
              "      <td>0.766667</td>\n",
              "    </tr>\n",
              "    <tr>\n",
              "      <th>Jamaica</th>\n",
              "      <td>125</td>\n",
              "      <td>52.0</td>\n",
              "      <td>0.712329</td>\n",
              "      <td>0.123369</td>\n",
              "      <td>0.588960</td>\n",
              "    </tr>\n",
              "    <tr>\n",
              "      <th>Tanzania</th>\n",
              "      <td>88</td>\n",
              "      <td>35.0</td>\n",
              "      <td>0.660377</td>\n",
              "      <td>0.221894</td>\n",
              "      <td>0.438483</td>\n",
              "    </tr>\n",
              "    <tr>\n",
              "      <th>Gabon</th>\n",
              "      <td>80</td>\n",
              "      <td>23.0</td>\n",
              "      <td>0.403509</td>\n",
              "      <td>0.138795</td>\n",
              "      <td>0.264714</td>\n",
              "    </tr>\n",
              "    <tr>\n",
              "      <th>...</th>\n",
              "      <td>...</td>\n",
              "      <td>...</td>\n",
              "      <td>...</td>\n",
              "      <td>...</td>\n",
              "      <td>...</td>\n",
              "    </tr>\n",
              "    <tr>\n",
              "      <th>Monaco</th>\n",
              "      <td>93</td>\n",
              "      <td>0.0</td>\n",
              "      <td>0.000000</td>\n",
              "      <td>0.020222</td>\n",
              "      <td>-0.020222</td>\n",
              "    </tr>\n",
              "    <tr>\n",
              "      <th>Cameroon</th>\n",
              "      <td>848</td>\n",
              "      <td>0.0</td>\n",
              "      <td>0.000000</td>\n",
              "      <td>0.022491</td>\n",
              "      <td>-0.022491</td>\n",
              "    </tr>\n",
              "    <tr>\n",
              "      <th>Mauritania</th>\n",
              "      <td>7</td>\n",
              "      <td>0.0</td>\n",
              "      <td>0.000000</td>\n",
              "      <td>0.023810</td>\n",
              "      <td>-0.023810</td>\n",
              "    </tr>\n",
              "    <tr>\n",
              "      <th>Grenada</th>\n",
              "      <td>14</td>\n",
              "      <td>0.0</td>\n",
              "      <td>0.000000</td>\n",
              "      <td>0.023810</td>\n",
              "      <td>-0.023810</td>\n",
              "    </tr>\n",
              "    <tr>\n",
              "      <th>Yemen</th>\n",
              "      <td>1</td>\n",
              "      <td>0.0</td>\n",
              "      <td>0.000000</td>\n",
              "      <td>NaN</td>\n",
              "      <td>NaN</td>\n",
              "    </tr>\n",
              "  </tbody>\n",
              "</table>\n",
              "<p>185 rows × 5 columns</p>\n",
              "</div>"
            ],
            "text/plain": [
              "                     Total   New    Change  Change_Mean_7D  Trending\n",
              "Country                                                             \n",
              "Cabo Verde              56  45.0  4.090909        0.654824  3.436085\n",
              "Congo (Brazzaville)    117  57.0  0.950000        0.183333  0.766667\n",
              "Jamaica                125  52.0  0.712329        0.123369  0.588960\n",
              "Tanzania                88  35.0  0.660377        0.221894  0.438483\n",
              "Gabon                   80  23.0  0.403509        0.138795  0.264714\n",
              "...                    ...   ...       ...             ...       ...\n",
              "Monaco                  93   0.0  0.000000        0.020222 -0.020222\n",
              "Cameroon               848   0.0  0.000000        0.022491 -0.022491\n",
              "Mauritania               7   0.0  0.000000        0.023810 -0.023810\n",
              "Grenada                 14   0.0  0.000000        0.023810 -0.023810\n",
              "Yemen                    1   0.0  0.000000             NaN       NaN\n",
              "\n",
              "[185 rows x 5 columns]"
            ]
          },
          "metadata": {
            "tags": []
          },
          "execution_count": 12
        }
      ]
    },
    {
      "cell_type": "code",
      "metadata": {
        "id": "FOd9kt3AaOlT",
        "colab_type": "code",
        "outputId": "0b59f20f-1c82-4bc0-e183-a9ab018d99d2",
        "colab": {
          "base_uri": "https://localhost:8080/",
          "height": 238
        }
      },
      "source": [
        "#hide\n",
        "df_confirmed_countries = df_confirmed.groupby(['Date', 'Country']).sum().unstack().xs('Cases', axis=1).transpose()\n",
        "df_confirmed_countries.loc['France']"
      ],
      "execution_count": 13,
      "outputs": [
        {
          "output_type": "execute_result",
          "data": {
            "text/plain": [
              "Date\n",
              "2020-01-22         0\n",
              "2020-01-23         0\n",
              "2020-01-24         2\n",
              "2020-01-25         3\n",
              "2020-01-26         3\n",
              "               ...  \n",
              "2020-04-11    130727\n",
              "2020-04-12    133670\n",
              "2020-04-13    137875\n",
              "2020-04-14    131361\n",
              "2020-04-15    134582\n",
              "Name: France, Length: 85, dtype: int64"
            ]
          },
          "metadata": {
            "tags": []
          },
          "execution_count": 13
        }
      ]
    },
    {
      "cell_type": "code",
      "metadata": {
        "id": "qwn8_5Yjevqg",
        "colab_type": "code",
        "colab": {}
      },
      "source": [
        ""
      ],
      "execution_count": 0,
      "outputs": []
    }
  ]
}