{
  "nbformat": 4,
  "nbformat_minor": 0,
  "metadata": {
    "colab": {
      "name": "2020-04-16-COVID-19-WORLD",
      "provenance": [],
      "authorship_tag": "ABX9TyOM5/AKI9g4eTiwqjboRTTN"
    },
    "kernelspec": {
      "name": "python3",
      "display_name": "Python 3"
    }
  },
  "cells": [
    {
      "cell_type": "markdown",
      "metadata": {
        "id": "N-itaTOAANXW",
        "colab_type": "text"
      },
      "source": [
        "# Coronavirus Latest\n",
        "> Updates on the respiratory illness that has infected more than one million people and killed tens of thousands.\n",
        "\n",
        "- toc:false\n",
        "- branch: master\n",
        "- badges: false\n",
        "- hide_colab_badge: true\n",
        "- comments: false\n",
        "- permalink:/covid-overview/\n"
      ]
    },
    {
      "cell_type": "code",
      "metadata": {
        "id": "Qr8vncx8AFdx",
        "colab_type": "code",
        "colab": {}
      },
      "source": [
        "#hide\n",
        "import pandas as pd\n",
        "import numpy as np\n",
        "import altair as alt\n",
        "from IPython.display import HTML\n",
        "\n",
        "base_url = 'https://raw.githubusercontent.com/CSSEGISandData/COVID-19/master/csse_covid_19_data'\n",
        "\n",
        "# confirmed, deaths, recovered\n",
        "def get_time_series(type):\n",
        "  _url = f'{base_url}/csse_covid_19_time_series/time_series_covid19_{type}_global.csv'\n",
        "  _dff = pd.read_csv(_url)\n",
        "  _cols = _dff.columns[~_dff.columns.isin(['Province/State', 'Country/Region', 'Lat', 'Long'])]\n",
        "  _dff = (_dff.groupby('Country/Region')[_cols].sum().stack().reset_index(name = 'Cases')\n",
        "        .rename(columns = {'level_1': 'Date', 'Country/Region': 'Country'}))\n",
        "  _dff['Date'] = pd.to_datetime(_dff['Date'], format='%m/%d/%y')\n",
        "  return _dff\n",
        "\n",
        "df_confirmed = get_time_series('confirmed')\n",
        "df_recovered = get_time_series('recovered')\n",
        "df_deaths = get_time_series('deaths')\n",
        "date_latest = df_confirmed['Date'].max()\n",
        "\n",
        "df_last = lambda name, _df, n: _df[_df['Date'].isin(_df['Date'].tail(n))].set_index(['Country', 'Date']).rename(columns={'Cases': name})\n",
        "df_summary = lambda last_n: pd.concat([df_last('Confirmed', df_confirmed, last_n), df_last('Deaths', df_deaths, last_n), df_last('Recovered', df_recovered, last_n)], axis=1)\n",
        "df_global = df_summary(2).groupby(['Date']).sum().reset_index()\n",
        "s_date_latest = date_latest.strftime(\"%B %d, %Y\")\n",
        "n_confirmed = df_global.loc[1]['Confirmed']\n",
        "n_deaths = df_global.loc[1]['Deaths']\n",
        "n_recovered = df_global.loc[1]['Recovered']\n",
        "\n",
        "df_global_diff = df_global.diff()\n",
        "n_confirmed_diff = df_global_diff.loc[1]['Confirmed']\n",
        "n_deaths_diff = df_global_diff.loc[1]['Deaths']\n",
        "n_recovered_diff = df_global_diff.loc[1]['Recovered']\n",
        "countries = df_confirmed['Country'].unique()"
      ],
      "execution_count": 0,
      "outputs": []
    },
    {
      "cell_type": "code",
      "metadata": {
        "id": "oCHllIBDBOSm",
        "colab_type": "code",
        "colab": {
          "base_uri": "https://localhost:8080/",
          "height": 357
        },
        "outputId": "1cb595f0-5243-4d8d-fd95-2ce75d90de7f"
      },
      "source": [
        "#hide_input\n",
        "HTML(\n",
        "    f'<div style=\"font-size: 1.0em;\">'\n",
        "    f'<div> \\\n",
        "        <span style=\"font-size: 2.0em;\">{n_confirmed:,}</span><br/>\\\n",
        "        Total cases reported worldwide, {s_date_latest} \\\n",
        "      </div>\\\n",
        "      <br/>'\n",
        "    f'<div><span style=\"font-size: 2.0em;\">{n_confirmed_diff:,.0f}</span><br/>New cases reported since last day</div><br/>'\n",
        "    f'<div><span style=\"font-size: 2.0em;\">{n_recovered:,}</span> +{n_recovered_diff:,.0f} ({n_recovered/n_confirmed*100:.2f}%)<br/>Total recovered reported worldwide</div><br/>'\n",
        "    f'<div><span style=\"font-size: 2.0em;\">{n_deaths:,}</span> +{n_deaths_diff:,.0f} ({n_deaths/n_confirmed*100:.2f}%)<br/>Total deaths reported worldwide</div><br/>'\n",
        "    f'<div><span style=\"font-size: 2.0em;\">{len(countries) - 1}</span><br/>Total number of countries tracked</div><br/>'\n",
        "    f'</div>'\n",
        ")"
      ],
      "execution_count": 19,
      "outputs": [
        {
          "output_type": "execute_result",
          "data": {
            "text/html": [
              "<div style=\"font-size: 1.0em;\"><div>         <span style=\"font-size: 2.0em;\">2,056,054</span><br/>        Total cases reported worldwide, April 15, 2020       </div>      <br/><div><span style=\"font-size: 2.0em;\">79,863</span><br/>New cases reported since last day</div><br/><div><span style=\"font-size: 2.0em;\">511,019</span> +36,758 (24.85%)<br/>Total recovered reported worldwide</div><br/><div><span style=\"font-size: 2.0em;\">134,177</span> +8,193 (6.53%)<br/>Total deaths reported worldwide</div><br/><div><span style=\"font-size: 2.0em;\">184</span><br/>Total number of countries tracked</div><br/></div>"
            ],
            "text/plain": [
              "<IPython.core.display.HTML object>"
            ]
          },
          "metadata": {
            "tags": []
          },
          "execution_count": 19
        }
      ]
    },
    {
      "cell_type": "code",
      "metadata": {
        "id": "NTfxP5yvAiLL",
        "colab_type": "code",
        "outputId": "816b7ae8-e306-4907-8ffd-f454590a93ba",
        "colab": {
          "base_uri": "https://localhost:8080/",
          "height": 473
        }
      },
      "source": [
        "#hide_input\n",
        "df_confirmed_latest = df_confirmed.groupby(['Date', 'Country']).sum().unstack().xs('Cases', axis=1).tail(2)\n",
        "df_confirmed_latest = df_confirmed_latest.reset_index(drop=True).transpose()\n",
        "df_confirmed_latest['New'] = df_confirmed_latest.diff(axis=1)[1]\n",
        "df_confirmed_latest['Change'] = df_confirmed_latest.pct_change(axis=1)[1]\n",
        "\n",
        "df_confirmed_pct_mean = df_confirmed.groupby(['Date', 'Country']).sum().unstack().xs('Cases', axis=1).pct_change().rolling(window=7).mean()\n",
        "df_confirmed_pct_mean_latest = df_confirmed_pct_mean[-1:].reset_index(drop=True).transpose().sort_values(by=0,ascending=False).rename(columns={0: 'Change_Mean_7D'})\n",
        "df_confirmed_latest = pd.merge(df_confirmed_latest, df_confirmed_pct_mean_latest, on = 'Country')\n",
        "df_confirmed_latest['Trending'] = df_confirmed_latest['Change'] - df_confirmed_latest['Change_Mean_7D']\n",
        "\n",
        "df_confirmed_latest = df_confirmed_latest.drop(columns=0).rename(columns={1: 'Total'}).sort_values(by=['Change', 'New', 'Trending'], ascending=False)\n",
        "df_confirmed_major = df_confirmed_latest[(df_confirmed_latest['New'] > 50) & (df_confirmed_latest['Total'] > 1000)].reset_index()\n",
        "\n",
        "alt.Chart(df_confirmed_major).mark_bar().encode(\n",
        "    alt.X('Country:N', sort='-y'),\n",
        "    alt.Y('Change_Mean_7D:Q', axis=alt.Axis(format='%'), title='Mean Change'),\n",
        "    tooltip=list(df_confirmed_major)\n",
        ").properties(\n",
        "    width=600,\n",
        "    title='Percentage Change (Mean of 7 Days) of Confirmed Case'\n",
        ")"
      ],
      "execution_count": 11,
      "outputs": [
        {
          "output_type": "execute_result",
          "data": {
            "text/plain": [
              "alt.Chart(...)"
            ],
            "text/html": [
              "\n",
              "<div id=\"altair-viz-ecc2e68163f24d8d9998e5626d32586f\"></div>\n",
              "<script type=\"text/javascript\">\n",
              "  (function(spec, embedOpt){\n",
              "    let outputDiv = document.currentScript.previousElementSibling;\n",
              "    if (outputDiv.id !== \"altair-viz-ecc2e68163f24d8d9998e5626d32586f\") {\n",
              "      outputDiv = document.getElementById(\"altair-viz-ecc2e68163f24d8d9998e5626d32586f\");\n",
              "    }\n",
              "    const paths = {\n",
              "      \"vega\": \"https://cdn.jsdelivr.net/npm//vega@5?noext\",\n",
              "      \"vega-lib\": \"https://cdn.jsdelivr.net/npm//vega-lib?noext\",\n",
              "      \"vega-lite\": \"https://cdn.jsdelivr.net/npm//vega-lite@4.8.1?noext\",\n",
              "      \"vega-embed\": \"https://cdn.jsdelivr.net/npm//vega-embed@6?noext\",\n",
              "    };\n",
              "\n",
              "    function loadScript(lib) {\n",
              "      return new Promise(function(resolve, reject) {\n",
              "        var s = document.createElement('script');\n",
              "        s.src = paths[lib];\n",
              "        s.async = true;\n",
              "        s.onload = () => resolve(paths[lib]);\n",
              "        s.onerror = () => reject(`Error loading script: ${paths[lib]}`);\n",
              "        document.getElementsByTagName(\"head\")[0].appendChild(s);\n",
              "      });\n",
              "    }\n",
              "\n",
              "    function showError(err) {\n",
              "      outputDiv.innerHTML = `<div class=\"error\" style=\"color:red;\">${err}</div>`;\n",
              "      throw err;\n",
              "    }\n",
              "\n",
              "    function displayChart(vegaEmbed) {\n",
              "      vegaEmbed(outputDiv, spec, embedOpt)\n",
              "        .catch(err => showError(`Javascript Error: ${err.message}<br>This usually means there's a typo in your chart specification. See the javascript console for the full traceback.`));\n",
              "    }\n",
              "\n",
              "    if(typeof define === \"function\" && define.amd) {\n",
              "      requirejs.config({paths});\n",
              "      require([\"vega-embed\"], displayChart, err => showError(`Error loading script: ${err.message}`));\n",
              "    } else if (typeof vegaEmbed === \"function\") {\n",
              "      displayChart(vegaEmbed);\n",
              "    } else {\n",
              "      loadScript(\"vega\")\n",
              "        .then(() => loadScript(\"vega-lite\"))\n",
              "        .then(() => loadScript(\"vega-embed\"))\n",
              "        .catch(showError)\n",
              "        .then(() => displayChart(vegaEmbed));\n",
              "    }\n",
              "  })({\"config\": {\"view\": {\"continuousWidth\": 400, \"continuousHeight\": 300}}, \"data\": {\"name\": \"data-a8e36f43f9e92b89d8622d94bcade830\"}, \"mark\": \"bar\", \"encoding\": {\"tooltip\": [{\"type\": \"nominal\", \"field\": \"Country\"}, {\"type\": \"quantitative\", \"field\": \"Total\"}, {\"type\": \"quantitative\", \"field\": \"New\"}, {\"type\": \"quantitative\", \"field\": \"Change\"}, {\"type\": \"quantitative\", \"field\": \"Change_Mean_7D\"}, {\"type\": \"quantitative\", \"field\": \"Trending\"}], \"x\": {\"type\": \"nominal\", \"field\": \"Country\", \"sort\": \"-y\"}, \"y\": {\"type\": \"quantitative\", \"axis\": {\"format\": \"%\"}, \"field\": \"Change_Mean_7D\", \"title\": \"Mean Change\"}}, \"title\": \"Percentage Change (Mean of 7 Days) of Confirmed Case\", \"width\": 600, \"$schema\": \"https://vega.github.io/schema/vega-lite/v4.8.1.json\", \"datasets\": {\"data-a8e36f43f9e92b89d8622d94bcade830\": [{\"Country\": \"Bangladesh\", \"Total\": 1231, \"New\": 219.0, \"Change\": 0.21640316205533594, \"Change_Mean_7D\": 0.2847909953350397, \"Trending\": -0.06838783327970377}, {\"Country\": \"Russia\", \"Total\": 24490, \"New\": 3388.0, \"Change\": 0.16055350203772156, \"Change_Mean_7D\": 0.15992219628056373, \"Trending\": 0.0006313057571578351}, {\"Country\": \"Singapore\", \"Total\": 3699, \"New\": 447.0, \"Change\": 0.13745387453874547, \"Change_Mean_7D\": 0.12525972309724218, \"Trending\": 0.012194151441503293}, {\"Country\": \"Belarus\", \"Total\": 3728, \"New\": 447.0, \"Change\": 0.13623895153916488, \"Change_Mean_7D\": 0.20020549413038988, \"Trending\": -0.063966542591225}, {\"Country\": \"Brazil\", \"Total\": 28320, \"New\": 3058.0, \"Change\": 0.12105138152165318, \"Change_Mean_7D\": 0.08363947073460275, \"Trending\": 0.03741191078705043}, {\"Country\": \"Uzbekistan\", \"Total\": 1302, \"New\": 137.0, \"Change\": 0.11759656652360517, \"Change_Mean_7D\": 0.13366864560330854, \"Trending\": -0.016072079079703372}, {\"Country\": \"Ukraine\", \"Total\": 3764, \"New\": 392.0, \"Change\": 0.11625148279952557, \"Change_Mean_7D\": 0.12353385714228556, \"Trending\": -0.007282374342759981}, {\"Country\": \"Peru\", \"Total\": 11475, \"New\": 1172.0, \"Change\": 0.11375327574492866, \"Change_Mean_7D\": 0.15139244554350334, \"Trending\": -0.03763916979857468}, {\"Country\": \"Dominican Republic\", \"Total\": 3614, \"New\": 328.0, \"Change\": 0.09981740718198417, \"Change_Mean_7D\": 0.08019352035077712, \"Trending\": 0.019623886831207055}, {\"Country\": \"Bahrain\", \"Total\": 1671, \"New\": 143.0, \"Change\": 0.09358638743455505, \"Change_Mean_7D\": 0.1073701418261428, \"Trending\": -0.013783754391587744}, {\"Country\": \"Pakistan\", \"Total\": 6383, \"New\": 546.0, \"Change\": 0.09354120267260568, \"Change_Mean_7D\": 0.05948007218129457, \"Trending\": 0.03406113049131111}, {\"Country\": \"Ireland\", \"Total\": 12547, \"New\": 1068.0, \"Change\": 0.09303946336788926, \"Change_Mean_7D\": 0.11026427507358424, \"Trending\": -0.01722481170569498}, {\"Country\": \"Saudi Arabia\", \"Total\": 5862, \"New\": 493.0, \"Change\": 0.09182343080648159, \"Change_Mean_7D\": 0.10408395539396562, \"Trending\": -0.012260524587484029}, {\"Country\": \"Serbia\", \"Total\": 4873, \"New\": 408.0, \"Change\": 0.09137737961926096, \"Change_Mean_7D\": 0.09007170219347493, \"Trending\": 0.0013056774257860226}, {\"Country\": \"United Arab Emirates\", \"Total\": 5365, \"New\": 432.0, \"Change\": 0.08757348469491189, \"Change_Mean_7D\": 0.10556508724164286, \"Trending\": -0.017991602546730975}, {\"Country\": \"Qatar\", \"Total\": 3711, \"New\": 283.0, \"Change\": 0.0825554259043173, \"Change_Mean_7D\": 0.07692394921085367, \"Trending\": 0.00563147669346363}, {\"Country\": \"Belgium\", \"Total\": 33573, \"New\": 2454.0, \"Change\": 0.07885857514701633, \"Change_Mean_7D\": 0.05309722104508485, \"Trending\": 0.025761354101931477}, {\"Country\": \"Mexico\", \"Total\": 5399, \"New\": 385.0, \"Change\": 0.07678500199441562, \"Change_Mean_7D\": 0.0994116201789242, \"Trending\": -0.022626618184508576}, {\"Country\": \"Argentina\", \"Total\": 2443, \"New\": 166.0, \"Change\": 0.07290294246815976, \"Change_Mean_7D\": 0.05234971589659744, \"Trending\": 0.02055322657156232}, {\"Country\": \"India\", \"Total\": 12322, \"New\": 835.0, \"Change\": 0.07269086793766877, \"Change_Mean_7D\": 0.11074622861783337, \"Trending\": -0.0380553606801646}, {\"Country\": \"Morocco\", \"Total\": 2024, \"New\": 136.0, \"Change\": 0.07203389830508478, \"Change_Mean_7D\": 0.06827411800704761, \"Trending\": 0.0037597802980371686}, {\"Country\": \"Egypt\", \"Total\": 2505, \"New\": 155.0, \"Change\": 0.06595744680851068, \"Change_Mean_7D\": 0.07005346073459033, \"Trending\": -0.004096013926079653}, {\"Country\": \"Turkey\", \"Total\": 69392, \"New\": 4281.0, \"Change\": 0.06574925895777972, \"Change_Mean_7D\": 0.08908247469995996, \"Trending\": -0.02333321574218024}, {\"Country\": \"Indonesia\", \"Total\": 5136, \"New\": 297.0, \"Change\": 0.06137631742095473, \"Change_Mean_7D\": 0.0822993853148334, \"Trending\": -0.02092306789387867}, {\"Country\": \"Japan\", \"Total\": 8100, \"New\": 455.0, \"Change\": 0.059516023544800456, \"Change_Mean_7D\": 0.0971225111563939, \"Trending\": -0.03760648761159345}, {\"Country\": \"Moldova\", \"Total\": 2049, \"New\": 115.0, \"Change\": 0.059462254395036274, \"Change_Mean_7D\": 0.08328474982488802, \"Trending\": -0.02382249542985175}, {\"Country\": \"Poland\", \"Total\": 7582, \"New\": 380.0, \"Change\": 0.05276312135517913, \"Change_Mean_7D\": 0.05528388077578149, \"Trending\": -0.002520759420602356}, {\"Country\": \"Kazakhstan\", \"Total\": 1295, \"New\": 63.0, \"Change\": 0.051136363636363535, \"Change_Mean_7D\": 0.08660750147931284, \"Trending\": -0.03547113784294931}, {\"Country\": \"Romania\", \"Total\": 7216, \"New\": 337.0, \"Change\": 0.04898967873237381, \"Change_Mean_7D\": 0.06141735386790186, \"Trending\": -0.012427675135528053}, {\"Country\": \"United Kingdom\", \"Total\": 99483, \"New\": 4638.0, \"Change\": 0.04890083820971047, \"Change_Mean_7D\": 0.07150122082635546, \"Trending\": -0.022600382616644987}, {\"Country\": \"US\", \"Total\": 636350, \"New\": 28680.0, \"Change\": 0.047196669244820466, \"Change_Mean_7D\": 0.057996105233780834, \"Trending\": -0.010799435988960368}, {\"Country\": \"Azerbaijan\", \"Total\": 1253, \"New\": 56.0, \"Change\": 0.04678362573099415, \"Change_Mean_7D\": 0.06244780264934852, \"Trending\": -0.015664176918354374}, {\"Country\": \"Chile\", \"Total\": 8273, \"New\": 356.0, \"Change\": 0.04496652772514831, \"Change_Mean_7D\": 0.058931862372010944, \"Trending\": -0.013965334646862636}, {\"Country\": \"Hungary\", \"Total\": 1579, \"New\": 67.0, \"Change\": 0.0443121693121693, \"Change_Mean_7D\": 0.08597510783750938, \"Trending\": -0.041662938525340074}, {\"Country\": \"Philippines\", \"Total\": 5453, \"New\": 230.0, \"Change\": 0.04403599463909624, \"Change_Mean_7D\": 0.0502559118414782, \"Trending\": -0.006219917202381957}, {\"Country\": \"Algeria\", \"Total\": 2160, \"New\": 90.0, \"Change\": 0.04347826086956519, \"Change_Mean_7D\": 0.046475813491061, \"Trending\": -0.0029975526214958137}, {\"Country\": \"Canada\", \"Total\": 28208, \"New\": 1174.0, \"Change\": 0.04342679588666121, \"Change_Mean_7D\": 0.057028670445519215, \"Trending\": -0.013601874558858008}, {\"Country\": \"Colombia\", \"Total\": 3105, \"New\": 126.0, \"Change\": 0.04229607250755296, \"Change_Mean_7D\": 0.0613008418269846, \"Trending\": -0.01900476931943164}, {\"Country\": \"Sweden\", \"Total\": 11927, \"New\": 482.0, \"Change\": 0.04211446046308431, \"Change_Mean_7D\": 0.05113724045974344, \"Trending\": -0.009022779996659125}, {\"Country\": \"Israel\", \"Total\": 12501, \"New\": 455.0, \"Change\": 0.03777187448115549, \"Change_Mean_7D\": 0.04153807193231402, \"Trending\": -0.003766197451158533}, {\"Country\": \"South Africa\", \"Total\": 2506, \"New\": 91.0, \"Change\": 0.037681159420289934, \"Change_Mean_7D\": 0.04486808028763128, \"Trending\": -0.007186920867341344}, {\"Country\": \"Portugal\", \"Total\": 18091, \"New\": 643.0, \"Change\": 0.03685236130215497, \"Change_Mean_7D\": 0.04708381185869749, \"Trending\": -0.010231450556542523}, {\"Country\": \"Ecuador\", \"Total\": 7858, \"New\": 255.0, \"Change\": 0.03353939234512682, \"Change_Mean_7D\": 0.09314834946640525, \"Trending\": -0.059608957121278436}, {\"Country\": \"Spain\", \"Total\": 177644, \"New\": 5103.0, \"Change\": 0.029575579137712138, \"Change_Mean_7D\": 0.02622903567216287, \"Trending\": 0.0033465434655492697}, {\"Country\": \"Panama\", \"Total\": 3574, \"New\": 102.0, \"Change\": 0.02937788018433185, \"Change_Mean_7D\": 0.06894852186455444, \"Trending\": -0.03957064168022259}, {\"Country\": \"Netherlands\", \"Total\": 28316, \"New\": 736.0, \"Change\": 0.026686004350978898, \"Change_Mean_7D\": 0.04598195131780804, \"Trending\": -0.01929594696682914}, {\"Country\": \"Germany\", \"Total\": 134753, \"New\": 3394.0, \"Change\": 0.025837590115637354, \"Change_Mean_7D\": 0.0251353318994898, \"Trending\": 0.0007022582161475555}, {\"Country\": \"Denmark\", \"Total\": 6876, \"New\": 170.0, \"Change\": 0.025350432448553617, \"Change_Mean_7D\": 0.029852295060630363, \"Trending\": -0.004501862612076746}, {\"Country\": \"France\", \"Total\": 134582, \"New\": 3221.0, \"Change\": 0.024520215284597358, \"Change_Mean_7D\": 0.024548254020584154, \"Trending\": -2.8038735986796876e-05}, {\"Country\": \"Finland\", \"Total\": 3237, \"New\": 76.0, \"Change\": 0.024043024359379883, \"Change_Mean_7D\": 0.0384618847760931, \"Trending\": -0.014418860416713218}, {\"Country\": \"Iran\", \"Total\": 76389, \"New\": 1512.0, \"Change\": 0.020193116711406667, \"Change_Mean_7D\": 0.02427167622638723, \"Trending\": -0.004078559514980564}, {\"Country\": \"Luxembourg\", \"Total\": 3373, \"New\": 66.0, \"Change\": 0.019957665557907456, \"Change_Mean_7D\": 0.015311682862065983, \"Trending\": 0.004645982695841473}, {\"Country\": \"Norway\", \"Total\": 6740, \"New\": 117.0, \"Change\": 0.017665710403140578, \"Change_Mean_7D\": 0.014702365654763254, \"Trending\": 0.0029633447483773234}, {\"Country\": \"Czechia\", \"Total\": 6216, \"New\": 105.0, \"Change\": 0.01718213058419238, \"Change_Mean_7D\": 0.022782280313293324, \"Trending\": -0.005600149729100945}, {\"Country\": \"Malaysia\", \"Total\": 5072, \"New\": 85.0, \"Change\": 0.01704431521957095, \"Change_Mean_7D\": 0.03020495052401489, \"Trending\": -0.01316063530444394}, {\"Country\": \"Italy\", \"Total\": 165155, \"New\": 2667.0, \"Change\": 0.016413519767613627, \"Change_Mean_7D\": 0.024507395569692614, \"Trending\": -0.008093875802078987}, {\"Country\": \"Switzerland\", \"Total\": 26336, \"New\": 400.0, \"Change\": 0.015422578655151176, \"Change_Mean_7D\": 0.01780578907112467, \"Trending\": -0.0023832104159734954}, {\"Country\": \"Austria\", \"Total\": 14336, \"New\": 110.0, \"Change\": 0.007732321102207118, \"Change_Mean_7D\": 0.014742093958948654, \"Trending\": -0.007009772856741536}]}}, {\"mode\": \"vega-lite\"});\n",
              "</script>"
            ]
          },
          "metadata": {
            "tags": []
          },
          "execution_count": 11
        }
      ]
    },
    {
      "cell_type": "code",
      "metadata": {
        "id": "vyS4mFqHcrZU",
        "colab_type": "code",
        "outputId": "dab4f83f-9f85-496e-dcec-68cb557978ae",
        "colab": {
          "base_uri": "https://localhost:8080/",
          "height": 450
        }
      },
      "source": [
        "#hide\n",
        "df_confirmed_latest.sort_values(by=['Change'], ascending=False)"
      ],
      "execution_count": 12,
      "outputs": [
        {
          "output_type": "execute_result",
          "data": {
            "text/html": [
              "<div>\n",
              "<style scoped>\n",
              "    .dataframe tbody tr th:only-of-type {\n",
              "        vertical-align: middle;\n",
              "    }\n",
              "\n",
              "    .dataframe tbody tr th {\n",
              "        vertical-align: top;\n",
              "    }\n",
              "\n",
              "    .dataframe thead th {\n",
              "        text-align: right;\n",
              "    }\n",
              "</style>\n",
              "<table border=\"1\" class=\"dataframe\">\n",
              "  <thead>\n",
              "    <tr style=\"text-align: right;\">\n",
              "      <th></th>\n",
              "      <th>Total</th>\n",
              "      <th>New</th>\n",
              "      <th>Change</th>\n",
              "      <th>Change_Mean_7D</th>\n",
              "      <th>Trending</th>\n",
              "    </tr>\n",
              "    <tr>\n",
              "      <th>Country</th>\n",
              "      <th></th>\n",
              "      <th></th>\n",
              "      <th></th>\n",
              "      <th></th>\n",
              "      <th></th>\n",
              "    </tr>\n",
              "  </thead>\n",
              "  <tbody>\n",
              "    <tr>\n",
              "      <th>Cabo Verde</th>\n",
              "      <td>56</td>\n",
              "      <td>45.0</td>\n",
              "      <td>4.090909</td>\n",
              "      <td>0.654824</td>\n",
              "      <td>3.436085</td>\n",
              "    </tr>\n",
              "    <tr>\n",
              "      <th>Congo (Brazzaville)</th>\n",
              "      <td>117</td>\n",
              "      <td>57.0</td>\n",
              "      <td>0.950000</td>\n",
              "      <td>0.183333</td>\n",
              "      <td>0.766667</td>\n",
              "    </tr>\n",
              "    <tr>\n",
              "      <th>Jamaica</th>\n",
              "      <td>125</td>\n",
              "      <td>52.0</td>\n",
              "      <td>0.712329</td>\n",
              "      <td>0.123369</td>\n",
              "      <td>0.588960</td>\n",
              "    </tr>\n",
              "    <tr>\n",
              "      <th>Tanzania</th>\n",
              "      <td>88</td>\n",
              "      <td>35.0</td>\n",
              "      <td>0.660377</td>\n",
              "      <td>0.221894</td>\n",
              "      <td>0.438483</td>\n",
              "    </tr>\n",
              "    <tr>\n",
              "      <th>Gabon</th>\n",
              "      <td>80</td>\n",
              "      <td>23.0</td>\n",
              "      <td>0.403509</td>\n",
              "      <td>0.138795</td>\n",
              "      <td>0.264714</td>\n",
              "    </tr>\n",
              "    <tr>\n",
              "      <th>...</th>\n",
              "      <td>...</td>\n",
              "      <td>...</td>\n",
              "      <td>...</td>\n",
              "      <td>...</td>\n",
              "      <td>...</td>\n",
              "    </tr>\n",
              "    <tr>\n",
              "      <th>Monaco</th>\n",
              "      <td>93</td>\n",
              "      <td>0.0</td>\n",
              "      <td>0.000000</td>\n",
              "      <td>0.020222</td>\n",
              "      <td>-0.020222</td>\n",
              "    </tr>\n",
              "    <tr>\n",
              "      <th>Cameroon</th>\n",
              "      <td>848</td>\n",
              "      <td>0.0</td>\n",
              "      <td>0.000000</td>\n",
              "      <td>0.022491</td>\n",
              "      <td>-0.022491</td>\n",
              "    </tr>\n",
              "    <tr>\n",
              "      <th>Mauritania</th>\n",
              "      <td>7</td>\n",
              "      <td>0.0</td>\n",
              "      <td>0.000000</td>\n",
              "      <td>0.023810</td>\n",
              "      <td>-0.023810</td>\n",
              "    </tr>\n",
              "    <tr>\n",
              "      <th>Grenada</th>\n",
              "      <td>14</td>\n",
              "      <td>0.0</td>\n",
              "      <td>0.000000</td>\n",
              "      <td>0.023810</td>\n",
              "      <td>-0.023810</td>\n",
              "    </tr>\n",
              "    <tr>\n",
              "      <th>Yemen</th>\n",
              "      <td>1</td>\n",
              "      <td>0.0</td>\n",
              "      <td>0.000000</td>\n",
              "      <td>NaN</td>\n",
              "      <td>NaN</td>\n",
              "    </tr>\n",
              "  </tbody>\n",
              "</table>\n",
              "<p>185 rows × 5 columns</p>\n",
              "</div>"
            ],
            "text/plain": [
              "                     Total   New    Change  Change_Mean_7D  Trending\n",
              "Country                                                             \n",
              "Cabo Verde              56  45.0  4.090909        0.654824  3.436085\n",
              "Congo (Brazzaville)    117  57.0  0.950000        0.183333  0.766667\n",
              "Jamaica                125  52.0  0.712329        0.123369  0.588960\n",
              "Tanzania                88  35.0  0.660377        0.221894  0.438483\n",
              "Gabon                   80  23.0  0.403509        0.138795  0.264714\n",
              "...                    ...   ...       ...             ...       ...\n",
              "Monaco                  93   0.0  0.000000        0.020222 -0.020222\n",
              "Cameroon               848   0.0  0.000000        0.022491 -0.022491\n",
              "Mauritania               7   0.0  0.000000        0.023810 -0.023810\n",
              "Grenada                 14   0.0  0.000000        0.023810 -0.023810\n",
              "Yemen                    1   0.0  0.000000             NaN       NaN\n",
              "\n",
              "[185 rows x 5 columns]"
            ]
          },
          "metadata": {
            "tags": []
          },
          "execution_count": 12
        }
      ]
    },
    {
      "cell_type": "code",
      "metadata": {
        "id": "FOd9kt3AaOlT",
        "colab_type": "code",
        "outputId": "0b59f20f-1c82-4bc0-e183-a9ab018d99d2",
        "colab": {
          "base_uri": "https://localhost:8080/",
          "height": 238
        }
      },
      "source": [
        "#hide\n",
        "df_confirmed_countries = df_confirmed.groupby(['Date', 'Country']).sum().unstack().xs('Cases', axis=1).transpose()\n",
        "df_confirmed_countries.loc['France']"
      ],
      "execution_count": 13,
      "outputs": [
        {
          "output_type": "execute_result",
          "data": {
            "text/plain": [
              "Date\n",
              "2020-01-22         0\n",
              "2020-01-23         0\n",
              "2020-01-24         2\n",
              "2020-01-25         3\n",
              "2020-01-26         3\n",
              "               ...  \n",
              "2020-04-11    130727\n",
              "2020-04-12    133670\n",
              "2020-04-13    137875\n",
              "2020-04-14    131361\n",
              "2020-04-15    134582\n",
              "Name: France, Length: 85, dtype: int64"
            ]
          },
          "metadata": {
            "tags": []
          },
          "execution_count": 13
        }
      ]
    },
    {
      "cell_type": "code",
      "metadata": {
        "id": "qwn8_5Yjevqg",
        "colab_type": "code",
        "colab": {}
      },
      "source": [
        ""
      ],
      "execution_count": 0,
      "outputs": []
    }
  ]
}