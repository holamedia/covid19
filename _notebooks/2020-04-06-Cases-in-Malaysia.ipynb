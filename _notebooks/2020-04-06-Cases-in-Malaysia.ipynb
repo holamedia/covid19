{
  "nbformat": 4,
  "nbformat_minor": 0,
  "metadata": {
    "colab": {
      "name": "2020-04-06-Cases-in-Malaysia",
      "provenance": [],
      "authorship_tag": "ABX9TyPQ5hmkz37TcvpfNDGfEUwy"
    },
    "kernelspec": {
      "name": "python3",
      "display_name": "Python 3"
    }
  },
  "cells": [
    {
      "cell_type": "markdown",
      "metadata": {
        "id": "BvDtppminv5B",
        "colab_type": "text"
      },
      "source": [
        "# Cases in Malaysia\n",
        "> Updates on the respiratory illness that has infected more than one million people and killed tens of thousands.\n",
        "\n",
        "- toc:false\n",
        "- branch: master\n",
        "- badges: false\n",
        "- hide_colab_badge: true\n",
        "- comments: false"
      ]
    },
    {
      "cell_type": "markdown",
      "metadata": {
        "id": "pkIXYPmxo67-",
        "colab_type": "text"
      },
      "source": [
        "## COVID-19: Malaysia at a Glance"
      ]
    },
    {
      "cell_type": "code",
      "metadata": {
        "id": "QNA-gdudpEn9",
        "colab_type": "code",
        "colab": {}
      },
      "source": [
        "#hide\n",
        "import pandas as pd\n",
        "import numpy as np\n",
        "import altair as alt\n",
        "#hide\n",
        "# COVID-19 Data from https://github.com/CSSEGISandData/COVID-19/tree/master/csse_covid_19_data/csse_covid_19_time_series\n",
        "base_url = 'https://raw.githubusercontent.com/CSSEGISandData/COVID-19/master/csse_covid_19_data'\n",
        "\n",
        "# confirmed, deaths, recovered\n",
        "def get_time_series(type):\n",
        "  _url = f'{base_url}/csse_covid_19_time_series/time_series_covid19_{type}_global.csv'\n",
        "  _dff = pd.read_csv(_url)\n",
        "  _cols = _dff.columns[~_dff.columns.isin(['Province/State', 'Country/Region', 'Lat', 'Long'])]\n",
        "  _dff = (_dff.groupby('Country/Region')[_cols].sum().stack().reset_index(name = 'Cases')\n",
        "        .rename(columns = {'level_1': 'Date', 'Country/Region': 'Country'}))\n",
        "  _dff['Date'] = pd.to_datetime(_dff['Date'], format='%m/%d/%y')\n",
        "  return _dff\n",
        "\n",
        "# eg. 03-27-2020\n",
        "def get_df_daily(date):\n",
        "  _url = f'{base_url}/csse_covid_19_daily_reports/{date}.csv'\n",
        "  return pd.read_csv(_url)\n",
        "\n",
        "df_confirmed = get_time_series('confirmed')\n",
        "df_recovered = get_time_series('recovered')\n",
        "df_deaths = get_time_series('deaths')\n",
        "\n",
        "date_latest = df_confirmed['Date'].max()\n",
        "\n",
        "def countries_cases(df, n=5000, date_as_of=date_latest):\n",
        "  df_latest = df[df['Date'].eq(date_as_of)]\n",
        "  df_latest_n = df_latest[df_latest['Cases'] > n]\n",
        "  return df_latest_n\n",
        "\n",
        "# Last n days of type e.g. confirmed, recovered, deaths\n",
        "df_last = lambda name, _df, n: _df[_df['Date'].isin(_df['Date'].tail(n))].set_index(['Country', 'Date']).rename(columns={'Cases': name})\n",
        "\n",
        "# Last 2 days all global\n",
        "df_summary = lambda last_n: pd.concat([df_last('Confirmed', df_confirmed, last_n), df_last('Deaths', df_deaths, last_n), df_last('Recovered', df_recovered, last_n)], axis=1)\n",
        "\n",
        "#df_summary.xs('Malaysia', level = 0)\n",
        "\n",
        "df_global = df_summary(2).groupby(['Date']).sum().reset_index()\n",
        "\n",
        "df_global_summary = df_global.stack().reset_index().rename(columns={'level_1': 'Type', 0: 'Cases'})\n",
        "\n",
        "#based_chart = alt.Chart(df_global).encode(x = 'monthdate(Date):O')\n",
        "#closed_chart = based_chart.mark_bar().encode(y = 'Deaths:Q')\n",
        "#confirmed_chart = based_chart.mark_bar().encode(y = 'Confirmed:Q')\n",
        "\n",
        "#print(date_latest)\n",
        "#hide\n",
        "def chart_countries_timeline(_df, countries, since_date='1/23/2020'):\n",
        "  _df = _df[_df['Country'].isin(countries)]\n",
        "  _df = _df[_df['Date'].ge(since_date)]\n",
        "  selection = alt.selection_multi(fields=['Country'], bind='legend')\n",
        "  chart = alt.Chart(_df).mark_line().encode(\n",
        "          x='Date:T', \n",
        "          y='Cases:Q',\n",
        "          #y=alt.Y('Cases:Q', scale=alt.Scale(type='log')),\n",
        "          color='Country',\n",
        "          tooltip=list(_df),\n",
        "          opacity=alt.condition(selection,alt.value(1), alt.value(0.2))\n",
        "        ).properties(width=1000).add_selection(selection)\n",
        "  return chart\n",
        "\n",
        "def chart_countries_timeline_diff(df, country):\n",
        "  _df = df[df['Country'] == country]\n",
        "  _df = _df[['Date', 'Cases']].set_index('Date')\n",
        "  source = _df.diff().reset_index()\n",
        "  chart = alt.Chart(source).mark_bar().encode(\n",
        "              x='Date:T',\n",
        "              y='Cases:Q' #y=alt.Y('Cases:Q', scale=alt.Scale(type='log'))\n",
        "          )\n",
        "  return chart\n",
        "\n",
        "def chart_countries_cases(df, n, date_as_of=date_latest):\n",
        "    bars = alt.Chart(countries_cases(df, n, date_as_of)).mark_bar().encode(\n",
        "        x=alt.X('Country:O', sort='-y'),\n",
        "        y='Cases:Q'\n",
        "    )\n",
        "\n",
        "    text = bars.mark_text(\n",
        "        align='center',\n",
        "        baseline='bottom'\n",
        "    ).encode(\n",
        "        text='Cases:Q'\n",
        "    )\n",
        "    return (bars + text).properties(width=500)\n",
        "\n",
        "s_date_latest = date_latest.strftime('%m/%d/%Y')\n",
        "n_confirmed = df_global.loc[1]['Confirmed']\n",
        "n_deaths = df_global.loc[1]['Deaths']\n",
        "n_recovered = df_global.loc[1]['Recovered']\n",
        "\n",
        "df_global_diff = df_global.diff()\n",
        "n_confirmed_diff = df_global_diff.loc[1]['Confirmed']\n",
        "n_deaths_diff = df_global_diff.loc[1]['Deaths']\n",
        "n_recovered_diff = df_global_diff.loc[1]['Recovered']\n",
        "\n",
        "weekDays = (\"Monday\",\"Tuesday\",\"Wednesday\",\"Thursday\",\"Friday\",\"Saturday\",\"Sunday\") "
      ],
      "execution_count": 0,
      "outputs": []
    },
    {
      "cell_type": "code",
      "metadata": {
        "id": "fLt1q3dypTP_",
        "colab_type": "code",
        "colab": {
          "base_uri": "https://localhost:8080/",
          "height": 385
        },
        "outputId": "434981c1-1f89-4ced-a568-b9a9cb4df325"
      },
      "source": [
        "#hide\n",
        "df_confirmed_my = df_confirmed[df_confirmed['Country'] == 'Malaysia'].rename(columns={'Cases': 'Total number of Cases', 'Date': 'Reported Date'})\n",
        "\n",
        "alt.Chart(df_confirmed_my).mark_bar().encode(\n",
        "    x='Reported Date:T',\n",
        "    y='Total number of Cases:Q'\n",
        ").properties(\n",
        "    width=600,\n",
        "    title='Cummulative total number of COVID-19 cases in Malaysia'\n",
        ")"
      ],
      "execution_count": 21,
      "outputs": [
        {
          "output_type": "execute_result",
          "data": {
            "text/plain": [
              "alt.Chart(...)"
            ],
            "text/html": [
              "\n",
              "<div id=\"altair-viz-efcbdaccb7fe4d6b838efbe8764de25c\"></div>\n",
              "<script type=\"text/javascript\">\n",
              "  (function(spec, embedOpt){\n",
              "    const outputDiv = document.getElementById(\"altair-viz-efcbdaccb7fe4d6b838efbe8764de25c\");\n",
              "    const paths = {\n",
              "      \"vega\": \"https://cdn.jsdelivr.net/npm//vega@5?noext\",\n",
              "      \"vega-lib\": \"https://cdn.jsdelivr.net/npm//vega-lib?noext\",\n",
              "      \"vega-lite\": \"https://cdn.jsdelivr.net/npm//vega-lite@4.0.2?noext\",\n",
              "      \"vega-embed\": \"https://cdn.jsdelivr.net/npm//vega-embed@6?noext\",\n",
              "    };\n",
              "\n",
              "    function loadScript(lib) {\n",
              "      return new Promise(function(resolve, reject) {\n",
              "        var s = document.createElement('script');\n",
              "        s.src = paths[lib];\n",
              "        s.async = true;\n",
              "        s.onload = () => resolve(paths[lib]);\n",
              "        s.onerror = () => reject(`Error loading script: ${paths[lib]}`);\n",
              "        document.getElementsByTagName(\"head\")[0].appendChild(s);\n",
              "      });\n",
              "    }\n",
              "\n",
              "    function showError(err) {\n",
              "      outputDiv.innerHTML = `<div class=\"error\" style=\"color:red;\">${err}</div>`;\n",
              "      throw err;\n",
              "    }\n",
              "\n",
              "    function displayChart(vegaEmbed) {\n",
              "      vegaEmbed(outputDiv, spec, embedOpt)\n",
              "        .catch(err => showError(`Javascript Error: ${err.message}<br>This usually means there's a typo in your chart specification. See the javascript console for the full traceback.`));\n",
              "    }\n",
              "\n",
              "    if(typeof define === \"function\" && define.amd) {\n",
              "      requirejs.config({paths});\n",
              "      require([\"vega-embed\"], displayChart, err => showError(`Error loading script: ${err.message}`));\n",
              "    } else if (typeof vegaEmbed === \"function\") {\n",
              "      displayChart(vegaEmbed);\n",
              "    } else {\n",
              "      loadScript(\"vega\")\n",
              "        .then(() => loadScript(\"vega-lite\"))\n",
              "        .then(() => loadScript(\"vega-embed\"))\n",
              "        .catch(showError)\n",
              "        .then(() => displayChart(vegaEmbed));\n",
              "    }\n",
              "  })({\"config\": {\"view\": {\"continuousWidth\": 400, \"continuousHeight\": 300}}, \"data\": {\"name\": \"data-09d42c7ac71726dd656d474b420e3f94\"}, \"mark\": \"bar\", \"encoding\": {\"x\": {\"type\": \"temporal\", \"field\": \"Reported Date\"}, \"y\": {\"type\": \"quantitative\", \"field\": \"Total number of Cases\"}}, \"title\": \"Cummulative total number of COVID-19 cases in Malaysia\", \"width\": 600, \"$schema\": \"https://vega.github.io/schema/vega-lite/v4.0.2.json\", \"datasets\": {\"data-09d42c7ac71726dd656d474b420e3f94\": [{\"Country\": \"Malaysia\", \"Reported Date\": \"2020-01-22T00:00:00\", \"Total number of Cases\": 0}, {\"Country\": \"Malaysia\", \"Reported Date\": \"2020-01-23T00:00:00\", \"Total number of Cases\": 0}, {\"Country\": \"Malaysia\", \"Reported Date\": \"2020-01-24T00:00:00\", \"Total number of Cases\": 0}, {\"Country\": \"Malaysia\", \"Reported Date\": \"2020-01-25T00:00:00\", \"Total number of Cases\": 3}, {\"Country\": \"Malaysia\", \"Reported Date\": \"2020-01-26T00:00:00\", \"Total number of Cases\": 4}, {\"Country\": \"Malaysia\", \"Reported Date\": \"2020-01-27T00:00:00\", \"Total number of Cases\": 4}, {\"Country\": \"Malaysia\", \"Reported Date\": \"2020-01-28T00:00:00\", \"Total number of Cases\": 4}, {\"Country\": \"Malaysia\", \"Reported Date\": \"2020-01-29T00:00:00\", \"Total number of Cases\": 7}, {\"Country\": \"Malaysia\", \"Reported Date\": \"2020-01-30T00:00:00\", \"Total number of Cases\": 8}, {\"Country\": \"Malaysia\", \"Reported Date\": \"2020-01-31T00:00:00\", \"Total number of Cases\": 8}, {\"Country\": \"Malaysia\", \"Reported Date\": \"2020-02-01T00:00:00\", \"Total number of Cases\": 8}, {\"Country\": \"Malaysia\", \"Reported Date\": \"2020-02-02T00:00:00\", \"Total number of Cases\": 8}, {\"Country\": \"Malaysia\", \"Reported Date\": \"2020-02-03T00:00:00\", \"Total number of Cases\": 8}, {\"Country\": \"Malaysia\", \"Reported Date\": \"2020-02-04T00:00:00\", \"Total number of Cases\": 10}, {\"Country\": \"Malaysia\", \"Reported Date\": \"2020-02-05T00:00:00\", \"Total number of Cases\": 12}, {\"Country\": \"Malaysia\", \"Reported Date\": \"2020-02-06T00:00:00\", \"Total number of Cases\": 12}, {\"Country\": \"Malaysia\", \"Reported Date\": \"2020-02-07T00:00:00\", \"Total number of Cases\": 12}, {\"Country\": \"Malaysia\", \"Reported Date\": \"2020-02-08T00:00:00\", \"Total number of Cases\": 16}, {\"Country\": \"Malaysia\", \"Reported Date\": \"2020-02-09T00:00:00\", \"Total number of Cases\": 16}, {\"Country\": \"Malaysia\", \"Reported Date\": \"2020-02-10T00:00:00\", \"Total number of Cases\": 18}, {\"Country\": \"Malaysia\", \"Reported Date\": \"2020-02-11T00:00:00\", \"Total number of Cases\": 18}, {\"Country\": \"Malaysia\", \"Reported Date\": \"2020-02-12T00:00:00\", \"Total number of Cases\": 18}, {\"Country\": \"Malaysia\", \"Reported Date\": \"2020-02-13T00:00:00\", \"Total number of Cases\": 19}, {\"Country\": \"Malaysia\", \"Reported Date\": \"2020-02-14T00:00:00\", \"Total number of Cases\": 19}, {\"Country\": \"Malaysia\", \"Reported Date\": \"2020-02-15T00:00:00\", \"Total number of Cases\": 22}, {\"Country\": \"Malaysia\", \"Reported Date\": \"2020-02-16T00:00:00\", \"Total number of Cases\": 22}, {\"Country\": \"Malaysia\", \"Reported Date\": \"2020-02-17T00:00:00\", \"Total number of Cases\": 22}, {\"Country\": \"Malaysia\", \"Reported Date\": \"2020-02-18T00:00:00\", \"Total number of Cases\": 22}, {\"Country\": \"Malaysia\", \"Reported Date\": \"2020-02-19T00:00:00\", \"Total number of Cases\": 22}, {\"Country\": \"Malaysia\", \"Reported Date\": \"2020-02-20T00:00:00\", \"Total number of Cases\": 22}, {\"Country\": \"Malaysia\", \"Reported Date\": \"2020-02-21T00:00:00\", \"Total number of Cases\": 22}, {\"Country\": \"Malaysia\", \"Reported Date\": \"2020-02-22T00:00:00\", \"Total number of Cases\": 22}, {\"Country\": \"Malaysia\", \"Reported Date\": \"2020-02-23T00:00:00\", \"Total number of Cases\": 22}, {\"Country\": \"Malaysia\", \"Reported Date\": \"2020-02-24T00:00:00\", \"Total number of Cases\": 22}, {\"Country\": \"Malaysia\", \"Reported Date\": \"2020-02-25T00:00:00\", \"Total number of Cases\": 22}, {\"Country\": \"Malaysia\", \"Reported Date\": \"2020-02-26T00:00:00\", \"Total number of Cases\": 22}, {\"Country\": \"Malaysia\", \"Reported Date\": \"2020-02-27T00:00:00\", \"Total number of Cases\": 23}, {\"Country\": \"Malaysia\", \"Reported Date\": \"2020-02-28T00:00:00\", \"Total number of Cases\": 23}, {\"Country\": \"Malaysia\", \"Reported Date\": \"2020-02-29T00:00:00\", \"Total number of Cases\": 25}, {\"Country\": \"Malaysia\", \"Reported Date\": \"2020-03-01T00:00:00\", \"Total number of Cases\": 29}, {\"Country\": \"Malaysia\", \"Reported Date\": \"2020-03-02T00:00:00\", \"Total number of Cases\": 29}, {\"Country\": \"Malaysia\", \"Reported Date\": \"2020-03-03T00:00:00\", \"Total number of Cases\": 36}, {\"Country\": \"Malaysia\", \"Reported Date\": \"2020-03-04T00:00:00\", \"Total number of Cases\": 50}, {\"Country\": \"Malaysia\", \"Reported Date\": \"2020-03-05T00:00:00\", \"Total number of Cases\": 50}, {\"Country\": \"Malaysia\", \"Reported Date\": \"2020-03-06T00:00:00\", \"Total number of Cases\": 83}, {\"Country\": \"Malaysia\", \"Reported Date\": \"2020-03-07T00:00:00\", \"Total number of Cases\": 93}, {\"Country\": \"Malaysia\", \"Reported Date\": \"2020-03-08T00:00:00\", \"Total number of Cases\": 99}, {\"Country\": \"Malaysia\", \"Reported Date\": \"2020-03-09T00:00:00\", \"Total number of Cases\": 117}, {\"Country\": \"Malaysia\", \"Reported Date\": \"2020-03-10T00:00:00\", \"Total number of Cases\": 129}, {\"Country\": \"Malaysia\", \"Reported Date\": \"2020-03-11T00:00:00\", \"Total number of Cases\": 149}, {\"Country\": \"Malaysia\", \"Reported Date\": \"2020-03-12T00:00:00\", \"Total number of Cases\": 149}, {\"Country\": \"Malaysia\", \"Reported Date\": \"2020-03-13T00:00:00\", \"Total number of Cases\": 197}, {\"Country\": \"Malaysia\", \"Reported Date\": \"2020-03-14T00:00:00\", \"Total number of Cases\": 238}, {\"Country\": \"Malaysia\", \"Reported Date\": \"2020-03-15T00:00:00\", \"Total number of Cases\": 428}, {\"Country\": \"Malaysia\", \"Reported Date\": \"2020-03-16T00:00:00\", \"Total number of Cases\": 566}, {\"Country\": \"Malaysia\", \"Reported Date\": \"2020-03-17T00:00:00\", \"Total number of Cases\": 673}, {\"Country\": \"Malaysia\", \"Reported Date\": \"2020-03-18T00:00:00\", \"Total number of Cases\": 790}, {\"Country\": \"Malaysia\", \"Reported Date\": \"2020-03-19T00:00:00\", \"Total number of Cases\": 900}, {\"Country\": \"Malaysia\", \"Reported Date\": \"2020-03-20T00:00:00\", \"Total number of Cases\": 1030}, {\"Country\": \"Malaysia\", \"Reported Date\": \"2020-03-21T00:00:00\", \"Total number of Cases\": 1183}, {\"Country\": \"Malaysia\", \"Reported Date\": \"2020-03-22T00:00:00\", \"Total number of Cases\": 1306}, {\"Country\": \"Malaysia\", \"Reported Date\": \"2020-03-23T00:00:00\", \"Total number of Cases\": 1518}, {\"Country\": \"Malaysia\", \"Reported Date\": \"2020-03-24T00:00:00\", \"Total number of Cases\": 1624}, {\"Country\": \"Malaysia\", \"Reported Date\": \"2020-03-25T00:00:00\", \"Total number of Cases\": 1796}, {\"Country\": \"Malaysia\", \"Reported Date\": \"2020-03-26T00:00:00\", \"Total number of Cases\": 2031}, {\"Country\": \"Malaysia\", \"Reported Date\": \"2020-03-27T00:00:00\", \"Total number of Cases\": 2161}, {\"Country\": \"Malaysia\", \"Reported Date\": \"2020-03-28T00:00:00\", \"Total number of Cases\": 2320}, {\"Country\": \"Malaysia\", \"Reported Date\": \"2020-03-29T00:00:00\", \"Total number of Cases\": 2470}, {\"Country\": \"Malaysia\", \"Reported Date\": \"2020-03-30T00:00:00\", \"Total number of Cases\": 2626}, {\"Country\": \"Malaysia\", \"Reported Date\": \"2020-03-31T00:00:00\", \"Total number of Cases\": 2766}, {\"Country\": \"Malaysia\", \"Reported Date\": \"2020-04-01T00:00:00\", \"Total number of Cases\": 2908}, {\"Country\": \"Malaysia\", \"Reported Date\": \"2020-04-02T00:00:00\", \"Total number of Cases\": 3116}, {\"Country\": \"Malaysia\", \"Reported Date\": \"2020-04-03T00:00:00\", \"Total number of Cases\": 3333}, {\"Country\": \"Malaysia\", \"Reported Date\": \"2020-04-04T00:00:00\", \"Total number of Cases\": 3483}, {\"Country\": \"Malaysia\", \"Reported Date\": \"2020-04-05T00:00:00\", \"Total number of Cases\": 3662}]}}, {\"mode\": \"vega-lite\"});\n",
              "</script>"
            ]
          },
          "metadata": {
            "tags": []
          },
          "execution_count": 21
        }
      ]
    },
    {
      "cell_type": "code",
      "metadata": {
        "id": "O-R28clbqS32",
        "colab_type": "code",
        "colab": {}
      },
      "source": [
        ""
      ],
      "execution_count": 0,
      "outputs": []
    }
  ]
}