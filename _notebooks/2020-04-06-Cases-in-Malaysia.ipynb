{
  "nbformat": 4,
  "nbformat_minor": 0,
  "metadata": {
    "colab": {
      "name": "2020-04-06-Cases-in-Malaysia",
      "provenance": [],
      "authorship_tag": "ABX9TyMLEU/5yAxRdeTDD7e2u2ra"
    },
    "kernelspec": {
      "name": "python3",
      "display_name": "Python 3"
    }
  },
  "cells": [
    {
      "cell_type": "markdown",
      "metadata": {
        "id": "BvDtppminv5B",
        "colab_type": "text"
      },
      "source": [
        "# Cases in Malaysia\n",
        "> Updates on the respiratory illness that has infected more than one million people and killed tens of thousands.\n",
        "\n",
        "- toc:false\n",
        "- branch: master\n",
        "- badges: false\n",
        "- hide: true\n",
        "- comments: false\n",
        "- permalink: /covid-overview-my/"
      ]
    },
    {
      "cell_type": "markdown",
      "metadata": {
        "id": "pkIXYPmxo67-",
        "colab_type": "text"
      },
      "source": [
        "## COVID-19: Malaysia at a Glance"
      ]
    },
    {
      "cell_type": "code",
      "metadata": {
        "id": "QNA-gdudpEn9",
        "colab_type": "code",
        "colab": {}
      },
      "source": [
        "#hide\n",
        "import pandas as pd\n",
        "import numpy as np\n",
        "import altair as alt\n",
        "import ipywidgets as widgets\n",
        "#from jinja2 import Template\n",
        "from IPython.display import HTML\n",
        "\n",
        "#hide\n",
        "# COVID-19 Data from https://github.com/CSSEGISandData/COVID-19/tree/master/csse_covid_19_data/csse_covid_19_time_series\n",
        "base_url = 'https://raw.githubusercontent.com/CSSEGISandData/COVID-19/master/csse_covid_19_data'\n",
        "\n",
        "# confirmed, deaths, recovered\n",
        "def get_time_series(type):\n",
        "  _url = f'{base_url}/csse_covid_19_time_series/time_series_covid19_{type}_global.csv'\n",
        "  _dff = pd.read_csv(_url)\n",
        "  _cols = _dff.columns[~_dff.columns.isin(['Province/State', 'Country/Region', 'Lat', 'Long'])]\n",
        "  _dff = (_dff.groupby('Country/Region')[_cols].sum().stack().reset_index(name = 'Cases')\n",
        "        .rename(columns = {'level_1': 'Date', 'Country/Region': 'Country'}))\n",
        "  _dff['Date'] = pd.to_datetime(_dff['Date'], format='%m/%d/%y')\n",
        "  return _dff\n",
        "\n",
        "# eg. 03-27-2020\n",
        "def get_df_daily(date):\n",
        "  _url = f'{base_url}/csse_covid_19_daily_reports/{date}.csv'\n",
        "  return pd.read_csv(_url)\n",
        "\n",
        "df_confirmed = get_time_series('confirmed')\n",
        "df_recovered = get_time_series('recovered')\n",
        "df_deaths = get_time_series('deaths')\n",
        "\n",
        "date_latest = df_confirmed['Date'].max()\n",
        "\n",
        "def countries_cases(df, n=5000, date_as_of=date_latest):\n",
        "  df_latest = df[df['Date'].eq(date_as_of)]\n",
        "  df_latest_n = df_latest[df_latest['Cases'] > n]\n",
        "  return df_latest_n\n",
        "\n",
        "# Last n days of type e.g. confirmed, recovered, deaths\n",
        "df_last = lambda name, _df, n: _df[_df['Date'].isin(_df['Date'].tail(n))].set_index(['Country', 'Date']).rename(columns={'Cases': name})\n",
        "\n",
        "# Last 2 days all global\n",
        "df_summary = lambda last_n: pd.concat([df_last('Confirmed', df_confirmed, last_n), df_last('Deaths', df_deaths, last_n), df_last('Recovered', df_recovered, last_n)], axis=1)\n",
        "\n",
        "df_global = df_summary(2).groupby(['Date']).sum().reset_index()\n",
        "\n",
        "df_global_summary = df_global.stack().reset_index().rename(columns={'level_1': 'Type', 0: 'Cases'})\n",
        "\n",
        "#print(date_latest)\n",
        "\n",
        "s_date_latest = date_latest.strftime('%m/%d/%Y')\n",
        "n_confirmed = df_global.loc[1]['Confirmed']\n",
        "n_deaths = df_global.loc[1]['Deaths']\n",
        "n_recovered = df_global.loc[1]['Recovered']\n",
        "\n",
        "df_global_diff = df_global.diff()\n",
        "n_confirmed_diff = df_global_diff.loc[1]['Confirmed']\n",
        "n_deaths_diff = df_global_diff.loc[1]['Deaths']\n",
        "n_recovered_diff = df_global_diff.loc[1]['Recovered']\n",
        "\n",
        "weekDays = (\"Monday\",\"Tuesday\",\"Wednesday\",\"Thursday\",\"Friday\",\"Saturday\",\"Sunday\") \n",
        "\n",
        "df_confirmed_my = df_confirmed[df_confirmed['Country'] == 'Malaysia'].rename(columns={'Cases': 'Total number of Cases', 'Date': 'Reported Date'})\n",
        "df_summary_my = df_summary(2).loc['Malaysia'].reset_index(drop=True)\n",
        "n_confirmed_my = df_summary_my.loc[1]['Confirmed']\n",
        "n_deaths_my = df_summary_my.loc[1]['Deaths']\n",
        "n_recovered_my = df_summary_my.loc[1]['Recovered']\n"
      ],
      "execution_count": 0,
      "outputs": []
    },
    {
      "cell_type": "code",
      "metadata": {
        "id": "aFSg-vInWUUb",
        "colab_type": "code",
        "colab": {
          "base_uri": "https://localhost:8080/",
          "height": 91
        },
        "outputId": "7fab66b8-7680-478c-b01e-c1292f9c198d"
      },
      "source": [
        "#hide_input\n",
        "HTML(f'Confirmed Cases<br/><h1>{n_confirmed_my:,}</h1>')"
      ],
      "execution_count": 95,
      "outputs": [
        {
          "output_type": "execute_result",
          "data": {
            "text/html": [
              "Confirmed Cases<br/><h1>3,662</h1>"
            ],
            "text/plain": [
              "<IPython.core.display.HTML object>"
            ]
          },
          "metadata": {
            "tags": []
          },
          "execution_count": 95
        }
      ]
    },
    {
      "cell_type": "code",
      "metadata": {
        "id": "RBPaoi6mWdIm",
        "colab_type": "code",
        "colab": {
          "base_uri": "https://localhost:8080/",
          "height": 91
        },
        "outputId": "33a4b7fb-78f9-465b-eb03-5816d074998b"
      },
      "source": [
        "#hide_input\n",
        "HTML(f'Deaths<br/><h1>{n_deaths_my:,}</h1>')"
      ],
      "execution_count": 96,
      "outputs": [
        {
          "output_type": "execute_result",
          "data": {
            "text/html": [
              "Deaths<br/><h1>61</h1>"
            ],
            "text/plain": [
              "<IPython.core.display.HTML object>"
            ]
          },
          "metadata": {
            "tags": []
          },
          "execution_count": 96
        }
      ]
    },
    {
      "cell_type": "code",
      "metadata": {
        "id": "fLt1q3dypTP_",
        "colab_type": "code",
        "outputId": "b6998e48-6d1e-489a-f5bf-1d41c3e2b195",
        "colab": {
          "base_uri": "https://localhost:8080/",
          "height": 385
        }
      },
      "source": [
        "#hide_input\n",
        "alt.Chart(df_confirmed_my).mark_bar().encode(\n",
        "    x='Reported Date:T',\n",
        "    y='Total number of Cases:Q'\n",
        ").properties(\n",
        "    width=600,\n",
        "    title='Cummulative total number of COVID-19 cases in Malaysia'\n",
        ")"
      ],
      "execution_count": 14,
      "outputs": [
        {
          "output_type": "execute_result",
          "data": {
            "text/plain": [
              "alt.Chart(...)"
            ],
            "text/html": [
              "\n",
              "<div id=\"altair-viz-e01131e9ac7b4fc0b1b9107667879d93\"></div>\n",
              "<script type=\"text/javascript\">\n",
              "  (function(spec, embedOpt){\n",
              "    const outputDiv = document.getElementById(\"altair-viz-e01131e9ac7b4fc0b1b9107667879d93\");\n",
              "    const paths = {\n",
              "      \"vega\": \"https://cdn.jsdelivr.net/npm//vega@5?noext\",\n",
              "      \"vega-lib\": \"https://cdn.jsdelivr.net/npm//vega-lib?noext\",\n",
              "      \"vega-lite\": \"https://cdn.jsdelivr.net/npm//vega-lite@4.0.2?noext\",\n",
              "      \"vega-embed\": \"https://cdn.jsdelivr.net/npm//vega-embed@6?noext\",\n",
              "    };\n",
              "\n",
              "    function loadScript(lib) {\n",
              "      return new Promise(function(resolve, reject) {\n",
              "        var s = document.createElement('script');\n",
              "        s.src = paths[lib];\n",
              "        s.async = true;\n",
              "        s.onload = () => resolve(paths[lib]);\n",
              "        s.onerror = () => reject(`Error loading script: ${paths[lib]}`);\n",
              "        document.getElementsByTagName(\"head\")[0].appendChild(s);\n",
              "      });\n",
              "    }\n",
              "\n",
              "    function showError(err) {\n",
              "      outputDiv.innerHTML = `<div class=\"error\" style=\"color:red;\">${err}</div>`;\n",
              "      throw err;\n",
              "    }\n",
              "\n",
              "    function displayChart(vegaEmbed) {\n",
              "      vegaEmbed(outputDiv, spec, embedOpt)\n",
              "        .catch(err => showError(`Javascript Error: ${err.message}<br>This usually means there's a typo in your chart specification. See the javascript console for the full traceback.`));\n",
              "    }\n",
              "\n",
              "    if(typeof define === \"function\" && define.amd) {\n",
              "      requirejs.config({paths});\n",
              "      require([\"vega-embed\"], displayChart, err => showError(`Error loading script: ${err.message}`));\n",
              "    } else if (typeof vegaEmbed === \"function\") {\n",
              "      displayChart(vegaEmbed);\n",
              "    } else {\n",
              "      loadScript(\"vega\")\n",
              "        .then(() => loadScript(\"vega-lite\"))\n",
              "        .then(() => loadScript(\"vega-embed\"))\n",
              "        .catch(showError)\n",
              "        .then(() => displayChart(vegaEmbed));\n",
              "    }\n",
              "  })({\"config\": {\"view\": {\"continuousWidth\": 400, \"continuousHeight\": 300}}, \"data\": {\"name\": \"data-09d42c7ac71726dd656d474b420e3f94\"}, \"mark\": \"bar\", \"encoding\": {\"x\": {\"type\": \"temporal\", \"field\": \"Reported Date\"}, \"y\": {\"type\": \"quantitative\", \"field\": \"Total number of Cases\"}}, \"title\": \"Cummulative total number of COVID-19 cases in Malaysia\", \"width\": 600, \"$schema\": \"https://vega.github.io/schema/vega-lite/v4.0.2.json\", \"datasets\": {\"data-09d42c7ac71726dd656d474b420e3f94\": [{\"Country\": \"Malaysia\", \"Reported Date\": \"2020-01-22T00:00:00\", \"Total number of Cases\": 0}, {\"Country\": \"Malaysia\", \"Reported Date\": \"2020-01-23T00:00:00\", \"Total number of Cases\": 0}, {\"Country\": \"Malaysia\", \"Reported Date\": \"2020-01-24T00:00:00\", \"Total number of Cases\": 0}, {\"Country\": \"Malaysia\", \"Reported Date\": \"2020-01-25T00:00:00\", \"Total number of Cases\": 3}, {\"Country\": \"Malaysia\", \"Reported Date\": \"2020-01-26T00:00:00\", \"Total number of Cases\": 4}, {\"Country\": \"Malaysia\", \"Reported Date\": \"2020-01-27T00:00:00\", \"Total number of Cases\": 4}, {\"Country\": \"Malaysia\", \"Reported Date\": \"2020-01-28T00:00:00\", \"Total number of Cases\": 4}, {\"Country\": \"Malaysia\", \"Reported Date\": \"2020-01-29T00:00:00\", \"Total number of Cases\": 7}, {\"Country\": \"Malaysia\", \"Reported Date\": \"2020-01-30T00:00:00\", \"Total number of Cases\": 8}, {\"Country\": \"Malaysia\", \"Reported Date\": \"2020-01-31T00:00:00\", \"Total number of Cases\": 8}, {\"Country\": \"Malaysia\", \"Reported Date\": \"2020-02-01T00:00:00\", \"Total number of Cases\": 8}, {\"Country\": \"Malaysia\", \"Reported Date\": \"2020-02-02T00:00:00\", \"Total number of Cases\": 8}, {\"Country\": \"Malaysia\", \"Reported Date\": \"2020-02-03T00:00:00\", \"Total number of Cases\": 8}, {\"Country\": \"Malaysia\", \"Reported Date\": \"2020-02-04T00:00:00\", \"Total number of Cases\": 10}, {\"Country\": \"Malaysia\", \"Reported Date\": \"2020-02-05T00:00:00\", \"Total number of Cases\": 12}, {\"Country\": \"Malaysia\", \"Reported Date\": \"2020-02-06T00:00:00\", \"Total number of Cases\": 12}, {\"Country\": \"Malaysia\", \"Reported Date\": \"2020-02-07T00:00:00\", \"Total number of Cases\": 12}, {\"Country\": \"Malaysia\", \"Reported Date\": \"2020-02-08T00:00:00\", \"Total number of Cases\": 16}, {\"Country\": \"Malaysia\", \"Reported Date\": \"2020-02-09T00:00:00\", \"Total number of Cases\": 16}, {\"Country\": \"Malaysia\", \"Reported Date\": \"2020-02-10T00:00:00\", \"Total number of Cases\": 18}, {\"Country\": \"Malaysia\", \"Reported Date\": \"2020-02-11T00:00:00\", \"Total number of Cases\": 18}, {\"Country\": \"Malaysia\", \"Reported Date\": \"2020-02-12T00:00:00\", \"Total number of Cases\": 18}, {\"Country\": \"Malaysia\", \"Reported Date\": \"2020-02-13T00:00:00\", \"Total number of Cases\": 19}, {\"Country\": \"Malaysia\", \"Reported Date\": \"2020-02-14T00:00:00\", \"Total number of Cases\": 19}, {\"Country\": \"Malaysia\", \"Reported Date\": \"2020-02-15T00:00:00\", \"Total number of Cases\": 22}, {\"Country\": \"Malaysia\", \"Reported Date\": \"2020-02-16T00:00:00\", \"Total number of Cases\": 22}, {\"Country\": \"Malaysia\", \"Reported Date\": \"2020-02-17T00:00:00\", \"Total number of Cases\": 22}, {\"Country\": \"Malaysia\", \"Reported Date\": \"2020-02-18T00:00:00\", \"Total number of Cases\": 22}, {\"Country\": \"Malaysia\", \"Reported Date\": \"2020-02-19T00:00:00\", \"Total number of Cases\": 22}, {\"Country\": \"Malaysia\", \"Reported Date\": \"2020-02-20T00:00:00\", \"Total number of Cases\": 22}, {\"Country\": \"Malaysia\", \"Reported Date\": \"2020-02-21T00:00:00\", \"Total number of Cases\": 22}, {\"Country\": \"Malaysia\", \"Reported Date\": \"2020-02-22T00:00:00\", \"Total number of Cases\": 22}, {\"Country\": \"Malaysia\", \"Reported Date\": \"2020-02-23T00:00:00\", \"Total number of Cases\": 22}, {\"Country\": \"Malaysia\", \"Reported Date\": \"2020-02-24T00:00:00\", \"Total number of Cases\": 22}, {\"Country\": \"Malaysia\", \"Reported Date\": \"2020-02-25T00:00:00\", \"Total number of Cases\": 22}, {\"Country\": \"Malaysia\", \"Reported Date\": \"2020-02-26T00:00:00\", \"Total number of Cases\": 22}, {\"Country\": \"Malaysia\", \"Reported Date\": \"2020-02-27T00:00:00\", \"Total number of Cases\": 23}, {\"Country\": \"Malaysia\", \"Reported Date\": \"2020-02-28T00:00:00\", \"Total number of Cases\": 23}, {\"Country\": \"Malaysia\", \"Reported Date\": \"2020-02-29T00:00:00\", \"Total number of Cases\": 25}, {\"Country\": \"Malaysia\", \"Reported Date\": \"2020-03-01T00:00:00\", \"Total number of Cases\": 29}, {\"Country\": \"Malaysia\", \"Reported Date\": \"2020-03-02T00:00:00\", \"Total number of Cases\": 29}, {\"Country\": \"Malaysia\", \"Reported Date\": \"2020-03-03T00:00:00\", \"Total number of Cases\": 36}, {\"Country\": \"Malaysia\", \"Reported Date\": \"2020-03-04T00:00:00\", \"Total number of Cases\": 50}, {\"Country\": \"Malaysia\", \"Reported Date\": \"2020-03-05T00:00:00\", \"Total number of Cases\": 50}, {\"Country\": \"Malaysia\", \"Reported Date\": \"2020-03-06T00:00:00\", \"Total number of Cases\": 83}, {\"Country\": \"Malaysia\", \"Reported Date\": \"2020-03-07T00:00:00\", \"Total number of Cases\": 93}, {\"Country\": \"Malaysia\", \"Reported Date\": \"2020-03-08T00:00:00\", \"Total number of Cases\": 99}, {\"Country\": \"Malaysia\", \"Reported Date\": \"2020-03-09T00:00:00\", \"Total number of Cases\": 117}, {\"Country\": \"Malaysia\", \"Reported Date\": \"2020-03-10T00:00:00\", \"Total number of Cases\": 129}, {\"Country\": \"Malaysia\", \"Reported Date\": \"2020-03-11T00:00:00\", \"Total number of Cases\": 149}, {\"Country\": \"Malaysia\", \"Reported Date\": \"2020-03-12T00:00:00\", \"Total number of Cases\": 149}, {\"Country\": \"Malaysia\", \"Reported Date\": \"2020-03-13T00:00:00\", \"Total number of Cases\": 197}, {\"Country\": \"Malaysia\", \"Reported Date\": \"2020-03-14T00:00:00\", \"Total number of Cases\": 238}, {\"Country\": \"Malaysia\", \"Reported Date\": \"2020-03-15T00:00:00\", \"Total number of Cases\": 428}, {\"Country\": \"Malaysia\", \"Reported Date\": \"2020-03-16T00:00:00\", \"Total number of Cases\": 566}, {\"Country\": \"Malaysia\", \"Reported Date\": \"2020-03-17T00:00:00\", \"Total number of Cases\": 673}, {\"Country\": \"Malaysia\", \"Reported Date\": \"2020-03-18T00:00:00\", \"Total number of Cases\": 790}, {\"Country\": \"Malaysia\", \"Reported Date\": \"2020-03-19T00:00:00\", \"Total number of Cases\": 900}, {\"Country\": \"Malaysia\", \"Reported Date\": \"2020-03-20T00:00:00\", \"Total number of Cases\": 1030}, {\"Country\": \"Malaysia\", \"Reported Date\": \"2020-03-21T00:00:00\", \"Total number of Cases\": 1183}, {\"Country\": \"Malaysia\", \"Reported Date\": \"2020-03-22T00:00:00\", \"Total number of Cases\": 1306}, {\"Country\": \"Malaysia\", \"Reported Date\": \"2020-03-23T00:00:00\", \"Total number of Cases\": 1518}, {\"Country\": \"Malaysia\", \"Reported Date\": \"2020-03-24T00:00:00\", \"Total number of Cases\": 1624}, {\"Country\": \"Malaysia\", \"Reported Date\": \"2020-03-25T00:00:00\", \"Total number of Cases\": 1796}, {\"Country\": \"Malaysia\", \"Reported Date\": \"2020-03-26T00:00:00\", \"Total number of Cases\": 2031}, {\"Country\": \"Malaysia\", \"Reported Date\": \"2020-03-27T00:00:00\", \"Total number of Cases\": 2161}, {\"Country\": \"Malaysia\", \"Reported Date\": \"2020-03-28T00:00:00\", \"Total number of Cases\": 2320}, {\"Country\": \"Malaysia\", \"Reported Date\": \"2020-03-29T00:00:00\", \"Total number of Cases\": 2470}, {\"Country\": \"Malaysia\", \"Reported Date\": \"2020-03-30T00:00:00\", \"Total number of Cases\": 2626}, {\"Country\": \"Malaysia\", \"Reported Date\": \"2020-03-31T00:00:00\", \"Total number of Cases\": 2766}, {\"Country\": \"Malaysia\", \"Reported Date\": \"2020-04-01T00:00:00\", \"Total number of Cases\": 2908}, {\"Country\": \"Malaysia\", \"Reported Date\": \"2020-04-02T00:00:00\", \"Total number of Cases\": 3116}, {\"Country\": \"Malaysia\", \"Reported Date\": \"2020-04-03T00:00:00\", \"Total number of Cases\": 3333}, {\"Country\": \"Malaysia\", \"Reported Date\": \"2020-04-04T00:00:00\", \"Total number of Cases\": 3483}, {\"Country\": \"Malaysia\", \"Reported Date\": \"2020-04-05T00:00:00\", \"Total number of Cases\": 3662}]}}, {\"mode\": \"vega-lite\"});\n",
              "</script>"
            ]
          },
          "metadata": {
            "tags": []
          },
          "execution_count": 14
        }
      ]
    },
    {
      "cell_type": "code",
      "metadata": {
        "id": "O-R28clbqS32",
        "colab_type": "code",
        "colab": {
          "base_uri": "https://localhost:8080/",
          "height": 117
        },
        "outputId": "8ca19145-0073-4f4a-b751-3dfba387e6af"
      },
      "source": [
        "#hide_input\n",
        "df_confirmed_my[['Reported Date', 'Total number of Cases']].set_index('Reported Date').rename(columns={'Total number of Cases': 'Total'}).transpose()"
      ],
      "execution_count": 15,
      "outputs": [
        {
          "output_type": "execute_result",
          "data": {
            "text/html": [
              "<div>\n",
              "<style scoped>\n",
              "    .dataframe tbody tr th:only-of-type {\n",
              "        vertical-align: middle;\n",
              "    }\n",
              "\n",
              "    .dataframe tbody tr th {\n",
              "        vertical-align: top;\n",
              "    }\n",
              "\n",
              "    .dataframe thead th {\n",
              "        text-align: right;\n",
              "    }\n",
              "</style>\n",
              "<table border=\"1\" class=\"dataframe\">\n",
              "  <thead>\n",
              "    <tr style=\"text-align: right;\">\n",
              "      <th>Reported Date</th>\n",
              "      <th>2020-01-22</th>\n",
              "      <th>2020-01-23</th>\n",
              "      <th>2020-01-24</th>\n",
              "      <th>2020-01-25</th>\n",
              "      <th>2020-01-26</th>\n",
              "      <th>2020-01-27</th>\n",
              "      <th>2020-01-28</th>\n",
              "      <th>2020-01-29</th>\n",
              "      <th>2020-01-30</th>\n",
              "      <th>2020-01-31</th>\n",
              "      <th>2020-02-01</th>\n",
              "      <th>2020-02-02</th>\n",
              "      <th>2020-02-03</th>\n",
              "      <th>2020-02-04</th>\n",
              "      <th>2020-02-05</th>\n",
              "      <th>2020-02-06</th>\n",
              "      <th>2020-02-07</th>\n",
              "      <th>2020-02-08</th>\n",
              "      <th>2020-02-09</th>\n",
              "      <th>2020-02-10</th>\n",
              "      <th>2020-02-11</th>\n",
              "      <th>2020-02-12</th>\n",
              "      <th>2020-02-13</th>\n",
              "      <th>2020-02-14</th>\n",
              "      <th>2020-02-15</th>\n",
              "      <th>2020-02-16</th>\n",
              "      <th>2020-02-17</th>\n",
              "      <th>2020-02-18</th>\n",
              "      <th>2020-02-19</th>\n",
              "      <th>2020-02-20</th>\n",
              "      <th>2020-02-21</th>\n",
              "      <th>2020-02-22</th>\n",
              "      <th>2020-02-23</th>\n",
              "      <th>2020-02-24</th>\n",
              "      <th>2020-02-25</th>\n",
              "      <th>2020-02-26</th>\n",
              "      <th>2020-02-27</th>\n",
              "      <th>2020-02-28</th>\n",
              "      <th>2020-02-29</th>\n",
              "      <th>2020-03-01</th>\n",
              "      <th>2020-03-02</th>\n",
              "      <th>2020-03-03</th>\n",
              "      <th>2020-03-04</th>\n",
              "      <th>2020-03-05</th>\n",
              "      <th>2020-03-06</th>\n",
              "      <th>2020-03-07</th>\n",
              "      <th>2020-03-08</th>\n",
              "      <th>2020-03-09</th>\n",
              "      <th>2020-03-10</th>\n",
              "      <th>2020-03-11</th>\n",
              "      <th>2020-03-12</th>\n",
              "      <th>2020-03-13</th>\n",
              "      <th>2020-03-14</th>\n",
              "      <th>2020-03-15</th>\n",
              "      <th>2020-03-16</th>\n",
              "      <th>2020-03-17</th>\n",
              "      <th>2020-03-18</th>\n",
              "      <th>2020-03-19</th>\n",
              "      <th>2020-03-20</th>\n",
              "      <th>2020-03-21</th>\n",
              "      <th>2020-03-22</th>\n",
              "      <th>2020-03-23</th>\n",
              "      <th>2020-03-24</th>\n",
              "      <th>2020-03-25</th>\n",
              "      <th>2020-03-26</th>\n",
              "      <th>2020-03-27</th>\n",
              "      <th>2020-03-28</th>\n",
              "      <th>2020-03-29</th>\n",
              "      <th>2020-03-30</th>\n",
              "      <th>2020-03-31</th>\n",
              "      <th>2020-04-01</th>\n",
              "      <th>2020-04-02</th>\n",
              "      <th>2020-04-03</th>\n",
              "      <th>2020-04-04</th>\n",
              "      <th>2020-04-05</th>\n",
              "    </tr>\n",
              "  </thead>\n",
              "  <tbody>\n",
              "    <tr>\n",
              "      <th>Total</th>\n",
              "      <td>0</td>\n",
              "      <td>0</td>\n",
              "      <td>0</td>\n",
              "      <td>3</td>\n",
              "      <td>4</td>\n",
              "      <td>4</td>\n",
              "      <td>4</td>\n",
              "      <td>7</td>\n",
              "      <td>8</td>\n",
              "      <td>8</td>\n",
              "      <td>8</td>\n",
              "      <td>8</td>\n",
              "      <td>8</td>\n",
              "      <td>10</td>\n",
              "      <td>12</td>\n",
              "      <td>12</td>\n",
              "      <td>12</td>\n",
              "      <td>16</td>\n",
              "      <td>16</td>\n",
              "      <td>18</td>\n",
              "      <td>18</td>\n",
              "      <td>18</td>\n",
              "      <td>19</td>\n",
              "      <td>19</td>\n",
              "      <td>22</td>\n",
              "      <td>22</td>\n",
              "      <td>22</td>\n",
              "      <td>22</td>\n",
              "      <td>22</td>\n",
              "      <td>22</td>\n",
              "      <td>22</td>\n",
              "      <td>22</td>\n",
              "      <td>22</td>\n",
              "      <td>22</td>\n",
              "      <td>22</td>\n",
              "      <td>22</td>\n",
              "      <td>23</td>\n",
              "      <td>23</td>\n",
              "      <td>25</td>\n",
              "      <td>29</td>\n",
              "      <td>29</td>\n",
              "      <td>36</td>\n",
              "      <td>50</td>\n",
              "      <td>50</td>\n",
              "      <td>83</td>\n",
              "      <td>93</td>\n",
              "      <td>99</td>\n",
              "      <td>117</td>\n",
              "      <td>129</td>\n",
              "      <td>149</td>\n",
              "      <td>149</td>\n",
              "      <td>197</td>\n",
              "      <td>238</td>\n",
              "      <td>428</td>\n",
              "      <td>566</td>\n",
              "      <td>673</td>\n",
              "      <td>790</td>\n",
              "      <td>900</td>\n",
              "      <td>1030</td>\n",
              "      <td>1183</td>\n",
              "      <td>1306</td>\n",
              "      <td>1518</td>\n",
              "      <td>1624</td>\n",
              "      <td>1796</td>\n",
              "      <td>2031</td>\n",
              "      <td>2161</td>\n",
              "      <td>2320</td>\n",
              "      <td>2470</td>\n",
              "      <td>2626</td>\n",
              "      <td>2766</td>\n",
              "      <td>2908</td>\n",
              "      <td>3116</td>\n",
              "      <td>3333</td>\n",
              "      <td>3483</td>\n",
              "      <td>3662</td>\n",
              "    </tr>\n",
              "  </tbody>\n",
              "</table>\n",
              "</div>"
            ],
            "text/plain": [
              "Reported Date  2020-01-22  2020-01-23  ...  2020-04-04  2020-04-05\n",
              "Total                   0           0  ...        3483        3662\n",
              "\n",
              "[1 rows x 75 columns]"
            ]
          },
          "metadata": {
            "tags": []
          },
          "execution_count": 15
        }
      ]
    },
    {
      "cell_type": "code",
      "metadata": {
        "id": "aMzH8bnFuGbZ",
        "colab_type": "code",
        "colab": {
          "base_uri": "https://localhost:8080/",
          "height": 111
        },
        "outputId": "08ec7fe4-249b-43b5-99ee-138d5b5a8674"
      },
      "source": [
        ""
      ],
      "execution_count": 18,
      "outputs": [
        {
          "output_type": "execute_result",
          "data": {
            "text/html": [
              "<div>\n",
              "<style scoped>\n",
              "    .dataframe tbody tr th:only-of-type {\n",
              "        vertical-align: middle;\n",
              "    }\n",
              "\n",
              "    .dataframe tbody tr th {\n",
              "        vertical-align: top;\n",
              "    }\n",
              "\n",
              "    .dataframe thead th {\n",
              "        text-align: right;\n",
              "    }\n",
              "</style>\n",
              "<table border=\"1\" class=\"dataframe\">\n",
              "  <thead>\n",
              "    <tr style=\"text-align: right;\">\n",
              "      <th></th>\n",
              "      <th>Date</th>\n",
              "      <th>Confirmed</th>\n",
              "      <th>Deaths</th>\n",
              "      <th>Recovered</th>\n",
              "    </tr>\n",
              "  </thead>\n",
              "  <tbody>\n",
              "    <tr>\n",
              "      <th>0</th>\n",
              "      <td>2020-04-04</td>\n",
              "      <td>1197405</td>\n",
              "      <td>64606</td>\n",
              "      <td>246152</td>\n",
              "    </tr>\n",
              "    <tr>\n",
              "      <th>1</th>\n",
              "      <td>2020-04-05</td>\n",
              "      <td>1272115</td>\n",
              "      <td>69374</td>\n",
              "      <td>260012</td>\n",
              "    </tr>\n",
              "  </tbody>\n",
              "</table>\n",
              "</div>"
            ],
            "text/plain": [
              "        Date  Confirmed  Deaths  Recovered\n",
              "0 2020-04-04    1197405   64606     246152\n",
              "1 2020-04-05    1272115   69374     260012"
            ]
          },
          "metadata": {
            "tags": []
          },
          "execution_count": 18
        }
      ]
    },
    {
      "cell_type": "code",
      "metadata": {
        "id": "dEjQiMvCEkfD",
        "colab_type": "code",
        "colab": {}
      },
      "source": [
        ""
      ],
      "execution_count": 0,
      "outputs": []
    }
  ]
}