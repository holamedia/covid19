{
  "nbformat": 4,
  "nbformat_minor": 0,
  "metadata": {
    "colab": {
      "name": "2020-04-06-Cases-in-Malaysia",
      "provenance": [],
      "authorship_tag": "ABX9TyMo0jP1w5oC4Pgqh8CXFUyh"
    },
    "kernelspec": {
      "name": "python3",
      "display_name": "Python 3"
    }
  },
  "cells": [
    {
      "cell_type": "markdown",
      "metadata": {
        "id": "BvDtppminv5B",
        "colab_type": "text"
      },
      "source": [
        "# Cases in Malaysia\n",
        "> Updates on the respiratory illness that has infected more than one million people and killed tens of thousands.\n",
        "\n",
        "- toc:false\n",
        "- branch: master\n",
        "- badges: false\n",
        "- hide_colab_badge: true\n",
        "- comments: false"
      ]
    },
    {
      "cell_type": "code",
      "metadata": {
        "id": "N-kOt3BAnm5T",
        "colab_type": "code",
        "colab": {}
      },
      "source": [
        ""
      ],
      "execution_count": 0,
      "outputs": []
    }
  ]
}